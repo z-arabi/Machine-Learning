{
  "cells": [
    {
      "cell_type": "markdown",
      "metadata": {
        "id": "view-in-github",
        "colab_type": "text"
      },
      "source": [
        "<a href=\"https://colab.research.google.com/github/z-arabi/Machine-Learning/blob/main/logistic_regression_3_performance_measurement.ipynb\" target=\"_parent\"><img src=\"https://colab.research.google.com/assets/colab-badge.svg\" alt=\"Open In Colab\"/></a>"
      ]
    },
    {
      "cell_type": "code",
      "source": [
        "!git clone https://github.com/z-arabi/Machine-Learning.git\n",
        "%cd Machine-Learning"
      ],
      "metadata": {
        "colab": {
          "base_uri": "https://localhost:8080/"
        },
        "id": "au45NcerW8kA",
        "outputId": "c486f130-75fb-4a97-98f5-7505379f76ae"
      },
      "execution_count": 3,
      "outputs": [
        {
          "output_type": "stream",
          "name": "stdout",
          "text": [
            "Cloning into 'Machine-Learning'...\n",
            "remote: Enumerating objects: 61, done.\u001b[K\n",
            "remote: Counting objects: 100% (61/61), done.\u001b[K\n",
            "remote: Compressing objects: 100% (57/57), done.\u001b[K\n",
            "remote: Total 61 (delta 22), reused 10 (delta 1), pack-reused 0\u001b[K\n",
            "Unpacking objects: 100% (61/61), done.\n",
            "/content/Machine-Learning\n"
          ]
        }
      ]
    },
    {
      "cell_type": "code",
      "execution_count": 4,
      "metadata": {
        "id": "AAKupHEaWyWk"
      },
      "outputs": [],
      "source": [
        "import pandas as pd\n",
        "import matplotlib.pyplot as plt\n",
        "import numpy as np\n",
        "%matplotlib inline\n",
        "\n",
        "from sklearn.linear_model import LogisticRegression\n",
        "# Learnig curve in sklearn is the old version\n",
        "from sklearn.model_selection import train_test_split, KFold, learning_curve\n",
        "from sklearn.metrics import accuracy_score, precision_score, recall_score, f1_score, roc_auc_score"
      ]
    },
    {
      "cell_type": "code",
      "execution_count": 5,
      "metadata": {
        "colab": {
          "base_uri": "https://localhost:8080/",
          "height": 206
        },
        "id": "O3ljBMNVWyWy",
        "outputId": "3a262590-af72-4a18-d5a5-8d0f3ad2833f"
      },
      "outputs": [
        {
          "output_type": "execute_result",
          "data": {
            "text/plain": [
              "   Gender  Age  EstimatedSalary  Purchased\n",
              "0    Male   19            19000          0\n",
              "1    Male   35            20000          0\n",
              "2  Female   26            43000          0\n",
              "3  Female   27            57000          0\n",
              "4    Male   19            76000          0"
            ],
            "text/html": [
              "\n",
              "  <div id=\"df-8bd0f74b-0b6f-4884-bddf-d2fded4df089\">\n",
              "    <div class=\"colab-df-container\">\n",
              "      <div>\n",
              "<style scoped>\n",
              "    .dataframe tbody tr th:only-of-type {\n",
              "        vertical-align: middle;\n",
              "    }\n",
              "\n",
              "    .dataframe tbody tr th {\n",
              "        vertical-align: top;\n",
              "    }\n",
              "\n",
              "    .dataframe thead th {\n",
              "        text-align: right;\n",
              "    }\n",
              "</style>\n",
              "<table border=\"1\" class=\"dataframe\">\n",
              "  <thead>\n",
              "    <tr style=\"text-align: right;\">\n",
              "      <th></th>\n",
              "      <th>Gender</th>\n",
              "      <th>Age</th>\n",
              "      <th>EstimatedSalary</th>\n",
              "      <th>Purchased</th>\n",
              "    </tr>\n",
              "  </thead>\n",
              "  <tbody>\n",
              "    <tr>\n",
              "      <th>0</th>\n",
              "      <td>Male</td>\n",
              "      <td>19</td>\n",
              "      <td>19000</td>\n",
              "      <td>0</td>\n",
              "    </tr>\n",
              "    <tr>\n",
              "      <th>1</th>\n",
              "      <td>Male</td>\n",
              "      <td>35</td>\n",
              "      <td>20000</td>\n",
              "      <td>0</td>\n",
              "    </tr>\n",
              "    <tr>\n",
              "      <th>2</th>\n",
              "      <td>Female</td>\n",
              "      <td>26</td>\n",
              "      <td>43000</td>\n",
              "      <td>0</td>\n",
              "    </tr>\n",
              "    <tr>\n",
              "      <th>3</th>\n",
              "      <td>Female</td>\n",
              "      <td>27</td>\n",
              "      <td>57000</td>\n",
              "      <td>0</td>\n",
              "    </tr>\n",
              "    <tr>\n",
              "      <th>4</th>\n",
              "      <td>Male</td>\n",
              "      <td>19</td>\n",
              "      <td>76000</td>\n",
              "      <td>0</td>\n",
              "    </tr>\n",
              "  </tbody>\n",
              "</table>\n",
              "</div>\n",
              "      <button class=\"colab-df-convert\" onclick=\"convertToInteractive('df-8bd0f74b-0b6f-4884-bddf-d2fded4df089')\"\n",
              "              title=\"Convert this dataframe to an interactive table.\"\n",
              "              style=\"display:none;\">\n",
              "        \n",
              "  <svg xmlns=\"http://www.w3.org/2000/svg\" height=\"24px\"viewBox=\"0 0 24 24\"\n",
              "       width=\"24px\">\n",
              "    <path d=\"M0 0h24v24H0V0z\" fill=\"none\"/>\n",
              "    <path d=\"M18.56 5.44l.94 2.06.94-2.06 2.06-.94-2.06-.94-.94-2.06-.94 2.06-2.06.94zm-11 1L8.5 8.5l.94-2.06 2.06-.94-2.06-.94L8.5 2.5l-.94 2.06-2.06.94zm10 10l.94 2.06.94-2.06 2.06-.94-2.06-.94-.94-2.06-.94 2.06-2.06.94z\"/><path d=\"M17.41 7.96l-1.37-1.37c-.4-.4-.92-.59-1.43-.59-.52 0-1.04.2-1.43.59L10.3 9.45l-7.72 7.72c-.78.78-.78 2.05 0 2.83L4 21.41c.39.39.9.59 1.41.59.51 0 1.02-.2 1.41-.59l7.78-7.78 2.81-2.81c.8-.78.8-2.07 0-2.86zM5.41 20L4 18.59l7.72-7.72 1.47 1.35L5.41 20z\"/>\n",
              "  </svg>\n",
              "      </button>\n",
              "      \n",
              "  <style>\n",
              "    .colab-df-container {\n",
              "      display:flex;\n",
              "      flex-wrap:wrap;\n",
              "      gap: 12px;\n",
              "    }\n",
              "\n",
              "    .colab-df-convert {\n",
              "      background-color: #E8F0FE;\n",
              "      border: none;\n",
              "      border-radius: 50%;\n",
              "      cursor: pointer;\n",
              "      display: none;\n",
              "      fill: #1967D2;\n",
              "      height: 32px;\n",
              "      padding: 0 0 0 0;\n",
              "      width: 32px;\n",
              "    }\n",
              "\n",
              "    .colab-df-convert:hover {\n",
              "      background-color: #E2EBFA;\n",
              "      box-shadow: 0px 1px 2px rgba(60, 64, 67, 0.3), 0px 1px 3px 1px rgba(60, 64, 67, 0.15);\n",
              "      fill: #174EA6;\n",
              "    }\n",
              "\n",
              "    [theme=dark] .colab-df-convert {\n",
              "      background-color: #3B4455;\n",
              "      fill: #D2E3FC;\n",
              "    }\n",
              "\n",
              "    [theme=dark] .colab-df-convert:hover {\n",
              "      background-color: #434B5C;\n",
              "      box-shadow: 0px 1px 3px 1px rgba(0, 0, 0, 0.15);\n",
              "      filter: drop-shadow(0px 1px 2px rgba(0, 0, 0, 0.3));\n",
              "      fill: #FFFFFF;\n",
              "    }\n",
              "  </style>\n",
              "\n",
              "      <script>\n",
              "        const buttonEl =\n",
              "          document.querySelector('#df-8bd0f74b-0b6f-4884-bddf-d2fded4df089 button.colab-df-convert');\n",
              "        buttonEl.style.display =\n",
              "          google.colab.kernel.accessAllowed ? 'block' : 'none';\n",
              "\n",
              "        async function convertToInteractive(key) {\n",
              "          const element = document.querySelector('#df-8bd0f74b-0b6f-4884-bddf-d2fded4df089');\n",
              "          const dataTable =\n",
              "            await google.colab.kernel.invokeFunction('convertToInteractive',\n",
              "                                                     [key], {});\n",
              "          if (!dataTable) return;\n",
              "\n",
              "          const docLinkHtml = 'Like what you see? Visit the ' +\n",
              "            '<a target=\"_blank\" href=https://colab.research.google.com/notebooks/data_table.ipynb>data table notebook</a>'\n",
              "            + ' to learn more about interactive tables.';\n",
              "          element.innerHTML = '';\n",
              "          dataTable['output_type'] = 'display_data';\n",
              "          await google.colab.output.renderOutput(dataTable, element);\n",
              "          const docLink = document.createElement('div');\n",
              "          docLink.innerHTML = docLinkHtml;\n",
              "          element.appendChild(docLink);\n",
              "        }\n",
              "      </script>\n",
              "    </div>\n",
              "  </div>\n",
              "  "
            ]
          },
          "metadata": {},
          "execution_count": 5
        }
      ],
      "source": [
        "df = pd.read_csv('./Datasets/Social_Network_Ads.csv')\n",
        "\n",
        "df.drop('User ID', axis=1, inplace=True)\n",
        "df.head(5)"
      ]
    },
    {
      "cell_type": "code",
      "execution_count": 6,
      "metadata": {
        "id": "ZDO6Ks7fWyW5"
      },
      "outputs": [],
      "source": [
        "# rather than giving df, columns > df.Gender for one series of the column\n",
        "# in this way the place of columns doesn't chane\n",
        "df.Gender = pd.get_dummies(df.Gender, drop_first=True)"
      ]
    },
    {
      "cell_type": "code",
      "source": [
        "df.head()"
      ],
      "metadata": {
        "colab": {
          "base_uri": "https://localhost:8080/",
          "height": 206
        },
        "id": "XZGQomC6XJ3x",
        "outputId": "d46bf540-acfe-4789-dec5-9927efe0258a"
      },
      "execution_count": 7,
      "outputs": [
        {
          "output_type": "execute_result",
          "data": {
            "text/plain": [
              "   Gender  Age  EstimatedSalary  Purchased\n",
              "0       1   19            19000          0\n",
              "1       1   35            20000          0\n",
              "2       0   26            43000          0\n",
              "3       0   27            57000          0\n",
              "4       1   19            76000          0"
            ],
            "text/html": [
              "\n",
              "  <div id=\"df-396c06ab-6341-45b6-8fb5-1b45f55874f5\">\n",
              "    <div class=\"colab-df-container\">\n",
              "      <div>\n",
              "<style scoped>\n",
              "    .dataframe tbody tr th:only-of-type {\n",
              "        vertical-align: middle;\n",
              "    }\n",
              "\n",
              "    .dataframe tbody tr th {\n",
              "        vertical-align: top;\n",
              "    }\n",
              "\n",
              "    .dataframe thead th {\n",
              "        text-align: right;\n",
              "    }\n",
              "</style>\n",
              "<table border=\"1\" class=\"dataframe\">\n",
              "  <thead>\n",
              "    <tr style=\"text-align: right;\">\n",
              "      <th></th>\n",
              "      <th>Gender</th>\n",
              "      <th>Age</th>\n",
              "      <th>EstimatedSalary</th>\n",
              "      <th>Purchased</th>\n",
              "    </tr>\n",
              "  </thead>\n",
              "  <tbody>\n",
              "    <tr>\n",
              "      <th>0</th>\n",
              "      <td>1</td>\n",
              "      <td>19</td>\n",
              "      <td>19000</td>\n",
              "      <td>0</td>\n",
              "    </tr>\n",
              "    <tr>\n",
              "      <th>1</th>\n",
              "      <td>1</td>\n",
              "      <td>35</td>\n",
              "      <td>20000</td>\n",
              "      <td>0</td>\n",
              "    </tr>\n",
              "    <tr>\n",
              "      <th>2</th>\n",
              "      <td>0</td>\n",
              "      <td>26</td>\n",
              "      <td>43000</td>\n",
              "      <td>0</td>\n",
              "    </tr>\n",
              "    <tr>\n",
              "      <th>3</th>\n",
              "      <td>0</td>\n",
              "      <td>27</td>\n",
              "      <td>57000</td>\n",
              "      <td>0</td>\n",
              "    </tr>\n",
              "    <tr>\n",
              "      <th>4</th>\n",
              "      <td>1</td>\n",
              "      <td>19</td>\n",
              "      <td>76000</td>\n",
              "      <td>0</td>\n",
              "    </tr>\n",
              "  </tbody>\n",
              "</table>\n",
              "</div>\n",
              "      <button class=\"colab-df-convert\" onclick=\"convertToInteractive('df-396c06ab-6341-45b6-8fb5-1b45f55874f5')\"\n",
              "              title=\"Convert this dataframe to an interactive table.\"\n",
              "              style=\"display:none;\">\n",
              "        \n",
              "  <svg xmlns=\"http://www.w3.org/2000/svg\" height=\"24px\"viewBox=\"0 0 24 24\"\n",
              "       width=\"24px\">\n",
              "    <path d=\"M0 0h24v24H0V0z\" fill=\"none\"/>\n",
              "    <path d=\"M18.56 5.44l.94 2.06.94-2.06 2.06-.94-2.06-.94-.94-2.06-.94 2.06-2.06.94zm-11 1L8.5 8.5l.94-2.06 2.06-.94-2.06-.94L8.5 2.5l-.94 2.06-2.06.94zm10 10l.94 2.06.94-2.06 2.06-.94-2.06-.94-.94-2.06-.94 2.06-2.06.94z\"/><path d=\"M17.41 7.96l-1.37-1.37c-.4-.4-.92-.59-1.43-.59-.52 0-1.04.2-1.43.59L10.3 9.45l-7.72 7.72c-.78.78-.78 2.05 0 2.83L4 21.41c.39.39.9.59 1.41.59.51 0 1.02-.2 1.41-.59l7.78-7.78 2.81-2.81c.8-.78.8-2.07 0-2.86zM5.41 20L4 18.59l7.72-7.72 1.47 1.35L5.41 20z\"/>\n",
              "  </svg>\n",
              "      </button>\n",
              "      \n",
              "  <style>\n",
              "    .colab-df-container {\n",
              "      display:flex;\n",
              "      flex-wrap:wrap;\n",
              "      gap: 12px;\n",
              "    }\n",
              "\n",
              "    .colab-df-convert {\n",
              "      background-color: #E8F0FE;\n",
              "      border: none;\n",
              "      border-radius: 50%;\n",
              "      cursor: pointer;\n",
              "      display: none;\n",
              "      fill: #1967D2;\n",
              "      height: 32px;\n",
              "      padding: 0 0 0 0;\n",
              "      width: 32px;\n",
              "    }\n",
              "\n",
              "    .colab-df-convert:hover {\n",
              "      background-color: #E2EBFA;\n",
              "      box-shadow: 0px 1px 2px rgba(60, 64, 67, 0.3), 0px 1px 3px 1px rgba(60, 64, 67, 0.15);\n",
              "      fill: #174EA6;\n",
              "    }\n",
              "\n",
              "    [theme=dark] .colab-df-convert {\n",
              "      background-color: #3B4455;\n",
              "      fill: #D2E3FC;\n",
              "    }\n",
              "\n",
              "    [theme=dark] .colab-df-convert:hover {\n",
              "      background-color: #434B5C;\n",
              "      box-shadow: 0px 1px 3px 1px rgba(0, 0, 0, 0.15);\n",
              "      filter: drop-shadow(0px 1px 2px rgba(0, 0, 0, 0.3));\n",
              "      fill: #FFFFFF;\n",
              "    }\n",
              "  </style>\n",
              "\n",
              "      <script>\n",
              "        const buttonEl =\n",
              "          document.querySelector('#df-396c06ab-6341-45b6-8fb5-1b45f55874f5 button.colab-df-convert');\n",
              "        buttonEl.style.display =\n",
              "          google.colab.kernel.accessAllowed ? 'block' : 'none';\n",
              "\n",
              "        async function convertToInteractive(key) {\n",
              "          const element = document.querySelector('#df-396c06ab-6341-45b6-8fb5-1b45f55874f5');\n",
              "          const dataTable =\n",
              "            await google.colab.kernel.invokeFunction('convertToInteractive',\n",
              "                                                     [key], {});\n",
              "          if (!dataTable) return;\n",
              "\n",
              "          const docLinkHtml = 'Like what you see? Visit the ' +\n",
              "            '<a target=\"_blank\" href=https://colab.research.google.com/notebooks/data_table.ipynb>data table notebook</a>'\n",
              "            + ' to learn more about interactive tables.';\n",
              "          element.innerHTML = '';\n",
              "          dataTable['output_type'] = 'display_data';\n",
              "          await google.colab.output.renderOutput(dataTable, element);\n",
              "          const docLink = document.createElement('div');\n",
              "          docLink.innerHTML = docLinkHtml;\n",
              "          element.appendChild(docLink);\n",
              "        }\n",
              "      </script>\n",
              "    </div>\n",
              "  </div>\n",
              "  "
            ]
          },
          "metadata": {},
          "execution_count": 7
        }
      ]
    },
    {
      "cell_type": "code",
      "execution_count": 8,
      "metadata": {
        "id": "9452W4hIWyW8"
      },
      "outputs": [],
      "source": [
        "X = df.to_numpy()"
      ]
    },
    {
      "cell_type": "code",
      "source": [
        "# random arrange\n",
        "print(X.shape[0])\n",
        "np.random.permutation(5)"
      ],
      "metadata": {
        "colab": {
          "base_uri": "https://localhost:8080/"
        },
        "id": "iECAbmSkYhh-",
        "outputId": "b1b8ade8-5e36-409c-94b5-3080d24bab57"
      },
      "execution_count": 9,
      "outputs": [
        {
          "output_type": "stream",
          "name": "stdout",
          "text": [
            "400\n"
          ]
        },
        {
          "output_type": "execute_result",
          "data": {
            "text/plain": [
              "array([1, 0, 2, 3, 4])"
            ]
          },
          "metadata": {},
          "execution_count": 9
        }
      ]
    },
    {
      "cell_type": "code",
      "execution_count": 10,
      "metadata": {
        "id": "7EU7qI7BWyXA"
      },
      "outputs": [],
      "source": [
        "# now we want to shuffle the data > change the place of rows > change the indexes\n",
        "np.random.seed = 0\n",
        "X = X[np.random.permutation(X.shape[0])]\n",
        "\n",
        "######################################\n",
        "# 2. inplace changes occur\n",
        "np.random.shuffle(X)"
      ]
    },
    {
      "cell_type": "code",
      "execution_count": 11,
      "metadata": {
        "id": "51C4TSsjWyXB"
      },
      "outputs": [],
      "source": [
        "y = X[:, -1]\n",
        "X = X[:, :-1]"
      ]
    },
    {
      "cell_type": "code",
      "source": [
        "# without this I couldn't get the score more than 0.62 > now=0.85\n",
        "X = (X - X.mean(axis=0)) / X.std(axis=0)"
      ],
      "metadata": {
        "id": "dq1OQpdcbHh-"
      },
      "execution_count": 12,
      "outputs": []
    },
    {
      "cell_type": "markdown",
      "metadata": {
        "id": "B8JFf9IiWyXD"
      },
      "source": [
        "# KFold"
      ]
    },
    {
      "cell_type": "code",
      "source": [
        "data_split = KFold(n_splits=5)\n",
        "data_split\n",
        "\n",
        "# data_split.split() > returns tuple > (train_inx, val_inx)"
      ],
      "metadata": {
        "colab": {
          "base_uri": "https://localhost:8080/"
        },
        "id": "T7-NVUaOZS_C",
        "outputId": "cff86e90-b9b0-44be-a1d9-a574ea1cf252"
      },
      "execution_count": 13,
      "outputs": [
        {
          "output_type": "execute_result",
          "data": {
            "text/plain": [
              "KFold(n_splits=5, random_state=None, shuffle=False)"
            ]
          },
          "metadata": {},
          "execution_count": 13
        }
      ]
    },
    {
      "cell_type": "code",
      "execution_count": 14,
      "metadata": {
        "scrolled": false,
        "colab": {
          "base_uri": "https://localhost:8080/",
          "height": 313
        },
        "id": "Pqw28WjXWyXI",
        "outputId": "3650cb86-cd05-4bc5-e844-2e7741703e44"
      },
      "outputs": [
        {
          "output_type": "stream",
          "name": "stdout",
          "text": [
            "320 80\n",
            "train acc = 0.859375 \tval acc = 0.8375\n",
            "320 80\n",
            "train acc = 0.84375 \tval acc = 0.8875\n",
            "320 80\n",
            "train acc = 0.859375 \tval acc = 0.7625\n",
            "320 80\n",
            "train acc = 0.84375 \tval acc = 0.8875\n",
            "320 80\n",
            "train acc = 0.84375 \tval acc = 0.8125\n",
            "the train score average 0.85\n",
            "the validation score average 0.8375\n"
          ]
        },
        {
          "output_type": "execute_result",
          "data": {
            "text/plain": [
              "\"\\nwe can see the different outputs > decide better overfit or not > the model is ok\\nbecause in each shuffle maybe we choose the simpler data as train and harder data for validation\\nso with one time of training we can't for sure conclude\\n\\nwith normalization the scores will be better for sure\\nwhy for sure > because we have estimate salary and age > two cols ranges are way different\\n\""
            ],
            "application/vnd.google.colaboratory.intrinsic+json": {
              "type": "string"
            }
          },
          "metadata": {},
          "execution_count": 14
        }
      ],
      "source": [
        "# this should be x and y train\n",
        "train_score = 0\n",
        "val_score = 0\n",
        "for train_inx, val_idx in data_split.split(X, y):\n",
        "    print(len(train_inx), len(val_idx))\n",
        "    clf = LogisticRegression()\n",
        "    clf.fit(X[train_inx], y[train_inx])\n",
        "    print('train acc =', clf.score(X[train_inx], y[train_inx]), \n",
        "          '\\tval acc =', clf.score(X[val_idx], y[val_idx]))\n",
        "    train_score += clf.score(X[train_inx], y[train_inx])\n",
        "    val_score += clf.score(X[val_idx], y[val_idx])\n",
        "\n",
        "print('the train score average', train_score/data_split.n_splits)\n",
        "print('the validation score average', val_score/data_split.n_splits)\n",
        "\n",
        "'''\n",
        "we can see the different outputs > decide better overfit or not > the model is ok\n",
        "because in each shuffle maybe we choose the simpler data as train and harder data for validation\n",
        "so with one time of training we can't for sure conclude\n",
        "\n",
        "with normalization the scores will be better for sure\n",
        "why for sure > because we have estimate salary and age > two cols ranges are way different\n",
        "'''"
      ]
    },
    {
      "cell_type": "code",
      "source": [
        "'''\n",
        "we want to overfit the model\n",
        "for having polynomial features > 1. hstack(X,X**2,X**3) 2. Polynomial\n",
        "\n",
        "x = np.arange(-10, 30, 1).reshape(-1, 1)\n",
        "x_6 = np.hstack((x,x**2,x**3,x**4,x**5,x**6)) > just these degrees\n",
        "\n",
        "polynomial > creates all of the sentences up to degree n > from 0 to n\n",
        "form [a, b], the degree-2 polynomial features are [1, a, b, a^2, ab, b^2]\n",
        "abc > 1 a b c a2 b2 c2 ab bc ac a3 b3 c3 abc a2b a2c b2c c2a c2b abc > 20\n",
        "'''\n",
        "from sklearn.preprocessing import PolynomialFeatures\n",
        "\n",
        "polynomial = PolynomialFeatures(degree=6)\n",
        "# fit > train/adjust\n",
        "# transfrom > predict\n",
        "# fit_transform > fit + predict > the input of all of the functions are based on the type whether they need y or not > if needed we have to pass the y too\n",
        "X_poly = polynomial.fit_transform(X)\n",
        "print(X.shape,X_poly.shape)"
      ],
      "metadata": {
        "id": "enN0cZRzt8vs",
        "colab": {
          "base_uri": "https://localhost:8080/"
        },
        "outputId": "fc4f6e3d-5afb-44e5-98b9-669eeb5ad487"
      },
      "execution_count": 15,
      "outputs": [
        {
          "output_type": "stream",
          "name": "stdout",
          "text": [
            "(400, 3) (400, 84)\n"
          ]
        }
      ]
    },
    {
      "cell_type": "code",
      "source": [
        "train_score = 0\n",
        "val_score = 0\n",
        "for train_inx, val_idx in data_split.split(X, y):\n",
        "    print(len(train_inx), len(val_idx))\n",
        "    clf = LogisticRegression(max_iter=100000)\n",
        "    clf.fit(X_poly[train_inx], y[train_inx])\n",
        "    print('train acc =', clf.score(X_poly[train_inx], y[train_inx]), \n",
        "          '\\tval acc =', clf.score(X_poly[val_idx], y[val_idx]))\n",
        "    train_score += clf.score(X_poly[train_inx], y[train_inx])\n",
        "    val_score += clf.score(X_poly[val_idx], y[val_idx])\n",
        "\n",
        "print('the train score average', train_score/data_split.n_splits)\n",
        "print('the validation score average', val_score/data_split.n_splits)\n",
        "\n",
        "# 1 or 2 percentage error is ok but more than that is not\n",
        "# train = 90 and validation = 90 is ok > how to know whether your model is overfitting > train acc + validation acc"
      ],
      "metadata": {
        "colab": {
          "base_uri": "https://localhost:8080/"
        },
        "id": "QqkS6_cirQdz",
        "outputId": "0d3480c0-581c-405c-d73a-8b9b107e8314"
      },
      "execution_count": 16,
      "outputs": [
        {
          "output_type": "stream",
          "name": "stdout",
          "text": [
            "320 80\n",
            "train acc = 0.925 \tval acc = 0.875\n",
            "320 80\n",
            "train acc = 0.925 \tval acc = 0.925\n",
            "320 80\n",
            "train acc = 0.928125 \tval acc = 0.8625\n",
            "320 80\n",
            "train acc = 0.915625 \tval acc = 0.9125\n",
            "320 80\n",
            "train acc = 0.921875 \tval acc = 0.9\n",
            "the train score average 0.923125\n",
            "the validation score average 0.8950000000000001\n"
          ]
        }
      ]
    },
    {
      "cell_type": "code",
      "source": [
        "# now we have overfitted model > we can solve it by adding regularization\n",
        "# they use regularization by default > l2 and c=1 > in log reg > 1/c \n",
        "\n",
        "train_score = 0\n",
        "val_score = 0\n",
        "for train_inx, val_idx in data_split.split(X, y):\n",
        "    clf = LogisticRegression(max_iter=100000, C=100) # more overfit\n",
        "    clf.fit(X_poly[train_inx], y[train_inx])\n",
        "    # print('train acc =', clf.score(X_poly[train_inx], y[train_inx]), \n",
        "    #       '\\tval acc =', clf.score(X_poly[val_idx], y[val_idx]))\n",
        "    train_score += clf.score(X_poly[train_inx], y[train_inx])\n",
        "    val_score += clf.score(X_poly[val_idx], y[val_idx])\n",
        "\n",
        "print('the train score average', train_score/data_split.n_splits)\n",
        "print('the validation score average', val_score/data_split.n_splits)"
      ],
      "metadata": {
        "colab": {
          "base_uri": "https://localhost:8080/"
        },
        "id": "MTSziaADaTR8",
        "outputId": "6d5809a0-64df-4a92-c08f-e8c1dc8a17b6"
      },
      "execution_count": 17,
      "outputs": [
        {
          "output_type": "stream",
          "name": "stdout",
          "text": [
            "the train score average 0.9337500000000001\n",
            "the validation score average 0.8699999999999999\n"
          ]
        }
      ]
    },
    {
      "cell_type": "code",
      "source": [
        "train_score = 0\n",
        "val_score = 0\n",
        "for train_inx, val_idx in data_split.split(X, y):\n",
        "    clf = LogisticRegression(max_iter=1000000, C=5e-5) # underfit model\n",
        "    clf.fit(X_poly[train_inx], y[train_inx])\n",
        "    # print('train acc =', clf.score(X_poly[train_inx], y[train_inx]), \n",
        "    #       '\\tval acc =', clf.score(X_poly[val_idx], y[val_idx]))\n",
        "    train_score += clf.score(X_poly[train_inx], y[train_inx])\n",
        "    val_score += clf.score(X_poly[val_idx], y[val_idx])\n",
        "print('the train score average', train_score/data_split.n_splits)\n",
        "print('the validation score average', val_score/data_split.n_splits)"
      ],
      "metadata": {
        "colab": {
          "base_uri": "https://localhost:8080/"
        },
        "id": "EA2a8kArbZSj",
        "outputId": "69b67d3a-cbf1-4c58-ce69-389da070ca93"
      },
      "execution_count": 18,
      "outputs": [
        {
          "output_type": "stream",
          "name": "stdout",
          "text": [
            "the train score average 0.7575000000000001\n",
            "the validation score average 0.75\n"
          ]
        }
      ]
    },
    {
      "cell_type": "code",
      "source": [
        "'''\n",
        "the penalty parameter in the function > we have only l2 > C > 1/C > solver: lbfgs\n",
        "the penalty l1 > change the solver\n",
        "use lasso regression for l1\n",
        "GD > j=j-alpha*derivative\n",
        "solvers > Each solver tries to find the parameter weights that minimize a cost function.\n",
        "j'=j+alpha*(Wi**2)\n",
        "\n",
        "improve the term of regularization > more underfit\n",
        "decrease the term of regularization > more overfit\n",
        "\n",
        "https://towardsdatascience.com/dont-sweat-the-solver-stuff-aea7cddc3451\n",
        "\n",
        "Lasso regression changes are not to sensible regarding to the ridge regression\n",
        "'''\n",
        "train_score = 0\n",
        "val_score = 0\n",
        "for train_inx, val_idx in data_split.split(X, y):\n",
        "    clf = LogisticRegression(max_iter=1000, penalty='l1', solver=\"saga\", C=100000) # more overfit\n",
        "    clf.fit(X_poly[train_inx], y[train_inx])\n",
        "    # print('train acc =', clf.score(X_poly[train_inx], y[train_inx]), \n",
        "    #       '\\tval acc =', clf.score(X_poly[val_idx], y[val_idx]))\n",
        "    train_score += clf.score(X_poly[train_inx], y[train_inx])\n",
        "    val_score += clf.score(X_poly[val_idx], y[val_idx])\n",
        "\n",
        "print('the train score average', train_score/data_split.n_splits)\n",
        "print('the validation score average', val_score/data_split.n_splits)"
      ],
      "metadata": {
        "colab": {
          "base_uri": "https://localhost:8080/"
        },
        "id": "ZUYc8Shvb5iN",
        "outputId": "85fb1568-542d-4239-c37e-baf43f42a0a2"
      },
      "execution_count": 19,
      "outputs": [
        {
          "output_type": "stream",
          "name": "stderr",
          "text": [
            "/usr/local/lib/python3.7/dist-packages/sklearn/linear_model/_sag.py:354: ConvergenceWarning: The max_iter was reached which means the coef_ did not converge\n",
            "  ConvergenceWarning,\n",
            "/usr/local/lib/python3.7/dist-packages/sklearn/linear_model/_sag.py:354: ConvergenceWarning: The max_iter was reached which means the coef_ did not converge\n",
            "  ConvergenceWarning,\n",
            "/usr/local/lib/python3.7/dist-packages/sklearn/linear_model/_sag.py:354: ConvergenceWarning: The max_iter was reached which means the coef_ did not converge\n",
            "  ConvergenceWarning,\n",
            "/usr/local/lib/python3.7/dist-packages/sklearn/linear_model/_sag.py:354: ConvergenceWarning: The max_iter was reached which means the coef_ did not converge\n",
            "  ConvergenceWarning,\n"
          ]
        },
        {
          "output_type": "stream",
          "name": "stdout",
          "text": [
            "the train score average 0.9\n",
            "the validation score average 0.8924999999999998\n"
          ]
        },
        {
          "output_type": "stream",
          "name": "stderr",
          "text": [
            "/usr/local/lib/python3.7/dist-packages/sklearn/linear_model/_sag.py:354: ConvergenceWarning: The max_iter was reached which means the coef_ did not converge\n",
            "  ConvergenceWarning,\n"
          ]
        }
      ]
    },
    {
      "cell_type": "code",
      "source": [
        "train_score = 0\n",
        "val_score = 0\n",
        "for train_inx, val_idx in data_split.split(X, y):\n",
        "    clf = LogisticRegression(max_iter=1000, penalty='l1', solver=\"saga\", C=5e-10) # more underfir\n",
        "    clf.fit(X_poly[train_inx], y[train_inx])\n",
        "    # print('train acc =', clf.score(X_poly[train_inx], y[train_inx]), \n",
        "    #       '\\tval acc =', clf.score(X_poly[val_idx], y[val_idx]))\n",
        "    train_score += clf.score(X_poly[train_inx], y[train_inx])\n",
        "    val_score += clf.score(X_poly[val_idx], y[val_idx])\n",
        "\n",
        "print('the train score average', train_score/data_split.n_splits)\n",
        "print('the validation score average', val_score/data_split.n_splits)"
      ],
      "metadata": {
        "id": "FBkFmFMmYfPi",
        "outputId": "7483a720-ef65-4b02-94f5-6af5d1a78fd5",
        "colab": {
          "base_uri": "https://localhost:8080/"
        }
      },
      "execution_count": 20,
      "outputs": [
        {
          "output_type": "stream",
          "name": "stdout",
          "text": [
            "the train score average 0.6424999999999998\n",
            "the validation score average 0.6425000000000001\n"
          ]
        }
      ]
    },
    {
      "cell_type": "code",
      "source": [
        "C = [.001 , .01, .1, 1 , 10, 100 , 1000]\n",
        "\n",
        "for c in C:\n",
        "  train_score = 0\n",
        "  val_score = 0\n",
        "  for train_inx, val_idx in data_split.split(X, y):\n",
        "      clf = LogisticRegression(max_iter=100000, C=c)\n",
        "      clf.fit(X_poly[train_inx], y[train_inx])\n",
        "      train_score += clf.score(X_poly[train_inx], y[train_inx])\n",
        "      val_score += clf.score(X_poly[val_idx], y[val_idx])\n",
        "\n",
        "  print(f\"C is {c}---------\")\n",
        "  print('the train score average', train_score/data_split.n_splits)\n",
        "  print('the validation score average', val_score/data_split.n_splits)"
      ],
      "metadata": {
        "colab": {
          "base_uri": "https://localhost:8080/"
        },
        "id": "3RNhrAG4hkdy",
        "outputId": "d0e66b11-a123-4583-da99-a353cc903998"
      },
      "execution_count": 21,
      "outputs": [
        {
          "output_type": "stream",
          "name": "stdout",
          "text": [
            "C is 0.001---------\n",
            "the train score average 0.8162500000000001\n",
            "the validation score average 0.8150000000000001\n",
            "C is 0.01---------\n",
            "the train score average 0.8831249999999999\n",
            "the validation score average 0.8725000000000002\n",
            "C is 0.1---------\n",
            "the train score average 0.909375\n",
            "the validation score average 0.8924999999999998\n",
            "C is 1---------\n",
            "the train score average 0.923125\n",
            "the validation score average 0.8950000000000001\n",
            "C is 10---------\n",
            "the train score average 0.930625\n",
            "the validation score average 0.8674999999999999\n",
            "C is 100---------\n",
            "the train score average 0.9337500000000001\n",
            "the validation score average 0.8699999999999999\n",
            "C is 1000---------\n",
            "the train score average 0.938125\n",
            "the validation score average 0.8550000000000001\n"
          ]
        }
      ]
    },
    {
      "cell_type": "code",
      "source": [
        "clf = LogisticRegression()\n",
        "clf.fit(X_poly,y)\n",
        "print(clf.coef_)"
      ],
      "metadata": {
        "id": "2FshBQyYGR3t",
        "outputId": "48f05752-1aba-4185-c7c1-4e786614c1f9",
        "colab": {
          "base_uri": "https://localhost:8080/"
        }
      },
      "execution_count": 22,
      "outputs": [
        {
          "output_type": "stream",
          "name": "stdout",
          "text": [
            "[[-0.45759352  0.06157958  0.69264058  1.02220284 -0.45512984 -0.06644674\n",
            "   0.18270994  0.0349271  -0.27798197  0.57837264  0.04337074  0.68998218\n",
            "   1.0295127  -0.28410114  0.33663354 -0.14736613  0.22213236 -0.05214374\n",
            "   0.65010362 -0.14842217 -0.45339467 -0.03884193  0.22389868  0.02356078\n",
            "  -0.26451393  0.57247682 -0.02327964  0.17545305  0.07562842 -0.16355473\n",
            "  -0.22881675 -0.2421131   0.17589636 -0.48169015 -0.57981907  0.02523133\n",
            "   0.68842819  1.03847043 -0.28315852  0.32605087 -0.12446248  0.22120099\n",
            "  -0.04512422  0.65312937 -0.15496566  0.01008651  0.06422142  0.42447621\n",
            "  -0.62934213  0.62770342  0.19489185  0.20793921  0.09465739 -0.27378094\n",
            "   0.27345295 -0.10500798 -0.45238521 -0.0112993   0.26544581  0.01223217\n",
            "  -0.25146929  0.56749732 -0.01442983  0.17364772  0.10175882 -0.1697546\n",
            "  -0.22841321 -0.23954373  0.19287881 -0.50686887 -0.55470591  0.3279261\n",
            "   0.14078262  0.32927926 -0.09731202 -0.05832129 -0.24289555  0.0623059\n",
            "   0.18685394  0.06667     0.24349926  0.04410747 -0.27091615  0.28616328]]\n"
          ]
        },
        {
          "output_type": "stream",
          "name": "stderr",
          "text": [
            "/usr/local/lib/python3.7/dist-packages/sklearn/linear_model/_logistic.py:818: ConvergenceWarning: lbfgs failed to converge (status=1):\n",
            "STOP: TOTAL NO. of ITERATIONS REACHED LIMIT.\n",
            "\n",
            "Increase the number of iterations (max_iter) or scale the data as shown in:\n",
            "    https://scikit-learn.org/stable/modules/preprocessing.html\n",
            "Please also refer to the documentation for alternative solver options:\n",
            "    https://scikit-learn.org/stable/modules/linear_model.html#logistic-regression\n",
            "  extra_warning_msg=_LOGISTIC_SOLVER_CONVERGENCE_MSG,\n"
          ]
        }
      ]
    },
    {
      "cell_type": "code",
      "source": [
        "# up to now > chnage the c in the parameters of another model \n",
        "# now import each penalty directly as classifier\n",
        "from sklearn.linear_model import Ridge, Lasso\n",
        "\n",
        "# params: fit_intercept > bias / copy / ...\n",
        "clf = Ridge(alpha=1000) # very strong regularization\n",
        "clf.fit(X_poly,y)\n",
        "\n",
        "# as you see the coef are too small\n",
        "print(clf.coef_)"
      ],
      "metadata": {
        "id": "O4HV9XaVFW2k",
        "outputId": "2d9052cc-4042-4699-b0ab-90917ed9dfd7",
        "colab": {
          "base_uri": "https://localhost:8080/"
        }
      },
      "execution_count": 23,
      "outputs": [
        {
          "output_type": "stream",
          "name": "stdout",
          "text": [
            "[ 0.00000000e+00  1.39844596e-03  2.46742675e-02  1.31190808e-02\n",
            "  5.59490292e-05 -3.93624175e-04  3.91021314e-03  9.73997141e-03\n",
            " -6.81337377e-03  1.58984000e-02  1.40068436e-03  2.46585194e-02\n",
            "  1.32755206e-02 -7.40175894e-05 -7.49004153e-04  2.42370234e-03\n",
            "  2.04937600e-02 -3.47481606e-03  1.38623174e-02  9.25933812e-03\n",
            "  1.11987613e-04  5.92913928e-04  4.44134020e-03  9.73701011e-03\n",
            " -6.84333993e-03  1.59953674e-02  3.99303193e-05 -4.87074930e-04\n",
            " -1.35872722e-03  7.53084513e-04  1.07403151e-02 -2.47738985e-03\n",
            "  7.81652763e-03 -1.18985039e-02  1.72499882e-02  1.40516477e-03\n",
            "  2.46822407e-02  1.34532098e-02  3.15540735e-04 -1.02279251e-03\n",
            "  3.06364504e-03  2.04953576e-02 -3.49430295e-03  1.38079574e-02\n",
            "  9.28946753e-03  1.27133283e-03 -2.92107488e-04 -2.67566721e-04\n",
            " -7.37228069e-03  3.56934098e-03  5.77689311e-04 -3.08486225e-03\n",
            "  7.73797134e-04 -1.17376488e-02  1.45250329e-02  5.57207578e-04\n",
            "  1.68205448e-04  1.58040107e-03  4.97957625e-03  9.74963427e-03\n",
            " -6.88425981e-03  1.61179378e-02  8.59908634e-04 -6.26875011e-04\n",
            " -8.06298423e-04  1.12473755e-03  1.07911786e-02 -2.48907649e-03\n",
            "  7.80582282e-03 -1.21934541e-02  1.73927904e-02  8.16594227e-04\n",
            " -2.35805614e-03 -1.09422259e-03 -5.52423423e-04  2.84526931e-03\n",
            " -3.54454402e-03 -5.65534834e-03  7.52097284e-03 -3.20877941e-03\n",
            " -3.66523932e-03  3.95369245e-03 -7.50609250e-03 -5.19216260e-03]\n"
          ]
        }
      ]
    },
    {
      "cell_type": "code",
      "source": [
        "clf = Lasso(alpha=2) # very strong regularization\n",
        "clf.fit(X_poly,y)\n",
        "# coef zero\n",
        "print(clf.coef_)"
      ],
      "metadata": {
        "id": "qkYlNeEfGb7O",
        "outputId": "bd38a189-9cc6-4807-c1f9-310e3c69aa65",
        "colab": {
          "base_uri": "https://localhost:8080/"
        }
      },
      "execution_count": 24,
      "outputs": [
        {
          "output_type": "stream",
          "name": "stdout",
          "text": [
            "[ 0.         -0.          0.          0.         -0.         -0.\n",
            " -0.          0.         -0.          0.         -0.          0.\n",
            "  0.         -0.         -0.         -0.          0.          0.\n",
            "  0.          0.         -0.         -0.         -0.          0.\n",
            " -0.          0.         -0.         -0.         -0.         -0.\n",
            "  0.         -0.          0.         -0.          0.         -0.\n",
            "  0.          0.         -0.         -0.         -0.          0.\n",
            "  0.          0.          0.         -0.          0.         -0.\n",
            " -0.         -0.          0.          0.          0.          0.\n",
            "  0.          0.         -0.          0.          0.          0.\n",
            " -0.          0.         -0.         -0.         -0.         -0.\n",
            "  0.         -0.          0.         -0.          0.         -0.\n",
            " -0.         -0.         -0.         -0.         -0.          0.00031064\n",
            " -0.          0.          0.          0.          0.          0.00337646]\n"
          ]
        }
      ]
    },
    {
      "cell_type": "code",
      "source": [
        "# each penalty is like classifier that you can fit them on your data"
      ],
      "metadata": {
        "id": "nIoIZrI1HAEl"
      },
      "execution_count": 25,
      "outputs": []
    },
    {
      "cell_type": "markdown",
      "metadata": {
        "id": "Kzkmywq6WyXM"
      },
      "source": [
        "# train test split"
      ]
    },
    {
      "cell_type": "code",
      "source": [
        "# define the x again\n",
        "\n",
        "X = df.to_numpy()\n",
        "np.random.seed = 0\n",
        "X = X[np.random.permutation(X.shape[0])]\n",
        "y = X[:, -1]\n",
        "X = X[:, :-1]"
      ],
      "metadata": {
        "id": "x6_oPA3wYzv_"
      },
      "execution_count": 26,
      "outputs": []
    },
    {
      "cell_type": "code",
      "execution_count": 27,
      "metadata": {
        "id": "VyEDgyaCWyXP"
      },
      "outputs": [],
      "source": [
        "# 1. write yourself > first suffle the rows > second split X and y > split train test val\n",
        "split = int(X.shape[0] * 0.8)\n",
        "\n",
        "X_train = X[:split]\n",
        "y_train = y[:split]\n",
        "\n",
        "X_test = X[split:]\n",
        "y_test = y[split:]"
      ]
    },
    {
      "cell_type": "code",
      "source": [
        "# 2.\n",
        "# random_state = 1 / random_state = np.random.seed\n",
        "X_train, X_test = train_test_split(X, test_size=0.2, random_state=1)\n",
        "\n",
        "X_train, X_test, y_train, y_test = train_test_split(X, y, test_size=0.2, random_state=1)"
      ],
      "metadata": {
        "id": "tCKQgc9jIzSg"
      },
      "execution_count": 28,
      "outputs": []
    },
    {
      "cell_type": "code",
      "execution_count": 29,
      "metadata": {
        "id": "AdYjrVr6WyXS"
      },
      "outputs": [],
      "source": [
        "# normalization\n",
        "'''\n",
        "the correct way > split the data \n",
        "find the norm params on train dataset > use this to normalize all train, test, val\n",
        "\n",
        "we rarely normalize the y\n",
        "'''\n",
        "\n",
        "mean = X_train.mean(axis=0)\n",
        "std = X_train.std(axis=0)\n",
        "\n",
        "X_train = (X_train - mean) / std\n",
        "X_test = (X_test - mean) / std"
      ]
    },
    {
      "cell_type": "code",
      "execution_count": 30,
      "metadata": {
        "id": "JSfG5eCFWyXT"
      },
      "outputs": [],
      "source": [
        "# verbose ???\n",
        "clf = LogisticRegression(verbose=1, class_weight='balanced')"
      ]
    },
    {
      "cell_type": "code",
      "execution_count": 31,
      "metadata": {
        "id": "yca5C1oLWyXV",
        "outputId": "799556c0-a37d-49d0-f35a-b8db89a31ecc",
        "colab": {
          "base_uri": "https://localhost:8080/"
        }
      },
      "outputs": [
        {
          "output_type": "stream",
          "name": "stderr",
          "text": [
            "[Parallel(n_jobs=1)]: Using backend SequentialBackend with 1 concurrent workers.\n",
            "[Parallel(n_jobs=1)]: Done   1 out of   1 | elapsed:    0.0s finished\n"
          ]
        },
        {
          "output_type": "execute_result",
          "data": {
            "text/plain": [
              "LogisticRegression(class_weight='balanced', verbose=1)"
            ]
          },
          "metadata": {},
          "execution_count": 31
        }
      ],
      "source": [
        "clf.fit(X_train, y_train)"
      ]
    },
    {
      "cell_type": "markdown",
      "metadata": {
        "id": "xmt7Lp2xWyXW"
      },
      "source": [
        "# Accuracy"
      ]
    },
    {
      "cell_type": "code",
      "execution_count": 32,
      "metadata": {
        "id": "TLvrnUctWyXX",
        "outputId": "11ef9fa8-ecf7-4162-9ae9-43a22c05fb68",
        "colab": {
          "base_uri": "https://localhost:8080/"
        }
      },
      "outputs": [
        {
          "output_type": "stream",
          "name": "stdout",
          "text": [
            "test score: 0.875\n",
            "train score: 0.840625\n"
          ]
        }
      ],
      "source": [
        "print('test score:', clf.score(X_test, y_test))\n",
        "print('train score:', clf.score(X_train, y_train))"
      ]
    },
    {
      "cell_type": "code",
      "execution_count": 35,
      "metadata": {
        "id": "eaSCGxvmWyXY",
        "outputId": "ac0abc32-4621-4579-ed2e-00b9c1739b5e",
        "colab": {
          "base_uri": "https://localhost:8080/"
        }
      },
      "outputs": [
        {
          "output_type": "stream",
          "name": "stdout",
          "text": [
            "ACC = 0.840625\n"
          ]
        }
      ],
      "source": [
        "h_train = clf.predict(X_train)\n",
        "print('ACC =', np.mean(h_train == y_train))"
      ]
    },
    {
      "cell_type": "code",
      "execution_count": 36,
      "metadata": {
        "id": "3u6ekvjEWyXa",
        "outputId": "26ba9390-e81e-4e44-a024-de0e8c0e2832",
        "colab": {
          "base_uri": "https://localhost:8080/"
        }
      },
      "outputs": [
        {
          "output_type": "execute_result",
          "data": {
            "text/plain": [
              "0.840625"
            ]
          },
          "metadata": {},
          "execution_count": 36
        }
      ],
      "source": [
        "# for sklearn.metrics > we use the true values and predicted values\n",
        "accuracy_score(y_train, h_train)"
      ]
    },
    {
      "cell_type": "markdown",
      "metadata": {
        "id": "Gk25XBk3WyXb"
      },
      "source": [
        "# Precision"
      ]
    },
    {
      "cell_type": "code",
      "execution_count": 37,
      "metadata": {
        "id": "6rB-VIGWWyXd",
        "outputId": "412ed539-38cf-4d80-88d8-d850ab1ca8d5",
        "colab": {
          "base_uri": "https://localhost:8080/"
        }
      },
      "outputs": [
        {
          "output_type": "stream",
          "name": "stdout",
          "text": [
            "test precision: 0.7941176470588235\n",
            "train precision: 0.7348484848484849\n"
          ]
        }
      ],
      "source": [
        "h_train = clf.predict(X_train)\n",
        "h_test = clf.predict(X_test)\n",
        "\n",
        "print('test precision:', precision_score(y_test, h_test))\n",
        "print('train precision:', precision_score(y_train, h_train))\n",
        "\n",
        "# TP / (TP+FP)"
      ]
    },
    {
      "cell_type": "markdown",
      "metadata": {
        "id": "5Ko6dm-UWyXf"
      },
      "source": [
        "# Recall"
      ]
    },
    {
      "cell_type": "code",
      "execution_count": 39,
      "metadata": {
        "id": "oRiK1j6aWyXh",
        "outputId": "5fd4c6f6-4ad2-414c-b394-e1f19bcfeb5d",
        "colab": {
          "base_uri": "https://localhost:8080/"
        }
      },
      "outputs": [
        {
          "output_type": "stream",
          "name": "stdout",
          "text": [
            "test recall: 0.9\n",
            "train recall: 0.8584070796460177\n"
          ]
        }
      ],
      "source": [
        "h_train = clf.predict(X_train)\n",
        "h_test = clf.predict(X_test)\n",
        "\n",
        "print('test recall:', recall_score(y_test, h_test))\n",
        "print('train recall:', recall_score(y_train, h_train))\n",
        "\n",
        "#  TP / (TP+FN)"
      ]
    },
    {
      "cell_type": "code",
      "source": [
        "'''\n",
        "we always look for the validation score > we want to kepp it high\n",
        "if both the train and validation score are low > underfit\n",
        "'''"
      ],
      "metadata": {
        "colab": {
          "base_uri": "https://localhost:8080/",
          "height": 52
        },
        "id": "Yzj2FwI-TXVu",
        "outputId": "3dc33327-3509-4518-ae4a-061c5afe74f3"
      },
      "execution_count": 43,
      "outputs": [
        {
          "output_type": "execute_result",
          "data": {
            "text/plain": [
              "'\\nwe always look for the validation score > we want to kepp it high\\nif both the train and validation score are low > underfit\\n'"
            ],
            "application/vnd.google.colaboratory.intrinsic+json": {
              "type": "string"
            }
          },
          "metadata": {},
          "execution_count": 43
        }
      ]
    },
    {
      "cell_type": "code",
      "source": [
        "y_test == 1"
      ],
      "metadata": {
        "colab": {
          "base_uri": "https://localhost:8080/"
        },
        "id": "a7lZP89dTikS",
        "outputId": "4e192809-78b7-4e9f-c9a9-b69a62f03c5b"
      },
      "execution_count": 44,
      "outputs": [
        {
          "output_type": "execute_result",
          "data": {
            "text/plain": [
              "array([False, False, False,  True, False,  True, False, False,  True,\n",
              "       False, False, False,  True, False, False,  True, False,  True,\n",
              "       False,  True,  True, False, False, False, False,  True,  True,\n",
              "       False, False, False, False, False, False, False, False,  True,\n",
              "       False,  True,  True, False, False, False, False, False,  True,\n",
              "        True,  True, False, False,  True, False,  True, False,  True,\n",
              "        True, False,  True, False,  True,  True,  True,  True,  True,\n",
              "        True, False,  True, False,  True, False, False, False, False,\n",
              "       False, False, False,  True, False, False, False, False])"
            ]
          },
          "metadata": {},
          "execution_count": 44
        }
      ]
    },
    {
      "cell_type": "code",
      "source": [
        "#  * is AND in numpy array // + is OR\n",
        "(y_test == 1)*(h_test == 1)"
      ],
      "metadata": {
        "colab": {
          "base_uri": "https://localhost:8080/"
        },
        "id": "zdLJjdjVTlgb",
        "outputId": "8f390e84-226e-4e61-821e-7971e4ecc275"
      },
      "execution_count": 45,
      "outputs": [
        {
          "output_type": "execute_result",
          "data": {
            "text/plain": [
              "array([False, False, False,  True, False,  True, False, False,  True,\n",
              "       False, False, False,  True, False, False,  True, False,  True,\n",
              "       False,  True,  True, False, False, False, False,  True,  True,\n",
              "       False, False, False, False, False, False, False, False,  True,\n",
              "       False,  True,  True, False, False, False, False, False, False,\n",
              "        True,  True, False, False,  True, False,  True, False,  True,\n",
              "        True, False, False, False,  True,  True, False,  True,  True,\n",
              "        True, False,  True, False,  True, False, False, False, False,\n",
              "       False, False, False,  True, False, False, False, False])"
            ]
          },
          "metadata": {},
          "execution_count": 45
        }
      ]
    },
    {
      "cell_type": "code",
      "execution_count": 47,
      "metadata": {
        "id": "NmFR_JklWyXi",
        "outputId": "5a062474-c0b0-480f-bba0-ede72ce28964",
        "colab": {
          "base_uri": "https://localhost:8080/"
        }
      },
      "outputs": [
        {
          "output_type": "stream",
          "name": "stdout",
          "text": [
            "Test:\n",
            "\ttrue positive 0.3375\n",
            "\tfalse positive 0.0875\n",
            "\tfalse negative 0.0375\n",
            "\ttrue negative 0.5375\n",
            "Train:\n",
            "\ttrue positive 0.303125\n",
            "\tfalse positive 0.109375\n",
            "\tfalse negative 0.05\n",
            "\ttrue negative 0.5375\n"
          ]
        }
      ],
      "source": [
        "print('Test:')\n",
        "print('\\ttrue positive', np.mean((y_test == 1)*(h_test == 1)))\n",
        "print('\\tfalse positive', np.mean((y_test == 0)*(h_test == 1)))\n",
        "print('\\tfalse negative', np.mean((y_test == 1)*(h_test == 0)))\n",
        "print('\\ttrue negative', np.mean((y_test == 0)*(h_test == 0)))\n",
        "print('Train:')\n",
        "print('\\ttrue positive', np.mean((y_train == 1)*(h_train == 1)))\n",
        "print('\\tfalse positive', np.mean((y_train == 0)*(h_train == 1)))\n",
        "print('\\tfalse negative', np.mean((y_train == 1)*(h_train == 0)))\n",
        "print('\\ttrue negative', np.mean((y_train == 0)*(h_train == 0)))"
      ]
    },
    {
      "cell_type": "code",
      "source": [
        "# the threshold is 0.5\n",
        "h_train = clf.predict(X_train)\n",
        "clf.predict_proba(X_train)"
      ],
      "metadata": {
        "colab": {
          "base_uri": "https://localhost:8080/"
        },
        "id": "QyckrVjyUDpH",
        "outputId": "69b316bb-0480-4bdf-b740-f4c96435f78e"
      },
      "execution_count": 56,
      "outputs": [
        {
          "output_type": "execute_result",
          "data": {
            "text/plain": [
              "array([[6.69981261e-02, 9.33001874e-01],\n",
              "       [8.15281862e-02, 9.18471814e-01],\n",
              "       [4.80648321e-01, 5.19351679e-01],\n",
              "       [4.60040805e-01, 5.39959195e-01],\n",
              "       [8.25679031e-01, 1.74320969e-01],\n",
              "       [1.12531674e-03, 9.98874683e-01],\n",
              "       [2.99307092e-02, 9.70069291e-01],\n",
              "       [9.88917279e-01, 1.10827208e-02],\n",
              "       [5.86534913e-01, 4.13465087e-01],\n",
              "       [9.70516569e-01, 2.94834309e-02],\n",
              "       [1.94771326e-02, 9.80522867e-01],\n",
              "       [9.83057453e-01, 1.69425467e-02],\n",
              "       [9.07384918e-01, 9.26150822e-02],\n",
              "       [5.87632263e-01, 4.12367737e-01],\n",
              "       [8.83520928e-01, 1.16479072e-01],\n",
              "       [7.66635493e-01, 2.33364507e-01],\n",
              "       [9.47633581e-01, 5.23664194e-02],\n",
              "       [2.90567956e-02, 9.70943204e-01],\n",
              "       [1.19652096e-02, 9.88034790e-01],\n",
              "       [7.56715984e-03, 9.92432840e-01],\n",
              "       [1.26639619e-02, 9.87336038e-01],\n",
              "       [8.85839492e-01, 1.14160508e-01],\n",
              "       [9.93261219e-01, 6.73878130e-03],\n",
              "       [9.91706084e-01, 8.29391635e-03],\n",
              "       [2.74292735e-01, 7.25707265e-01],\n",
              "       [7.48094739e-01, 2.51905261e-01],\n",
              "       [4.72479944e-03, 9.95275201e-01],\n",
              "       [5.62580620e-02, 9.43741938e-01],\n",
              "       [1.48114950e-01, 8.51885050e-01],\n",
              "       [4.40730583e-01, 5.59269417e-01],\n",
              "       [1.37499758e-01, 8.62500242e-01],\n",
              "       [2.37278986e-01, 7.62721014e-01],\n",
              "       [4.31155192e-01, 5.68844808e-01],\n",
              "       [9.66310440e-01, 3.36895605e-02],\n",
              "       [9.54778024e-01, 4.52219760e-02],\n",
              "       [8.30732875e-01, 1.69267125e-01],\n",
              "       [3.68278371e-01, 6.31721629e-01],\n",
              "       [9.91804291e-01, 8.19570908e-03],\n",
              "       [9.98029045e-01, 1.97095466e-03],\n",
              "       [9.44035303e-01, 5.59646969e-02],\n",
              "       [3.09559473e-02, 9.69044053e-01],\n",
              "       [8.05549480e-01, 1.94450520e-01],\n",
              "       [4.89128554e-01, 5.10871446e-01],\n",
              "       [4.69923457e-01, 5.30076543e-01],\n",
              "       [2.48999648e-01, 7.51000352e-01],\n",
              "       [5.05559906e-01, 4.94440094e-01],\n",
              "       [8.30908194e-01, 1.69091806e-01],\n",
              "       [5.79517756e-02, 9.42048224e-01],\n",
              "       [5.70814056e-01, 4.29185944e-01],\n",
              "       [5.69783723e-01, 4.30216277e-01],\n",
              "       [9.90196908e-01, 9.80309198e-03],\n",
              "       [7.28291926e-01, 2.71708074e-01],\n",
              "       [3.04870891e-01, 6.95129109e-01],\n",
              "       [6.09130523e-02, 9.39086948e-01],\n",
              "       [1.16792749e-01, 8.83207251e-01],\n",
              "       [2.41103599e-01, 7.58896401e-01],\n",
              "       [2.52479420e-01, 7.47520580e-01],\n",
              "       [5.30213505e-01, 4.69786495e-01],\n",
              "       [6.03276058e-01, 3.96723942e-01],\n",
              "       [1.04807846e-02, 9.89519215e-01],\n",
              "       [6.58655375e-01, 3.41344625e-01],\n",
              "       [5.47878010e-02, 9.45212199e-01],\n",
              "       [9.84607355e-01, 1.53926450e-02],\n",
              "       [4.55637926e-01, 5.44362074e-01],\n",
              "       [6.27055386e-01, 3.72944614e-01],\n",
              "       [4.12461374e-03, 9.95875386e-01],\n",
              "       [9.81314655e-01, 1.86853454e-02],\n",
              "       [6.43620284e-01, 3.56379716e-01],\n",
              "       [6.02296284e-02, 9.39770372e-01],\n",
              "       [1.65028971e-01, 8.34971029e-01],\n",
              "       [5.62476881e-01, 4.37523119e-01],\n",
              "       [2.87637664e-03, 9.97123623e-01],\n",
              "       [9.94470010e-01, 5.52998986e-03],\n",
              "       [7.22772795e-01, 2.77227205e-01],\n",
              "       [9.81905003e-01, 1.80949972e-02],\n",
              "       [8.11244436e-01, 1.88755564e-01],\n",
              "       [4.36836233e-02, 9.56316377e-01],\n",
              "       [8.61196317e-01, 1.38803683e-01],\n",
              "       [7.07961280e-01, 2.92038720e-01],\n",
              "       [9.59149993e-01, 4.08500074e-02],\n",
              "       [3.83000079e-01, 6.16999921e-01],\n",
              "       [9.96032640e-01, 3.96736024e-03],\n",
              "       [6.73001883e-01, 3.26998117e-01],\n",
              "       [9.86965709e-01, 1.30342907e-02],\n",
              "       [9.54724221e-03, 9.90452758e-01],\n",
              "       [8.96151381e-01, 1.03848619e-01],\n",
              "       [6.85051720e-01, 3.14948280e-01],\n",
              "       [9.93036512e-01, 6.96348841e-03],\n",
              "       [9.85944070e-01, 1.40559304e-02],\n",
              "       [5.87139756e-01, 4.12860244e-01],\n",
              "       [5.69783723e-01, 4.30216277e-01],\n",
              "       [9.80021657e-01, 1.99783434e-02],\n",
              "       [2.41645089e-01, 7.58354911e-01],\n",
              "       [1.07657180e-01, 8.92342820e-01],\n",
              "       [5.65482137e-02, 9.43451786e-01],\n",
              "       [9.65119106e-01, 3.48808945e-02],\n",
              "       [7.89457913e-01, 2.10542087e-01],\n",
              "       [7.15250981e-01, 2.84749019e-01],\n",
              "       [2.81009320e-01, 7.18990680e-01],\n",
              "       [8.10741758e-01, 1.89258242e-01],\n",
              "       [8.56282445e-01, 1.43717555e-01],\n",
              "       [9.34654349e-01, 6.53456514e-02],\n",
              "       [9.48788129e-01, 5.12118714e-02],\n",
              "       [9.38628049e-01, 6.13719515e-02],\n",
              "       [5.96924153e-01, 4.03075847e-01],\n",
              "       [4.45301038e-01, 5.54698962e-01],\n",
              "       [8.92754425e-01, 1.07245575e-01],\n",
              "       [9.70516569e-01, 2.94834309e-02],\n",
              "       [1.76482015e-02, 9.82351798e-01],\n",
              "       [3.76873469e-01, 6.23126531e-01],\n",
              "       [7.07961280e-01, 2.92038720e-01],\n",
              "       [6.03762306e-01, 3.96237694e-01],\n",
              "       [2.31531288e-02, 9.76846871e-01],\n",
              "       [9.34778351e-01, 6.52216495e-02],\n",
              "       [9.94800683e-01, 5.19931657e-03],\n",
              "       [4.97695614e-01, 5.02304386e-01],\n",
              "       [4.30351066e-01, 5.69648934e-01],\n",
              "       [2.88334456e-02, 9.71166554e-01],\n",
              "       [9.94439948e-01, 5.56005226e-03],\n",
              "       [8.74170816e-02, 9.12582918e-01],\n",
              "       [7.27056066e-01, 2.72943934e-01],\n",
              "       [8.38428957e-01, 1.61571043e-01],\n",
              "       [4.65817893e-01, 5.34182107e-01],\n",
              "       [2.58922697e-03, 9.97410773e-01],\n",
              "       [3.38990374e-01, 6.61009626e-01],\n",
              "       [6.58094292e-01, 3.41905708e-01],\n",
              "       [5.12992641e-02, 9.48700736e-01],\n",
              "       [9.15586135e-01, 8.44138649e-02],\n",
              "       [8.92798700e-01, 1.07201300e-01],\n",
              "       [6.50981225e-01, 3.49018775e-01],\n",
              "       [9.30412487e-01, 6.95875132e-02],\n",
              "       [3.08949074e-01, 6.91050926e-01],\n",
              "       [6.28113379e-01, 3.71886621e-01],\n",
              "       [6.02740643e-02, 9.39725936e-01],\n",
              "       [9.27712374e-01, 7.22876255e-02],\n",
              "       [9.64216997e-01, 3.57830030e-02],\n",
              "       [9.93255964e-01, 6.74403620e-03],\n",
              "       [9.74876181e-01, 2.51238189e-02],\n",
              "       [8.95686144e-01, 1.04313856e-01],\n",
              "       [7.21614354e-01, 2.78385646e-01],\n",
              "       [9.84020439e-01, 1.59795613e-02],\n",
              "       [1.49695683e-01, 8.50304317e-01],\n",
              "       [9.88123967e-01, 1.18760327e-02],\n",
              "       [4.73653453e-01, 5.26346547e-01],\n",
              "       [7.55046091e-01, 2.44953909e-01],\n",
              "       [3.59265907e-01, 6.40734093e-01],\n",
              "       [2.64267770e-01, 7.35732230e-01],\n",
              "       [2.92201389e-02, 9.70779861e-01],\n",
              "       [6.42581303e-01, 3.57418697e-01],\n",
              "       [9.43505772e-01, 5.64942277e-02],\n",
              "       [9.88182374e-01, 1.18176265e-02],\n",
              "       [3.23156383e-01, 6.76843617e-01],\n",
              "       [6.10670106e-01, 3.89329894e-01],\n",
              "       [4.24788612e-01, 5.75211388e-01],\n",
              "       [9.88158619e-01, 1.18413808e-02],\n",
              "       [8.16132222e-01, 1.83867778e-01],\n",
              "       [9.43572220e-01, 5.64277796e-02],\n",
              "       [9.95322300e-01, 4.67770049e-03],\n",
              "       [8.38829148e-01, 1.61170852e-01],\n",
              "       [5.81428908e-01, 4.18571092e-01],\n",
              "       [9.98273581e-01, 1.72641905e-03],\n",
              "       [5.23108633e-01, 4.76891367e-01],\n",
              "       [1.27788423e-01, 8.72211577e-01],\n",
              "       [3.43538622e-01, 6.56461378e-01],\n",
              "       [8.76178439e-01, 1.23821561e-01],\n",
              "       [9.89886787e-01, 1.01132126e-02],\n",
              "       [1.42396398e-03, 9.98576036e-01],\n",
              "       [9.10429007e-01, 8.95709934e-02],\n",
              "       [8.68066894e-01, 1.31933106e-01],\n",
              "       [6.17904409e-01, 3.82095591e-01],\n",
              "       [9.01890920e-01, 9.81090799e-02],\n",
              "       [7.53911008e-03, 9.92460890e-01],\n",
              "       [1.54697734e-02, 9.84530227e-01],\n",
              "       [5.63511308e-01, 4.36488692e-01],\n",
              "       [8.39608239e-01, 1.60391761e-01],\n",
              "       [5.13813549e-01, 4.86186451e-01],\n",
              "       [5.23730919e-01, 4.76269081e-01],\n",
              "       [3.98161216e-01, 6.01838784e-01],\n",
              "       [4.82320789e-01, 5.17679211e-01],\n",
              "       [2.85878491e-01, 7.14121509e-01],\n",
              "       [9.60347305e-01, 3.96526945e-02],\n",
              "       [8.72776334e-01, 1.27223666e-01],\n",
              "       [9.98150457e-01, 1.84954301e-03],\n",
              "       [9.81254428e-01, 1.87455723e-02],\n",
              "       [4.57299996e-01, 5.42700004e-01],\n",
              "       [9.21801026e-04, 9.99078199e-01],\n",
              "       [3.69041652e-01, 6.30958348e-01],\n",
              "       [3.84461613e-02, 9.61553839e-01],\n",
              "       [9.82361328e-01, 1.76386715e-02],\n",
              "       [7.54815326e-01, 2.45184674e-01],\n",
              "       [9.38745004e-01, 6.12549960e-02],\n",
              "       [6.58270852e-01, 3.41729148e-01],\n",
              "       [9.98486638e-01, 1.51336232e-03],\n",
              "       [4.16426356e-02, 9.58357364e-01],\n",
              "       [1.52128338e-01, 8.47871662e-01],\n",
              "       [9.93264314e-01, 6.73568618e-03],\n",
              "       [6.14462397e-03, 9.93855376e-01],\n",
              "       [3.98460145e-01, 6.01539855e-01],\n",
              "       [9.89978411e-01, 1.00215886e-02],\n",
              "       [8.86422107e-01, 1.13577893e-01],\n",
              "       [9.58873999e-01, 4.11260007e-02],\n",
              "       [9.41873712e-01, 5.81262882e-02],\n",
              "       [3.11435773e-02, 9.68856423e-01],\n",
              "       [6.60970912e-02, 9.33902909e-01],\n",
              "       [9.04531821e-01, 9.54681787e-02],\n",
              "       [7.60363289e-01, 2.39636711e-01],\n",
              "       [4.06514045e-01, 5.93485955e-01],\n",
              "       [1.31051607e-01, 8.68948393e-01],\n",
              "       [4.79714309e-01, 5.20285691e-01],\n",
              "       [9.83497947e-01, 1.65020534e-02],\n",
              "       [2.64600346e-01, 7.35399654e-01],\n",
              "       [1.41671522e-01, 8.58328478e-01],\n",
              "       [3.92133195e-01, 6.07866805e-01],\n",
              "       [4.16020631e-01, 5.83979369e-01],\n",
              "       [5.79302513e-01, 4.20697487e-01],\n",
              "       [9.37905588e-01, 6.20944123e-02],\n",
              "       [9.88070729e-01, 1.19292712e-02],\n",
              "       [9.88871104e-01, 1.11288960e-02],\n",
              "       [3.23156383e-01, 6.76843617e-01],\n",
              "       [8.73053074e-01, 1.26946926e-01],\n",
              "       [9.82274669e-01, 1.77253311e-02],\n",
              "       [3.98460145e-01, 6.01539855e-01],\n",
              "       [9.90281300e-01, 9.71870041e-03],\n",
              "       [8.92559708e-01, 1.07440292e-01],\n",
              "       [7.89665158e-01, 2.10334842e-01],\n",
              "       [9.95159981e-01, 4.84001867e-03],\n",
              "       [5.15486876e-01, 4.84513124e-01],\n",
              "       [4.22961021e-01, 5.77038979e-01],\n",
              "       [1.59962361e-01, 8.40037639e-01],\n",
              "       [7.60590488e-01, 2.39409512e-01],\n",
              "       [7.89042973e-01, 2.10957027e-01],\n",
              "       [1.70752731e-01, 8.29247269e-01],\n",
              "       [1.40462466e-01, 8.59537534e-01],\n",
              "       [4.89128554e-01, 5.10871446e-01],\n",
              "       [5.93608487e-03, 9.94063915e-01],\n",
              "       [9.94294290e-01, 5.70570994e-03],\n",
              "       [7.60733363e-01, 2.39266637e-01],\n",
              "       [7.57860821e-02, 9.24213918e-01],\n",
              "       [9.08285478e-01, 9.17145221e-02],\n",
              "       [5.79302513e-01, 4.20697487e-01],\n",
              "       [8.29566992e-01, 1.70433008e-01],\n",
              "       [9.85954941e-01, 1.40450587e-02],\n",
              "       [8.99381863e-01, 1.00618137e-01],\n",
              "       [2.78245556e-01, 7.21754444e-01],\n",
              "       [2.67676921e-01, 7.32323079e-01],\n",
              "       [6.58094292e-01, 3.41905708e-01],\n",
              "       [1.07897065e-01, 8.92102935e-01],\n",
              "       [9.18606286e-01, 8.13937141e-02],\n",
              "       [6.79514608e-01, 3.20485392e-01],\n",
              "       [8.93275281e-01, 1.06724719e-01],\n",
              "       [6.11263042e-01, 3.88736958e-01],\n",
              "       [1.36234135e-02, 9.86376586e-01],\n",
              "       [9.54939314e-01, 4.50606857e-02],\n",
              "       [9.76216942e-01, 2.37830584e-02],\n",
              "       [5.30524182e-01, 4.69475818e-01],\n",
              "       [7.22522799e-01, 2.77477201e-01],\n",
              "       [4.80336968e-01, 5.19663032e-01],\n",
              "       [9.07594346e-01, 9.24056536e-02],\n",
              "       [9.93916542e-01, 6.08345808e-03],\n",
              "       [3.82332749e-02, 9.61766725e-01],\n",
              "       [5.48517108e-01, 4.51482892e-01],\n",
              "       [3.12649448e-01, 6.87350552e-01],\n",
              "       [9.89878928e-01, 1.01210721e-02],\n",
              "       [3.99923320e-03, 9.96000767e-01],\n",
              "       [6.20366458e-01, 3.79633542e-01],\n",
              "       [8.64330193e-01, 1.35669807e-01],\n",
              "       [9.98539375e-01, 1.46062489e-03],\n",
              "       [1.86705234e-01, 8.13294766e-01],\n",
              "       [2.73580066e-02, 9.72641993e-01],\n",
              "       [4.98434888e-01, 5.01565112e-01],\n",
              "       [1.46138572e-02, 9.85386143e-01],\n",
              "       [9.86367211e-01, 1.36327891e-02],\n",
              "       [8.82877578e-01, 1.17122422e-01],\n",
              "       [9.90901045e-01, 9.09895502e-03],\n",
              "       [9.66310440e-01, 3.36895605e-02],\n",
              "       [3.14698060e-01, 6.85301940e-01],\n",
              "       [9.83464934e-01, 1.65350662e-02],\n",
              "       [9.76504821e-01, 2.34951792e-02],\n",
              "       [5.79910359e-01, 4.20089641e-01],\n",
              "       [9.90889792e-01, 9.11020785e-03],\n",
              "       [4.22961021e-01, 5.77038979e-01],\n",
              "       [4.05912334e-01, 5.94087666e-01],\n",
              "       [9.72260761e-01, 2.77392386e-02],\n",
              "       [9.10161217e-01, 8.98387826e-02],\n",
              "       [3.30974343e-01, 6.69025657e-01],\n",
              "       [9.53841485e-01, 4.61585155e-02],\n",
              "       [9.56202206e-01, 4.37977938e-02],\n",
              "       [9.76245884e-01, 2.37541163e-02],\n",
              "       [1.14642182e-01, 8.85357818e-01],\n",
              "       [9.85954941e-01, 1.40450587e-02],\n",
              "       [9.97058366e-01, 2.94163441e-03],\n",
              "       [5.45311688e-01, 4.54688312e-01],\n",
              "       [5.30558665e-02, 9.46944133e-01],\n",
              "       [9.48931623e-01, 5.10683769e-02],\n",
              "       [9.68410005e-01, 3.15899949e-02],\n",
              "       [7.54353356e-01, 2.45646644e-01],\n",
              "       [3.44278572e-01, 6.55721428e-01],\n",
              "       [1.40217305e-01, 8.59782695e-01],\n",
              "       [1.74400124e-01, 8.25599876e-01],\n",
              "       [2.78746815e-01, 7.21253185e-01],\n",
              "       [2.30828211e-01, 7.69171789e-01],\n",
              "       [4.71477238e-01, 5.28522762e-01],\n",
              "       [6.40791534e-03, 9.93592085e-01],\n",
              "       [3.01319598e-01, 6.98680402e-01],\n",
              "       [9.96413318e-01, 3.58668204e-03],\n",
              "       [8.48483882e-01, 1.51516118e-01],\n",
              "       [9.05350404e-01, 9.46495958e-02],\n",
              "       [4.62210397e-01, 5.37789603e-01],\n",
              "       [1.59685979e-02, 9.84031402e-01],\n",
              "       [7.55046091e-01, 2.44953909e-01],\n",
              "       [3.07520660e-01, 6.92479340e-01],\n",
              "       [5.63818080e-01, 4.36181920e-01],\n",
              "       [6.06147000e-01, 3.93853000e-01],\n",
              "       [5.24103474e-03, 9.94758965e-01],\n",
              "       [6.39997879e-03, 9.93600021e-01],\n",
              "       [7.29031756e-01, 2.70968244e-01],\n",
              "       [1.35150070e-01, 8.64849930e-01],\n",
              "       [2.67523110e-01, 7.32476890e-01],\n",
              "       [9.96957083e-01, 3.04291680e-03],\n",
              "       [5.10501052e-01, 4.89498948e-01]])"
            ]
          },
          "metadata": {},
          "execution_count": 56
        }
      ]
    },
    {
      "cell_type": "code",
      "source": [
        "# belonging to class1\n",
        "h_man = clf.predict_proba(X_train)[:, 1] > 0.5\n",
        "h_man"
      ],
      "metadata": {
        "colab": {
          "base_uri": "https://localhost:8080/"
        },
        "id": "vmYIDub5SNEv",
        "outputId": "7a97584f-6282-44ea-e683-1fc460b3e50e"
      },
      "execution_count": 57,
      "outputs": [
        {
          "output_type": "execute_result",
          "data": {
            "text/plain": [
              "array([ True,  True,  True,  True, False,  True,  True, False, False,\n",
              "       False,  True, False, False, False, False, False, False,  True,\n",
              "        True,  True,  True, False, False, False,  True, False,  True,\n",
              "        True,  True,  True,  True,  True,  True, False, False, False,\n",
              "        True, False, False, False,  True, False,  True,  True,  True,\n",
              "       False, False,  True, False, False, False, False,  True,  True,\n",
              "        True,  True,  True, False, False,  True, False,  True, False,\n",
              "        True, False,  True, False, False,  True,  True, False,  True,\n",
              "       False, False, False, False,  True, False, False, False,  True,\n",
              "       False, False, False,  True, False, False, False, False, False,\n",
              "       False, False,  True,  True,  True, False, False, False,  True,\n",
              "       False, False, False, False, False, False,  True, False, False,\n",
              "        True,  True, False, False,  True, False, False,  True,  True,\n",
              "        True, False,  True, False, False,  True,  True,  True, False,\n",
              "        True, False, False, False, False,  True, False,  True, False,\n",
              "       False, False, False, False, False, False,  True, False,  True,\n",
              "       False,  True,  True,  True, False, False, False,  True, False,\n",
              "        True, False, False, False, False, False, False, False, False,\n",
              "        True,  True, False, False,  True, False, False, False, False,\n",
              "        True,  True, False, False, False, False,  True,  True,  True,\n",
              "       False, False, False, False,  True,  True,  True,  True, False,\n",
              "       False, False, False, False,  True,  True, False,  True,  True,\n",
              "       False, False, False, False,  True,  True, False, False,  True,\n",
              "        True,  True, False,  True,  True,  True,  True, False, False,\n",
              "       False, False,  True, False, False,  True, False, False, False,\n",
              "       False, False,  True,  True, False, False,  True,  True,  True,\n",
              "        True, False, False,  True, False, False, False, False, False,\n",
              "        True,  True, False,  True, False, False, False, False,  True,\n",
              "       False, False, False, False,  True, False, False,  True, False,\n",
              "        True, False,  True, False, False, False,  True,  True,  True,\n",
              "        True, False, False, False, False,  True, False, False, False,\n",
              "       False,  True,  True, False, False,  True, False, False, False,\n",
              "        True, False, False, False,  True, False, False, False,  True,\n",
              "        True,  True,  True,  True,  True,  True,  True, False, False,\n",
              "       False,  True,  True, False,  True, False, False,  True,  True,\n",
              "       False,  True,  True, False, False])"
            ]
          },
          "metadata": {},
          "execution_count": 57
        }
      ]
    },
    {
      "cell_type": "code",
      "source": [
        "# these are the same\n",
        "np.mean(h_train == h_man)"
      ],
      "metadata": {
        "colab": {
          "base_uri": "https://localhost:8080/"
        },
        "id": "rnMDYfI_U_vU",
        "outputId": "d461b812-bacb-4e9a-bc90-5763fa975b87"
      },
      "execution_count": 58,
      "outputs": [
        {
          "output_type": "execute_result",
          "data": {
            "text/plain": [
              "1.0"
            ]
          },
          "metadata": {},
          "execution_count": 58
        }
      ]
    },
    {
      "cell_type": "code",
      "source": [
        "# u can't use range in for because the index can't be float but u can use arange to create list\n",
        "np.arange(0,1.001, 0.01)"
      ],
      "metadata": {
        "colab": {
          "base_uri": "https://localhost:8080/"
        },
        "id": "lhvwcgP-Wq1h",
        "outputId": "8a455b56-695c-425c-9d32-ba9515ed5a4c"
      },
      "execution_count": 62,
      "outputs": [
        {
          "output_type": "execute_result",
          "data": {
            "text/plain": [
              "array([0.  , 0.01, 0.02, 0.03, 0.04, 0.05, 0.06, 0.07, 0.08, 0.09, 0.1 ,\n",
              "       0.11, 0.12, 0.13, 0.14, 0.15, 0.16, 0.17, 0.18, 0.19, 0.2 , 0.21,\n",
              "       0.22, 0.23, 0.24, 0.25, 0.26, 0.27, 0.28, 0.29, 0.3 , 0.31, 0.32,\n",
              "       0.33, 0.34, 0.35, 0.36, 0.37, 0.38, 0.39, 0.4 , 0.41, 0.42, 0.43,\n",
              "       0.44, 0.45, 0.46, 0.47, 0.48, 0.49, 0.5 , 0.51, 0.52, 0.53, 0.54,\n",
              "       0.55, 0.56, 0.57, 0.58, 0.59, 0.6 , 0.61, 0.62, 0.63, 0.64, 0.65,\n",
              "       0.66, 0.67, 0.68, 0.69, 0.7 , 0.71, 0.72, 0.73, 0.74, 0.75, 0.76,\n",
              "       0.77, 0.78, 0.79, 0.8 , 0.81, 0.82, 0.83, 0.84, 0.85, 0.86, 0.87,\n",
              "       0.88, 0.89, 0.9 , 0.91, 0.92, 0.93, 0.94, 0.95, 0.96, 0.97, 0.98,\n",
              "       0.99, 1.  ])"
            ]
          },
          "metadata": {},
          "execution_count": 62
        }
      ]
    },
    {
      "cell_type": "code",
      "source": [
        "# we can change the threshold\n",
        "test_recalls = []\n",
        "test_precisions = []\n",
        "\n",
        "for th in np.arange(0,1, 0.01):\n",
        "  h_train = clf.predict_proba(X_train)[:, 1] > th\n",
        "  h_test = clf.predict_proba(X_test)[:, 1] > th\n",
        "\n",
        "  test_recalls.append(recall_score(y_test,h_test))\n",
        "  test_precisions.append(precision_score(y_test,h_test))\n",
        "\n",
        "  # print(\"test recall: \", recall_score(y_test,h_test))\n",
        "  # print(\"test precision: \", precision_score(y_test,h_test))\n",
        "\n",
        "  # print(\"train recall: \", recall_score(y_train,h_train))\n",
        "  # print(\"train precision: \", precision_score(y_train,h_train))\n",
        "\n",
        "plt.plot(np.arange(0,1, 0.01), test_recalls, 'r-', label=\"recall\")\n",
        "plt.plot(np.arange(0,1, 0.01), test_precisions, 'b-', label=\"precision\")\n",
        "plt.legend()\n",
        "\n",
        "# the precision and recall grow in opposite directions"
      ],
      "metadata": {
        "id": "8SbVuPmWVQCw",
        "colab": {
          "base_uri": "https://localhost:8080/",
          "height": 282
        },
        "outputId": "329fac35-c952-4eff-e164-0b68b7376b26"
      },
      "execution_count": 66,
      "outputs": [
        {
          "output_type": "execute_result",
          "data": {
            "text/plain": [
              "<matplotlib.legend.Legend at 0x7fd214a09ad0>"
            ]
          },
          "metadata": {},
          "execution_count": 66
        },
        {
          "output_type": "display_data",
          "data": {
            "text/plain": [
              "<Figure size 432x288 with 1 Axes>"
            ],
            "image/png": "[encoded data removed]"
          },
          "metadata": {
            "needs_background": "light"
          }
        }
      ]
    },
    {
      "cell_type": "markdown",
      "metadata": {
        "id": "tfU3MufCWyXj"
      },
      "source": [
        "# F1-score"
      ]
    },
    {
      "cell_type": "code",
      "execution_count": 42,
      "metadata": {
        "id": "6iYLTiGgWyXl",
        "outputId": "2c3dfb86-f178-4caa-d02f-05b9b9b7b26f",
        "colab": {
          "base_uri": "https://localhost:8080/"
        }
      },
      "outputs": [
        {
          "output_type": "stream",
          "name": "stdout",
          "text": [
            "test f1-score: 0.84375\n",
            "train f1-score: 0.7918367346938775\n"
          ]
        }
      ],
      "source": [
        "h_train = clf.predict(X_train)\n",
        "h_test = clf.predict(X_test)\n",
        "\n",
        "print('test f1-score:', f1_score(y_test, h_test))\n",
        "print('train f1-score:', f1_score(y_train, h_train))"
      ]
    },
    {
      "cell_type": "code",
      "source": [
        "# we can change the threshold\n",
        "test_recalls = []\n",
        "test_precisions = []\n",
        "test_f1 = []\n",
        "\n",
        "for th in np.arange(0,1, 0.01):\n",
        "  h_train = clf.predict_proba(X_train)[:, 1] > th\n",
        "  h_test = clf.predict_proba(X_test)[:, 1] > th\n",
        "\n",
        "  test_recalls.append(recall_score(y_test,h_test))\n",
        "  test_precisions.append(precision_score(y_test,h_test))\n",
        "  test_f1.append(f1_score(y_test,h_test))\n",
        "\n",
        "  # print(\"test recall: \", recall_score(y_test,h_test))\n",
        "  # print(\"test precision: \", precision_score(y_test,h_test))\n",
        "\n",
        "  # print(\"train recall: \", recall_score(y_train,h_train))\n",
        "  # print(\"train precision: \", precision_score(y_train,h_train))\n",
        "\n",
        "plt.plot(np.arange(0,1, 0.01), test_recalls, 'r-', label=\"recall\")\n",
        "plt.plot(np.arange(0,1, 0.01), test_precisions, 'b-', label=\"precision\")\n",
        "plt.plot(np.arange(0,1, 0.01), test_f1, 'g-', label=\"f1\")\n",
        "plt.legend()\n",
        "\n",
        "# f1 is harmonic average of precision and recall > we can find point that both of them are max > th=0.6 probably is good one"
      ],
      "metadata": {
        "colab": {
          "base_uri": "https://localhost:8080/",
          "height": 282
        },
        "id": "o9cX2ks1XZID",
        "outputId": "ee63c091-14fc-4c1a-9f70-bc6145c0a114"
      },
      "execution_count": 67,
      "outputs": [
        {
          "output_type": "execute_result",
          "data": {
            "text/plain": [
              "<matplotlib.legend.Legend at 0x7fd214a72750>"
            ]
          },
          "metadata": {},
          "execution_count": 67
        },
        {
          "output_type": "display_data",
          "data": {
            "text/plain": [
              "<Figure size 432x288 with 1 Axes>"
            ],
            "image/png": "[encoded data removed]"
          },
          "metadata": {
            "needs_background": "light"
          }
        }
      ]
    },
    {
      "cell_type": "markdown",
      "metadata": {
        "id": "H3hnverRWyXm"
      },
      "source": [
        "# ROC - AUC"
      ]
    },
    {
      "cell_type": "code",
      "execution_count": 71,
      "metadata": {
        "id": "V4wrJs1-WyXm",
        "outputId": "6543160f-42c2-4dde-bcce-01be92ab7088",
        "colab": {
          "base_uri": "https://localhost:8080/"
        }
      },
      "outputs": [
        {
          "output_type": "stream",
          "name": "stdout",
          "text": [
            "test ROC-AUC: 0.932\n",
            "train ROC-AUC: 0.9264888204865119\n"
          ]
        }
      ],
      "source": [
        "# change the threshold and find the TP and FP rate > like what we did\n",
        "# because of this loop unlike other metrics it needs the probability of classes not just classes\n",
        "# we need class 1 because more than threshold > the class is 1\n",
        "# we can't decide based on roc score > u have to compare it with others\n",
        "h_test = clf.predict_proba(X_test)[:, 1]\n",
        "h_train = clf.predict_proba(X_train)[:, 1]\n",
        "\n",
        "print('test ROC-AUC:', roc_auc_score(y_test, h_test))\n",
        "print('train ROC-AUC:', roc_auc_score(y_train, h_train))"
      ]
    },
    {
      "cell_type": "code",
      "execution_count": 75,
      "metadata": {
        "id": "awvPL3e4WyXn",
        "outputId": "b5e6eded-aaf7-49ff-fed2-bfd145b0237c",
        "colab": {
          "base_uri": "https://localhost:8080/"
        }
      },
      "outputs": [
        {
          "output_type": "stream",
          "name": "stdout",
          "text": [
            "0.932\n",
            "0.9300000000000002\n",
            "0.9239999999999999\n",
            "0.9306666666666668\n"
          ]
        }
      ],
      "source": [
        "# balanced is better\n",
        "models = [\n",
        "          LogisticRegression(class_weight='balanced'), \n",
        "          LogisticRegression(),\n",
        "          LogisticRegression(C=0.00001),\n",
        "          LogisticRegression(C=100000)\n",
        "          ]\n",
        "\n",
        "for model in models:\n",
        "    model.fit(X_train, y_train)\n",
        "    h_test = model.predict_proba(X_test)[:, 1]\n",
        "    \n",
        "    print(roc_auc_score(y_test, h_test))"
      ]
    },
    {
      "cell_type": "markdown",
      "source": [
        "# Learning Curve"
      ],
      "metadata": {
        "id": "JODU0YIGay-d"
      }
    },
    {
      "cell_type": "code",
      "execution_count": 80,
      "metadata": {
        "scrolled": true,
        "id": "AbF4mnSnWyXq"
      },
      "outputs": [],
      "source": [
        "clf = LogisticRegression(class_weight='balanced')\n",
        "\n",
        "# it doesn't need to first fit / train test splt / cv=cross validation\n",
        "# groups > u split the train and test datas \n",
        "# train_size > with what proportion of data it will train\n",
        "train_sizes, train_score, test_score = learning_curve(clf, X, y, cv=5)"
      ]
    },
    {
      "cell_type": "code",
      "source": [
        "train_sizes \n",
        "# the number of data that used to train"
      ],
      "metadata": {
        "colab": {
          "base_uri": "https://localhost:8080/"
        },
        "id": "XqQX89JSbvGN",
        "outputId": "0805c984-c7d4-4c12-de45-a571c3387f2b"
      },
      "execution_count": 82,
      "outputs": [
        {
          "output_type": "execute_result",
          "data": {
            "text/plain": [
              "array([ 32, 104, 176, 248, 320])"
            ]
          },
          "metadata": {},
          "execution_count": 82
        }
      ]
    },
    {
      "cell_type": "code",
      "source": [
        "train_score"
      ],
      "metadata": {
        "colab": {
          "base_uri": "https://localhost:8080/"
        },
        "id": "QhClLB9gb70F",
        "outputId": "2baa0394-265f-4f84-e58c-c13ef05a47f8"
      },
      "execution_count": 84,
      "outputs": [
        {
          "output_type": "execute_result",
          "data": {
            "text/plain": [
              "array([[0.34375   , 0.40625   , 0.40625   , 0.40625   , 0.40625   ],\n",
              "       [0.26923077, 0.86538462, 0.35576923, 0.35576923, 0.35576923],\n",
              "       [0.28977273, 0.28977273, 0.32954545, 0.31818182, 0.31818182],\n",
              "       [0.33064516, 0.33064516, 0.33064516, 0.35080645, 0.31048387],\n",
              "       [0.35625   , 0.35625   , 0.35625   , 0.359375  , 0.359375  ]])"
            ]
          },
          "metadata": {},
          "execution_count": 84
        }
      ]
    },
    {
      "cell_type": "code",
      "execution_count": 83,
      "metadata": {
        "id": "RtpY_SuTWyXr",
        "outputId": "9d34a310-724b-4ed3-904e-1d067c377560",
        "colab": {
          "base_uri": "https://localhost:8080/",
          "height": 282
        }
      },
      "outputs": [
        {
          "output_type": "execute_result",
          "data": {
            "text/plain": [
              "<matplotlib.legend.Legend at 0x7fd214791390>"
            ]
          },
          "metadata": {},
          "execution_count": 83
        },
        {
          "output_type": "display_data",
          "data": {
            "text/plain": [
              "<Figure size 432x288 with 1 Axes>"
            ],
            "image/png": "[encoded data removed]"
          },
          "metadata": {
            "needs_background": "light"
          }
        }
      ],
      "source": [
        "plt.plot(train_sizes, train_score.mean(axis=1), 'go-', label=\"train\")\n",
        "plt.plot(train_sizes, test_score.mean(axis=1), 'bo-', label=\"test\")\n",
        "plt.legend()"
      ]
    },
    {
      "cell_type": "code",
      "source": [
        "# learning curve with normalized data\n",
        "train_sizes, train_score, test_score = learning_curve(clf, X_train, y_train, cv=5,\n",
        "                                                      train_sizes=np.arange(0.1,1.1,0.1))\n",
        "\n",
        "plt.plot(train_sizes, train_score.mean(axis=1), 'go-', label=\"train\")\n",
        "plt.plot(train_sizes, test_score.mean(axis=1), 'bo-', label=\"test\")\n",
        "plt.legend()"
      ],
      "metadata": {
        "colab": {
          "base_uri": "https://localhost:8080/",
          "height": 282
        },
        "id": "zeXBXA7obmeC",
        "outputId": "8e9d04d3-eb81-479f-c849-247b78d56f1d"
      },
      "execution_count": 90,
      "outputs": [
        {
          "output_type": "execute_result",
          "data": {
            "text/plain": [
              "<matplotlib.legend.Legend at 0x7fd214771a50>"
            ]
          },
          "metadata": {},
          "execution_count": 90
        },
        {
          "output_type": "display_data",
          "data": {
            "text/plain": [
              "<Figure size 432x288 with 1 Axes>"
            ],
            "image/png": "[encoded data removed]"
          },
          "metadata": {
            "needs_background": "light"
          }
        }
      ]
    },
    {
      "cell_type": "code",
      "source": [],
      "metadata": {
        "id": "zk0X937JcQlY"
      },
      "execution_count": null,
      "outputs": []
    }
  ],
  "metadata": {
    "kernelspec": {
      "display_name": "Python 3",
      "language": "python",
      "name": "python3"
    },
    "language_info": {
      "codemirror_mode": {
        "name": "ipython",
        "version": 3
      },
      "file_extension": ".py",
      "mimetype": "text/x-python",
      "name": "python",
      "nbconvert_exporter": "python",
      "pygments_lexer": "ipython3",
      "version": "3.6.9"
    },
    "colab": {
      "provenance": [],
      "include_colab_link": true
    },
    "gpuClass": "standard"
  },
  "nbformat": 4,
  "nbformat_minor": 0
}