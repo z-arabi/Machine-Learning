{
  "cells": [
    {
      "cell_type": "markdown",
      "metadata": {
        "id": "view-in-github",
        "colab_type": "text"
      },
      "source": [
        "<a href=\"https://colab.research.google.com/github/z-arabi/Machine-Learning/blob/main/logistic_regression_3_performance_measurement.ipynb\" target=\"_parent\"><img src=\"https://colab.research.google.com/assets/colab-badge.svg\" alt=\"Open In Colab\"/></a>"
      ]
    },
    {
      "cell_type": "code",
      "source": [
        "!git clone https://github.com/z-arabi/Machine-Learning.git\n",
        "%cd Machine-Learning"
      ],
      "metadata": {
        "colab": {
          "base_uri": "https://localhost:8080/"
        },
        "id": "au45NcerW8kA",
        "outputId": "6aab969b-be2a-4d9c-8636-0de729646e08"
      },
      "execution_count": 1,
      "outputs": [
        {
          "output_type": "stream",
          "name": "stdout",
          "text": [
            "Cloning into 'Machine-Learning'...\n",
            "remote: Enumerating objects: 64, done.\u001b[K\n",
            "remote: Counting objects: 100% (64/64), done.\u001b[K\n",
            "remote: Compressing objects: 100% (60/60), done.\u001b[K\n",
            "remote: Total 64 (delta 25), reused 10 (delta 1), pack-reused 0\u001b[K\n",
            "Unpacking objects: 100% (64/64), done.\n",
            "/content/Machine-Learning\n"
          ]
        }
      ]
    },
    {
      "cell_type": "code",
      "execution_count": 2,
      "metadata": {
        "id": "AAKupHEaWyWk"
      },
      "outputs": [],
      "source": [
        "import pandas as pd\n",
        "import matplotlib.pyplot as plt\n",
        "import numpy as np\n",
        "%matplotlib inline\n",
        "\n",
        "from sklearn.linear_model import LogisticRegression\n",
        "# Learnig curve in sklearn is the old version\n",
        "from sklearn.model_selection import train_test_split, KFold, learning_curve\n",
        "from sklearn.metrics import accuracy_score, precision_score, recall_score, f1_score, roc_auc_score"
      ]
    },
    {
      "cell_type": "code",
      "execution_count": 3,
      "metadata": {
        "colab": {
          "base_uri": "https://localhost:8080/",
          "height": 206
        },
        "id": "O3ljBMNVWyWy",
        "outputId": "869f0ec8-2b81-4cbb-9bd7-0b9d7abac16c"
      },
      "outputs": [
        {
          "output_type": "execute_result",
          "data": {
            "text/plain": [
              "   Gender  Age  EstimatedSalary  Purchased\n",
              "0    Male   19            19000          0\n",
              "1    Male   35            20000          0\n",
              "2  Female   26            43000          0\n",
              "3  Female   27            57000          0\n",
              "4    Male   19            76000          0"
            ],
            "text/html": [
              "\n",
              "  <div id=\"df-beb98d4f-045f-4e80-8869-a41e9c315658\">\n",
              "    <div class=\"colab-df-container\">\n",
              "      <div>\n",
              "<style scoped>\n",
              "    .dataframe tbody tr th:only-of-type {\n",
              "        vertical-align: middle;\n",
              "    }\n",
              "\n",
              "    .dataframe tbody tr th {\n",
              "        vertical-align: top;\n",
              "    }\n",
              "\n",
              "    .dataframe thead th {\n",
              "        text-align: right;\n",
              "    }\n",
              "</style>\n",
              "<table border=\"1\" class=\"dataframe\">\n",
              "  <thead>\n",
              "    <tr style=\"text-align: right;\">\n",
              "      <th></th>\n",
              "      <th>Gender</th>\n",
              "      <th>Age</th>\n",
              "      <th>EstimatedSalary</th>\n",
              "      <th>Purchased</th>\n",
              "    </tr>\n",
              "  </thead>\n",
              "  <tbody>\n",
              "    <tr>\n",
              "      <th>0</th>\n",
              "      <td>Male</td>\n",
              "      <td>19</td>\n",
              "      <td>19000</td>\n",
              "      <td>0</td>\n",
              "    </tr>\n",
              "    <tr>\n",
              "      <th>1</th>\n",
              "      <td>Male</td>\n",
              "      <td>35</td>\n",
              "      <td>20000</td>\n",
              "      <td>0</td>\n",
              "    </tr>\n",
              "    <tr>\n",
              "      <th>2</th>\n",
              "      <td>Female</td>\n",
              "      <td>26</td>\n",
              "      <td>43000</td>\n",
              "      <td>0</td>\n",
              "    </tr>\n",
              "    <tr>\n",
              "      <th>3</th>\n",
              "      <td>Female</td>\n",
              "      <td>27</td>\n",
              "      <td>57000</td>\n",
              "      <td>0</td>\n",
              "    </tr>\n",
              "    <tr>\n",
              "      <th>4</th>\n",
              "      <td>Male</td>\n",
              "      <td>19</td>\n",
              "      <td>76000</td>\n",
              "      <td>0</td>\n",
              "    </tr>\n",
              "  </tbody>\n",
              "</table>\n",
              "</div>\n",
              "      <button class=\"colab-df-convert\" onclick=\"convertToInteractive('df-beb98d4f-045f-4e80-8869-a41e9c315658')\"\n",
              "              title=\"Convert this dataframe to an interactive table.\"\n",
              "              style=\"display:none;\">\n",
              "        \n",
              "  <svg xmlns=\"http://www.w3.org/2000/svg\" height=\"24px\"viewBox=\"0 0 24 24\"\n",
              "       width=\"24px\">\n",
              "    <path d=\"M0 0h24v24H0V0z\" fill=\"none\"/>\n",
              "    <path d=\"M18.56 5.44l.94 2.06.94-2.06 2.06-.94-2.06-.94-.94-2.06-.94 2.06-2.06.94zm-11 1L8.5 8.5l.94-2.06 2.06-.94-2.06-.94L8.5 2.5l-.94 2.06-2.06.94zm10 10l.94 2.06.94-2.06 2.06-.94-2.06-.94-.94-2.06-.94 2.06-2.06.94z\"/><path d=\"M17.41 7.96l-1.37-1.37c-.4-.4-.92-.59-1.43-.59-.52 0-1.04.2-1.43.59L10.3 9.45l-7.72 7.72c-.78.78-.78 2.05 0 2.83L4 21.41c.39.39.9.59 1.41.59.51 0 1.02-.2 1.41-.59l7.78-7.78 2.81-2.81c.8-.78.8-2.07 0-2.86zM5.41 20L4 18.59l7.72-7.72 1.47 1.35L5.41 20z\"/>\n",
              "  </svg>\n",
              "      </button>\n",
              "      \n",
              "  <style>\n",
              "    .colab-df-container {\n",
              "      display:flex;\n",
              "      flex-wrap:wrap;\n",
              "      gap: 12px;\n",
              "    }\n",
              "\n",
              "    .colab-df-convert {\n",
              "      background-color: #E8F0FE;\n",
              "      border: none;\n",
              "      border-radius: 50%;\n",
              "      cursor: pointer;\n",
              "      display: none;\n",
              "      fill: #1967D2;\n",
              "      height: 32px;\n",
              "      padding: 0 0 0 0;\n",
              "      width: 32px;\n",
              "    }\n",
              "\n",
              "    .colab-df-convert:hover {\n",
              "      background-color: #E2EBFA;\n",
              "      box-shadow: 0px 1px 2px rgba(60, 64, 67, 0.3), 0px 1px 3px 1px rgba(60, 64, 67, 0.15);\n",
              "      fill: #174EA6;\n",
              "    }\n",
              "\n",
              "    [theme=dark] .colab-df-convert {\n",
              "      background-color: #3B4455;\n",
              "      fill: #D2E3FC;\n",
              "    }\n",
              "\n",
              "    [theme=dark] .colab-df-convert:hover {\n",
              "      background-color: #434B5C;\n",
              "      box-shadow: 0px 1px 3px 1px rgba(0, 0, 0, 0.15);\n",
              "      filter: drop-shadow(0px 1px 2px rgba(0, 0, 0, 0.3));\n",
              "      fill: #FFFFFF;\n",
              "    }\n",
              "  </style>\n",
              "\n",
              "      <script>\n",
              "        const buttonEl =\n",
              "          document.querySelector('#df-beb98d4f-045f-4e80-8869-a41e9c315658 button.colab-df-convert');\n",
              "        buttonEl.style.display =\n",
              "          google.colab.kernel.accessAllowed ? 'block' : 'none';\n",
              "\n",
              "        async function convertToInteractive(key) {\n",
              "          const element = document.querySelector('#df-beb98d4f-045f-4e80-8869-a41e9c315658');\n",
              "          const dataTable =\n",
              "            await google.colab.kernel.invokeFunction('convertToInteractive',\n",
              "                                                     [key], {});\n",
              "          if (!dataTable) return;\n",
              "\n",
              "          const docLinkHtml = 'Like what you see? Visit the ' +\n",
              "            '<a target=\"_blank\" href=https://colab.research.google.com/notebooks/data_table.ipynb>data table notebook</a>'\n",
              "            + ' to learn more about interactive tables.';\n",
              "          element.innerHTML = '';\n",
              "          dataTable['output_type'] = 'display_data';\n",
              "          await google.colab.output.renderOutput(dataTable, element);\n",
              "          const docLink = document.createElement('div');\n",
              "          docLink.innerHTML = docLinkHtml;\n",
              "          element.appendChild(docLink);\n",
              "        }\n",
              "      </script>\n",
              "    </div>\n",
              "  </div>\n",
              "  "
            ]
          },
          "metadata": {},
          "execution_count": 3
        }
      ],
      "source": [
        "df = pd.read_csv('./Datasets/Social_Network_Ads.csv')\n",
        "\n",
        "df.drop('User ID', axis=1, inplace=True)\n",
        "df.head(5)"
      ]
    },
    {
      "cell_type": "code",
      "execution_count": 4,
      "metadata": {
        "id": "ZDO6Ks7fWyW5"
      },
      "outputs": [],
      "source": [
        "# rather than giving df, columns > df.Gender for one series of the column\n",
        "# in this way the place of columns doesn't chane\n",
        "df.Gender = pd.get_dummies(df.Gender, drop_first=True)"
      ]
    },
    {
      "cell_type": "code",
      "source": [
        "df.head()"
      ],
      "metadata": {
        "colab": {
          "base_uri": "https://localhost:8080/",
          "height": 206
        },
        "id": "XZGQomC6XJ3x",
        "outputId": "65df8091-52e3-4524-8e4e-006b6871a945"
      },
      "execution_count": 5,
      "outputs": [
        {
          "output_type": "execute_result",
          "data": {
            "text/plain": [
              "   Gender  Age  EstimatedSalary  Purchased\n",
              "0       1   19            19000          0\n",
              "1       1   35            20000          0\n",
              "2       0   26            43000          0\n",
              "3       0   27            57000          0\n",
              "4       1   19            76000          0"
            ],
            "text/html": [
              "\n",
              "  <div id=\"df-8eded13e-23cb-42c1-b2b2-2b49a04ee4e3\">\n",
              "    <div class=\"colab-df-container\">\n",
              "      <div>\n",
              "<style scoped>\n",
              "    .dataframe tbody tr th:only-of-type {\n",
              "        vertical-align: middle;\n",
              "    }\n",
              "\n",
              "    .dataframe tbody tr th {\n",
              "        vertical-align: top;\n",
              "    }\n",
              "\n",
              "    .dataframe thead th {\n",
              "        text-align: right;\n",
              "    }\n",
              "</style>\n",
              "<table border=\"1\" class=\"dataframe\">\n",
              "  <thead>\n",
              "    <tr style=\"text-align: right;\">\n",
              "      <th></th>\n",
              "      <th>Gender</th>\n",
              "      <th>Age</th>\n",
              "      <th>EstimatedSalary</th>\n",
              "      <th>Purchased</th>\n",
              "    </tr>\n",
              "  </thead>\n",
              "  <tbody>\n",
              "    <tr>\n",
              "      <th>0</th>\n",
              "      <td>1</td>\n",
              "      <td>19</td>\n",
              "      <td>19000</td>\n",
              "      <td>0</td>\n",
              "    </tr>\n",
              "    <tr>\n",
              "      <th>1</th>\n",
              "      <td>1</td>\n",
              "      <td>35</td>\n",
              "      <td>20000</td>\n",
              "      <td>0</td>\n",
              "    </tr>\n",
              "    <tr>\n",
              "      <th>2</th>\n",
              "      <td>0</td>\n",
              "      <td>26</td>\n",
              "      <td>43000</td>\n",
              "      <td>0</td>\n",
              "    </tr>\n",
              "    <tr>\n",
              "      <th>3</th>\n",
              "      <td>0</td>\n",
              "      <td>27</td>\n",
              "      <td>57000</td>\n",
              "      <td>0</td>\n",
              "    </tr>\n",
              "    <tr>\n",
              "      <th>4</th>\n",
              "      <td>1</td>\n",
              "      <td>19</td>\n",
              "      <td>76000</td>\n",
              "      <td>0</td>\n",
              "    </tr>\n",
              "  </tbody>\n",
              "</table>\n",
              "</div>\n",
              "      <button class=\"colab-df-convert\" onclick=\"convertToInteractive('df-8eded13e-23cb-42c1-b2b2-2b49a04ee4e3')\"\n",
              "              title=\"Convert this dataframe to an interactive table.\"\n",
              "              style=\"display:none;\">\n",
              "        \n",
              "  <svg xmlns=\"http://www.w3.org/2000/svg\" height=\"24px\"viewBox=\"0 0 24 24\"\n",
              "       width=\"24px\">\n",
              "    <path d=\"M0 0h24v24H0V0z\" fill=\"none\"/>\n",
              "    <path d=\"M18.56 5.44l.94 2.06.94-2.06 2.06-.94-2.06-.94-.94-2.06-.94 2.06-2.06.94zm-11 1L8.5 8.5l.94-2.06 2.06-.94-2.06-.94L8.5 2.5l-.94 2.06-2.06.94zm10 10l.94 2.06.94-2.06 2.06-.94-2.06-.94-.94-2.06-.94 2.06-2.06.94z\"/><path d=\"M17.41 7.96l-1.37-1.37c-.4-.4-.92-.59-1.43-.59-.52 0-1.04.2-1.43.59L10.3 9.45l-7.72 7.72c-.78.78-.78 2.05 0 2.83L4 21.41c.39.39.9.59 1.41.59.51 0 1.02-.2 1.41-.59l7.78-7.78 2.81-2.81c.8-.78.8-2.07 0-2.86zM5.41 20L4 18.59l7.72-7.72 1.47 1.35L5.41 20z\"/>\n",
              "  </svg>\n",
              "      </button>\n",
              "      \n",
              "  <style>\n",
              "    .colab-df-container {\n",
              "      display:flex;\n",
              "      flex-wrap:wrap;\n",
              "      gap: 12px;\n",
              "    }\n",
              "\n",
              "    .colab-df-convert {\n",
              "      background-color: #E8F0FE;\n",
              "      border: none;\n",
              "      border-radius: 50%;\n",
              "      cursor: pointer;\n",
              "      display: none;\n",
              "      fill: #1967D2;\n",
              "      height: 32px;\n",
              "      padding: 0 0 0 0;\n",
              "      width: 32px;\n",
              "    }\n",
              "\n",
              "    .colab-df-convert:hover {\n",
              "      background-color: #E2EBFA;\n",
              "      box-shadow: 0px 1px 2px rgba(60, 64, 67, 0.3), 0px 1px 3px 1px rgba(60, 64, 67, 0.15);\n",
              "      fill: #174EA6;\n",
              "    }\n",
              "\n",
              "    [theme=dark] .colab-df-convert {\n",
              "      background-color: #3B4455;\n",
              "      fill: #D2E3FC;\n",
              "    }\n",
              "\n",
              "    [theme=dark] .colab-df-convert:hover {\n",
              "      background-color: #434B5C;\n",
              "      box-shadow: 0px 1px 3px 1px rgba(0, 0, 0, 0.15);\n",
              "      filter: drop-shadow(0px 1px 2px rgba(0, 0, 0, 0.3));\n",
              "      fill: #FFFFFF;\n",
              "    }\n",
              "  </style>\n",
              "\n",
              "      <script>\n",
              "        const buttonEl =\n",
              "          document.querySelector('#df-8eded13e-23cb-42c1-b2b2-2b49a04ee4e3 button.colab-df-convert');\n",
              "        buttonEl.style.display =\n",
              "          google.colab.kernel.accessAllowed ? 'block' : 'none';\n",
              "\n",
              "        async function convertToInteractive(key) {\n",
              "          const element = document.querySelector('#df-8eded13e-23cb-42c1-b2b2-2b49a04ee4e3');\n",
              "          const dataTable =\n",
              "            await google.colab.kernel.invokeFunction('convertToInteractive',\n",
              "                                                     [key], {});\n",
              "          if (!dataTable) return;\n",
              "\n",
              "          const docLinkHtml = 'Like what you see? Visit the ' +\n",
              "            '<a target=\"_blank\" href=https://colab.research.google.com/notebooks/data_table.ipynb>data table notebook</a>'\n",
              "            + ' to learn more about interactive tables.';\n",
              "          element.innerHTML = '';\n",
              "          dataTable['output_type'] = 'display_data';\n",
              "          await google.colab.output.renderOutput(dataTable, element);\n",
              "          const docLink = document.createElement('div');\n",
              "          docLink.innerHTML = docLinkHtml;\n",
              "          element.appendChild(docLink);\n",
              "        }\n",
              "      </script>\n",
              "    </div>\n",
              "  </div>\n",
              "  "
            ]
          },
          "metadata": {},
          "execution_count": 5
        }
      ]
    },
    {
      "cell_type": "code",
      "execution_count": 6,
      "metadata": {
        "id": "9452W4hIWyW8"
      },
      "outputs": [],
      "source": [
        "X = df.to_numpy()"
      ]
    },
    {
      "cell_type": "code",
      "source": [
        "# random arrange\n",
        "print(X.shape[0])\n",
        "np.random.permutation(5)"
      ],
      "metadata": {
        "colab": {
          "base_uri": "https://localhost:8080/"
        },
        "id": "iECAbmSkYhh-",
        "outputId": "f14753ce-b7e8-44ef-9d0c-adb3e5ff2973"
      },
      "execution_count": 7,
      "outputs": [
        {
          "output_type": "stream",
          "name": "stdout",
          "text": [
            "400\n"
          ]
        },
        {
          "output_type": "execute_result",
          "data": {
            "text/plain": [
              "array([3, 1, 0, 2, 4])"
            ]
          },
          "metadata": {},
          "execution_count": 7
        }
      ]
    },
    {
      "cell_type": "code",
      "execution_count": 8,
      "metadata": {
        "id": "7EU7qI7BWyXA"
      },
      "outputs": [],
      "source": [
        "# now we want to shuffle the data > change the place of rows > change the indexes\n",
        "np.random.seed = 0\n",
        "X = X[np.random.permutation(X.shape[0])]\n",
        "\n",
        "######################################\n",
        "# 2. inplace changes occur\n",
        "np.random.shuffle(X)"
      ]
    },
    {
      "cell_type": "code",
      "execution_count": 9,
      "metadata": {
        "id": "51C4TSsjWyXB"
      },
      "outputs": [],
      "source": [
        "y = X[:, -1]\n",
        "X = X[:, :-1]"
      ]
    },
    {
      "cell_type": "code",
      "source": [
        "# without this I couldn't get the score more than 0.62 > now=0.85\n",
        "X = (X - X.mean(axis=0)) / X.std(axis=0)"
      ],
      "metadata": {
        "id": "dq1OQpdcbHh-"
      },
      "execution_count": 10,
      "outputs": []
    },
    {
      "cell_type": "markdown",
      "metadata": {
        "id": "B8JFf9IiWyXD"
      },
      "source": [
        "# KFold"
      ]
    },
    {
      "cell_type": "code",
      "source": [
        "data_split = KFold(n_splits=5)\n",
        "data_split\n",
        "\n",
        "# data_split.split() > returns tuple > (train_inx, val_inx)"
      ],
      "metadata": {
        "colab": {
          "base_uri": "https://localhost:8080/"
        },
        "id": "T7-NVUaOZS_C",
        "outputId": "bdfe63a6-1623-43d9-a710-7f013b7c281a"
      },
      "execution_count": 11,
      "outputs": [
        {
          "output_type": "execute_result",
          "data": {
            "text/plain": [
              "KFold(n_splits=5, random_state=None, shuffle=False)"
            ]
          },
          "metadata": {},
          "execution_count": 11
        }
      ]
    },
    {
      "cell_type": "code",
      "execution_count": 12,
      "metadata": {
        "scrolled": false,
        "colab": {
          "base_uri": "https://localhost:8080/",
          "height": 278
        },
        "id": "Pqw28WjXWyXI",
        "outputId": "a489fea5-ebe2-4b92-c4ee-a189714794cb"
      },
      "outputs": [
        {
          "output_type": "stream",
          "name": "stdout",
          "text": [
            "320 80\n",
            "train acc = 0.853125 \tval acc = 0.875\n",
            "320 80\n",
            "train acc = 0.8625 \tval acc = 0.8125\n",
            "320 80\n",
            "train acc = 0.840625 \tval acc = 0.825\n",
            "320 80\n",
            "train acc = 0.85 \tval acc = 0.8625\n",
            "320 80\n",
            "train acc = 0.8375 \tval acc = 0.8625\n",
            "the train score average 0.8487500000000001\n",
            "the validation score average 0.8474999999999999\n"
          ]
        },
        {
          "output_type": "execute_result",
          "data": {
            "text/plain": [
              "\"\\nwe can see the different outputs > decide better overfit or not > the model is ok\\nbecause in each shuffle maybe we choose the simpler data as train and harder data for validation\\nso with one time of training we can't for sure conclude\\n\\nwith normalization the scores will be better for sure\\nwhy for sure > because we have estimate salary and age > two cols ranges are way different\\n\""
            ],
            "application/vnd.google.colaboratory.intrinsic+json": {
              "type": "string"
            }
          },
          "metadata": {},
          "execution_count": 12
        }
      ],
      "source": [
        "# this should be x and y train\n",
        "train_score = 0\n",
        "val_score = 0\n",
        "for train_inx, val_idx in data_split.split(X, y):\n",
        "    print(len(train_inx), len(val_idx))\n",
        "    clf = LogisticRegression()\n",
        "    clf.fit(X[train_inx], y[train_inx])\n",
        "    print('train acc =', clf.score(X[train_inx], y[train_inx]), \n",
        "          '\\tval acc =', clf.score(X[val_idx], y[val_idx]))\n",
        "    train_score += clf.score(X[train_inx], y[train_inx])\n",
        "    val_score += clf.score(X[val_idx], y[val_idx])\n",
        "\n",
        "print('the train score average', train_score/data_split.n_splits)\n",
        "print('the validation score average', val_score/data_split.n_splits)\n",
        "\n",
        "'''\n",
        "we can see the different outputs > decide better overfit or not > the model is ok\n",
        "because in each shuffle maybe we choose the simpler data as train and harder data for validation\n",
        "so with one time of training we can't for sure conclude\n",
        "\n",
        "with normalization the scores will be better for sure\n",
        "why for sure > because we have estimate salary and age > two cols ranges are way different\n",
        "'''"
      ]
    },
    {
      "cell_type": "code",
      "source": [
        "'''\n",
        "we want to overfit the model\n",
        "for having polynomial features > 1. hstack(X,X**2,X**3) 2. Polynomial\n",
        "\n",
        "x = np.arange(-10, 30, 1).reshape(-1, 1)\n",
        "x_6 = np.hstack((x,x**2,x**3,x**4,x**5,x**6)) > just these degrees\n",
        "\n",
        "polynomial > creates all of the sentences up to degree n > from 0 to n\n",
        "form [a, b], the degree-2 polynomial features are [1, a, b, a^2, ab, b^2]\n",
        "abc > 1 a b c a2 b2 c2 ab bc ac a3 b3 c3 abc a2b a2c b2c c2a c2b abc > 20\n",
        "'''\n",
        "from sklearn.preprocessing import PolynomialFeatures\n",
        "\n",
        "polynomial = PolynomialFeatures(degree=6)\n",
        "# fit > train/adjust\n",
        "# transfrom > predict\n",
        "# fit_transform > fit + predict > the input of all of the functions are based on the type whether they need y or not > if needed we have to pass the y too\n",
        "X_poly = polynomial.fit_transform(X)\n",
        "print(X.shape,X_poly.shape)"
      ],
      "metadata": {
        "id": "enN0cZRzt8vs",
        "colab": {
          "base_uri": "https://localhost:8080/"
        },
        "outputId": "0cd4336e-fb7f-4032-af55-872ea5bc51cb"
      },
      "execution_count": 13,
      "outputs": [
        {
          "output_type": "stream",
          "name": "stdout",
          "text": [
            "(400, 3) (400, 84)\n"
          ]
        }
      ]
    },
    {
      "cell_type": "code",
      "source": [
        "train_score = 0\n",
        "val_score = 0\n",
        "for train_inx, val_idx in data_split.split(X, y):\n",
        "    print(len(train_inx), len(val_idx))\n",
        "    clf = LogisticRegression(max_iter=100000)\n",
        "    clf.fit(X_poly[train_inx], y[train_inx])\n",
        "    print('train acc =', clf.score(X_poly[train_inx], y[train_inx]), \n",
        "          '\\tval acc =', clf.score(X_poly[val_idx], y[val_idx]))\n",
        "    train_score += clf.score(X_poly[train_inx], y[train_inx])\n",
        "    val_score += clf.score(X_poly[val_idx], y[val_idx])\n",
        "\n",
        "print('the train score average', train_score/data_split.n_splits)\n",
        "print('the validation score average', val_score/data_split.n_splits)\n",
        "\n",
        "# 1 or 2 percentage error is ok but more than that is not\n",
        "# train = 90 and validation = 90 is ok > how to know whether your model is overfitting > train acc + validation acc"
      ],
      "metadata": {
        "colab": {
          "base_uri": "https://localhost:8080/"
        },
        "id": "QqkS6_cirQdz",
        "outputId": "34af2ccb-23c0-4192-9a0b-74ae220751e6"
      },
      "execution_count": 14,
      "outputs": [
        {
          "output_type": "stream",
          "name": "stdout",
          "text": [
            "320 80\n",
            "train acc = 0.925 \tval acc = 0.8625\n",
            "320 80\n",
            "train acc = 0.928125 \tval acc = 0.8625\n",
            "320 80\n",
            "train acc = 0.921875 \tval acc = 0.9125\n",
            "320 80\n",
            "train acc = 0.934375 \tval acc = 0.8875\n",
            "320 80\n",
            "train acc = 0.90625 \tval acc = 0.925\n",
            "the train score average 0.923125\n",
            "the validation score average 0.89\n"
          ]
        }
      ]
    },
    {
      "cell_type": "code",
      "source": [
        "# now we have overfitted model > we can solve it by adding regularization\n",
        "# they use regularization by default > l2 and c=1 > in log reg > 1/c \n",
        "\n",
        "train_score = 0\n",
        "val_score = 0\n",
        "for train_inx, val_idx in data_split.split(X, y):\n",
        "    clf = LogisticRegression(max_iter=100000, C=100) # more overfit\n",
        "    clf.fit(X_poly[train_inx], y[train_inx])\n",
        "    # print('train acc =', clf.score(X_poly[train_inx], y[train_inx]), \n",
        "    #       '\\tval acc =', clf.score(X_poly[val_idx], y[val_idx]))\n",
        "    train_score += clf.score(X_poly[train_inx], y[train_inx])\n",
        "    val_score += clf.score(X_poly[val_idx], y[val_idx])\n",
        "\n",
        "print('the train score average', train_score/data_split.n_splits)\n",
        "print('the validation score average', val_score/data_split.n_splits)"
      ],
      "metadata": {
        "colab": {
          "base_uri": "https://localhost:8080/"
        },
        "id": "MTSziaADaTR8",
        "outputId": "4d329682-eedb-4ec3-a2ac-f912fc1c9dcb"
      },
      "execution_count": 15,
      "outputs": [
        {
          "output_type": "stream",
          "name": "stdout",
          "text": [
            "the train score average 0.93625\n",
            "the validation score average 0.8450000000000001\n"
          ]
        }
      ]
    },
    {
      "cell_type": "code",
      "source": [
        "train_score = 0\n",
        "val_score = 0\n",
        "for train_inx, val_idx in data_split.split(X, y):\n",
        "    clf = LogisticRegression(max_iter=1000000, C=5e-5) # underfit model\n",
        "    clf.fit(X_poly[train_inx], y[train_inx])\n",
        "    # print('train acc =', clf.score(X_poly[train_inx], y[train_inx]), \n",
        "    #       '\\tval acc =', clf.score(X_poly[val_idx], y[val_idx]))\n",
        "    train_score += clf.score(X_poly[train_inx], y[train_inx])\n",
        "    val_score += clf.score(X_poly[val_idx], y[val_idx])\n",
        "print('the train score average', train_score/data_split.n_splits)\n",
        "print('the validation score average', val_score/data_split.n_splits)"
      ],
      "metadata": {
        "colab": {
          "base_uri": "https://localhost:8080/"
        },
        "id": "EA2a8kArbZSj",
        "outputId": "b2ea1b86-e07d-457d-d1dc-34065f9e3163"
      },
      "execution_count": 16,
      "outputs": [
        {
          "output_type": "stream",
          "name": "stdout",
          "text": [
            "the train score average 0.7575000000000001\n",
            "the validation score average 0.7525000000000001\n"
          ]
        }
      ]
    },
    {
      "cell_type": "code",
      "source": [
        "'''\n",
        "the penalty parameter in the function > we have only l2 > C > 1/C > solver: lbfgs\n",
        "the penalty l1 > change the solver\n",
        "use lasso regression for l1\n",
        "GD > j=j-alpha*derivative\n",
        "solvers > Each solver tries to find the parameter weights that minimize a cost function.\n",
        "j'=j+alpha*(Wi**2)\n",
        "\n",
        "improve the term of regularization > more underfit\n",
        "decrease the term of regularization > more overfit\n",
        "\n",
        "https://towardsdatascience.com/dont-sweat-the-solver-stuff-aea7cddc3451\n",
        "\n",
        "Lasso regression changes are not to sensible regarding to the ridge regression\n",
        "'''\n",
        "train_score = 0\n",
        "val_score = 0\n",
        "for train_inx, val_idx in data_split.split(X, y):\n",
        "    clf = LogisticRegression(max_iter=1000, penalty='l1', solver=\"saga\", C=100000) # more overfit\n",
        "    clf.fit(X_poly[train_inx], y[train_inx])\n",
        "    # print('train acc =', clf.score(X_poly[train_inx], y[train_inx]), \n",
        "    #       '\\tval acc =', clf.score(X_poly[val_idx], y[val_idx]))\n",
        "    train_score += clf.score(X_poly[train_inx], y[train_inx])\n",
        "    val_score += clf.score(X_poly[val_idx], y[val_idx])\n",
        "\n",
        "print('the train score average', train_score/data_split.n_splits)\n",
        "print('the validation score average', val_score/data_split.n_splits)"
      ],
      "metadata": {
        "colab": {
          "base_uri": "https://localhost:8080/"
        },
        "id": "ZUYc8Shvb5iN",
        "outputId": "00409897-15f3-4356-84af-9aabb504d55f"
      },
      "execution_count": 17,
      "outputs": [
        {
          "output_type": "stream",
          "name": "stderr",
          "text": [
            "/usr/local/lib/python3.7/dist-packages/sklearn/linear_model/_sag.py:354: ConvergenceWarning: The max_iter was reached which means the coef_ did not converge\n",
            "  ConvergenceWarning,\n",
            "/usr/local/lib/python3.7/dist-packages/sklearn/linear_model/_sag.py:354: ConvergenceWarning: The max_iter was reached which means the coef_ did not converge\n",
            "  ConvergenceWarning,\n",
            "/usr/local/lib/python3.7/dist-packages/sklearn/linear_model/_sag.py:354: ConvergenceWarning: The max_iter was reached which means the coef_ did not converge\n",
            "  ConvergenceWarning,\n",
            "/usr/local/lib/python3.7/dist-packages/sklearn/linear_model/_sag.py:354: ConvergenceWarning: The max_iter was reached which means the coef_ did not converge\n",
            "  ConvergenceWarning,\n"
          ]
        },
        {
          "output_type": "stream",
          "name": "stdout",
          "text": [
            "the train score average 0.9037499999999999\n",
            "the validation score average 0.885\n"
          ]
        },
        {
          "output_type": "stream",
          "name": "stderr",
          "text": [
            "/usr/local/lib/python3.7/dist-packages/sklearn/linear_model/_sag.py:354: ConvergenceWarning: The max_iter was reached which means the coef_ did not converge\n",
            "  ConvergenceWarning,\n"
          ]
        }
      ]
    },
    {
      "cell_type": "code",
      "source": [
        "train_score = 0\n",
        "val_score = 0\n",
        "for train_inx, val_idx in data_split.split(X, y):\n",
        "    clf = LogisticRegression(max_iter=1000, penalty='l1', solver=\"saga\", C=5e-10) # more underfir\n",
        "    clf.fit(X_poly[train_inx], y[train_inx])\n",
        "    # print('train acc =', clf.score(X_poly[train_inx], y[train_inx]), \n",
        "    #       '\\tval acc =', clf.score(X_poly[val_idx], y[val_idx]))\n",
        "    train_score += clf.score(X_poly[train_inx], y[train_inx])\n",
        "    val_score += clf.score(X_poly[val_idx], y[val_idx])\n",
        "\n",
        "print('the train score average', train_score/data_split.n_splits)\n",
        "print('the validation score average', val_score/data_split.n_splits)"
      ],
      "metadata": {
        "id": "FBkFmFMmYfPi",
        "outputId": "c9ae6650-6aed-4a0b-fc5a-84ee643b5c20",
        "colab": {
          "base_uri": "https://localhost:8080/"
        }
      },
      "execution_count": 18,
      "outputs": [
        {
          "output_type": "stream",
          "name": "stdout",
          "text": [
            "the train score average 0.6425000000000001\n",
            "the validation score average 0.6425\n"
          ]
        }
      ]
    },
    {
      "cell_type": "code",
      "source": [
        "C = [.001 , .01, .1, 1 , 10, 100 , 1000]\n",
        "\n",
        "for c in C:\n",
        "  train_score = 0\n",
        "  val_score = 0\n",
        "  for train_inx, val_idx in data_split.split(X, y):\n",
        "      clf = LogisticRegression(max_iter=100000, C=c)\n",
        "      clf.fit(X_poly[train_inx], y[train_inx])\n",
        "      train_score += clf.score(X_poly[train_inx], y[train_inx])\n",
        "      val_score += clf.score(X_poly[val_idx], y[val_idx])\n",
        "\n",
        "  print(f\"C is {c}---------\")\n",
        "  print('the train score average', train_score/data_split.n_splits)\n",
        "  print('the validation score average', val_score/data_split.n_splits)"
      ],
      "metadata": {
        "colab": {
          "base_uri": "https://localhost:8080/"
        },
        "id": "3RNhrAG4hkdy",
        "outputId": "17043310-8b65-426b-c891-bb60881e1983"
      },
      "execution_count": 19,
      "outputs": [
        {
          "output_type": "stream",
          "name": "stdout",
          "text": [
            "C is 0.001---------\n",
            "the train score average 0.81875\n",
            "the validation score average 0.8150000000000001\n",
            "C is 0.01---------\n",
            "the train score average 0.884375\n",
            "the validation score average 0.8775000000000001\n",
            "C is 0.1---------\n",
            "the train score average 0.9087500000000001\n",
            "the validation score average 0.89\n",
            "C is 1---------\n",
            "the train score average 0.923125\n",
            "the validation score average 0.89\n",
            "C is 10---------\n",
            "the train score average 0.930625\n",
            "the validation score average 0.8699999999999999\n",
            "C is 100---------\n",
            "the train score average 0.93625\n",
            "the validation score average 0.8450000000000001\n",
            "C is 1000---------\n",
            "the train score average 0.940625\n",
            "the validation score average 0.8324999999999999\n"
          ]
        }
      ]
    },
    {
      "cell_type": "code",
      "source": [
        "clf = LogisticRegression()\n",
        "clf.fit(X_poly,y)\n",
        "print(clf.coef_)"
      ],
      "metadata": {
        "id": "2FshBQyYGR3t",
        "outputId": "418ae85e-6265-40f6-af65-5a37d84484ae",
        "colab": {
          "base_uri": "https://localhost:8080/"
        }
      },
      "execution_count": 20,
      "outputs": [
        {
          "output_type": "stream",
          "name": "stdout",
          "text": [
            "[[-0.4575935   0.06157955  0.69264057  1.02220291 -0.45512982 -0.06644672\n",
            "   0.18270991  0.03492709 -0.27798194  0.57837268  0.04337072  0.68998217\n",
            "   1.02951277 -0.28410113  0.33663357 -0.14736617  0.22213239 -0.05214372\n",
            "   0.65010363 -0.14842221 -0.45339465 -0.03884191  0.22389865  0.02356077\n",
            "  -0.26451391  0.57247685 -0.02327964  0.17545304  0.07562843 -0.16355471\n",
            "  -0.22881675 -0.24211306  0.17589635 -0.48169014 -0.57981909  0.0252313\n",
            "   0.68842818  1.0384705  -0.28315851  0.3260509  -0.12446251  0.22120102\n",
            "  -0.04512419  0.65312937 -0.15496571  0.01008656  0.06422138  0.42447626\n",
            "  -0.62934211  0.62770343  0.19489194  0.20793921  0.09465738 -0.273781\n",
            "   0.27345295 -0.10500804 -0.45238519 -0.01129928  0.26544579  0.01223216\n",
            "  -0.25146926  0.56749735 -0.01442983  0.17364771  0.10175883 -0.16975458\n",
            "  -0.2284132  -0.23954369  0.1928788  -0.50686886 -0.55470593  0.32792613\n",
            "   0.14078263  0.32927924 -0.09731196 -0.05832133 -0.24289557  0.06230587\n",
            "   0.18685395  0.06666999  0.24349925  0.04410744 -0.27091611  0.28616331]]\n"
          ]
        },
        {
          "output_type": "stream",
          "name": "stderr",
          "text": [
            "/usr/local/lib/python3.7/dist-packages/sklearn/linear_model/_logistic.py:818: ConvergenceWarning: lbfgs failed to converge (status=1):\n",
            "STOP: TOTAL NO. of ITERATIONS REACHED LIMIT.\n",
            "\n",
            "Increase the number of iterations (max_iter) or scale the data as shown in:\n",
            "    https://scikit-learn.org/stable/modules/preprocessing.html\n",
            "Please also refer to the documentation for alternative solver options:\n",
            "    https://scikit-learn.org/stable/modules/linear_model.html#logistic-regression\n",
            "  extra_warning_msg=_LOGISTIC_SOLVER_CONVERGENCE_MSG,\n"
          ]
        }
      ]
    },
    {
      "cell_type": "code",
      "source": [
        "# up to now > chnage the c in the parameters of another model \n",
        "# now import each penalty directly as classifier\n",
        "from sklearn.linear_model import Ridge, Lasso\n",
        "\n",
        "# params: fit_intercept > bias / copy / ...\n",
        "clf = Ridge(alpha=1000) # very strong regularization\n",
        "clf.fit(X_poly,y)\n",
        "\n",
        "# as you see the coef are too small\n",
        "print(clf.coef_)"
      ],
      "metadata": {
        "id": "O4HV9XaVFW2k",
        "outputId": "f6a8f51f-c85d-4e5b-e2b0-e81fb6e4e590",
        "colab": {
          "base_uri": "https://localhost:8080/"
        }
      },
      "execution_count": 21,
      "outputs": [
        {
          "output_type": "stream",
          "name": "stdout",
          "text": [
            "[ 0.00000000e+00  1.39844596e-03  2.46742675e-02  1.31190808e-02\n",
            "  5.59490292e-05 -3.93624175e-04  3.91021314e-03  9.73997141e-03\n",
            " -6.81337377e-03  1.58984000e-02  1.40068436e-03  2.46585194e-02\n",
            "  1.32755206e-02 -7.40175894e-05 -7.49004153e-04  2.42370234e-03\n",
            "  2.04937600e-02 -3.47481606e-03  1.38623174e-02  9.25933812e-03\n",
            "  1.11987613e-04  5.92913928e-04  4.44134020e-03  9.73701011e-03\n",
            " -6.84333993e-03  1.59953674e-02  3.99303193e-05 -4.87074930e-04\n",
            " -1.35872722e-03  7.53084513e-04  1.07403151e-02 -2.47738985e-03\n",
            "  7.81652763e-03 -1.18985039e-02  1.72499882e-02  1.40516477e-03\n",
            "  2.46822407e-02  1.34532098e-02  3.15540735e-04 -1.02279251e-03\n",
            "  3.06364504e-03  2.04953576e-02 -3.49430295e-03  1.38079574e-02\n",
            "  9.28946753e-03  1.27133283e-03 -2.92107488e-04 -2.67566721e-04\n",
            " -7.37228069e-03  3.56934098e-03  5.77689311e-04 -3.08486225e-03\n",
            "  7.73797134e-04 -1.17376488e-02  1.45250329e-02  5.57207578e-04\n",
            "  1.68205448e-04  1.58040107e-03  4.97957625e-03  9.74963427e-03\n",
            " -6.88425981e-03  1.61179378e-02  8.59908634e-04 -6.26875011e-04\n",
            " -8.06298423e-04  1.12473755e-03  1.07911786e-02 -2.48907649e-03\n",
            "  7.80582282e-03 -1.21934541e-02  1.73927904e-02  8.16594227e-04\n",
            " -2.35805614e-03 -1.09422259e-03 -5.52423423e-04  2.84526931e-03\n",
            " -3.54454402e-03 -5.65534834e-03  7.52097284e-03 -3.20877941e-03\n",
            " -3.66523932e-03  3.95369245e-03 -7.50609250e-03 -5.19216260e-03]\n"
          ]
        }
      ]
    },
    {
      "cell_type": "code",
      "source": [
        "clf = Lasso(alpha=2) # very strong regularization\n",
        "clf.fit(X_poly,y)\n",
        "# coef zero\n",
        "print(clf.coef_)"
      ],
      "metadata": {
        "id": "qkYlNeEfGb7O",
        "outputId": "84292cc7-95b7-434e-cb9c-a351a0d536a2",
        "colab": {
          "base_uri": "https://localhost:8080/"
        }
      },
      "execution_count": 22,
      "outputs": [
        {
          "output_type": "stream",
          "name": "stdout",
          "text": [
            "[ 0.         -0.          0.          0.         -0.         -0.\n",
            " -0.          0.         -0.          0.         -0.          0.\n",
            "  0.         -0.         -0.         -0.          0.          0.\n",
            "  0.          0.         -0.         -0.         -0.          0.\n",
            " -0.          0.         -0.         -0.         -0.         -0.\n",
            "  0.         -0.          0.         -0.          0.         -0.\n",
            "  0.          0.         -0.         -0.         -0.          0.\n",
            "  0.          0.          0.         -0.          0.         -0.\n",
            " -0.         -0.          0.          0.          0.          0.\n",
            "  0.          0.         -0.          0.          0.          0.\n",
            " -0.          0.         -0.         -0.         -0.         -0.\n",
            "  0.         -0.          0.         -0.          0.         -0.\n",
            " -0.         -0.         -0.         -0.         -0.          0.00031064\n",
            " -0.          0.          0.          0.          0.          0.00337646]\n"
          ]
        }
      ]
    },
    {
      "cell_type": "code",
      "source": [
        "# each penalty is like classifier that you can fit them on your data"
      ],
      "metadata": {
        "id": "nIoIZrI1HAEl"
      },
      "execution_count": 23,
      "outputs": []
    },
    {
      "cell_type": "markdown",
      "metadata": {
        "id": "Kzkmywq6WyXM"
      },
      "source": [
        "# train test split"
      ]
    },
    {
      "cell_type": "code",
      "source": [
        "# define the x again\n",
        "\n",
        "X = df.to_numpy()\n",
        "np.random.seed = 0\n",
        "X = X[np.random.permutation(X.shape[0])]\n",
        "y = X[:, -1]\n",
        "X = X[:, :-1]"
      ],
      "metadata": {
        "id": "x6_oPA3wYzv_"
      },
      "execution_count": 24,
      "outputs": []
    },
    {
      "cell_type": "code",
      "execution_count": 25,
      "metadata": {
        "id": "VyEDgyaCWyXP"
      },
      "outputs": [],
      "source": [
        "# 1. write yourself > first suffle the rows > second split X and y > split train test val\n",
        "split = int(X.shape[0] * 0.8)\n",
        "\n",
        "X_train = X[:split]\n",
        "y_train = y[:split]\n",
        "\n",
        "X_test = X[split:]\n",
        "y_test = y[split:]"
      ]
    },
    {
      "cell_type": "code",
      "source": [
        "# 2.\n",
        "# random_state = 1 / random_state = np.random.seed\n",
        "X_train, X_test = train_test_split(X, test_size=0.2, random_state=1)\n",
        "\n",
        "X_train, X_test, y_train, y_test = train_test_split(X, y, test_size=0.2, random_state=1)"
      ],
      "metadata": {
        "id": "tCKQgc9jIzSg"
      },
      "execution_count": 26,
      "outputs": []
    },
    {
      "cell_type": "code",
      "execution_count": 27,
      "metadata": {
        "id": "AdYjrVr6WyXS"
      },
      "outputs": [],
      "source": [
        "# normalization\n",
        "'''\n",
        "the correct way > split the data \n",
        "find the norm params on train dataset > use this to normalize all train, test, val\n",
        "\n",
        "we rarely normalize the y\n",
        "'''\n",
        "\n",
        "mean = X_train.mean(axis=0)\n",
        "std = X_train.std(axis=0)\n",
        "\n",
        "X_train = (X_train - mean) / std\n",
        "X_test = (X_test - mean) / std"
      ]
    },
    {
      "cell_type": "code",
      "execution_count": 28,
      "metadata": {
        "id": "JSfG5eCFWyXT"
      },
      "outputs": [],
      "source": [
        "# verbose ???\n",
        "clf = LogisticRegression(verbose=1, class_weight='balanced')"
      ]
    },
    {
      "cell_type": "code",
      "execution_count": 29,
      "metadata": {
        "id": "yca5C1oLWyXV",
        "outputId": "7cd4b420-d627-439e-d40c-991ca80e66f3",
        "colab": {
          "base_uri": "https://localhost:8080/"
        }
      },
      "outputs": [
        {
          "output_type": "stream",
          "name": "stderr",
          "text": [
            "[Parallel(n_jobs=1)]: Using backend SequentialBackend with 1 concurrent workers.\n",
            "[Parallel(n_jobs=1)]: Done   1 out of   1 | elapsed:    0.0s finished\n"
          ]
        },
        {
          "output_type": "execute_result",
          "data": {
            "text/plain": [
              "LogisticRegression(class_weight='balanced', verbose=1)"
            ]
          },
          "metadata": {},
          "execution_count": 29
        }
      ],
      "source": [
        "clf.fit(X_train, y_train)"
      ]
    },
    {
      "cell_type": "markdown",
      "metadata": {
        "id": "xmt7Lp2xWyXW"
      },
      "source": [
        "# Accuracy"
      ]
    },
    {
      "cell_type": "code",
      "execution_count": 30,
      "metadata": {
        "id": "TLvrnUctWyXX",
        "outputId": "2ec5d117-d55c-46a1-b65e-a3aa79df965a",
        "colab": {
          "base_uri": "https://localhost:8080/"
        }
      },
      "outputs": [
        {
          "output_type": "stream",
          "name": "stdout",
          "text": [
            "test score: 0.8375\n",
            "train score: 0.85\n"
          ]
        }
      ],
      "source": [
        "print('test score:', clf.score(X_test, y_test))\n",
        "print('train score:', clf.score(X_train, y_train))"
      ]
    },
    {
      "cell_type": "code",
      "execution_count": 31,
      "metadata": {
        "id": "eaSCGxvmWyXY",
        "outputId": "ae2241cb-4ffc-4495-c8b7-fc3efb4174cb",
        "colab": {
          "base_uri": "https://localhost:8080/"
        }
      },
      "outputs": [
        {
          "output_type": "stream",
          "name": "stdout",
          "text": [
            "ACC = 0.85\n"
          ]
        }
      ],
      "source": [
        "h_train = clf.predict(X_train)\n",
        "print('ACC =', np.mean(h_train == y_train))"
      ]
    },
    {
      "cell_type": "code",
      "execution_count": 32,
      "metadata": {
        "id": "3u6ekvjEWyXa",
        "outputId": "34969200-f6d2-4bf6-aa41-95a611bdf508",
        "colab": {
          "base_uri": "https://localhost:8080/"
        }
      },
      "outputs": [
        {
          "output_type": "execute_result",
          "data": {
            "text/plain": [
              "0.85"
            ]
          },
          "metadata": {},
          "execution_count": 32
        }
      ],
      "source": [
        "# for sklearn.metrics > we use the true values and predicted values\n",
        "accuracy_score(y_train, h_train)"
      ]
    },
    {
      "cell_type": "markdown",
      "metadata": {
        "id": "Gk25XBk3WyXb"
      },
      "source": [
        "# Precision"
      ]
    },
    {
      "cell_type": "code",
      "execution_count": 33,
      "metadata": {
        "id": "6rB-VIGWWyXd",
        "outputId": "946b8ef0-8bb3-4a07-abe2-4c1d98451dc0",
        "colab": {
          "base_uri": "https://localhost:8080/"
        }
      },
      "outputs": [
        {
          "output_type": "stream",
          "name": "stdout",
          "text": [
            "test precision: 0.7333333333333333\n",
            "train precision: 0.7698412698412699\n"
          ]
        }
      ],
      "source": [
        "h_train = clf.predict(X_train)\n",
        "h_test = clf.predict(X_test)\n",
        "\n",
        "print('test precision:', precision_score(y_test, h_test))\n",
        "print('train precision:', precision_score(y_train, h_train))\n",
        "\n",
        "# TP / (TP+FP)"
      ]
    },
    {
      "cell_type": "markdown",
      "metadata": {
        "id": "5Ko6dm-UWyXf"
      },
      "source": [
        "# Recall"
      ]
    },
    {
      "cell_type": "code",
      "execution_count": 34,
      "metadata": {
        "id": "oRiK1j6aWyXh",
        "outputId": "4375d19a-e546-4e39-fc7a-765a47f950d6",
        "colab": {
          "base_uri": "https://localhost:8080/"
        }
      },
      "outputs": [
        {
          "output_type": "stream",
          "name": "stdout",
          "text": [
            "test recall: 0.8148148148148148\n",
            "train recall: 0.8362068965517241\n"
          ]
        }
      ],
      "source": [
        "h_train = clf.predict(X_train)\n",
        "h_test = clf.predict(X_test)\n",
        "\n",
        "print('test recall:', recall_score(y_test, h_test))\n",
        "print('train recall:', recall_score(y_train, h_train))\n",
        "\n",
        "#  TP / (TP+FN)"
      ]
    },
    {
      "cell_type": "code",
      "source": [
        "'''\n",
        "we always look for the validation score > we want to kepp it high\n",
        "if both the train and validation score are low > underfit\n",
        "'''"
      ],
      "metadata": {
        "colab": {
          "base_uri": "https://localhost:8080/",
          "height": 0
        },
        "id": "Yzj2FwI-TXVu",
        "outputId": "a0ef828b-4a5b-4670-a464-5162b22f7f6c"
      },
      "execution_count": 35,
      "outputs": [
        {
          "output_type": "execute_result",
          "data": {
            "text/plain": [
              "'\\nwe always look for the validation score > we want to kepp it high\\nif both the train and validation score are low > underfit\\n'"
            ],
            "application/vnd.google.colaboratory.intrinsic+json": {
              "type": "string"
            }
          },
          "metadata": {},
          "execution_count": 35
        }
      ]
    },
    {
      "cell_type": "code",
      "source": [
        "y_test == 1"
      ],
      "metadata": {
        "colab": {
          "base_uri": "https://localhost:8080/"
        },
        "id": "a7lZP89dTikS",
        "outputId": "3e98e3a6-10c2-4140-8246-1c47105f215a"
      },
      "execution_count": 36,
      "outputs": [
        {
          "output_type": "execute_result",
          "data": {
            "text/plain": [
              "array([False,  True,  True, False,  True,  True,  True, False, False,\n",
              "       False,  True, False,  True, False,  True, False, False, False,\n",
              "        True,  True,  True, False,  True, False, False, False, False,\n",
              "        True,  True, False,  True, False,  True, False, False,  True,\n",
              "       False, False, False, False, False, False,  True, False, False,\n",
              "       False, False, False, False, False,  True, False,  True, False,\n",
              "       False,  True, False,  True, False, False, False, False, False,\n",
              "       False, False,  True, False, False, False,  True, False,  True,\n",
              "       False,  True,  True, False, False, False, False, False])"
            ]
          },
          "metadata": {},
          "execution_count": 36
        }
      ]
    },
    {
      "cell_type": "code",
      "source": [
        "#  * is AND in numpy array // + is OR\n",
        "(y_test == 1)*(h_test == 1)"
      ],
      "metadata": {
        "colab": {
          "base_uri": "https://localhost:8080/"
        },
        "id": "zdLJjdjVTlgb",
        "outputId": "a12aa0e1-95cd-4a6a-da08-29a56d5f256f"
      },
      "execution_count": 37,
      "outputs": [
        {
          "output_type": "execute_result",
          "data": {
            "text/plain": [
              "array([False,  True,  True, False,  True,  True, False, False, False,\n",
              "       False,  True, False, False, False,  True, False, False, False,\n",
              "       False,  True,  True, False,  True, False, False, False, False,\n",
              "        True,  True, False,  True, False,  True, False, False,  True,\n",
              "       False, False, False, False, False, False,  True, False, False,\n",
              "       False, False, False, False, False, False, False,  True, False,\n",
              "       False,  True, False, False, False, False, False, False, False,\n",
              "       False, False,  True, False, False, False,  True, False,  True,\n",
              "       False,  True,  True, False, False, False, False, False])"
            ]
          },
          "metadata": {},
          "execution_count": 37
        }
      ]
    },
    {
      "cell_type": "code",
      "execution_count": 38,
      "metadata": {
        "id": "NmFR_JklWyXi",
        "outputId": "2bcb07b2-48bf-4136-912d-cd542897e12d",
        "colab": {
          "base_uri": "https://localhost:8080/"
        }
      },
      "outputs": [
        {
          "output_type": "stream",
          "name": "stdout",
          "text": [
            "Test:\n",
            "\ttrue positive 0.275\n",
            "\tfalse positive 0.1\n",
            "\tfalse negative 0.0625\n",
            "\ttrue negative 0.5625\n",
            "Train:\n",
            "\ttrue positive 0.303125\n",
            "\tfalse positive 0.090625\n",
            "\tfalse negative 0.059375\n",
            "\ttrue negative 0.546875\n"
          ]
        }
      ],
      "source": [
        "print('Test:')\n",
        "print('\\ttrue positive', np.mean((y_test == 1)*(h_test == 1)))\n",
        "print('\\tfalse positive', np.mean((y_test == 0)*(h_test == 1)))\n",
        "print('\\tfalse negative', np.mean((y_test == 1)*(h_test == 0)))\n",
        "print('\\ttrue negative', np.mean((y_test == 0)*(h_test == 0)))\n",
        "print('Train:')\n",
        "print('\\ttrue positive', np.mean((y_train == 1)*(h_train == 1)))\n",
        "print('\\tfalse positive', np.mean((y_train == 0)*(h_train == 1)))\n",
        "print('\\tfalse negative', np.mean((y_train == 1)*(h_train == 0)))\n",
        "print('\\ttrue negative', np.mean((y_train == 0)*(h_train == 0)))"
      ]
    },
    {
      "cell_type": "code",
      "source": [
        "# the threshold is 0.5\n",
        "h_train = clf.predict(X_train)\n",
        "clf.predict_proba(X_train)"
      ],
      "metadata": {
        "colab": {
          "base_uri": "https://localhost:8080/"
        },
        "id": "QyckrVjyUDpH",
        "outputId": "9f6746c6-629c-4fc9-a75f-723de49eb611"
      },
      "execution_count": 39,
      "outputs": [
        {
          "output_type": "execute_result",
          "data": {
            "text/plain": [
              "array([[7.66436173e-01, 2.33563827e-01],\n",
              "       [1.31409591e-02, 9.86859041e-01],\n",
              "       [8.62927592e-01, 1.37072408e-01],\n",
              "       [9.16808529e-01, 8.31914705e-02],\n",
              "       [9.54669254e-01, 4.53307456e-02],\n",
              "       [9.86249886e-01, 1.37501139e-02],\n",
              "       [1.55868904e-01, 8.44131096e-01],\n",
              "       [9.79170893e-01, 2.08291073e-02],\n",
              "       [8.49277256e-01, 1.50722744e-01],\n",
              "       [9.65148715e-01, 3.48512851e-02],\n",
              "       [3.35401356e-02, 9.66459864e-01],\n",
              "       [9.86068719e-01, 1.39312811e-02],\n",
              "       [9.03370176e-01, 9.66298237e-02],\n",
              "       [2.11923780e-01, 7.88076220e-01],\n",
              "       [3.01056058e-01, 6.98943942e-01],\n",
              "       [7.44524377e-01, 2.55475623e-01],\n",
              "       [4.24775335e-01, 5.75224665e-01],\n",
              "       [3.94493818e-02, 9.60550618e-01],\n",
              "       [9.97846245e-01, 2.15375525e-03],\n",
              "       [2.23548066e-03, 9.97764519e-01],\n",
              "       [1.55328343e-01, 8.44671657e-01],\n",
              "       [7.92412890e-01, 2.07587110e-01],\n",
              "       [4.35236714e-01, 5.64763286e-01],\n",
              "       [6.30519158e-01, 3.69480842e-01],\n",
              "       [2.57086688e-01, 7.42913312e-01],\n",
              "       [6.66692929e-01, 3.33307071e-01],\n",
              "       [5.20700586e-01, 4.79299414e-01],\n",
              "       [9.08986930e-01, 9.10130702e-02],\n",
              "       [3.76335037e-01, 6.23664963e-01],\n",
              "       [1.01522304e-01, 8.98477696e-01],\n",
              "       [4.70371088e-01, 5.29628912e-01],\n",
              "       [1.46393168e-01, 8.53606832e-01],\n",
              "       [8.70271757e-01, 1.29728243e-01],\n",
              "       [2.92151474e-01, 7.07848526e-01],\n",
              "       [4.93628419e-01, 5.06371581e-01],\n",
              "       [3.60156010e-01, 6.39843990e-01],\n",
              "       [9.29946858e-01, 7.00531420e-02],\n",
              "       [9.95538147e-01, 4.46185303e-03],\n",
              "       [6.77861867e-01, 3.22138133e-01],\n",
              "       [7.91770658e-01, 2.08229342e-01],\n",
              "       [9.95876253e-01, 4.12374688e-03],\n",
              "       [3.30041510e-01, 6.69958490e-01],\n",
              "       [6.89500099e-02, 9.31049990e-01],\n",
              "       [7.04792671e-01, 2.95207329e-01],\n",
              "       [9.92730725e-01, 7.26927520e-03],\n",
              "       [9.67056888e-01, 3.29431115e-02],\n",
              "       [6.90905836e-01, 3.09094164e-01],\n",
              "       [9.69022220e-01, 3.09777799e-02],\n",
              "       [8.33770968e-01, 1.66229032e-01],\n",
              "       [9.03846936e-01, 9.61530644e-02],\n",
              "       [9.95017564e-01, 4.98243581e-03],\n",
              "       [9.56318371e-01, 4.36816287e-02],\n",
              "       [2.80246208e-01, 7.19753792e-01],\n",
              "       [9.87769784e-01, 1.22302155e-02],\n",
              "       [9.95036861e-01, 4.96313926e-03],\n",
              "       [9.23257115e-01, 7.67428849e-02],\n",
              "       [9.82880768e-01, 1.71192325e-02],\n",
              "       [9.56327328e-01, 4.36726722e-02],\n",
              "       [3.63394379e-01, 6.36605621e-01],\n",
              "       [3.31252947e-01, 6.68747053e-01],\n",
              "       [1.04641462e-01, 8.95358538e-01],\n",
              "       [5.49113538e-01, 4.50886462e-01],\n",
              "       [9.63280033e-01, 3.67199675e-02],\n",
              "       [5.24645868e-01, 4.75354132e-01],\n",
              "       [1.53124539e-02, 9.84687546e-01],\n",
              "       [2.70696198e-02, 9.72930380e-01],\n",
              "       [5.76389062e-01, 4.23610938e-01],\n",
              "       [6.35736137e-02, 9.36426386e-01],\n",
              "       [4.42422786e-03, 9.95575772e-01],\n",
              "       [3.32633554e-01, 6.67366446e-01],\n",
              "       [9.57603251e-01, 4.23967488e-02],\n",
              "       [9.72699757e-01, 2.73002429e-02],\n",
              "       [6.48399699e-01, 3.51600301e-01],\n",
              "       [2.87943728e-02, 9.71205627e-01],\n",
              "       [2.88548239e-03, 9.97114518e-01],\n",
              "       [9.29589430e-01, 7.04105704e-02],\n",
              "       [9.01813071e-01, 9.81869292e-02],\n",
              "       [5.39049697e-01, 4.60950303e-01],\n",
              "       [8.94579119e-01, 1.05420881e-01],\n",
              "       [3.66204184e-02, 9.63379582e-01],\n",
              "       [9.70006658e-01, 2.99933423e-02],\n",
              "       [9.73516128e-01, 2.64838716e-02],\n",
              "       [5.64976472e-01, 4.35023528e-01],\n",
              "       [4.87308468e-02, 9.51269153e-01],\n",
              "       [4.22738030e-02, 9.57726197e-01],\n",
              "       [5.82422471e-01, 4.17577529e-01],\n",
              "       [7.41773316e-03, 9.92582267e-01],\n",
              "       [5.64457435e-01, 4.35542565e-01],\n",
              "       [5.84318169e-01, 4.15681831e-01],\n",
              "       [8.99084221e-03, 9.91009158e-01],\n",
              "       [3.76931468e-01, 6.23068532e-01],\n",
              "       [4.37102113e-01, 5.62897887e-01],\n",
              "       [5.64220013e-03, 9.94357800e-01],\n",
              "       [4.91097615e-01, 5.08902385e-01],\n",
              "       [6.11397795e-01, 3.88602205e-01],\n",
              "       [5.47757955e-01, 4.52242045e-01],\n",
              "       [8.28325844e-01, 1.71674156e-01],\n",
              "       [4.44792806e-01, 5.55207194e-01],\n",
              "       [2.48290688e-01, 7.51709312e-01],\n",
              "       [2.52683598e-01, 7.47316402e-01],\n",
              "       [9.73110955e-01, 2.68890448e-02],\n",
              "       [1.56092571e-02, 9.84390743e-01],\n",
              "       [9.11014550e-01, 8.89854502e-02],\n",
              "       [3.28319189e-01, 6.71680811e-01],\n",
              "       [9.63547393e-01, 3.64526066e-02],\n",
              "       [8.61725492e-01, 1.38274508e-01],\n",
              "       [5.62151622e-01, 4.37848378e-01],\n",
              "       [9.91902236e-01, 8.09776378e-03],\n",
              "       [9.95475412e-01, 4.52458819e-03],\n",
              "       [4.00529970e-02, 9.59947003e-01],\n",
              "       [9.85603644e-01, 1.43963560e-02],\n",
              "       [5.48147804e-01, 4.51852196e-01],\n",
              "       [4.60721476e-01, 5.39278524e-01],\n",
              "       [9.59899139e-01, 4.01008614e-02],\n",
              "       [5.61138694e-01, 4.38861306e-01],\n",
              "       [1.26537702e-03, 9.98734623e-01],\n",
              "       [5.07169758e-01, 4.92830242e-01],\n",
              "       [9.89786307e-01, 1.02136934e-02],\n",
              "       [9.97076411e-01, 2.92358896e-03],\n",
              "       [9.75755093e-01, 2.42449071e-02],\n",
              "       [6.92073549e-01, 3.07926451e-01],\n",
              "       [9.06390929e-01, 9.36090708e-02],\n",
              "       [8.98892224e-01, 1.01107776e-01],\n",
              "       [5.53463274e-02, 9.44653673e-01],\n",
              "       [4.77176900e-01, 5.22823100e-01],\n",
              "       [7.35257134e-01, 2.64742866e-01],\n",
              "       [9.86068719e-01, 1.39312811e-02],\n",
              "       [6.63905575e-02, 9.33609442e-01],\n",
              "       [2.45390642e-01, 7.54609358e-01],\n",
              "       [4.19686893e-01, 5.80313107e-01],\n",
              "       [5.83935839e-01, 4.16064161e-01],\n",
              "       [6.13157849e-02, 9.38684215e-01],\n",
              "       [9.68901691e-02, 9.03109831e-01],\n",
              "       [6.24187463e-01, 3.75812537e-01],\n",
              "       [4.35236714e-01, 5.64763286e-01],\n",
              "       [2.28865649e-01, 7.71134351e-01],\n",
              "       [9.76885616e-01, 2.31143836e-02],\n",
              "       [6.89237706e-01, 3.10762294e-01],\n",
              "       [1.01416968e-02, 9.89858303e-01],\n",
              "       [6.19941163e-03, 9.93800588e-01],\n",
              "       [6.28282721e-01, 3.71717279e-01],\n",
              "       [8.13282586e-01, 1.86717414e-01],\n",
              "       [3.94810198e-01, 6.05189802e-01],\n",
              "       [3.64718929e-03, 9.96352811e-01],\n",
              "       [3.91629558e-02, 9.60837044e-01],\n",
              "       [4.03175058e-01, 5.96824942e-01],\n",
              "       [9.46295576e-01, 5.37044236e-02],\n",
              "       [1.24566975e-02, 9.87543303e-01],\n",
              "       [4.03175058e-01, 5.96824942e-01],\n",
              "       [9.34596625e-01, 6.54033754e-02],\n",
              "       [8.97465633e-01, 1.02534367e-01],\n",
              "       [1.71694276e-02, 9.82830572e-01],\n",
              "       [9.97956368e-01, 2.04363171e-03],\n",
              "       [9.94832417e-01, 5.16758315e-03],\n",
              "       [9.98576638e-01, 1.42336247e-03],\n",
              "       [9.34108531e-03, 9.90658915e-01],\n",
              "       [8.89722463e-01, 1.10277537e-01],\n",
              "       [6.03026870e-01, 3.96973130e-01],\n",
              "       [1.21064297e-01, 8.78935703e-01],\n",
              "       [4.60721476e-01, 5.39278524e-01],\n",
              "       [4.75231406e-01, 5.24768594e-01],\n",
              "       [7.10998301e-03, 9.92890017e-01],\n",
              "       [9.90396165e-01, 9.60383496e-03],\n",
              "       [7.68109952e-01, 2.31890048e-01],\n",
              "       [2.64563637e-01, 7.35436363e-01],\n",
              "       [2.72946595e-03, 9.97270534e-01],\n",
              "       [6.89574713e-01, 3.10425287e-01],\n",
              "       [5.36639403e-01, 4.63360597e-01],\n",
              "       [1.83936787e-01, 8.16063213e-01],\n",
              "       [9.34131441e-01, 6.58685594e-02],\n",
              "       [1.72656767e-02, 9.82734323e-01],\n",
              "       [9.54271232e-01, 4.57287684e-02],\n",
              "       [4.23822727e-01, 5.76177273e-01],\n",
              "       [3.65565605e-01, 6.34434395e-01],\n",
              "       [1.43713237e-01, 8.56286763e-01],\n",
              "       [3.48176500e-03, 9.96518235e-01],\n",
              "       [5.30384231e-03, 9.94696158e-01],\n",
              "       [9.91072138e-01, 8.92786207e-03],\n",
              "       [8.57800166e-01, 1.42199834e-01],\n",
              "       [2.93508182e-02, 9.70649182e-01],\n",
              "       [6.86131504e-02, 9.31386850e-01],\n",
              "       [3.14911331e-03, 9.96850887e-01],\n",
              "       [7.88835586e-01, 2.11164414e-01],\n",
              "       [5.77063062e-02, 9.42293694e-01],\n",
              "       [9.52970552e-01, 4.70294485e-02],\n",
              "       [9.96555433e-01, 3.44456683e-03],\n",
              "       [9.12893280e-01, 8.71067204e-02],\n",
              "       [6.65873481e-01, 3.34126519e-01],\n",
              "       [7.99346532e-01, 2.00653468e-01],\n",
              "       [6.03960056e-01, 3.96039944e-01],\n",
              "       [6.24187463e-01, 3.75812537e-01],\n",
              "       [8.43008626e-01, 1.56991374e-01],\n",
              "       [3.45646915e-01, 6.54353085e-01],\n",
              "       [6.21439067e-01, 3.78560933e-01],\n",
              "       [9.87863652e-01, 1.21363483e-02],\n",
              "       [9.89762766e-01, 1.02372341e-02],\n",
              "       [9.85877715e-01, 1.41222847e-02],\n",
              "       [5.45825121e-01, 4.54174879e-01],\n",
              "       [9.95837579e-01, 4.16242102e-03],\n",
              "       [8.72457336e-01, 1.27542664e-01],\n",
              "       [5.50078901e-01, 4.49921099e-01],\n",
              "       [5.54458192e-01, 4.45541808e-01],\n",
              "       [6.15969694e-01, 3.84030306e-01],\n",
              "       [9.87216637e-01, 1.27833634e-02],\n",
              "       [5.17833595e-01, 4.82166405e-01],\n",
              "       [7.86880172e-01, 2.13119828e-01],\n",
              "       [4.52676651e-02, 9.54732335e-01],\n",
              "       [9.85134295e-01, 1.48657046e-02],\n",
              "       [6.24187463e-01, 3.75812537e-01],\n",
              "       [3.41250070e-01, 6.58749930e-01],\n",
              "       [9.98720859e-01, 1.27914063e-03],\n",
              "       [7.71249562e-01, 2.28750438e-01],\n",
              "       [1.34453969e-01, 8.65546031e-01],\n",
              "       [5.86775461e-01, 4.13224539e-01],\n",
              "       [9.41359120e-01, 5.86408802e-02],\n",
              "       [6.10045496e-01, 3.89954504e-01],\n",
              "       [7.01866183e-01, 2.98133817e-01],\n",
              "       [9.81269468e-01, 1.87305319e-02],\n",
              "       [9.53329593e-02, 9.04667041e-01],\n",
              "       [9.39756969e-01, 6.02430306e-02],\n",
              "       [9.57125710e-01, 4.28742901e-02],\n",
              "       [9.55760526e-01, 4.42394743e-02],\n",
              "       [9.89802205e-01, 1.01977948e-02],\n",
              "       [9.87498375e-02, 9.01250163e-01],\n",
              "       [9.46611094e-01, 5.33889058e-02],\n",
              "       [2.04952612e-01, 7.95047388e-01],\n",
              "       [1.12270367e-01, 8.87729633e-01],\n",
              "       [3.56257313e-01, 6.43742687e-01],\n",
              "       [4.89091344e-03, 9.95109087e-01],\n",
              "       [9.74724551e-01, 2.52754489e-02],\n",
              "       [8.34310769e-01, 1.65689231e-01],\n",
              "       [6.43683954e-02, 9.35631605e-01],\n",
              "       [9.07165159e-01, 9.28348412e-02],\n",
              "       [9.73890369e-02, 9.02610963e-01],\n",
              "       [9.88159433e-01, 1.18405666e-02],\n",
              "       [9.90808117e-01, 9.19188310e-03],\n",
              "       [3.85158607e-01, 6.14841393e-01],\n",
              "       [9.00423127e-01, 9.95768729e-02],\n",
              "       [6.90072389e-01, 3.09927611e-01],\n",
              "       [8.17013123e-01, 1.82986877e-01],\n",
              "       [5.39049697e-01, 4.60950303e-01],\n",
              "       [9.72288228e-01, 2.77117721e-02],\n",
              "       [6.15969694e-01, 3.84030306e-01],\n",
              "       [9.06503793e-02, 9.09349621e-01],\n",
              "       [9.92225848e-01, 7.77415189e-03],\n",
              "       [1.15655298e-01, 8.84344702e-01],\n",
              "       [4.94590820e-02, 9.50540918e-01],\n",
              "       [3.15095019e-01, 6.84904981e-01],\n",
              "       [2.01166135e-01, 7.98833865e-01],\n",
              "       [7.21771746e-01, 2.78228254e-01],\n",
              "       [5.87157027e-01, 4.12842973e-01],\n",
              "       [6.10419841e-01, 3.89580159e-01],\n",
              "       [2.97665224e-03, 9.97023348e-01],\n",
              "       [9.84697388e-01, 1.53026124e-02],\n",
              "       [9.98946103e-01, 1.05389711e-03],\n",
              "       [5.84370250e-01, 4.15629750e-01],\n",
              "       [9.84849218e-01, 1.51507818e-02],\n",
              "       [1.92813532e-01, 8.07186468e-01],\n",
              "       [9.94951326e-01, 5.04867418e-03],\n",
              "       [9.43171103e-01, 5.68288972e-02],\n",
              "       [9.96779358e-01, 3.22064218e-03],\n",
              "       [1.02808810e-01, 8.97191190e-01],\n",
              "       [7.58708588e-01, 2.41291412e-01],\n",
              "       [7.04025308e-01, 2.95974692e-01],\n",
              "       [1.24376798e-01, 8.75623202e-01],\n",
              "       [6.74100447e-01, 3.25899553e-01],\n",
              "       [4.73625568e-01, 5.26374432e-01],\n",
              "       [7.21771746e-01, 2.78228254e-01],\n",
              "       [8.13250022e-01, 1.86749978e-01],\n",
              "       [2.37896954e-01, 7.62103046e-01],\n",
              "       [4.50188843e-01, 5.49811157e-01],\n",
              "       [6.10045496e-01, 3.89954504e-01],\n",
              "       [9.41574028e-01, 5.84259717e-02],\n",
              "       [8.92351966e-01, 1.07648034e-01],\n",
              "       [7.80971602e-01, 2.19028398e-01],\n",
              "       [9.28833981e-01, 7.11660195e-02],\n",
              "       [2.06226467e-01, 7.93773533e-01],\n",
              "       [8.56846115e-01, 1.43153885e-01],\n",
              "       [3.31698333e-02, 9.66830167e-01],\n",
              "       [3.67817464e-01, 6.32182536e-01],\n",
              "       [9.50936788e-01, 4.90632123e-02],\n",
              "       [7.64664246e-04, 9.99235336e-01],\n",
              "       [8.82042467e-01, 1.17957533e-01],\n",
              "       [9.89427558e-01, 1.05724420e-02],\n",
              "       [8.43524059e-01, 1.56475941e-01],\n",
              "       [2.44028324e-01, 7.55971676e-01],\n",
              "       [8.36426593e-01, 1.63573407e-01],\n",
              "       [4.08714312e-01, 5.91285688e-01],\n",
              "       [3.58841926e-02, 9.64115807e-01],\n",
              "       [6.07309891e-01, 3.92690109e-01],\n",
              "       [9.89667352e-01, 1.03326481e-02],\n",
              "       [5.85777524e-01, 4.14222476e-01],\n",
              "       [4.90123002e-01, 5.09876998e-01],\n",
              "       [8.93990539e-01, 1.06009461e-01],\n",
              "       [9.13202891e-01, 8.67971085e-02],\n",
              "       [9.43671436e-01, 5.63285641e-02],\n",
              "       [7.99346532e-01, 2.00653468e-01],\n",
              "       [7.95567236e-01, 2.04432764e-01],\n",
              "       [9.24539847e-04, 9.99075460e-01],\n",
              "       [2.96859703e-02, 9.70314030e-01],\n",
              "       [2.80289462e-01, 7.19710538e-01],\n",
              "       [2.96859703e-02, 9.70314030e-01],\n",
              "       [9.96466745e-01, 3.53325532e-03],\n",
              "       [8.09101660e-01, 1.90898340e-01],\n",
              "       [9.86542738e-01, 1.34572624e-02],\n",
              "       [9.87147374e-01, 1.28526258e-02],\n",
              "       [8.96745673e-01, 1.03254327e-01],\n",
              "       [9.18575866e-01, 8.14241344e-02],\n",
              "       [8.58939710e-01, 1.41060290e-01],\n",
              "       [3.33849764e-01, 6.66150236e-01],\n",
              "       [9.13061040e-01, 8.69389602e-02],\n",
              "       [6.61521259e-01, 3.38478741e-01],\n",
              "       [6.57665397e-01, 3.42334603e-01],\n",
              "       [9.95869785e-01, 4.13021543e-03],\n",
              "       [2.94171556e-02, 9.70582844e-01],\n",
              "       [9.26068197e-01, 7.39318033e-02],\n",
              "       [1.08667035e-01, 8.91332965e-01],\n",
              "       [9.92386725e-01, 7.61327543e-03],\n",
              "       [7.91877697e-03, 9.92081223e-01],\n",
              "       [7.76705110e-03, 9.92232949e-01]])"
            ]
          },
          "metadata": {},
          "execution_count": 39
        }
      ]
    },
    {
      "cell_type": "code",
      "source": [
        "# belonging to class1\n",
        "h_man = clf.predict_proba(X_train)[:, 1] > 0.5\n",
        "h_man"
      ],
      "metadata": {
        "colab": {
          "base_uri": "https://localhost:8080/"
        },
        "id": "vmYIDub5SNEv",
        "outputId": "1d3bc89a-6308-4476-f04d-c4aeec3434b7"
      },
      "execution_count": 40,
      "outputs": [
        {
          "output_type": "execute_result",
          "data": {
            "text/plain": [
              "array([False,  True, False, False, False, False,  True, False, False,\n",
              "       False,  True, False, False,  True,  True, False,  True,  True,\n",
              "       False,  True,  True, False,  True, False,  True, False, False,\n",
              "       False,  True,  True,  True,  True, False,  True,  True,  True,\n",
              "       False, False, False, False, False,  True,  True, False, False,\n",
              "       False, False, False, False, False, False, False,  True, False,\n",
              "       False, False, False, False,  True,  True,  True, False, False,\n",
              "       False,  True,  True, False,  True,  True,  True, False, False,\n",
              "       False,  True,  True, False, False, False, False,  True, False,\n",
              "       False, False,  True,  True, False,  True, False, False,  True,\n",
              "        True,  True,  True,  True, False, False, False,  True,  True,\n",
              "        True, False,  True, False,  True, False, False, False, False,\n",
              "       False,  True, False, False,  True, False, False,  True, False,\n",
              "       False, False, False, False, False, False,  True,  True, False,\n",
              "       False,  True,  True,  True, False,  True,  True, False,  True,\n",
              "        True, False, False,  True,  True, False, False,  True,  True,\n",
              "        True,  True, False,  True,  True, False, False,  True, False,\n",
              "       False, False,  True, False, False,  True,  True,  True,  True,\n",
              "       False, False,  True,  True, False, False,  True, False,  True,\n",
              "       False,  True,  True,  True,  True,  True, False, False,  True,\n",
              "        True,  True, False,  True, False, False, False, False, False,\n",
              "       False, False, False,  True, False, False, False, False, False,\n",
              "       False, False, False, False, False, False, False, False,  True,\n",
              "       False, False,  True, False, False,  True, False, False, False,\n",
              "       False, False,  True, False, False, False, False,  True, False,\n",
              "        True,  True,  True,  True, False, False,  True, False,  True,\n",
              "       False, False,  True, False, False, False, False, False, False,\n",
              "        True, False,  True,  True,  True,  True, False, False, False,\n",
              "        True, False, False, False, False,  True, False, False, False,\n",
              "        True, False, False,  True, False,  True, False, False,  True,\n",
              "        True, False, False, False, False, False,  True, False,  True,\n",
              "        True, False,  True, False, False, False,  True, False,  True,\n",
              "        True, False, False, False,  True, False, False, False, False,\n",
              "       False,  True,  True,  True,  True, False, False, False, False,\n",
              "       False, False, False,  True, False, False, False, False,  True,\n",
              "       False,  True, False,  True,  True])"
            ]
          },
          "metadata": {},
          "execution_count": 40
        }
      ]
    },
    {
      "cell_type": "code",
      "source": [
        "# these are the same\n",
        "np.mean(h_train == h_man)"
      ],
      "metadata": {
        "colab": {
          "base_uri": "https://localhost:8080/"
        },
        "id": "rnMDYfI_U_vU",
        "outputId": "e64667cd-de15-4b8f-8b39-4559f753755b"
      },
      "execution_count": 41,
      "outputs": [
        {
          "output_type": "execute_result",
          "data": {
            "text/plain": [
              "1.0"
            ]
          },
          "metadata": {},
          "execution_count": 41
        }
      ]
    },
    {
      "cell_type": "code",
      "source": [
        "# u can't use range in for because the index can't be float but u can use arange to create list\n",
        "np.arange(0,1.001, 0.01)"
      ],
      "metadata": {
        "colab": {
          "base_uri": "https://localhost:8080/"
        },
        "id": "lhvwcgP-Wq1h",
        "outputId": "62b8ccba-3b42-419e-b160-f488e9b1cb1a"
      },
      "execution_count": 42,
      "outputs": [
        {
          "output_type": "execute_result",
          "data": {
            "text/plain": [
              "array([0.  , 0.01, 0.02, 0.03, 0.04, 0.05, 0.06, 0.07, 0.08, 0.09, 0.1 ,\n",
              "       0.11, 0.12, 0.13, 0.14, 0.15, 0.16, 0.17, 0.18, 0.19, 0.2 , 0.21,\n",
              "       0.22, 0.23, 0.24, 0.25, 0.26, 0.27, 0.28, 0.29, 0.3 , 0.31, 0.32,\n",
              "       0.33, 0.34, 0.35, 0.36, 0.37, 0.38, 0.39, 0.4 , 0.41, 0.42, 0.43,\n",
              "       0.44, 0.45, 0.46, 0.47, 0.48, 0.49, 0.5 , 0.51, 0.52, 0.53, 0.54,\n",
              "       0.55, 0.56, 0.57, 0.58, 0.59, 0.6 , 0.61, 0.62, 0.63, 0.64, 0.65,\n",
              "       0.66, 0.67, 0.68, 0.69, 0.7 , 0.71, 0.72, 0.73, 0.74, 0.75, 0.76,\n",
              "       0.77, 0.78, 0.79, 0.8 , 0.81, 0.82, 0.83, 0.84, 0.85, 0.86, 0.87,\n",
              "       0.88, 0.89, 0.9 , 0.91, 0.92, 0.93, 0.94, 0.95, 0.96, 0.97, 0.98,\n",
              "       0.99, 1.  ])"
            ]
          },
          "metadata": {},
          "execution_count": 42
        }
      ]
    },
    {
      "cell_type": "code",
      "source": [
        "# we can change the threshold\n",
        "test_recalls = []\n",
        "test_precisions = []\n",
        "\n",
        "for th in np.arange(0,1, 0.01):\n",
        "  h_train = clf.predict_proba(X_train)[:, 1] > th\n",
        "  h_test = clf.predict_proba(X_test)[:, 1] > th\n",
        "\n",
        "  test_recalls.append(recall_score(y_test,h_test))\n",
        "  test_precisions.append(precision_score(y_test,h_test))\n",
        "\n",
        "  # print(\"test recall: \", recall_score(y_test,h_test))\n",
        "  # print(\"test precision: \", precision_score(y_test,h_test))\n",
        "\n",
        "  # print(\"train recall: \", recall_score(y_train,h_train))\n",
        "  # print(\"train precision: \", precision_score(y_train,h_train))\n",
        "\n",
        "plt.plot(np.arange(0,1, 0.01), test_recalls, 'r-', label=\"recall\")\n",
        "plt.plot(np.arange(0,1, 0.01), test_precisions, 'b-', label=\"precision\")\n",
        "plt.legend()\n",
        "\n",
        "# the precision and recall grow in opposite directions"
      ],
      "metadata": {
        "id": "8SbVuPmWVQCw",
        "colab": {
          "base_uri": "https://localhost:8080/",
          "height": 0
        },
        "outputId": "d590de6b-a695-4826-e0a4-f50c9625397e"
      },
      "execution_count": 43,
      "outputs": [
        {
          "output_type": "stream",
          "name": "stderr",
          "text": [
            "/usr/local/lib/python3.7/dist-packages/sklearn/metrics/_classification.py:1318: UndefinedMetricWarning: Precision is ill-defined and being set to 0.0 due to no predicted samples. Use `zero_division` parameter to control this behavior.\n",
            "  _warn_prf(average, modifier, msg_start, len(result))\n"
          ]
        },
        {
          "output_type": "execute_result",
          "data": {
            "text/plain": [
              "<matplotlib.legend.Legend at 0x7f0bab2b9050>"
            ]
          },
          "metadata": {},
          "execution_count": 43
        },
        {
          "output_type": "display_data",
          "data": {
            "text/plain": [
              "<Figure size 432x288 with 1 Axes>"
            ],
            "image/png": "[encoded data removed]"
          },
          "metadata": {
            "needs_background": "light"
          }
        }
      ]
    },
    {
      "cell_type": "markdown",
      "metadata": {
        "id": "tfU3MufCWyXj"
      },
      "source": [
        "# F1-score"
      ]
    },
    {
      "cell_type": "code",
      "execution_count": 44,
      "metadata": {
        "id": "6iYLTiGgWyXl",
        "outputId": "bca89e21-fea8-461d-e53b-a943bca1a491",
        "colab": {
          "base_uri": "https://localhost:8080/"
        }
      },
      "outputs": [
        {
          "output_type": "stream",
          "name": "stdout",
          "text": [
            "test f1-score: 0.7719298245614035\n",
            "train f1-score: 0.8016528925619835\n"
          ]
        }
      ],
      "source": [
        "h_train = clf.predict(X_train)\n",
        "h_test = clf.predict(X_test)\n",
        "\n",
        "print('test f1-score:', f1_score(y_test, h_test))\n",
        "print('train f1-score:', f1_score(y_train, h_train))"
      ]
    },
    {
      "cell_type": "code",
      "source": [
        "# we can change the threshold\n",
        "test_recalls = []\n",
        "test_precisions = []\n",
        "test_f1 = []\n",
        "\n",
        "for th in np.arange(0,1, 0.01):\n",
        "  h_train = clf.predict_proba(X_train)[:, 1] > th\n",
        "  h_test = clf.predict_proba(X_test)[:, 1] > th\n",
        "\n",
        "  test_recalls.append(recall_score(y_test,h_test))\n",
        "  test_precisions.append(precision_score(y_test,h_test))\n",
        "  test_f1.append(f1_score(y_test,h_test))\n",
        "\n",
        "  # print(\"test recall: \", recall_score(y_test,h_test))\n",
        "  # print(\"test precision: \", precision_score(y_test,h_test))\n",
        "\n",
        "  # print(\"train recall: \", recall_score(y_train,h_train))\n",
        "  # print(\"train precision: \", precision_score(y_train,h_train))\n",
        "\n",
        "plt.plot(np.arange(0,1, 0.01), test_recalls, 'r-', label=\"recall\")\n",
        "plt.plot(np.arange(0,1, 0.01), test_precisions, 'b-', label=\"precision\")\n",
        "plt.plot(np.arange(0,1, 0.01), test_f1, 'g-', label=\"f1\")\n",
        "plt.legend()\n",
        "\n",
        "# f1 is harmonic average of precision and recall > we can find point that both of them are max > th=0.6 probably is good one"
      ],
      "metadata": {
        "colab": {
          "base_uri": "https://localhost:8080/",
          "height": 0
        },
        "id": "o9cX2ks1XZID",
        "outputId": "c17fecfd-2bfd-4485-aeee-6be70854e926"
      },
      "execution_count": 45,
      "outputs": [
        {
          "output_type": "stream",
          "name": "stderr",
          "text": [
            "/usr/local/lib/python3.7/dist-packages/sklearn/metrics/_classification.py:1318: UndefinedMetricWarning: Precision is ill-defined and being set to 0.0 due to no predicted samples. Use `zero_division` parameter to control this behavior.\n",
            "  _warn_prf(average, modifier, msg_start, len(result))\n"
          ]
        },
        {
          "output_type": "execute_result",
          "data": {
            "text/plain": [
              "<matplotlib.legend.Legend at 0x7f0ba88e17d0>"
            ]
          },
          "metadata": {},
          "execution_count": 45
        },
        {
          "output_type": "display_data",
          "data": {
            "text/plain": [
              "<Figure size 432x288 with 1 Axes>"
            ],
            "image/png": "[encoded data removed]"
          },
          "metadata": {
            "needs_background": "light"
          }
        }
      ]
    },
    {
      "cell_type": "markdown",
      "metadata": {
        "id": "H3hnverRWyXm"
      },
      "source": [
        "# ROC - AUC"
      ]
    },
    {
      "cell_type": "code",
      "execution_count": 46,
      "metadata": {
        "id": "V4wrJs1-WyXm",
        "outputId": "11bb40c3-8f63-4d5d-fcd4-b3e247a41d51",
        "colab": {
          "base_uri": "https://localhost:8080/"
        }
      },
      "outputs": [
        {
          "output_type": "stream",
          "name": "stdout",
          "text": [
            "test ROC-AUC: 0.9105520614954578\n",
            "train ROC-AUC: 0.932196585530764\n"
          ]
        }
      ],
      "source": [
        "# change the threshold and find the TP and FP rate > like what we did\n",
        "# because of this loop unlike other metrics it needs the probability of classes not just classes\n",
        "# we need class 1 because more than threshold > the class is 1\n",
        "# we can't decide based on roc score > u have to compare it with others\n",
        "h_test = clf.predict_proba(X_test)[:, 1]\n",
        "h_train = clf.predict_proba(X_train)[:, 1]\n",
        "\n",
        "print('test ROC-AUC:', roc_auc_score(y_test, h_test))\n",
        "print('train ROC-AUC:', roc_auc_score(y_train, h_train))"
      ]
    },
    {
      "cell_type": "code",
      "execution_count": 47,
      "metadata": {
        "id": "awvPL3e4WyXn",
        "outputId": "8518087f-1087-4dc1-8004-b7b238f2e97a",
        "colab": {
          "base_uri": "https://localhost:8080/"
        }
      },
      "outputs": [
        {
          "output_type": "stream",
          "name": "stdout",
          "text": [
            "0.9105520614954578\n",
            "0.9105520614954578\n",
            "0.8979734451432565\n",
            "0.9105520614954578\n"
          ]
        }
      ],
      "source": [
        "# balanced is better\n",
        "models = [\n",
        "          LogisticRegression(class_weight='balanced'), \n",
        "          LogisticRegression(),\n",
        "          LogisticRegression(C=0.00001),\n",
        "          LogisticRegression(C=100000)\n",
        "          ]\n",
        "\n",
        "for model in models:\n",
        "    model.fit(X_train, y_train)\n",
        "    h_test = model.predict_proba(X_test)[:, 1]\n",
        "    \n",
        "    print(roc_auc_score(y_test, h_test))"
      ]
    },
    {
      "cell_type": "markdown",
      "source": [
        "# Learning Curve"
      ],
      "metadata": {
        "id": "JODU0YIGay-d"
      }
    },
    {
      "cell_type": "code",
      "execution_count": 48,
      "metadata": {
        "scrolled": true,
        "id": "AbF4mnSnWyXq"
      },
      "outputs": [],
      "source": [
        "clf = LogisticRegression(class_weight='balanced')\n",
        "\n",
        "# it doesn't need to first fit / train test splt / cv=cross validation\n",
        "# groups > u split the train and test datas \n",
        "# train_size > with what proportion of data it will train\n",
        "train_sizes, train_score, test_score = learning_curve(clf, X, y, cv=5)"
      ]
    },
    {
      "cell_type": "code",
      "source": [
        "train_sizes \n",
        "# the number of data that used to train"
      ],
      "metadata": {
        "colab": {
          "base_uri": "https://localhost:8080/"
        },
        "id": "XqQX89JSbvGN",
        "outputId": "98b8a5a5-96d1-4cf7-cd56-27084764ab8b"
      },
      "execution_count": 49,
      "outputs": [
        {
          "output_type": "execute_result",
          "data": {
            "text/plain": [
              "array([ 32, 104, 176, 248, 320])"
            ]
          },
          "metadata": {},
          "execution_count": 49
        }
      ]
    },
    {
      "cell_type": "code",
      "source": [
        "train_score"
      ],
      "metadata": {
        "colab": {
          "base_uri": "https://localhost:8080/"
        },
        "id": "QhClLB9gb70F",
        "outputId": "dc8fd3bd-4d97-4588-d94c-bf23ece4aa8e"
      },
      "execution_count": 50,
      "outputs": [
        {
          "output_type": "execute_result",
          "data": {
            "text/plain": [
              "array([[0.65625   , 0.28125   , 0.28125   , 0.28125   , 0.28125   ],\n",
              "       [0.38461538, 0.38461538, 0.38461538, 0.38461538, 0.38461538],\n",
              "       [0.38636364, 0.38636364, 0.38068182, 0.38068182, 0.38068182],\n",
              "       [0.35483871, 0.35483871, 0.35080645, 0.35080645, 0.37096774],\n",
              "       [0.359375  , 0.359375  , 0.35625   , 0.35625   , 0.35625   ]])"
            ]
          },
          "metadata": {},
          "execution_count": 50
        }
      ]
    },
    {
      "cell_type": "code",
      "execution_count": 51,
      "metadata": {
        "id": "RtpY_SuTWyXr",
        "outputId": "23687c94-1bb9-49e4-86e7-56c63a937650",
        "colab": {
          "base_uri": "https://localhost:8080/",
          "height": 283
        }
      },
      "outputs": [
        {
          "output_type": "execute_result",
          "data": {
            "text/plain": [
              "<matplotlib.legend.Legend at 0x7f0ba83f9c50>"
            ]
          },
          "metadata": {},
          "execution_count": 51
        },
        {
          "output_type": "display_data",
          "data": {
            "text/plain": [
              "<Figure size 432x288 with 1 Axes>"
            ],
            "image/png": "[encoded data removed]"
          },
          "metadata": {
            "needs_background": "light"
          }
        }
      ],
      "source": [
        "plt.plot(train_sizes, train_score.mean(axis=1), 'go-', label=\"train\")\n",
        "plt.plot(train_sizes, test_score.mean(axis=1), 'bo-', label=\"test\")\n",
        "plt.legend()"
      ]
    },
    {
      "cell_type": "code",
      "source": [
        "# learning curve with normalized data\n",
        "train_sizes, train_score, test_score = learning_curve(clf, X_train, y_train, cv=5,\n",
        "                                                      train_sizes=np.arange(0.1,1.1,0.1))\n",
        "\n",
        "plt.plot(train_sizes, train_score.mean(axis=1), 'go-', label=\"train\")\n",
        "plt.plot(train_sizes, test_score.mean(axis=1), 'bo-', label=\"test\")\n",
        "plt.legend()"
      ],
      "metadata": {
        "colab": {
          "base_uri": "https://localhost:8080/",
          "height": 284
        },
        "id": "zeXBXA7obmeC",
        "outputId": "acc43120-e21c-468a-f363-d2afabdbe425"
      },
      "execution_count": 52,
      "outputs": [
        {
          "output_type": "execute_result",
          "data": {
            "text/plain": [
              "<matplotlib.legend.Legend at 0x7f0ba8387850>"
            ]
          },
          "metadata": {},
          "execution_count": 52
        },
        {
          "output_type": "display_data",
          "data": {
            "text/plain": [
              "<Figure size 432x288 with 1 Axes>"
            ],
            "image/png": "[encoded data removed]"
          },
          "metadata": {
            "needs_background": "light"
          }
        }
      ]
    },
    {
      "cell_type": "code",
      "source": [
        "# one of the ways we can define whether adding data is suitable for increasing the performance is learning curve\n",
        "# at the end the curve will flatten > adding data is useless > modify the model itself\n",
        "train_sizes, train_score, test_score = learning_curve(clf, X_train, y_train, cv=5,\n",
        "                                                      train_sizes=np.arange(0.1,1,0.01))\n",
        "\n",
        "plt.plot(train_sizes, train_score.mean(axis=1), 'go-', label=\"train\")\n",
        "plt.plot(train_sizes, test_score.mean(axis=1), 'bo-', label=\"test\")\n",
        "plt.legend()"
      ],
      "metadata": {
        "id": "zk0X937JcQlY",
        "outputId": "a1a2887d-5160-4ba6-97b3-759d6bb32ce6",
        "colab": {
          "base_uri": "https://localhost:8080/",
          "height": 284
        }
      },
      "execution_count": 54,
      "outputs": [
        {
          "output_type": "execute_result",
          "data": {
            "text/plain": [
              "<matplotlib.legend.Legend at 0x7f0ba8244f50>"
            ]
          },
          "metadata": {},
          "execution_count": 54
        },
        {
          "output_type": "display_data",
          "data": {
            "text/plain": [
              "<Figure size 432x288 with 1 Axes>"
            ],
            "image/png": "[encoded data removed]"
          },
          "metadata": {
            "needs_background": "light"
          }
        }
      ]
    },
    {
      "cell_type": "code",
      "source": [],
      "metadata": {
        "id": "j2t3TEsPZ_8Y"
      },
      "execution_count": null,
      "outputs": []
    }
  ],
  "metadata": {
    "kernelspec": {
      "display_name": "Python 3",
      "language": "python",
      "name": "python3"
    },
    "language_info": {
      "codemirror_mode": {
        "name": "ipython",
        "version": 3
      },
      "file_extension": ".py",
      "mimetype": "text/x-python",
      "name": "python",
      "nbconvert_exporter": "python",
      "pygments_lexer": "ipython3",
      "version": "3.6.9"
    },
    "colab": {
      "provenance": [],
      "include_colab_link": true
    },
    "gpuClass": "standard"
  },
  "nbformat": 4,
  "nbformat_minor": 0
}