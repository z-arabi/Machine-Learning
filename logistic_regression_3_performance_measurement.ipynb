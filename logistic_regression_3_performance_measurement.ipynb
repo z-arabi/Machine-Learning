{
  "cells": [
    {
      "cell_type": "markdown",
      "metadata": {
        "id": "view-in-github",
        "colab_type": "text"
      },
      "source": [
        "<a href=\"https://colab.research.google.com/github/z-arabi/Machine-Learning/blob/main/logistic_regression_3_performance_measurement.ipynb\" target=\"_parent\"><img src=\"https://colab.research.google.com/assets/colab-badge.svg\" alt=\"Open In Colab\"/></a>"
      ]
    },
    {
      "cell_type": "code",
      "source": [
        "!git clone https://github.com/z-arabi/Machine-Learning.git\n",
        "%cd Machine-Learning"
      ],
      "metadata": {
        "colab": {
          "base_uri": "https://localhost:8080/"
        },
        "id": "au45NcerW8kA",
        "outputId": "2096404a-585b-49c4-bf98-e2a7b5bc10fb"
      },
      "execution_count": 1,
      "outputs": [
        {
          "output_type": "stream",
          "name": "stdout",
          "text": [
            "Cloning into 'Machine-Learning'...\n",
            "remote: Enumerating objects: 130, done.\u001b[K\n",
            "remote: Counting objects: 100% (18/18), done.\u001b[K\n",
            "remote: Compressing objects: 100% (12/12), done.\u001b[K\n",
            "remote: Total 130 (delta 6), reused 18 (delta 6), pack-reused 112\u001b[K\n",
            "Receiving objects: 100% (130/130), 31.66 MiB | 20.31 MiB/s, done.\n",
            "Resolving deltas: 100% (52/52), done.\n",
            "/content/Machine-Learning\n"
          ]
        }
      ]
    },
    {
      "cell_type": "code",
      "execution_count": 2,
      "metadata": {
        "id": "AAKupHEaWyWk"
      },
      "outputs": [],
      "source": [
        "import pandas as pd\n",
        "import matplotlib.pyplot as plt\n",
        "import numpy as np\n",
        "%matplotlib inline\n",
        "\n",
        "from sklearn.linear_model import LogisticRegression\n",
        "# Learnig curve in sklearn is the old version\n",
        "from sklearn.model_selection import train_test_split, KFold, learning_curve\n",
        "from sklearn.metrics import accuracy_score, precision_score, recall_score, f1_score, roc_auc_score"
      ]
    },
    {
      "cell_type": "code",
      "execution_count": 3,
      "metadata": {
        "colab": {
          "base_uri": "https://localhost:8080/",
          "height": 228
        },
        "id": "O3ljBMNVWyWy",
        "outputId": "07c6d047-8e76-478c-a51b-6d3afc4beea4"
      },
      "outputs": [
        {
          "output_type": "execute_result",
          "data": {
            "text/plain": [
              "   Gender  Age  EstimatedSalary  Purchased\n",
              "0    Male   19            19000          0\n",
              "1    Male   35            20000          0\n",
              "2  Female   26            43000          0\n",
              "3  Female   27            57000          0\n",
              "4    Male   19            76000          0"
            ],
            "text/html": [
              "\n",
              "  <div id=\"df-561cafe7-c516-4676-82d7-2cf60623eafa\">\n",
              "    <div class=\"colab-df-container\">\n",
              "      <div>\n",
              "<style scoped>\n",
              "    .dataframe tbody tr th:only-of-type {\n",
              "        vertical-align: middle;\n",
              "    }\n",
              "\n",
              "    .dataframe tbody tr th {\n",
              "        vertical-align: top;\n",
              "    }\n",
              "\n",
              "    .dataframe thead th {\n",
              "        text-align: right;\n",
              "    }\n",
              "</style>\n",
              "<table border=\"1\" class=\"dataframe\">\n",
              "  <thead>\n",
              "    <tr style=\"text-align: right;\">\n",
              "      <th></th>\n",
              "      <th>Gender</th>\n",
              "      <th>Age</th>\n",
              "      <th>EstimatedSalary</th>\n",
              "      <th>Purchased</th>\n",
              "    </tr>\n",
              "  </thead>\n",
              "  <tbody>\n",
              "    <tr>\n",
              "      <th>0</th>\n",
              "      <td>Male</td>\n",
              "      <td>19</td>\n",
              "      <td>19000</td>\n",
              "      <td>0</td>\n",
              "    </tr>\n",
              "    <tr>\n",
              "      <th>1</th>\n",
              "      <td>Male</td>\n",
              "      <td>35</td>\n",
              "      <td>20000</td>\n",
              "      <td>0</td>\n",
              "    </tr>\n",
              "    <tr>\n",
              "      <th>2</th>\n",
              "      <td>Female</td>\n",
              "      <td>26</td>\n",
              "      <td>43000</td>\n",
              "      <td>0</td>\n",
              "    </tr>\n",
              "    <tr>\n",
              "      <th>3</th>\n",
              "      <td>Female</td>\n",
              "      <td>27</td>\n",
              "      <td>57000</td>\n",
              "      <td>0</td>\n",
              "    </tr>\n",
              "    <tr>\n",
              "      <th>4</th>\n",
              "      <td>Male</td>\n",
              "      <td>19</td>\n",
              "      <td>76000</td>\n",
              "      <td>0</td>\n",
              "    </tr>\n",
              "  </tbody>\n",
              "</table>\n",
              "</div>\n",
              "      <button class=\"colab-df-convert\" onclick=\"convertToInteractive('df-561cafe7-c516-4676-82d7-2cf60623eafa')\"\n",
              "              title=\"Convert this dataframe to an interactive table.\"\n",
              "              style=\"display:none;\">\n",
              "        \n",
              "  <svg xmlns=\"http://www.w3.org/2000/svg\" height=\"24px\"viewBox=\"0 0 24 24\"\n",
              "       width=\"24px\">\n",
              "    <path d=\"M0 0h24v24H0V0z\" fill=\"none\"/>\n",
              "    <path d=\"M18.56 5.44l.94 2.06.94-2.06 2.06-.94-2.06-.94-.94-2.06-.94 2.06-2.06.94zm-11 1L8.5 8.5l.94-2.06 2.06-.94-2.06-.94L8.5 2.5l-.94 2.06-2.06.94zm10 10l.94 2.06.94-2.06 2.06-.94-2.06-.94-.94-2.06-.94 2.06-2.06.94z\"/><path d=\"M17.41 7.96l-1.37-1.37c-.4-.4-.92-.59-1.43-.59-.52 0-1.04.2-1.43.59L10.3 9.45l-7.72 7.72c-.78.78-.78 2.05 0 2.83L4 21.41c.39.39.9.59 1.41.59.51 0 1.02-.2 1.41-.59l7.78-7.78 2.81-2.81c.8-.78.8-2.07 0-2.86zM5.41 20L4 18.59l7.72-7.72 1.47 1.35L5.41 20z\"/>\n",
              "  </svg>\n",
              "      </button>\n",
              "      \n",
              "  <style>\n",
              "    .colab-df-container {\n",
              "      display:flex;\n",
              "      flex-wrap:wrap;\n",
              "      gap: 12px;\n",
              "    }\n",
              "\n",
              "    .colab-df-convert {\n",
              "      background-color: #E8F0FE;\n",
              "      border: none;\n",
              "      border-radius: 50%;\n",
              "      cursor: pointer;\n",
              "      display: none;\n",
              "      fill: #1967D2;\n",
              "      height: 32px;\n",
              "      padding: 0 0 0 0;\n",
              "      width: 32px;\n",
              "    }\n",
              "\n",
              "    .colab-df-convert:hover {\n",
              "      background-color: #E2EBFA;\n",
              "      box-shadow: 0px 1px 2px rgba(60, 64, 67, 0.3), 0px 1px 3px 1px rgba(60, 64, 67, 0.15);\n",
              "      fill: #174EA6;\n",
              "    }\n",
              "\n",
              "    [theme=dark] .colab-df-convert {\n",
              "      background-color: #3B4455;\n",
              "      fill: #D2E3FC;\n",
              "    }\n",
              "\n",
              "    [theme=dark] .colab-df-convert:hover {\n",
              "      background-color: #434B5C;\n",
              "      box-shadow: 0px 1px 3px 1px rgba(0, 0, 0, 0.15);\n",
              "      filter: drop-shadow(0px 1px 2px rgba(0, 0, 0, 0.3));\n",
              "      fill: #FFFFFF;\n",
              "    }\n",
              "  </style>\n",
              "\n",
              "      <script>\n",
              "        const buttonEl =\n",
              "          document.querySelector('#df-561cafe7-c516-4676-82d7-2cf60623eafa button.colab-df-convert');\n",
              "        buttonEl.style.display =\n",
              "          google.colab.kernel.accessAllowed ? 'block' : 'none';\n",
              "\n",
              "        async function convertToInteractive(key) {\n",
              "          const element = document.querySelector('#df-561cafe7-c516-4676-82d7-2cf60623eafa');\n",
              "          const dataTable =\n",
              "            await google.colab.kernel.invokeFunction('convertToInteractive',\n",
              "                                                     [key], {});\n",
              "          if (!dataTable) return;\n",
              "\n",
              "          const docLinkHtml = 'Like what you see? Visit the ' +\n",
              "            '<a target=\"_blank\" href=https://colab.research.google.com/notebooks/data_table.ipynb>data table notebook</a>'\n",
              "            + ' to learn more about interactive tables.';\n",
              "          element.innerHTML = '';\n",
              "          dataTable['output_type'] = 'display_data';\n",
              "          await google.colab.output.renderOutput(dataTable, element);\n",
              "          const docLink = document.createElement('div');\n",
              "          docLink.innerHTML = docLinkHtml;\n",
              "          element.appendChild(docLink);\n",
              "        }\n",
              "      </script>\n",
              "    </div>\n",
              "  </div>\n",
              "  "
            ]
          },
          "metadata": {},
          "execution_count": 3
        }
      ],
      "source": [
        "df = pd.read_csv('./Datasets/Social_Network_Ads.csv')\n",
        "\n",
        "df.drop('User ID', axis=1, inplace=True)\n",
        "df.head(5)"
      ]
    },
    {
      "cell_type": "code",
      "execution_count": 4,
      "metadata": {
        "id": "ZDO6Ks7fWyW5"
      },
      "outputs": [],
      "source": [
        "# rather than giving df, columns > df.Gender for one series of the column\n",
        "# in this way the place of columns doesn't chane\n",
        "df.Gender = pd.get_dummies(df.Gender, drop_first=True)"
      ]
    },
    {
      "cell_type": "code",
      "source": [
        "df.head()"
      ],
      "metadata": {
        "colab": {
          "base_uri": "https://localhost:8080/",
          "height": 228
        },
        "id": "XZGQomC6XJ3x",
        "outputId": "ed197734-1db1-4c29-ed8d-7e3d4aeb4328"
      },
      "execution_count": 5,
      "outputs": [
        {
          "output_type": "execute_result",
          "data": {
            "text/plain": [
              "   Gender  Age  EstimatedSalary  Purchased\n",
              "0       1   19            19000          0\n",
              "1       1   35            20000          0\n",
              "2       0   26            43000          0\n",
              "3       0   27            57000          0\n",
              "4       1   19            76000          0"
            ],
            "text/html": [
              "\n",
              "  <div id=\"df-362a3690-5bac-431e-98fd-4fcc7068141a\">\n",
              "    <div class=\"colab-df-container\">\n",
              "      <div>\n",
              "<style scoped>\n",
              "    .dataframe tbody tr th:only-of-type {\n",
              "        vertical-align: middle;\n",
              "    }\n",
              "\n",
              "    .dataframe tbody tr th {\n",
              "        vertical-align: top;\n",
              "    }\n",
              "\n",
              "    .dataframe thead th {\n",
              "        text-align: right;\n",
              "    }\n",
              "</style>\n",
              "<table border=\"1\" class=\"dataframe\">\n",
              "  <thead>\n",
              "    <tr style=\"text-align: right;\">\n",
              "      <th></th>\n",
              "      <th>Gender</th>\n",
              "      <th>Age</th>\n",
              "      <th>EstimatedSalary</th>\n",
              "      <th>Purchased</th>\n",
              "    </tr>\n",
              "  </thead>\n",
              "  <tbody>\n",
              "    <tr>\n",
              "      <th>0</th>\n",
              "      <td>1</td>\n",
              "      <td>19</td>\n",
              "      <td>19000</td>\n",
              "      <td>0</td>\n",
              "    </tr>\n",
              "    <tr>\n",
              "      <th>1</th>\n",
              "      <td>1</td>\n",
              "      <td>35</td>\n",
              "      <td>20000</td>\n",
              "      <td>0</td>\n",
              "    </tr>\n",
              "    <tr>\n",
              "      <th>2</th>\n",
              "      <td>0</td>\n",
              "      <td>26</td>\n",
              "      <td>43000</td>\n",
              "      <td>0</td>\n",
              "    </tr>\n",
              "    <tr>\n",
              "      <th>3</th>\n",
              "      <td>0</td>\n",
              "      <td>27</td>\n",
              "      <td>57000</td>\n",
              "      <td>0</td>\n",
              "    </tr>\n",
              "    <tr>\n",
              "      <th>4</th>\n",
              "      <td>1</td>\n",
              "      <td>19</td>\n",
              "      <td>76000</td>\n",
              "      <td>0</td>\n",
              "    </tr>\n",
              "  </tbody>\n",
              "</table>\n",
              "</div>\n",
              "      <button class=\"colab-df-convert\" onclick=\"convertToInteractive('df-362a3690-5bac-431e-98fd-4fcc7068141a')\"\n",
              "              title=\"Convert this dataframe to an interactive table.\"\n",
              "              style=\"display:none;\">\n",
              "        \n",
              "  <svg xmlns=\"http://www.w3.org/2000/svg\" height=\"24px\"viewBox=\"0 0 24 24\"\n",
              "       width=\"24px\">\n",
              "    <path d=\"M0 0h24v24H0V0z\" fill=\"none\"/>\n",
              "    <path d=\"M18.56 5.44l.94 2.06.94-2.06 2.06-.94-2.06-.94-.94-2.06-.94 2.06-2.06.94zm-11 1L8.5 8.5l.94-2.06 2.06-.94-2.06-.94L8.5 2.5l-.94 2.06-2.06.94zm10 10l.94 2.06.94-2.06 2.06-.94-2.06-.94-.94-2.06-.94 2.06-2.06.94z\"/><path d=\"M17.41 7.96l-1.37-1.37c-.4-.4-.92-.59-1.43-.59-.52 0-1.04.2-1.43.59L10.3 9.45l-7.72 7.72c-.78.78-.78 2.05 0 2.83L4 21.41c.39.39.9.59 1.41.59.51 0 1.02-.2 1.41-.59l7.78-7.78 2.81-2.81c.8-.78.8-2.07 0-2.86zM5.41 20L4 18.59l7.72-7.72 1.47 1.35L5.41 20z\"/>\n",
              "  </svg>\n",
              "      </button>\n",
              "      \n",
              "  <style>\n",
              "    .colab-df-container {\n",
              "      display:flex;\n",
              "      flex-wrap:wrap;\n",
              "      gap: 12px;\n",
              "    }\n",
              "\n",
              "    .colab-df-convert {\n",
              "      background-color: #E8F0FE;\n",
              "      border: none;\n",
              "      border-radius: 50%;\n",
              "      cursor: pointer;\n",
              "      display: none;\n",
              "      fill: #1967D2;\n",
              "      height: 32px;\n",
              "      padding: 0 0 0 0;\n",
              "      width: 32px;\n",
              "    }\n",
              "\n",
              "    .colab-df-convert:hover {\n",
              "      background-color: #E2EBFA;\n",
              "      box-shadow: 0px 1px 2px rgba(60, 64, 67, 0.3), 0px 1px 3px 1px rgba(60, 64, 67, 0.15);\n",
              "      fill: #174EA6;\n",
              "    }\n",
              "\n",
              "    [theme=dark] .colab-df-convert {\n",
              "      background-color: #3B4455;\n",
              "      fill: #D2E3FC;\n",
              "    }\n",
              "\n",
              "    [theme=dark] .colab-df-convert:hover {\n",
              "      background-color: #434B5C;\n",
              "      box-shadow: 0px 1px 3px 1px rgba(0, 0, 0, 0.15);\n",
              "      filter: drop-shadow(0px 1px 2px rgba(0, 0, 0, 0.3));\n",
              "      fill: #FFFFFF;\n",
              "    }\n",
              "  </style>\n",
              "\n",
              "      <script>\n",
              "        const buttonEl =\n",
              "          document.querySelector('#df-362a3690-5bac-431e-98fd-4fcc7068141a button.colab-df-convert');\n",
              "        buttonEl.style.display =\n",
              "          google.colab.kernel.accessAllowed ? 'block' : 'none';\n",
              "\n",
              "        async function convertToInteractive(key) {\n",
              "          const element = document.querySelector('#df-362a3690-5bac-431e-98fd-4fcc7068141a');\n",
              "          const dataTable =\n",
              "            await google.colab.kernel.invokeFunction('convertToInteractive',\n",
              "                                                     [key], {});\n",
              "          if (!dataTable) return;\n",
              "\n",
              "          const docLinkHtml = 'Like what you see? Visit the ' +\n",
              "            '<a target=\"_blank\" href=https://colab.research.google.com/notebooks/data_table.ipynb>data table notebook</a>'\n",
              "            + ' to learn more about interactive tables.';\n",
              "          element.innerHTML = '';\n",
              "          dataTable['output_type'] = 'display_data';\n",
              "          await google.colab.output.renderOutput(dataTable, element);\n",
              "          const docLink = document.createElement('div');\n",
              "          docLink.innerHTML = docLinkHtml;\n",
              "          element.appendChild(docLink);\n",
              "        }\n",
              "      </script>\n",
              "    </div>\n",
              "  </div>\n",
              "  "
            ]
          },
          "metadata": {},
          "execution_count": 5
        }
      ]
    },
    {
      "cell_type": "code",
      "execution_count": 6,
      "metadata": {
        "id": "9452W4hIWyW8"
      },
      "outputs": [],
      "source": [
        "X = df.to_numpy()"
      ]
    },
    {
      "cell_type": "code",
      "source": [
        "# random arrange\n",
        "print(X.shape[0])\n",
        "np.random.permutation(5)"
      ],
      "metadata": {
        "colab": {
          "base_uri": "https://localhost:8080/"
        },
        "id": "iECAbmSkYhh-",
        "outputId": "f93d3422-5543-4978-97c4-056f7f62f50a"
      },
      "execution_count": 7,
      "outputs": [
        {
          "output_type": "stream",
          "name": "stdout",
          "text": [
            "400\n"
          ]
        },
        {
          "output_type": "execute_result",
          "data": {
            "text/plain": [
              "array([0, 4, 2, 1, 3])"
            ]
          },
          "metadata": {},
          "execution_count": 7
        }
      ]
    },
    {
      "cell_type": "code",
      "execution_count": 8,
      "metadata": {
        "id": "7EU7qI7BWyXA"
      },
      "outputs": [],
      "source": [
        "# now we want to shuffle the data > change the place of rows > change the indexes\n",
        "np.random.seed = 0\n",
        "X = X[np.random.permutation(X.shape[0])]\n",
        "\n",
        "######################################\n",
        "# 2. inplace changes occur\n",
        "np.random.shuffle(X)"
      ]
    },
    {
      "cell_type": "code",
      "execution_count": 9,
      "metadata": {
        "id": "51C4TSsjWyXB"
      },
      "outputs": [],
      "source": [
        "y = X[:, -1]\n",
        "X = X[:, :-1]"
      ]
    },
    {
      "cell_type": "code",
      "source": [
        "# without this I couldn't get the score more than 0.62 > now=0.85\n",
        "X = (X - X.mean(axis=0)) / X.std(axis=0)"
      ],
      "metadata": {
        "id": "dq1OQpdcbHh-"
      },
      "execution_count": 10,
      "outputs": []
    },
    {
      "cell_type": "markdown",
      "metadata": {
        "id": "B8JFf9IiWyXD"
      },
      "source": [
        "# KFold"
      ]
    },
    {
      "cell_type": "code",
      "source": [
        "data_split = KFold(n_splits=5)\n",
        "data_split\n",
        "\n",
        "# data_split.split() > returns tuple > (train_inx, val_inx)"
      ],
      "metadata": {
        "colab": {
          "base_uri": "https://localhost:8080/"
        },
        "id": "T7-NVUaOZS_C",
        "outputId": "ba8ade28-e243-423d-9d24-29688256ec32"
      },
      "execution_count": 11,
      "outputs": [
        {
          "output_type": "execute_result",
          "data": {
            "text/plain": [
              "KFold(n_splits=5, random_state=None, shuffle=False)"
            ]
          },
          "metadata": {},
          "execution_count": 11
        }
      ]
    },
    {
      "cell_type": "code",
      "execution_count": 12,
      "metadata": {
        "scrolled": false,
        "colab": {
          "base_uri": "https://localhost:8080/",
          "height": 386
        },
        "id": "Pqw28WjXWyXI",
        "outputId": "b5a1a2d4-4b62-42f8-8b17-7340e59199da"
      },
      "outputs": [
        {
          "output_type": "stream",
          "name": "stdout",
          "text": [
            "320 80\n",
            "train acc = 0.85625 \tval acc = 0.85\n",
            "320 80\n",
            "train acc = 0.8625 \tval acc = 0.8\n",
            "320 80\n",
            "train acc = 0.83125 \tval acc = 0.8875\n",
            "320 80\n",
            "train acc = 0.859375 \tval acc = 0.8375\n",
            "320 80\n",
            "train acc = 0.846875 \tval acc = 0.8875\n",
            "the train score average 0.85125\n",
            "the validation score average 0.8524999999999998\n"
          ]
        },
        {
          "output_type": "execute_result",
          "data": {
            "text/plain": [
              "\"\\nwe can see the different outputs > decide better overfit or not > the model is ok\\nbecause in each shuffle maybe we choose the simpler data as train and harder data for validation\\nso with one time of training we can't for sure conclude\\n\\nwith normalization the scores will be better for sure\\nwhy for sure > because we have estimate salary and age > two cols ranges are way different\\n\""
            ],
            "application/vnd.google.colaboratory.intrinsic+json": {
              "type": "string"
            }
          },
          "metadata": {},
          "execution_count": 12
        }
      ],
      "source": [
        "# this should be x and y train\n",
        "train_score = 0\n",
        "val_score = 0\n",
        "for train_inx, val_idx in data_split.split(X, y):\n",
        "    print(len(train_inx), len(val_idx))\n",
        "    clf = LogisticRegression()\n",
        "    clf.fit(X[train_inx], y[train_inx])\n",
        "    print('train acc =', clf.score(X[train_inx], y[train_inx]), \n",
        "          '\\tval acc =', clf.score(X[val_idx], y[val_idx]))\n",
        "    train_score += clf.score(X[train_inx], y[train_inx])\n",
        "    val_score += clf.score(X[val_idx], y[val_idx])\n",
        "\n",
        "print('the train score average', train_score/data_split.n_splits)\n",
        "print('the validation score average', val_score/data_split.n_splits)\n",
        "\n",
        "'''\n",
        "we can see the different outputs > decide better overfit or not > the model is ok\n",
        "because in each shuffle maybe we choose the simpler data as train and harder data for validation\n",
        "so with one time of training we can't for sure conclude\n",
        "\n",
        "with normalization the scores will be better for sure\n",
        "why for sure > because we have estimate salary and age > two cols ranges are way different\n",
        "'''"
      ]
    },
    {
      "cell_type": "code",
      "source": [
        "'''\n",
        "we want to overfit the model\n",
        "for having polynomial features > 1. hstack(X,X**2,X**3) 2. Polynomial\n",
        "\n",
        "x = np.arange(-10, 30, 1).reshape(-1, 1)\n",
        "x_6 = np.hstack((x,x**2,x**3,x**4,x**5,x**6)) > just these degrees\n",
        "'''\n",
        "x = np.arange(-10, 30, 1).reshape(-1, 1)\n",
        "print(x.shape)\n",
        "\n",
        "x_6 = np.hstack((x,x**2,x**3,x**4,x**5,x**6))\n",
        "print(x_6.shape)\n",
        "\n",
        "print(np.vstack((x,x**2,x**3,x**4,x**5,x**6)).shape)\n",
        "\n",
        "print(\"****************************\")\n",
        "x = np.arange(-10, 30, 1)\n",
        "print(x.shape)\n",
        "\n",
        "# 1 means -1\n",
        "print(np.stack((x,x**2,x**3,x**4,x**5,x**6),axis=1).shape)\n",
        "\n",
        "print(np.stack((x,x**2,x**3,x**4,x**5,x**6),axis=0).shape)"
      ],
      "metadata": {
        "id": "NocPICj2MB5w",
        "outputId": "f7bc01bc-0bea-47c0-cf06-a49686bac08a",
        "colab": {
          "base_uri": "https://localhost:8080/"
        }
      },
      "execution_count": 17,
      "outputs": [
        {
          "output_type": "stream",
          "name": "stdout",
          "text": [
            "(40, 1)\n",
            "(40, 6)\n",
            "(240, 1)\n",
            "****************************\n",
            "(40,)\n",
            "(40, 6)\n",
            "(6, 40)\n"
          ]
        }
      ]
    },
    {
      "cell_type": "code",
      "source": [
        "'''\n",
        "polynomial > creates all of the sentences up to degree n > from 0 to n\n",
        "form [a, b], the degree-2 polynomial features are [1, a, b, a^2, ab, b^2]\n",
        "abc > 1 a b c a2 b2 c2 ab bc ac a3 b3 c3 abc a2b a2c b2c c2a c2b abc > 20\n",
        "'''\n",
        "\n",
        "from sklearn.preprocessing import PolynomialFeatures\n",
        "\n",
        "polynomial = PolynomialFeatures(degree=6)\n",
        "# fit > train/adjust\n",
        "# transfrom > predict\n",
        "# fit_transform > fit + predict > the input of all of the functions are based on the type whether they need y or not > if needed we have to pass the y too\n",
        "X_poly = polynomial.fit_transform(X)\n",
        "print(X.shape,X_poly.shape)"
      ],
      "metadata": {
        "id": "enN0cZRzt8vs",
        "colab": {
          "base_uri": "https://localhost:8080/"
        },
        "outputId": "0d61a064-024f-41fb-93a0-cd84e7cd1f47"
      },
      "execution_count": 18,
      "outputs": [
        {
          "output_type": "stream",
          "name": "stdout",
          "text": [
            "(400, 3) (400, 84)\n"
          ]
        }
      ]
    },
    {
      "cell_type": "code",
      "source": [
        "train_score = 0\n",
        "val_score = 0\n",
        "for train_inx, val_idx in data_split.split(X, y):\n",
        "    print(len(train_inx), len(val_idx))\n",
        "    clf = LogisticRegression(max_iter=100000)\n",
        "    clf.fit(X_poly[train_inx], y[train_inx])\n",
        "    print('train acc =', clf.score(X_poly[train_inx], y[train_inx]), \n",
        "          '\\tval acc =', clf.score(X_poly[val_idx], y[val_idx]))\n",
        "    train_score += clf.score(X_poly[train_inx], y[train_inx])\n",
        "    val_score += clf.score(X_poly[val_idx], y[val_idx])\n",
        "\n",
        "print('the train score average', train_score/data_split.n_splits)\n",
        "print('the validation score average', val_score/data_split.n_splits)\n",
        "\n",
        "# 1 or 2 percentage error is ok but more than that is not\n",
        "# train = 90 and validation = 90 is ok > how to know whether your model is overfitting > train acc + validation acc"
      ],
      "metadata": {
        "colab": {
          "base_uri": "https://localhost:8080/"
        },
        "id": "QqkS6_cirQdz",
        "outputId": "0995d499-a520-43f8-fa01-8958ee0a7490"
      },
      "execution_count": 19,
      "outputs": [
        {
          "output_type": "stream",
          "name": "stdout",
          "text": [
            "320 80\n",
            "train acc = 0.921875 \tval acc = 0.85\n",
            "320 80\n",
            "train acc = 0.925 \tval acc = 0.8875\n",
            "320 80\n",
            "train acc = 0.925 \tval acc = 0.9125\n",
            "320 80\n",
            "train acc = 0.921875 \tval acc = 0.875\n",
            "320 80\n",
            "train acc = 0.9375 \tval acc = 0.9\n",
            "the train score average 0.9262499999999999\n",
            "the validation score average 0.885\n"
          ]
        }
      ]
    },
    {
      "cell_type": "code",
      "source": [
        "# now we have overfitted model > we can solve it by adding regularization\n",
        "# they use regularization by default > l2 and c=1 > in log reg > 1/c \n",
        "\n",
        "train_score = 0\n",
        "val_score = 0\n",
        "for train_inx, val_idx in data_split.split(X, y):\n",
        "    clf = LogisticRegression(max_iter=100000, C=100) # more overfit\n",
        "    clf.fit(X_poly[train_inx], y[train_inx])\n",
        "    # print('train acc =', clf.score(X_poly[train_inx], y[train_inx]), \n",
        "    #       '\\tval acc =', clf.score(X_poly[val_idx], y[val_idx]))\n",
        "    train_score += clf.score(X_poly[train_inx], y[train_inx])\n",
        "    val_score += clf.score(X_poly[val_idx], y[val_idx])\n",
        "\n",
        "print('the train score average', train_score/data_split.n_splits)\n",
        "print('the validation score average', val_score/data_split.n_splits)"
      ],
      "metadata": {
        "colab": {
          "base_uri": "https://localhost:8080/"
        },
        "id": "MTSziaADaTR8",
        "outputId": "eb2e1c22-b9fd-44a6-8b9a-e730d8c887d6"
      },
      "execution_count": 20,
      "outputs": [
        {
          "output_type": "stream",
          "name": "stdout",
          "text": [
            "the train score average 0.9425000000000001\n",
            "the validation score average 0.8699999999999999\n"
          ]
        }
      ]
    },
    {
      "cell_type": "code",
      "source": [
        "train_score = 0\n",
        "val_score = 0\n",
        "for train_inx, val_idx in data_split.split(X, y):\n",
        "    clf = LogisticRegression(max_iter=1000000, C=5e-5) # underfit model\n",
        "    clf.fit(X_poly[train_inx], y[train_inx])\n",
        "    # print('train acc =', clf.score(X_poly[train_inx], y[train_inx]), \n",
        "    #       '\\tval acc =', clf.score(X_poly[val_idx], y[val_idx]))\n",
        "    train_score += clf.score(X_poly[train_inx], y[train_inx])\n",
        "    val_score += clf.score(X_poly[val_idx], y[val_idx])\n",
        "print('the train score average', train_score/data_split.n_splits)\n",
        "print('the validation score average', val_score/data_split.n_splits)"
      ],
      "metadata": {
        "colab": {
          "base_uri": "https://localhost:8080/"
        },
        "id": "EA2a8kArbZSj",
        "outputId": "8418392f-c564-4a2f-bce5-40cd8bc1c1f1"
      },
      "execution_count": 21,
      "outputs": [
        {
          "output_type": "stream",
          "name": "stdout",
          "text": [
            "the train score average 0.758125\n",
            "the validation score average 0.7575000000000001\n"
          ]
        }
      ]
    },
    {
      "cell_type": "code",
      "source": [
        "'''\n",
        "the penalty parameter in the function > we have only l2 > C > 1/C > solver: lbfgs\n",
        "the penalty l1 > change the solver\n",
        "use lasso regression for l1\n",
        "GD > j=j-alpha*derivative\n",
        "solvers > Each solver tries to find the parameter weights that minimize a cost function.\n",
        "j'=j+alpha*(Wi**2)\n",
        "\n",
        "improve the term of regularization > more underfit\n",
        "decrease the term of regularization > more overfit\n",
        "\n",
        "https://towardsdatascience.com/dont-sweat-the-solver-stuff-aea7cddc3451\n",
        "\n",
        "Lasso regression changes are not to sensible regarding to the ridge regression\n",
        "'''\n",
        "train_score = 0\n",
        "val_score = 0\n",
        "for train_inx, val_idx in data_split.split(X, y):\n",
        "    clf = LogisticRegression(max_iter=1000, penalty='l1', solver=\"saga\", C=100000) # more overfit\n",
        "    clf.fit(X_poly[train_inx], y[train_inx])\n",
        "    # print('train acc =', clf.score(X_poly[train_inx], y[train_inx]), \n",
        "    #       '\\tval acc =', clf.score(X_poly[val_idx], y[val_idx]))\n",
        "    train_score += clf.score(X_poly[train_inx], y[train_inx])\n",
        "    val_score += clf.score(X_poly[val_idx], y[val_idx])\n",
        "\n",
        "print('the train score average', train_score/data_split.n_splits)\n",
        "print('the validation score average', val_score/data_split.n_splits)"
      ],
      "metadata": {
        "colab": {
          "base_uri": "https://localhost:8080/"
        },
        "id": "ZUYc8Shvb5iN",
        "outputId": "98e49690-a9e1-406b-97a3-ee6d85ee0127"
      },
      "execution_count": 22,
      "outputs": [
        {
          "output_type": "stream",
          "name": "stderr",
          "text": [
            "/usr/local/lib/python3.9/dist-packages/sklearn/linear_model/_sag.py:350: ConvergenceWarning: The max_iter was reached which means the coef_ did not converge\n",
            "  warnings.warn(\n",
            "/usr/local/lib/python3.9/dist-packages/sklearn/linear_model/_sag.py:350: ConvergenceWarning: The max_iter was reached which means the coef_ did not converge\n",
            "  warnings.warn(\n",
            "/usr/local/lib/python3.9/dist-packages/sklearn/linear_model/_sag.py:350: ConvergenceWarning: The max_iter was reached which means the coef_ did not converge\n",
            "  warnings.warn(\n",
            "/usr/local/lib/python3.9/dist-packages/sklearn/linear_model/_sag.py:350: ConvergenceWarning: The max_iter was reached which means the coef_ did not converge\n",
            "  warnings.warn(\n"
          ]
        },
        {
          "output_type": "stream",
          "name": "stdout",
          "text": [
            "the train score average 0.9\n",
            "the validation score average 0.885\n"
          ]
        },
        {
          "output_type": "stream",
          "name": "stderr",
          "text": [
            "/usr/local/lib/python3.9/dist-packages/sklearn/linear_model/_sag.py:350: ConvergenceWarning: The max_iter was reached which means the coef_ did not converge\n",
            "  warnings.warn(\n"
          ]
        }
      ]
    },
    {
      "cell_type": "code",
      "source": [
        "train_score = 0\n",
        "val_score = 0\n",
        "for train_inx, val_idx in data_split.split(X, y):\n",
        "    clf = LogisticRegression(max_iter=1000, penalty='l1', solver=\"saga\", C=5e-10) # more underfir\n",
        "    clf.fit(X_poly[train_inx], y[train_inx])\n",
        "    # print('train acc =', clf.score(X_poly[train_inx], y[train_inx]), \n",
        "    #       '\\tval acc =', clf.score(X_poly[val_idx], y[val_idx]))\n",
        "    train_score += clf.score(X_poly[train_inx], y[train_inx])\n",
        "    val_score += clf.score(X_poly[val_idx], y[val_idx])\n",
        "\n",
        "print('the train score average', train_score/data_split.n_splits)\n",
        "print('the validation score average', val_score/data_split.n_splits)"
      ],
      "metadata": {
        "id": "FBkFmFMmYfPi",
        "outputId": "457929fa-e6ce-4c68-b033-6b10462179c5",
        "colab": {
          "base_uri": "https://localhost:8080/"
        }
      },
      "execution_count": 23,
      "outputs": [
        {
          "output_type": "stream",
          "name": "stdout",
          "text": [
            "the train score average 0.6425\n",
            "the validation score average 0.6425\n"
          ]
        }
      ]
    },
    {
      "cell_type": "code",
      "source": [
        "C = [.001 , .01, .1, 1 , 10, 100 , 1000]\n",
        "\n",
        "for c in C:\n",
        "  train_score = 0\n",
        "  val_score = 0\n",
        "  for train_inx, val_idx in data_split.split(X, y):\n",
        "      clf = LogisticRegression(max_iter=100000, C=c)\n",
        "      clf.fit(X_poly[train_inx], y[train_inx])\n",
        "      train_score += clf.score(X_poly[train_inx], y[train_inx])\n",
        "      val_score += clf.score(X_poly[val_idx], y[val_idx])\n",
        "\n",
        "  print(f\"C is {c}---------\")\n",
        "  print('the train score average', train_score/data_split.n_splits)\n",
        "  print('the validation score average', val_score/data_split.n_splits)"
      ],
      "metadata": {
        "colab": {
          "base_uri": "https://localhost:8080/"
        },
        "id": "3RNhrAG4hkdy",
        "outputId": "8d18d17f-de2b-44d4-ea79-98dc003d8c45"
      },
      "execution_count": 24,
      "outputs": [
        {
          "output_type": "stream",
          "name": "stdout",
          "text": [
            "C is 0.001---------\n",
            "the train score average 0.81875\n",
            "the validation score average 0.8100000000000002\n",
            "C is 0.01---------\n",
            "the train score average 0.885\n",
            "the validation score average 0.8674999999999999\n",
            "C is 0.1---------\n",
            "the train score average 0.9087500000000001\n",
            "the validation score average 0.8700000000000001\n",
            "C is 1---------\n",
            "the train score average 0.9262499999999999\n",
            "the validation score average 0.885\n",
            "C is 10---------\n",
            "the train score average 0.9349999999999999\n",
            "the validation score average 0.8699999999999999\n",
            "C is 100---------\n",
            "the train score average 0.9425000000000001\n",
            "the validation score average 0.8699999999999999\n",
            "C is 1000---------\n",
            "the train score average 0.946875\n",
            "the validation score average 0.8575000000000002\n"
          ]
        }
      ]
    },
    {
      "cell_type": "code",
      "source": [
        "clf = LogisticRegression()\n",
        "clf.fit(X_poly,y)\n",
        "print(clf.coef_)"
      ],
      "metadata": {
        "id": "2FshBQyYGR3t",
        "outputId": "726ce0be-b477-4b41-8b9e-3c2e0d3e477b",
        "colab": {
          "base_uri": "https://localhost:8080/"
        }
      },
      "execution_count": 25,
      "outputs": [
        {
          "output_type": "stream",
          "name": "stdout",
          "text": [
            "[[-0.45759351  0.06157957  0.69264058  1.02220286 -0.45512984 -0.06644674\n",
            "   0.18270993  0.03492709 -0.27798196  0.57837265  0.04337073  0.68998218\n",
            "   1.02951272 -0.28410114  0.33663355 -0.14736614  0.22213237 -0.05214374\n",
            "   0.65010362 -0.14842218 -0.45339466 -0.03884193  0.22389868  0.02356077\n",
            "  -0.26451393  0.57247683 -0.02327964  0.17545305  0.07562842 -0.16355473\n",
            "  -0.22881675 -0.24211309  0.17589636 -0.48169014 -0.57981908  0.02523132\n",
            "   0.68842819  1.03847046 -0.28315852  0.32605088 -0.12446249  0.221201\n",
            "  -0.04512421  0.65312937 -0.15496568  0.01008652  0.06422141  0.42447623\n",
            "  -0.62934212  0.62770342  0.19489188  0.20793921  0.09465739 -0.27378096\n",
            "   0.27345295 -0.10500799 -0.45238521 -0.01129929  0.2654458   0.01223217\n",
            "  -0.25146928  0.56749733 -0.01442983  0.17364772  0.10175882 -0.16975459\n",
            "  -0.22841321 -0.23954372  0.1928788  -0.50686886 -0.55470592  0.32792611\n",
            "   0.14078262  0.32927926 -0.097312   -0.0583213  -0.24289556  0.06230589\n",
            "   0.18685394  0.06667     0.24349926  0.04410746 -0.27091614  0.28616329]]\n"
          ]
        },
        {
          "output_type": "stream",
          "name": "stderr",
          "text": [
            "/usr/local/lib/python3.9/dist-packages/sklearn/linear_model/_logistic.py:458: ConvergenceWarning: lbfgs failed to converge (status=1):\n",
            "STOP: TOTAL NO. of ITERATIONS REACHED LIMIT.\n",
            "\n",
            "Increase the number of iterations (max_iter) or scale the data as shown in:\n",
            "    https://scikit-learn.org/stable/modules/preprocessing.html\n",
            "Please also refer to the documentation for alternative solver options:\n",
            "    https://scikit-learn.org/stable/modules/linear_model.html#logistic-regression\n",
            "  n_iter_i = _check_optimize_result(\n"
          ]
        }
      ]
    },
    {
      "cell_type": "code",
      "source": [
        "# up to now > chnage the c in the parameters of another model \n",
        "# now import each penalty directly as classifier\n",
        "from sklearn.linear_model import Ridge, Lasso\n",
        "\n",
        "# params: fit_intercept > bias / copy / ...\n",
        "clf = Ridge(alpha=1000) # very strong regularization\n",
        "clf.fit(X_poly,y)\n",
        "\n",
        "# as you see the coef are too small\n",
        "print(clf.coef_)"
      ],
      "metadata": {
        "id": "O4HV9XaVFW2k",
        "outputId": "23ac1e64-2a86-4987-8469-6c0291bc7368",
        "colab": {
          "base_uri": "https://localhost:8080/"
        }
      },
      "execution_count": 26,
      "outputs": [
        {
          "output_type": "stream",
          "name": "stdout",
          "text": [
            "[ 0.00000000e+00  1.39844596e-03  2.46742675e-02  1.31190808e-02\n",
            "  5.59490292e-05 -3.93624175e-04  3.91021314e-03  9.73997141e-03\n",
            " -6.81337377e-03  1.58984000e-02  1.40068436e-03  2.46585194e-02\n",
            "  1.32755206e-02 -7.40175894e-05 -7.49004153e-04  2.42370234e-03\n",
            "  2.04937600e-02 -3.47481606e-03  1.38623174e-02  9.25933812e-03\n",
            "  1.11987613e-04  5.92913928e-04  4.44134020e-03  9.73701011e-03\n",
            " -6.84333993e-03  1.59953674e-02  3.99303193e-05 -4.87074930e-04\n",
            " -1.35872722e-03  7.53084513e-04  1.07403151e-02 -2.47738985e-03\n",
            "  7.81652763e-03 -1.18985039e-02  1.72499882e-02  1.40516477e-03\n",
            "  2.46822407e-02  1.34532098e-02  3.15540735e-04 -1.02279251e-03\n",
            "  3.06364504e-03  2.04953576e-02 -3.49430295e-03  1.38079574e-02\n",
            "  9.28946753e-03  1.27133283e-03 -2.92107488e-04 -2.67566721e-04\n",
            " -7.37228069e-03  3.56934098e-03  5.77689311e-04 -3.08486225e-03\n",
            "  7.73797134e-04 -1.17376488e-02  1.45250329e-02  5.57207578e-04\n",
            "  1.68205448e-04  1.58040107e-03  4.97957625e-03  9.74963427e-03\n",
            " -6.88425981e-03  1.61179378e-02  8.59908634e-04 -6.26875011e-04\n",
            " -8.06298423e-04  1.12473755e-03  1.07911786e-02 -2.48907649e-03\n",
            "  7.80582282e-03 -1.21934541e-02  1.73927904e-02  8.16594227e-04\n",
            " -2.35805614e-03 -1.09422259e-03 -5.52423423e-04  2.84526931e-03\n",
            " -3.54454402e-03 -5.65534834e-03  7.52097284e-03 -3.20877941e-03\n",
            " -3.66523932e-03  3.95369245e-03 -7.50609250e-03 -5.19216260e-03]\n"
          ]
        }
      ]
    },
    {
      "cell_type": "code",
      "source": [
        "clf = Lasso(alpha=2) # very strong regularization\n",
        "clf.fit(X_poly,y)\n",
        "# coef zero\n",
        "print(clf.coef_)"
      ],
      "metadata": {
        "id": "qkYlNeEfGb7O",
        "outputId": "b10ed674-0795-4041-f4b8-1d8a04f93679",
        "colab": {
          "base_uri": "https://localhost:8080/"
        }
      },
      "execution_count": 27,
      "outputs": [
        {
          "output_type": "stream",
          "name": "stdout",
          "text": [
            "[ 0.         -0.          0.          0.         -0.         -0.\n",
            " -0.          0.         -0.          0.         -0.          0.\n",
            "  0.         -0.         -0.         -0.          0.          0.\n",
            "  0.          0.         -0.         -0.         -0.          0.\n",
            " -0.          0.         -0.         -0.         -0.         -0.\n",
            "  0.         -0.          0.         -0.          0.         -0.\n",
            "  0.          0.         -0.         -0.         -0.          0.\n",
            "  0.          0.          0.         -0.          0.         -0.\n",
            " -0.         -0.          0.          0.          0.          0.\n",
            "  0.          0.         -0.          0.          0.          0.\n",
            " -0.          0.         -0.         -0.         -0.         -0.\n",
            "  0.         -0.          0.         -0.          0.         -0.\n",
            " -0.         -0.         -0.         -0.         -0.          0.00031064\n",
            " -0.          0.          0.          0.          0.          0.00337646]\n"
          ]
        }
      ]
    },
    {
      "cell_type": "code",
      "source": [
        "# each penalty is like classifier that you can fit them on your data"
      ],
      "metadata": {
        "id": "nIoIZrI1HAEl"
      },
      "execution_count": 28,
      "outputs": []
    },
    {
      "cell_type": "markdown",
      "metadata": {
        "id": "Kzkmywq6WyXM"
      },
      "source": [
        "# train test split"
      ]
    },
    {
      "cell_type": "code",
      "source": [
        "# define the x again\n",
        "\n",
        "X = df.to_numpy()\n",
        "np.random.seed = 0\n",
        "X = X[np.random.permutation(X.shape[0])]\n",
        "y = X[:, -1]\n",
        "X = X[:, :-1]"
      ],
      "metadata": {
        "id": "x6_oPA3wYzv_"
      },
      "execution_count": 29,
      "outputs": []
    },
    {
      "cell_type": "code",
      "execution_count": 30,
      "metadata": {
        "id": "VyEDgyaCWyXP"
      },
      "outputs": [],
      "source": [
        "# 1. write yourself > first suffle the rows > second split X and y > split train test val\n",
        "split = int(X.shape[0] * 0.8)\n",
        "\n",
        "X_train = X[:split]\n",
        "y_train = y[:split]\n",
        "\n",
        "X_test = X[split:]\n",
        "y_test = y[split:]"
      ]
    },
    {
      "cell_type": "code",
      "source": [
        "# 2.\n",
        "# random_state = 1 / random_state = np.random.seed\n",
        "X_train, X_test = train_test_split(X, test_size=0.2, random_state=1)\n",
        "\n",
        "X_train, X_test, y_train, y_test = train_test_split(X, y, test_size=0.2, random_state=1)"
      ],
      "metadata": {
        "id": "tCKQgc9jIzSg"
      },
      "execution_count": 31,
      "outputs": []
    },
    {
      "cell_type": "code",
      "execution_count": 32,
      "metadata": {
        "id": "AdYjrVr6WyXS"
      },
      "outputs": [],
      "source": [
        "# normalization\n",
        "'''\n",
        "the correct way > split the data \n",
        "find the norm params on train dataset > use this to normalize all train, test, val\n",
        "\n",
        "we rarely normalize the y\n",
        "'''\n",
        "\n",
        "mean = X_train.mean(axis=0)\n",
        "std = X_train.std(axis=0)\n",
        "\n",
        "X_train = (X_train - mean) / std\n",
        "X_test = (X_test - mean) / std"
      ]
    },
    {
      "cell_type": "code",
      "execution_count": 33,
      "metadata": {
        "id": "JSfG5eCFWyXT"
      },
      "outputs": [],
      "source": [
        "# verbose ???\n",
        "clf = LogisticRegression(verbose=1, class_weight='balanced')"
      ]
    },
    {
      "cell_type": "code",
      "execution_count": 34,
      "metadata": {
        "id": "yca5C1oLWyXV",
        "outputId": "047baf4a-89bf-47f2-fcb8-01bc8539ed42",
        "colab": {
          "base_uri": "https://localhost:8080/",
          "height": 125
        }
      },
      "outputs": [
        {
          "output_type": "stream",
          "name": "stderr",
          "text": [
            "[Parallel(n_jobs=1)]: Using backend SequentialBackend with 1 concurrent workers.\n",
            "[Parallel(n_jobs=1)]: Done   1 out of   1 | elapsed:    0.0s finished\n"
          ]
        },
        {
          "output_type": "execute_result",
          "data": {
            "text/plain": [
              "LogisticRegression(class_weight='balanced', verbose=1)"
            ],
            "text/html": [
              "<style>#sk-container-id-1 {color: black;background-color: white;}#sk-container-id-1 pre{padding: 0;}#sk-container-id-1 div.sk-toggleable {background-color: white;}#sk-container-id-1 label.sk-toggleable__label {cursor: pointer;display: block;width: 100%;margin-bottom: 0;padding: 0.3em;box-sizing: border-box;text-align: center;}#sk-container-id-1 label.sk-toggleable__label-arrow:before {content: \"▸\";float: left;margin-right: 0.25em;color: #696969;}#sk-container-id-1 label.sk-toggleable__label-arrow:hover:before {color: black;}#sk-container-id-1 div.sk-estimator:hover label.sk-toggleable__label-arrow:before {color: black;}#sk-container-id-1 div.sk-toggleable__content {max-height: 0;max-width: 0;overflow: hidden;text-align: left;background-color: #f0f8ff;}#sk-container-id-1 div.sk-toggleable__content pre {margin: 0.2em;color: black;border-radius: 0.25em;background-color: #f0f8ff;}#sk-container-id-1 input.sk-toggleable__control:checked~div.sk-toggleable__content {max-height: 200px;max-width: 100%;overflow: auto;}#sk-container-id-1 input.sk-toggleable__control:checked~label.sk-toggleable__label-arrow:before {content: \"▾\";}#sk-container-id-1 div.sk-estimator input.sk-toggleable__control:checked~label.sk-toggleable__label {background-color: #d4ebff;}#sk-container-id-1 div.sk-label input.sk-toggleable__control:checked~label.sk-toggleable__label {background-color: #d4ebff;}#sk-container-id-1 input.sk-hidden--visually {border: 0;clip: rect(1px 1px 1px 1px);clip: rect(1px, 1px, 1px, 1px);height: 1px;margin: -1px;overflow: hidden;padding: 0;position: absolute;width: 1px;}#sk-container-id-1 div.sk-estimator {font-family: monospace;background-color: #f0f8ff;border: 1px dotted black;border-radius: 0.25em;box-sizing: border-box;margin-bottom: 0.5em;}#sk-container-id-1 div.sk-estimator:hover {background-color: #d4ebff;}#sk-container-id-1 div.sk-parallel-item::after {content: \"\";width: 100%;border-bottom: 1px solid gray;flex-grow: 1;}#sk-container-id-1 div.sk-label:hover label.sk-toggleable__label {background-color: #d4ebff;}#sk-container-id-1 div.sk-serial::before {content: \"\";position: absolute;border-left: 1px solid gray;box-sizing: border-box;top: 0;bottom: 0;left: 50%;z-index: 0;}#sk-container-id-1 div.sk-serial {display: flex;flex-direction: column;align-items: center;background-color: white;padding-right: 0.2em;padding-left: 0.2em;position: relative;}#sk-container-id-1 div.sk-item {position: relative;z-index: 1;}#sk-container-id-1 div.sk-parallel {display: flex;align-items: stretch;justify-content: center;background-color: white;position: relative;}#sk-container-id-1 div.sk-item::before, #sk-container-id-1 div.sk-parallel-item::before {content: \"\";position: absolute;border-left: 1px solid gray;box-sizing: border-box;top: 0;bottom: 0;left: 50%;z-index: -1;}#sk-container-id-1 div.sk-parallel-item {display: flex;flex-direction: column;z-index: 1;position: relative;background-color: white;}#sk-container-id-1 div.sk-parallel-item:first-child::after {align-self: flex-end;width: 50%;}#sk-container-id-1 div.sk-parallel-item:last-child::after {align-self: flex-start;width: 50%;}#sk-container-id-1 div.sk-parallel-item:only-child::after {width: 0;}#sk-container-id-1 div.sk-dashed-wrapped {border: 1px dashed gray;margin: 0 0.4em 0.5em 0.4em;box-sizing: border-box;padding-bottom: 0.4em;background-color: white;}#sk-container-id-1 div.sk-label label {font-family: monospace;font-weight: bold;display: inline-block;line-height: 1.2em;}#sk-container-id-1 div.sk-label-container {text-align: center;}#sk-container-id-1 div.sk-container {/* jupyter's `normalize.less` sets `[hidden] { display: none; }` but bootstrap.min.css set `[hidden] { display: none !important; }` so we also need the `!important` here to be able to override the default hidden behavior on the sphinx rendered scikit-learn.org. See: https://github.com/scikit-learn/scikit-learn/issues/21755 */display: inline-block !important;position: relative;}#sk-container-id-1 div.sk-text-repr-fallback {display: none;}</style><div id=\"sk-container-id-1\" class=\"sk-top-container\"><div class=\"sk-text-repr-fallback\"><pre>LogisticRegression(class_weight=&#x27;balanced&#x27;, verbose=1)</pre><b>In a Jupyter environment, please rerun this cell to show the HTML representation or trust the notebook. <br />On GitHub, the HTML representation is unable to render, please try loading this page with nbviewer.org.</b></div><div class=\"sk-container\" hidden><div class=\"sk-item\"><div class=\"sk-estimator sk-toggleable\"><input class=\"sk-toggleable__control sk-hidden--visually\" id=\"sk-estimator-id-1\" type=\"checkbox\" checked><label for=\"sk-estimator-id-1\" class=\"sk-toggleable__label sk-toggleable__label-arrow\">LogisticRegression</label><div class=\"sk-toggleable__content\"><pre>LogisticRegression(class_weight=&#x27;balanced&#x27;, verbose=1)</pre></div></div></div></div></div>"
            ]
          },
          "metadata": {},
          "execution_count": 34
        }
      ],
      "source": [
        "clf.fit(X_train, y_train)"
      ]
    },
    {
      "cell_type": "markdown",
      "metadata": {
        "id": "xmt7Lp2xWyXW"
      },
      "source": [
        "# Accuracy"
      ]
    },
    {
      "cell_type": "code",
      "execution_count": 35,
      "metadata": {
        "id": "TLvrnUctWyXX",
        "outputId": "e934e4e1-88c6-4510-aa34-6937e47f6033",
        "colab": {
          "base_uri": "https://localhost:8080/"
        }
      },
      "outputs": [
        {
          "output_type": "stream",
          "name": "stdout",
          "text": [
            "test score: 0.825\n",
            "train score: 0.853125\n"
          ]
        }
      ],
      "source": [
        "print('test score:', clf.score(X_test, y_test))\n",
        "print('train score:', clf.score(X_train, y_train))"
      ]
    },
    {
      "cell_type": "code",
      "execution_count": 36,
      "metadata": {
        "id": "eaSCGxvmWyXY",
        "outputId": "809cdc7f-9002-4a5f-9aef-4c37cee87f1d",
        "colab": {
          "base_uri": "https://localhost:8080/"
        }
      },
      "outputs": [
        {
          "output_type": "stream",
          "name": "stdout",
          "text": [
            "ACC = 0.853125\n"
          ]
        }
      ],
      "source": [
        "h_train = clf.predict(X_train)\n",
        "print('ACC =', np.mean(h_train == y_train))"
      ]
    },
    {
      "cell_type": "code",
      "execution_count": 37,
      "metadata": {
        "id": "3u6ekvjEWyXa",
        "outputId": "e016dcea-cb91-4297-9a59-dcc62624ada9",
        "colab": {
          "base_uri": "https://localhost:8080/"
        }
      },
      "outputs": [
        {
          "output_type": "execute_result",
          "data": {
            "text/plain": [
              "0.853125"
            ]
          },
          "metadata": {},
          "execution_count": 37
        }
      ],
      "source": [
        "# for sklearn.metrics > we use the true values and predicted values\n",
        "accuracy_score(y_train, h_train)"
      ]
    },
    {
      "cell_type": "markdown",
      "metadata": {
        "id": "Gk25XBk3WyXb"
      },
      "source": [
        "# Precision"
      ]
    },
    {
      "cell_type": "code",
      "execution_count": 38,
      "metadata": {
        "id": "6rB-VIGWWyXd",
        "outputId": "4676fbce-348b-477c-8bd1-31fe62a86674",
        "colab": {
          "base_uri": "https://localhost:8080/"
        }
      },
      "outputs": [
        {
          "output_type": "stream",
          "name": "stdout",
          "text": [
            "test precision: 0.64\n",
            "train precision: 0.7819548872180451\n"
          ]
        }
      ],
      "source": [
        "h_train = clf.predict(X_train)\n",
        "h_test = clf.predict(X_test)\n",
        "\n",
        "print('test precision:', precision_score(y_test, h_test))\n",
        "print('train precision:', precision_score(y_train, h_train))\n",
        "\n",
        "# TP / (TP+FP)"
      ]
    },
    {
      "cell_type": "markdown",
      "metadata": {
        "id": "5Ko6dm-UWyXf"
      },
      "source": [
        "# Recall"
      ]
    },
    {
      "cell_type": "code",
      "execution_count": 39,
      "metadata": {
        "id": "oRiK1j6aWyXh",
        "outputId": "d418ac09-6681-4fed-c4b8-82b722ef5ca5",
        "colab": {
          "base_uri": "https://localhost:8080/"
        }
      },
      "outputs": [
        {
          "output_type": "stream",
          "name": "stdout",
          "text": [
            "test recall: 0.7619047619047619\n",
            "train recall: 0.8524590163934426\n"
          ]
        }
      ],
      "source": [
        "h_train = clf.predict(X_train)\n",
        "h_test = clf.predict(X_test)\n",
        "\n",
        "print('test recall:', recall_score(y_test, h_test))\n",
        "print('train recall:', recall_score(y_train, h_train))\n",
        "\n",
        "#  TP / (TP+FN)"
      ]
    },
    {
      "cell_type": "code",
      "source": [
        "'''\n",
        "we always look for the validation score > we want to kepp it high\n",
        "if both the train and validation score are low > underfit\n",
        "'''"
      ],
      "metadata": {
        "colab": {
          "base_uri": "https://localhost:8080/",
          "height": 60
        },
        "id": "Yzj2FwI-TXVu",
        "outputId": "353c8bd1-b227-4d83-ffb7-59ee65a9a818"
      },
      "execution_count": 40,
      "outputs": [
        {
          "output_type": "execute_result",
          "data": {
            "text/plain": [
              "'\\nwe always look for the validation score > we want to kepp it high\\nif both the train and validation score are low > underfit\\n'"
            ],
            "application/vnd.google.colaboratory.intrinsic+json": {
              "type": "string"
            }
          },
          "metadata": {},
          "execution_count": 40
        }
      ]
    },
    {
      "cell_type": "code",
      "source": [
        "y_test == 1"
      ],
      "metadata": {
        "colab": {
          "base_uri": "https://localhost:8080/"
        },
        "id": "a7lZP89dTikS",
        "outputId": "307aee5b-34c7-47c7-8223-beef2321caa7"
      },
      "execution_count": 41,
      "outputs": [
        {
          "output_type": "execute_result",
          "data": {
            "text/plain": [
              "array([ True,  True, False,  True,  True, False, False,  True, False,\n",
              "       False, False, False, False, False, False, False,  True, False,\n",
              "        True, False, False, False,  True, False, False,  True, False,\n",
              "       False, False,  True, False, False, False, False, False, False,\n",
              "       False,  True, False, False, False, False, False, False, False,\n",
              "        True,  True, False,  True,  True, False, False,  True, False,\n",
              "        True, False,  True, False, False, False, False, False, False,\n",
              "       False,  True, False, False, False, False, False, False, False,\n",
              "        True, False, False, False, False, False, False,  True])"
            ]
          },
          "metadata": {},
          "execution_count": 41
        }
      ]
    },
    {
      "cell_type": "code",
      "source": [
        "#  * is AND in numpy array // + is OR\n",
        "(y_test == 1)*(h_test == 1)"
      ],
      "metadata": {
        "colab": {
          "base_uri": "https://localhost:8080/"
        },
        "id": "zdLJjdjVTlgb",
        "outputId": "fbcca97c-7752-4421-f7af-11c693391990"
      },
      "execution_count": 42,
      "outputs": [
        {
          "output_type": "execute_result",
          "data": {
            "text/plain": [
              "array([ True, False, False,  True,  True, False, False, False, False,\n",
              "       False, False, False, False, False, False, False,  True, False,\n",
              "        True, False, False, False,  True, False, False, False, False,\n",
              "       False, False, False, False, False, False, False, False, False,\n",
              "       False, False, False, False, False, False, False, False, False,\n",
              "        True,  True, False,  True,  True, False, False,  True, False,\n",
              "        True, False,  True, False, False, False, False, False, False,\n",
              "       False,  True, False, False, False, False, False, False, False,\n",
              "        True, False, False, False, False, False, False,  True])"
            ]
          },
          "metadata": {},
          "execution_count": 42
        }
      ]
    },
    {
      "cell_type": "code",
      "execution_count": 43,
      "metadata": {
        "id": "NmFR_JklWyXi",
        "outputId": "4e423e99-90cc-448c-f375-202d9e3639ba",
        "colab": {
          "base_uri": "https://localhost:8080/"
        }
      },
      "outputs": [
        {
          "output_type": "stream",
          "name": "stdout",
          "text": [
            "Test:\n",
            "\ttrue positive 0.2\n",
            "\tfalse positive 0.1125\n",
            "\tfalse negative 0.0625\n",
            "\ttrue negative 0.625\n",
            "Train:\n",
            "\ttrue positive 0.325\n",
            "\tfalse positive 0.090625\n",
            "\tfalse negative 0.05625\n",
            "\ttrue negative 0.528125\n"
          ]
        }
      ],
      "source": [
        "print('Test:')\n",
        "print('\\ttrue positive', np.mean((y_test == 1)*(h_test == 1)))\n",
        "print('\\tfalse positive', np.mean((y_test == 0)*(h_test == 1)))\n",
        "print('\\tfalse negative', np.mean((y_test == 1)*(h_test == 0)))\n",
        "print('\\ttrue negative', np.mean((y_test == 0)*(h_test == 0)))\n",
        "print('Train:')\n",
        "print('\\ttrue positive', np.mean((y_train == 1)*(h_train == 1)))\n",
        "print('\\tfalse positive', np.mean((y_train == 0)*(h_train == 1)))\n",
        "print('\\tfalse negative', np.mean((y_train == 1)*(h_train == 0)))\n",
        "print('\\ttrue negative', np.mean((y_train == 0)*(h_train == 0)))"
      ]
    },
    {
      "cell_type": "code",
      "source": [
        "# the threshold is 0.5\n",
        "h_train = clf.predict(X_train)\n",
        "clf.predict_proba(X_train)"
      ],
      "metadata": {
        "colab": {
          "base_uri": "https://localhost:8080/"
        },
        "id": "QyckrVjyUDpH",
        "outputId": "3aea7d95-a1a9-4a1a-abba-fecd7bc0cc3a"
      },
      "execution_count": 44,
      "outputs": [
        {
          "output_type": "execute_result",
          "data": {
            "text/plain": [
              "array([[7.85193335e-01, 2.14806665e-01],\n",
              "       [9.99040140e-01, 9.59859562e-04],\n",
              "       [8.91266404e-03, 9.91087336e-01],\n",
              "       [8.56401452e-01, 1.43598548e-01],\n",
              "       [6.87415294e-01, 3.12584706e-01],\n",
              "       [9.53544528e-01, 4.64554722e-02],\n",
              "       [9.88382168e-01, 1.16178324e-02],\n",
              "       [8.57588104e-01, 1.42411896e-01],\n",
              "       [8.65870097e-01, 1.34129903e-01],\n",
              "       [9.23056458e-01, 7.69435415e-02],\n",
              "       [5.94639353e-01, 4.05360647e-01],\n",
              "       [2.18778899e-01, 7.81221101e-01],\n",
              "       [5.86478390e-01, 4.13521610e-01],\n",
              "       [3.86189987e-03, 9.96138100e-01],\n",
              "       [8.75930274e-01, 1.24069726e-01],\n",
              "       [3.37359665e-01, 6.62640335e-01],\n",
              "       [9.15923377e-01, 8.40766232e-02],\n",
              "       [3.91981332e-01, 6.08018668e-01],\n",
              "       [4.38727020e-03, 9.95612730e-01],\n",
              "       [2.61806152e-01, 7.38193848e-01],\n",
              "       [5.78779438e-01, 4.21220562e-01],\n",
              "       [5.74748856e-01, 4.25251144e-01],\n",
              "       [1.79374271e-01, 8.20625729e-01],\n",
              "       [6.93600861e-01, 3.06399139e-01],\n",
              "       [5.82976704e-01, 4.17023296e-01],\n",
              "       [9.90784699e-01, 9.21530094e-03],\n",
              "       [9.93162763e-01, 6.83723668e-03],\n",
              "       [5.82299475e-01, 4.17700525e-01],\n",
              "       [3.27388077e-02, 9.67261192e-01],\n",
              "       [9.26116299e-02, 9.07388370e-01],\n",
              "       [9.96351950e-01, 3.64804957e-03],\n",
              "       [8.34389458e-01, 1.65610542e-01],\n",
              "       [2.20917276e-01, 7.79082724e-01],\n",
              "       [9.48613659e-01, 5.13863406e-02],\n",
              "       [9.88436843e-01, 1.15631568e-02],\n",
              "       [8.95553052e-03, 9.91044469e-01],\n",
              "       [1.84908832e-02, 9.81509117e-01],\n",
              "       [4.08181616e-01, 5.91818384e-01],\n",
              "       [5.52737271e-01, 4.47262729e-01],\n",
              "       [6.68930855e-01, 3.31069145e-01],\n",
              "       [9.15339551e-01, 8.46604486e-02],\n",
              "       [7.06739685e-01, 2.93260315e-01],\n",
              "       [7.65040391e-01, 2.34959609e-01],\n",
              "       [9.84441331e-01, 1.55586693e-02],\n",
              "       [9.31189216e-01, 6.88107842e-02],\n",
              "       [9.96850258e-01, 3.14974203e-03],\n",
              "       [4.54244706e-01, 5.45755294e-01],\n",
              "       [5.17989936e-01, 4.82010064e-01],\n",
              "       [3.00211159e-03, 9.96997888e-01],\n",
              "       [5.35076825e-02, 9.46492318e-01],\n",
              "       [9.56443437e-01, 4.35565628e-02],\n",
              "       [7.11145655e-01, 2.88854345e-01],\n",
              "       [5.65696672e-03, 9.94343033e-01],\n",
              "       [4.43026499e-01, 5.56973501e-01],\n",
              "       [1.23773282e-01, 8.76226718e-01],\n",
              "       [9.09395768e-01, 9.06042321e-02],\n",
              "       [9.22113448e-02, 9.07788655e-01],\n",
              "       [9.62259681e-01, 3.77403192e-02],\n",
              "       [9.11137052e-01, 8.88629479e-02],\n",
              "       [9.92532419e-01, 7.46758115e-03],\n",
              "       [1.03245519e-01, 8.96754481e-01],\n",
              "       [8.72754080e-01, 1.27245920e-01],\n",
              "       [4.55802821e-02, 9.54419718e-01],\n",
              "       [5.77607087e-01, 4.22392913e-01],\n",
              "       [5.77607087e-01, 4.22392913e-01],\n",
              "       [2.17958428e-01, 7.82041572e-01],\n",
              "       [9.21823033e-01, 7.81769665e-02],\n",
              "       [9.41621518e-01, 5.83784825e-02],\n",
              "       [2.19771269e-02, 9.78022873e-01],\n",
              "       [7.66770272e-01, 2.33229728e-01],\n",
              "       [9.87462452e-01, 1.25375476e-02],\n",
              "       [7.34315893e-01, 2.65684107e-01],\n",
              "       [6.19279205e-01, 3.80720795e-01],\n",
              "       [9.67867402e-01, 3.21325975e-02],\n",
              "       [1.61001775e-01, 8.38998225e-01],\n",
              "       [1.66288165e-01, 8.33711835e-01],\n",
              "       [1.22096402e-02, 9.87790360e-01],\n",
              "       [9.94633845e-01, 5.36615531e-03],\n",
              "       [2.45391734e-02, 9.75460827e-01],\n",
              "       [2.72092773e-02, 9.72790723e-01],\n",
              "       [1.75158038e-01, 8.24841962e-01],\n",
              "       [9.73652695e-01, 2.63473054e-02],\n",
              "       [9.92568217e-01, 7.43178347e-03],\n",
              "       [8.51858125e-01, 1.48141875e-01],\n",
              "       [9.76415739e-01, 2.35842609e-02],\n",
              "       [3.96114245e-01, 6.03885755e-01],\n",
              "       [5.23483631e-01, 4.76516369e-01],\n",
              "       [1.92945844e-02, 9.80705416e-01],\n",
              "       [4.69835808e-01, 5.30164192e-01],\n",
              "       [9.28677068e-01, 7.13229323e-02],\n",
              "       [8.11229495e-01, 1.88770505e-01],\n",
              "       [2.68374656e-01, 7.31625344e-01],\n",
              "       [4.59732728e-01, 5.40267272e-01],\n",
              "       [1.25877524e-01, 8.74122476e-01],\n",
              "       [9.92915264e-01, 7.08473632e-03],\n",
              "       [3.19894473e-01, 6.80105527e-01],\n",
              "       [5.70529785e-01, 4.29470215e-01],\n",
              "       [8.64911032e-02, 9.13508897e-01],\n",
              "       [1.03835560e-02, 9.89616444e-01],\n",
              "       [4.94105340e-02, 9.50589466e-01],\n",
              "       [4.17044884e-01, 5.82955116e-01],\n",
              "       [9.92219927e-01, 7.78007303e-03],\n",
              "       [9.59544054e-01, 4.04559456e-02],\n",
              "       [3.30472312e-01, 6.69527688e-01],\n",
              "       [7.99906202e-01, 2.00093798e-01],\n",
              "       [9.95654908e-01, 4.34509161e-03],\n",
              "       [6.41727504e-01, 3.58272496e-01],\n",
              "       [5.82307834e-01, 4.17692166e-01],\n",
              "       [9.98126006e-01, 1.87399427e-03],\n",
              "       [2.50095451e-03, 9.97499045e-01],\n",
              "       [5.78779438e-01, 4.21220562e-01],\n",
              "       [9.52439983e-02, 9.04756002e-01],\n",
              "       [4.89080299e-01, 5.10919701e-01],\n",
              "       [2.72187241e-01, 7.27812759e-01],\n",
              "       [9.82148871e-01, 1.78511287e-02],\n",
              "       [5.90485323e-01, 4.09514677e-01],\n",
              "       [1.19431692e-01, 8.80568308e-01],\n",
              "       [3.87408354e-01, 6.12591646e-01],\n",
              "       [4.52560816e-01, 5.47439184e-01],\n",
              "       [2.84343712e-01, 7.15656288e-01],\n",
              "       [9.93482229e-01, 6.51777118e-03],\n",
              "       [9.97443488e-01, 2.55651228e-03],\n",
              "       [9.90307277e-01, 9.69272325e-03],\n",
              "       [5.63431983e-01, 4.36568017e-01],\n",
              "       [9.06753008e-01, 9.32469923e-02],\n",
              "       [5.61743040e-01, 4.38256960e-01],\n",
              "       [2.96276572e-01, 7.03723428e-01],\n",
              "       [5.17981355e-01, 4.82018645e-01],\n",
              "       [9.96598605e-01, 3.40139550e-03],\n",
              "       [9.03018088e-01, 9.69819121e-02],\n",
              "       [9.83407018e-01, 1.65929821e-02],\n",
              "       [9.80003514e-01, 1.99964863e-02],\n",
              "       [2.78511305e-01, 7.21488695e-01],\n",
              "       [3.20488513e-02, 9.67951149e-01],\n",
              "       [8.63613142e-01, 1.36386858e-01],\n",
              "       [9.99082725e-01, 9.17275108e-04],\n",
              "       [5.90485323e-01, 4.09514677e-01],\n",
              "       [3.85129229e-01, 6.14870771e-01],\n",
              "       [4.97507963e-01, 5.02492037e-01],\n",
              "       [6.83691434e-01, 3.16308566e-01],\n",
              "       [2.97337129e-03, 9.97026629e-01],\n",
              "       [5.11447130e-01, 4.88552870e-01],\n",
              "       [2.05344678e-03, 9.97946553e-01],\n",
              "       [8.72444473e-01, 1.27555527e-01],\n",
              "       [4.18706062e-01, 5.81293938e-01],\n",
              "       [3.90844457e-01, 6.09155543e-01],\n",
              "       [1.84908832e-02, 9.81509117e-01],\n",
              "       [8.89120588e-01, 1.10879412e-01],\n",
              "       [9.78880956e-01, 2.11190443e-02],\n",
              "       [7.28230705e-01, 2.71769295e-01],\n",
              "       [4.30474713e-01, 5.69525287e-01],\n",
              "       [9.13672814e-01, 8.63271864e-02],\n",
              "       [9.96939740e-01, 3.06025965e-03],\n",
              "       [3.06855211e-01, 6.93144789e-01],\n",
              "       [9.62953013e-01, 3.70469867e-02],\n",
              "       [5.64108452e-01, 4.35891548e-01],\n",
              "       [3.80085311e-01, 6.19914689e-01],\n",
              "       [9.93213892e-01, 6.78610775e-03],\n",
              "       [9.62707388e-01, 3.72926116e-02],\n",
              "       [3.25612494e-01, 6.74387506e-01],\n",
              "       [8.08771911e-04, 9.99191228e-01],\n",
              "       [9.99016746e-01, 9.83253676e-04],\n",
              "       [8.31031836e-01, 1.68968164e-01],\n",
              "       [1.42168399e-02, 9.85783160e-01],\n",
              "       [9.96281136e-01, 3.71886382e-03],\n",
              "       [6.74148699e-02, 9.32585130e-01],\n",
              "       [5.90485323e-01, 4.09514677e-01],\n",
              "       [3.25604947e-01, 6.74395053e-01],\n",
              "       [8.30640413e-01, 1.69359587e-01],\n",
              "       [6.51168487e-01, 3.48831513e-01],\n",
              "       [4.32841721e-01, 5.67158279e-01],\n",
              "       [5.80629196e-01, 4.19370804e-01],\n",
              "       [3.37359665e-01, 6.62640335e-01],\n",
              "       [9.96871734e-01, 3.12826576e-03],\n",
              "       [3.45567550e-01, 6.54432450e-01],\n",
              "       [9.78024782e-01, 2.19752184e-02],\n",
              "       [5.24399387e-02, 9.47560061e-01],\n",
              "       [7.60305491e-01, 2.39694509e-01],\n",
              "       [1.49016992e-01, 8.50983008e-01],\n",
              "       [4.26439760e-01, 5.73560240e-01],\n",
              "       [9.33918615e-01, 6.60813849e-02],\n",
              "       [9.58214693e-01, 4.17853069e-02],\n",
              "       [3.16023926e-02, 9.68397607e-01],\n",
              "       [2.55865668e-01, 7.44134332e-01],\n",
              "       [2.72725667e-01, 7.27274333e-01],\n",
              "       [9.36379378e-01, 6.36206222e-02],\n",
              "       [4.68118027e-01, 5.31881973e-01],\n",
              "       [9.91916274e-01, 8.08372572e-03],\n",
              "       [8.24154265e-01, 1.75845735e-01],\n",
              "       [9.91601443e-01, 8.39855705e-03],\n",
              "       [5.00607674e-01, 4.99392326e-01],\n",
              "       [9.96291440e-01, 3.70855958e-03],\n",
              "       [8.18809825e-02, 9.18119018e-01],\n",
              "       [7.78618325e-01, 2.21381675e-01],\n",
              "       [5.10759814e-01, 4.89240186e-01],\n",
              "       [6.62489598e-01, 3.37510402e-01],\n",
              "       [9.95450613e-01, 4.54938678e-03],\n",
              "       [7.57317877e-02, 9.24268212e-01],\n",
              "       [2.63681773e-01, 7.36318227e-01],\n",
              "       [8.07510646e-01, 1.92489354e-01],\n",
              "       [1.03885897e-01, 8.96114103e-01],\n",
              "       [1.18635566e-01, 8.81364434e-01],\n",
              "       [9.93214124e-01, 6.78587610e-03],\n",
              "       [3.08115381e-02, 9.69188462e-01],\n",
              "       [6.68930855e-01, 3.31069145e-01],\n",
              "       [8.08575209e-01, 1.91424791e-01],\n",
              "       [1.46586507e-01, 8.53413493e-01],\n",
              "       [2.66491171e-01, 7.33508829e-01],\n",
              "       [1.75843661e-01, 8.24156339e-01],\n",
              "       [6.46143957e-01, 3.53856043e-01],\n",
              "       [9.79233738e-01, 2.07662618e-02],\n",
              "       [7.10150143e-01, 2.89849857e-01],\n",
              "       [3.24368058e-02, 9.67563194e-01],\n",
              "       [9.78979395e-01, 2.10206054e-02],\n",
              "       [9.98648976e-01, 1.35102402e-03],\n",
              "       [7.74435660e-01, 2.25564340e-01],\n",
              "       [8.23755279e-01, 1.76244721e-01],\n",
              "       [9.77816458e-01, 2.21835420e-02],\n",
              "       [9.26877748e-01, 7.31222518e-02],\n",
              "       [3.44473499e-01, 6.55526501e-01],\n",
              "       [9.97511144e-01, 2.48885607e-03],\n",
              "       [6.85135093e-03, 9.93148649e-01],\n",
              "       [1.73364027e-01, 8.26635973e-01],\n",
              "       [9.46943263e-01, 5.30567368e-02],\n",
              "       [5.02332079e-01, 4.97667921e-01],\n",
              "       [2.33975778e-01, 7.66024222e-01],\n",
              "       [4.32443148e-03, 9.95675569e-01],\n",
              "       [7.19682814e-02, 9.28031719e-01],\n",
              "       [9.67564902e-01, 3.24350977e-02],\n",
              "       [9.87580920e-01, 1.24190797e-02],\n",
              "       [7.09733769e-01, 2.90266231e-01],\n",
              "       [8.59344428e-01, 1.40655572e-01],\n",
              "       [2.44112050e-01, 7.55887950e-01],\n",
              "       [9.86788421e-01, 1.32115788e-02],\n",
              "       [5.71715629e-01, 4.28284371e-01],\n",
              "       [9.96598488e-01, 3.40151200e-03],\n",
              "       [9.08998917e-01, 9.10010830e-02],\n",
              "       [9.89315698e-01, 1.06843021e-02],\n",
              "       [9.14428101e-01, 8.55718985e-02],\n",
              "       [8.20228509e-01, 1.79771491e-01],\n",
              "       [2.90694181e-01, 7.09305819e-01],\n",
              "       [7.93663194e-01, 2.06336806e-01],\n",
              "       [3.28341027e-01, 6.71658973e-01],\n",
              "       [3.92653480e-01, 6.07346520e-01],\n",
              "       [9.95621940e-01, 4.37805993e-03],\n",
              "       [6.41254585e-01, 3.58745415e-01],\n",
              "       [6.02873505e-04, 9.99397126e-01],\n",
              "       [9.72332117e-01, 2.76678831e-02],\n",
              "       [6.33453608e-01, 3.66546392e-01],\n",
              "       [6.37667821e-03, 9.93623322e-01],\n",
              "       [9.89213231e-01, 1.07867691e-02],\n",
              "       [4.68118027e-01, 5.31881973e-01],\n",
              "       [7.11145655e-01, 2.88854345e-01],\n",
              "       [6.78463425e-01, 3.21536575e-01],\n",
              "       [7.79924197e-01, 2.20075803e-01],\n",
              "       [5.25203963e-01, 4.74796037e-01],\n",
              "       [7.03704499e-02, 9.29629550e-01],\n",
              "       [3.03837998e-02, 9.69616200e-01],\n",
              "       [4.39319530e-02, 9.56068047e-01],\n",
              "       [9.37682239e-01, 6.23177612e-02],\n",
              "       [3.93143979e-01, 6.06856021e-01],\n",
              "       [1.50503068e-03, 9.98494969e-01],\n",
              "       [8.42225696e-01, 1.57774304e-01],\n",
              "       [9.98844230e-01, 1.15576973e-03],\n",
              "       [3.97927345e-02, 9.60207266e-01],\n",
              "       [6.39039935e-01, 3.60960065e-01],\n",
              "       [6.00929100e-01, 3.99070900e-01],\n",
              "       [9.71332998e-01, 2.86670024e-02],\n",
              "       [1.59325121e-02, 9.84067488e-01],\n",
              "       [3.22438802e-01, 6.77561198e-01],\n",
              "       [8.74044488e-01, 1.25955512e-01],\n",
              "       [8.11229495e-01, 1.88770505e-01],\n",
              "       [9.48335247e-02, 9.05166475e-01],\n",
              "       [2.47695270e-02, 9.75230473e-01],\n",
              "       [1.30727089e-01, 8.69272911e-01],\n",
              "       [3.11564412e-01, 6.88435588e-01],\n",
              "       [9.07965193e-01, 9.20348073e-02],\n",
              "       [1.13371137e-02, 9.88662886e-01],\n",
              "       [9.54090689e-01, 4.59093107e-02],\n",
              "       [2.82391412e-01, 7.17608588e-01],\n",
              "       [4.02380332e-01, 5.97619668e-01],\n",
              "       [4.90081003e-04, 9.99509919e-01],\n",
              "       [5.86478390e-01, 4.13521610e-01],\n",
              "       [4.11823576e-02, 9.58817642e-01],\n",
              "       [1.85994825e-03, 9.98140052e-01],\n",
              "       [6.10139044e-01, 3.89860956e-01],\n",
              "       [9.09793881e-01, 9.02061194e-02],\n",
              "       [9.88077907e-01, 1.19220930e-02],\n",
              "       [4.96368028e-02, 9.50363197e-01],\n",
              "       [4.56646149e-01, 5.43353851e-01],\n",
              "       [4.68118027e-01, 5.31881973e-01],\n",
              "       [2.74643564e-01, 7.25356436e-01],\n",
              "       [9.86079136e-01, 1.39208640e-02],\n",
              "       [9.88546600e-01, 1.14534001e-02],\n",
              "       [9.99136620e-01, 8.63380318e-04],\n",
              "       [9.78880956e-01, 2.11190443e-02],\n",
              "       [7.84938814e-03, 9.92150612e-01],\n",
              "       [2.50053390e-02, 9.74994661e-01],\n",
              "       [4.14684413e-01, 5.85315587e-01],\n",
              "       [9.71677184e-01, 2.83228161e-02],\n",
              "       [9.14963626e-01, 8.50363738e-02],\n",
              "       [9.45365725e-01, 5.46342747e-02],\n",
              "       [9.91044953e-01, 8.95504747e-03],\n",
              "       [8.75406925e-01, 1.24593075e-01],\n",
              "       [6.28319559e-01, 3.71680441e-01],\n",
              "       [5.98613070e-01, 4.01386930e-01],\n",
              "       [9.84691702e-01, 1.53082980e-02],\n",
              "       [1.32386763e-02, 9.86761324e-01],\n",
              "       [7.03741942e-01, 2.96258058e-01],\n",
              "       [3.93143979e-01, 6.06856021e-01],\n",
              "       [8.99839655e-01, 1.00160345e-01],\n",
              "       [9.07754632e-02, 9.09224537e-01],\n",
              "       [8.41859845e-01, 1.58140155e-01],\n",
              "       [9.23397171e-01, 7.66028286e-02],\n",
              "       [5.87580168e-02, 9.41241983e-01],\n",
              "       [4.76321624e-02, 9.52367838e-01],\n",
              "       [8.41214242e-01, 1.58785758e-01],\n",
              "       [9.11139835e-01, 8.88601653e-02],\n",
              "       [3.63813812e-03, 9.96361862e-01],\n",
              "       [7.75759098e-01, 2.24240902e-01]])"
            ]
          },
          "metadata": {},
          "execution_count": 44
        }
      ]
    },
    {
      "cell_type": "code",
      "source": [
        "# belonging to class1\n",
        "h_man = clf.predict_proba(X_train)[:, 1] > 0.5\n",
        "h_man"
      ],
      "metadata": {
        "colab": {
          "base_uri": "https://localhost:8080/"
        },
        "id": "vmYIDub5SNEv",
        "outputId": "968ba3a0-b472-425f-9e5c-5bd5a6bd370f"
      },
      "execution_count": 45,
      "outputs": [
        {
          "output_type": "execute_result",
          "data": {
            "text/plain": [
              "array([False, False,  True, False, False, False, False, False, False,\n",
              "       False, False,  True, False,  True, False,  True, False,  True,\n",
              "        True,  True, False, False,  True, False, False, False, False,\n",
              "       False,  True,  True, False, False,  True, False, False,  True,\n",
              "        True,  True, False, False, False, False, False, False, False,\n",
              "       False,  True, False,  True,  True, False, False,  True,  True,\n",
              "        True, False,  True, False, False, False,  True, False,  True,\n",
              "       False, False,  True, False, False,  True, False, False, False,\n",
              "       False, False,  True,  True,  True, False,  True,  True,  True,\n",
              "       False, False, False, False,  True, False,  True,  True, False,\n",
              "       False,  True,  True,  True, False,  True, False,  True,  True,\n",
              "        True,  True, False, False,  True, False, False, False, False,\n",
              "       False,  True, False,  True,  True,  True, False, False,  True,\n",
              "        True,  True,  True, False, False, False, False, False, False,\n",
              "        True, False, False, False, False, False,  True,  True, False,\n",
              "       False, False,  True,  True, False,  True, False,  True, False,\n",
              "        True,  True,  True, False, False, False,  True, False, False,\n",
              "        True, False, False,  True, False, False,  True,  True, False,\n",
              "       False,  True, False,  True, False,  True, False, False,  True,\n",
              "       False,  True, False,  True, False,  True, False,  True,  True,\n",
              "       False, False,  True,  True,  True, False,  True, False, False,\n",
              "       False, False, False,  True, False, False, False, False,  True,\n",
              "        True, False,  True,  True, False,  True, False, False,  True,\n",
              "        True,  True, False, False, False,  True, False, False, False,\n",
              "       False, False, False,  True, False,  True,  True, False, False,\n",
              "        True,  True,  True, False, False, False, False,  True, False,\n",
              "       False, False, False, False, False, False,  True, False,  True,\n",
              "        True, False, False,  True, False, False,  True, False,  True,\n",
              "       False, False, False, False,  True,  True,  True, False,  True,\n",
              "        True, False, False,  True, False, False, False,  True,  True,\n",
              "       False, False,  True,  True,  True,  True, False,  True, False,\n",
              "        True,  True,  True, False,  True,  True, False, False, False,\n",
              "        True,  True,  True,  True, False, False, False, False,  True,\n",
              "        True,  True, False, False, False, False, False, False, False,\n",
              "       False,  True, False,  True, False,  True, False, False,  True,\n",
              "        True, False, False,  True, False])"
            ]
          },
          "metadata": {},
          "execution_count": 45
        }
      ]
    },
    {
      "cell_type": "code",
      "source": [
        "# these are the same\n",
        "np.mean(h_train == h_man)"
      ],
      "metadata": {
        "colab": {
          "base_uri": "https://localhost:8080/"
        },
        "id": "rnMDYfI_U_vU",
        "outputId": "d667209d-f401-4156-edd4-86d099fc6855"
      },
      "execution_count": 46,
      "outputs": [
        {
          "output_type": "execute_result",
          "data": {
            "text/plain": [
              "1.0"
            ]
          },
          "metadata": {},
          "execution_count": 46
        }
      ]
    },
    {
      "cell_type": "code",
      "source": [
        "# u can't use range in for because the index can't be float but u can use arange to create list\n",
        "np.arange(0,1.001, 0.01)"
      ],
      "metadata": {
        "colab": {
          "base_uri": "https://localhost:8080/"
        },
        "id": "lhvwcgP-Wq1h",
        "outputId": "9c3662f6-ebba-4c6e-c4fb-4012561a1d17"
      },
      "execution_count": 47,
      "outputs": [
        {
          "output_type": "execute_result",
          "data": {
            "text/plain": [
              "array([0.  , 0.01, 0.02, 0.03, 0.04, 0.05, 0.06, 0.07, 0.08, 0.09, 0.1 ,\n",
              "       0.11, 0.12, 0.13, 0.14, 0.15, 0.16, 0.17, 0.18, 0.19, 0.2 , 0.21,\n",
              "       0.22, 0.23, 0.24, 0.25, 0.26, 0.27, 0.28, 0.29, 0.3 , 0.31, 0.32,\n",
              "       0.33, 0.34, 0.35, 0.36, 0.37, 0.38, 0.39, 0.4 , 0.41, 0.42, 0.43,\n",
              "       0.44, 0.45, 0.46, 0.47, 0.48, 0.49, 0.5 , 0.51, 0.52, 0.53, 0.54,\n",
              "       0.55, 0.56, 0.57, 0.58, 0.59, 0.6 , 0.61, 0.62, 0.63, 0.64, 0.65,\n",
              "       0.66, 0.67, 0.68, 0.69, 0.7 , 0.71, 0.72, 0.73, 0.74, 0.75, 0.76,\n",
              "       0.77, 0.78, 0.79, 0.8 , 0.81, 0.82, 0.83, 0.84, 0.85, 0.86, 0.87,\n",
              "       0.88, 0.89, 0.9 , 0.91, 0.92, 0.93, 0.94, 0.95, 0.96, 0.97, 0.98,\n",
              "       0.99, 1.  ])"
            ]
          },
          "metadata": {},
          "execution_count": 47
        }
      ]
    },
    {
      "cell_type": "code",
      "source": [
        "# we can change the threshold\n",
        "test_recalls = []\n",
        "test_precisions = []\n",
        "\n",
        "for th in np.arange(0,1, 0.01):\n",
        "  h_train = clf.predict_proba(X_train)[:, 1] > th\n",
        "  h_test = clf.predict_proba(X_test)[:, 1] > th\n",
        "\n",
        "  test_recalls.append(recall_score(y_test,h_test))\n",
        "  test_precisions.append(precision_score(y_test,h_test))\n",
        "\n",
        "  # print(\"test recall: \", recall_score(y_test,h_test))\n",
        "  # print(\"test precision: \", precision_score(y_test,h_test))\n",
        "\n",
        "  # print(\"train recall: \", recall_score(y_train,h_train))\n",
        "  # print(\"train precision: \", precision_score(y_train,h_train))\n",
        "\n",
        "plt.plot(np.arange(0,1, 0.01), test_recalls, 'r-', label=\"recall\")\n",
        "plt.plot(np.arange(0,1, 0.01), test_precisions, 'b-', label=\"precision\")\n",
        "plt.legend()\n",
        "\n",
        "# the precision and recall grow in opposite directions"
      ],
      "metadata": {
        "id": "8SbVuPmWVQCw",
        "colab": {
          "base_uri": "https://localhost:8080/",
          "height": 452
        },
        "outputId": "3f9eaaef-277f-4d0f-c4c7-2f7787d56065"
      },
      "execution_count": 48,
      "outputs": [
        {
          "output_type": "execute_result",
          "data": {
            "text/plain": [
              "<matplotlib.legend.Legend at 0x7ff83b545550>"
            ]
          },
          "metadata": {},
          "execution_count": 48
        },
        {
          "output_type": "display_data",
          "data": {
            "text/plain": [
              "<Figure size 640x480 with 1 Axes>"
            ],
            "image/png": "[encoded data removed]"
          },
          "metadata": {}
        }
      ]
    },
    {
      "cell_type": "markdown",
      "metadata": {
        "id": "tfU3MufCWyXj"
      },
      "source": [
        "# F1-score"
      ]
    },
    {
      "cell_type": "code",
      "execution_count": 49,
      "metadata": {
        "id": "6iYLTiGgWyXl",
        "outputId": "1cfbec12-f06d-42f4-f6c3-3f2ccaa4f20d",
        "colab": {
          "base_uri": "https://localhost:8080/"
        }
      },
      "outputs": [
        {
          "output_type": "stream",
          "name": "stdout",
          "text": [
            "test f1-score: 0.6956521739130435\n",
            "train f1-score: 0.8156862745098038\n"
          ]
        }
      ],
      "source": [
        "h_train = clf.predict(X_train)\n",
        "h_test = clf.predict(X_test)\n",
        "\n",
        "print('test f1-score:', f1_score(y_test, h_test))\n",
        "print('train f1-score:', f1_score(y_train, h_train))"
      ]
    },
    {
      "cell_type": "code",
      "source": [
        "# we can change the threshold\n",
        "test_recalls = []\n",
        "test_precisions = []\n",
        "test_f1 = []\n",
        "\n",
        "for th in np.arange(0,1, 0.01):\n",
        "  h_train = clf.predict_proba(X_train)[:, 1] > th\n",
        "  h_test = clf.predict_proba(X_test)[:, 1] > th\n",
        "\n",
        "  test_recalls.append(recall_score(y_test,h_test))\n",
        "  test_precisions.append(precision_score(y_test,h_test))\n",
        "  test_f1.append(f1_score(y_test,h_test))\n",
        "\n",
        "  # print(\"test recall: \", recall_score(y_test,h_test))\n",
        "  # print(\"test precision: \", precision_score(y_test,h_test))\n",
        "\n",
        "  # print(\"train recall: \", recall_score(y_train,h_train))\n",
        "  # print(\"train precision: \", precision_score(y_train,h_train))\n",
        "\n",
        "plt.plot(np.arange(0,1, 0.01), test_recalls, 'r-', label=\"recall\")\n",
        "plt.plot(np.arange(0,1, 0.01), test_precisions, 'b-', label=\"precision\")\n",
        "plt.plot(np.arange(0,1, 0.01), test_f1, 'g-', label=\"f1\")\n",
        "plt.legend()\n",
        "\n",
        "# f1 is harmonic average of precision and recall > we can find point that both of them are max > th=0.6 probably is good one"
      ],
      "metadata": {
        "colab": {
          "base_uri": "https://localhost:8080/",
          "height": 452
        },
        "id": "o9cX2ks1XZID",
        "outputId": "644df321-2d9d-4e09-93a9-e731dfb71c99"
      },
      "execution_count": 50,
      "outputs": [
        {
          "output_type": "execute_result",
          "data": {
            "text/plain": [
              "<matplotlib.legend.Legend at 0x7ff83b4e49a0>"
            ]
          },
          "metadata": {},
          "execution_count": 50
        },
        {
          "output_type": "display_data",
          "data": {
            "text/plain": [
              "<Figure size 640x480 with 1 Axes>"
            ],
            "image/png": "[encoded data removed]"
          },
          "metadata": {}
        }
      ]
    },
    {
      "cell_type": "markdown",
      "metadata": {
        "id": "H3hnverRWyXm"
      },
      "source": [
        "# ROC - AUC"
      ]
    },
    {
      "cell_type": "code",
      "execution_count": 51,
      "metadata": {
        "id": "V4wrJs1-WyXm",
        "outputId": "0421182f-4d3e-4c6c-fabd-4be8a2d3093e",
        "colab": {
          "base_uri": "https://localhost:8080/"
        }
      },
      "outputs": [
        {
          "output_type": "stream",
          "name": "stdout",
          "text": [
            "test ROC-AUC: 0.9087974172719936\n",
            "train ROC-AUC: 0.9322114588508031\n"
          ]
        }
      ],
      "source": [
        "# change the threshold and find the TP and FP rate > like what we did\n",
        "# because of this loop unlike other metrics it needs the probability of classes not just classes\n",
        "# we need class 1 because more than threshold > the class is 1\n",
        "# we can't decide based on roc score > u have to compare it with others\n",
        "h_test = clf.predict_proba(X_test)[:, 1]\n",
        "h_train = clf.predict_proba(X_train)[:, 1]\n",
        "\n",
        "print('test ROC-AUC:', roc_auc_score(y_test, h_test))\n",
        "print('train ROC-AUC:', roc_auc_score(y_train, h_train))"
      ]
    },
    {
      "cell_type": "code",
      "execution_count": 52,
      "metadata": {
        "id": "awvPL3e4WyXn",
        "outputId": "115c7499-1660-4b59-d5fb-a298d1c8d085",
        "colab": {
          "base_uri": "https://localhost:8080/"
        }
      },
      "outputs": [
        {
          "output_type": "stream",
          "name": "stdout",
          "text": [
            "0.9087974172719936\n",
            "0.9079903147699757\n",
            "0.9128329297820823\n",
            "0.9096045197740112\n"
          ]
        }
      ],
      "source": [
        "# balanced is better\n",
        "models = [\n",
        "          LogisticRegression(class_weight='balanced'), \n",
        "          LogisticRegression(),\n",
        "          LogisticRegression(C=0.00001),\n",
        "          LogisticRegression(C=100000)\n",
        "          ]\n",
        "\n",
        "for model in models:\n",
        "    model.fit(X_train, y_train)\n",
        "    h_test = model.predict_proba(X_test)[:, 1]\n",
        "    \n",
        "    print(roc_auc_score(y_test, h_test))"
      ]
    },
    {
      "cell_type": "markdown",
      "source": [
        "# Learning Curve"
      ],
      "metadata": {
        "id": "JODU0YIGay-d"
      }
    },
    {
      "cell_type": "code",
      "execution_count": 53,
      "metadata": {
        "scrolled": true,
        "id": "AbF4mnSnWyXq"
      },
      "outputs": [],
      "source": [
        "clf = LogisticRegression(class_weight='balanced')\n",
        "\n",
        "# it doesn't need to first fit / train test splt / cv=cross validation\n",
        "# groups > u split the train and test datas \n",
        "# train_size > with what proportion of data it will train\n",
        "train_sizes, train_score, test_score = learning_curve(clf, X, y, cv=5)"
      ]
    },
    {
      "cell_type": "code",
      "source": [
        "train_sizes \n",
        "# the number of data that used to train"
      ],
      "metadata": {
        "colab": {
          "base_uri": "https://localhost:8080/"
        },
        "id": "XqQX89JSbvGN",
        "outputId": "f88eeb13-47f1-4071-a9f4-2b3d10233246"
      },
      "execution_count": 54,
      "outputs": [
        {
          "output_type": "execute_result",
          "data": {
            "text/plain": [
              "array([ 32, 104, 176, 248, 320])"
            ]
          },
          "metadata": {},
          "execution_count": 54
        }
      ]
    },
    {
      "cell_type": "code",
      "source": [
        "train_score"
      ],
      "metadata": {
        "colab": {
          "base_uri": "https://localhost:8080/"
        },
        "id": "QhClLB9gb70F",
        "outputId": "d2abb928-bb52-4098-9f50-1b085a97998f"
      },
      "execution_count": 55,
      "outputs": [
        {
          "output_type": "execute_result",
          "data": {
            "text/plain": [
              "array([[0.3125    , 0.375     , 0.375     , 0.375     , 0.375     ],\n",
              "       [0.41346154, 0.31730769, 0.32692308, 0.32692308, 0.32692308],\n",
              "       [0.32386364, 0.31818182, 0.31818182, 0.32954545, 0.32954545],\n",
              "       [0.35483871, 0.35483871, 0.35080645, 0.35080645, 0.33064516],\n",
              "       [0.359375  , 0.703125  , 0.35625   , 0.35625   , 0.35625   ]])"
            ]
          },
          "metadata": {},
          "execution_count": 55
        }
      ]
    },
    {
      "cell_type": "code",
      "execution_count": 56,
      "metadata": {
        "id": "RtpY_SuTWyXr",
        "outputId": "a8b6ae72-2ba0-4f68-91de-8717dbf57446",
        "colab": {
          "base_uri": "https://localhost:8080/",
          "height": 452
        }
      },
      "outputs": [
        {
          "output_type": "execute_result",
          "data": {
            "text/plain": [
              "<matplotlib.legend.Legend at 0x7ff83b3da190>"
            ]
          },
          "metadata": {},
          "execution_count": 56
        },
        {
          "output_type": "display_data",
          "data": {
            "text/plain": [
              "<Figure size 640x480 with 1 Axes>"
            ],
            "image/png": "[encoded data removed]"
          },
          "metadata": {}
        }
      ],
      "source": [
        "plt.plot(train_sizes, train_score.mean(axis=1), 'go-', label=\"train\")\n",
        "plt.plot(train_sizes, test_score.mean(axis=1), 'bo-', label=\"test\")\n",
        "plt.legend()"
      ]
    },
    {
      "cell_type": "code",
      "source": [
        "# learning curve with normalized data\n",
        "train_sizes, train_score, test_score = learning_curve(clf, X_train, y_train, cv=5,\n",
        "                                                      train_sizes=np.arange(0.1,1.1,0.1))\n",
        "\n",
        "plt.plot(train_sizes, train_score.mean(axis=1), 'go-', label=\"train\")\n",
        "plt.plot(train_sizes, test_score.mean(axis=1), 'bo-', label=\"test\")\n",
        "plt.legend()"
      ],
      "metadata": {
        "colab": {
          "base_uri": "https://localhost:8080/",
          "height": 452
        },
        "id": "zeXBXA7obmeC",
        "outputId": "376c59ef-a767-4f19-ec98-41aa0f07f300"
      },
      "execution_count": 57,
      "outputs": [
        {
          "output_type": "execute_result",
          "data": {
            "text/plain": [
              "<matplotlib.legend.Legend at 0x7ff83b329700>"
            ]
          },
          "metadata": {},
          "execution_count": 57
        },
        {
          "output_type": "display_data",
          "data": {
            "text/plain": [
              "<Figure size 640x480 with 1 Axes>"
            ],
            "image/png": "[encoded data removed]"
          },
          "metadata": {}
        }
      ]
    },
    {
      "cell_type": "code",
      "source": [
        "# one of the ways we can define whether adding data is suitable for increasing the performance is learning curve\n",
        "# at the end the curve will flatten > adding data is useless > modify the model itself\n",
        "train_sizes, train_score, test_score = learning_curve(clf, X_train, y_train, cv=5,\n",
        "                                                      train_sizes=np.arange(0.1,1,0.01))\n",
        "\n",
        "plt.plot(train_sizes, train_score.mean(axis=1), 'go-', label=\"train\")\n",
        "plt.plot(train_sizes, test_score.mean(axis=1), 'bo-', label=\"test\")\n",
        "plt.legend()"
      ],
      "metadata": {
        "id": "zk0X937JcQlY",
        "outputId": "1524f7ee-e010-46e8-93c6-e4f8653d2a16",
        "colab": {
          "base_uri": "https://localhost:8080/",
          "height": 452
        }
      },
      "execution_count": 58,
      "outputs": [
        {
          "output_type": "execute_result",
          "data": {
            "text/plain": [
              "<matplotlib.legend.Legend at 0x7ff83b284700>"
            ]
          },
          "metadata": {},
          "execution_count": 58
        },
        {
          "output_type": "display_data",
          "data": {
            "text/plain": [
              "<Figure size 640x480 with 1 Axes>"
            ],
            "image/png": "[encoded data removed]"
          },
          "metadata": {}
        }
      ]
    },
    {
      "cell_type": "code",
      "source": [],
      "metadata": {
        "id": "j2t3TEsPZ_8Y"
      },
      "execution_count": 58,
      "outputs": []
    }
  ],
  "metadata": {
    "kernelspec": {
      "display_name": "Python 3",
      "language": "python",
      "name": "python3"
    },
    "language_info": {
      "codemirror_mode": {
        "name": "ipython",
        "version": 3
      },
      "file_extension": ".py",
      "mimetype": "text/x-python",
      "name": "python",
      "nbconvert_exporter": "python",
      "pygments_lexer": "ipython3",
      "version": "3.6.9"
    },
    "colab": {
      "provenance": [],
      "include_colab_link": true
    },
    "gpuClass": "standard"
  },
  "nbformat": 4,
  "nbformat_minor": 0
}