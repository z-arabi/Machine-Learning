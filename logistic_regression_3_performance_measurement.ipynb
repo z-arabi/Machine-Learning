{
  "cells": [
    {
      "cell_type": "markdown",
      "metadata": {
        "id": "view-in-github",
        "colab_type": "text"
      },
      "source": [
        "<a href=\"https://colab.research.google.com/github/z-arabi/Machine-Learning/blob/main/logistic_regression_3_performance_measurement.ipynb\" target=\"_parent\"><img src=\"https://colab.research.google.com/assets/colab-badge.svg\" alt=\"Open In Colab\"/></a>"
      ]
    },
    {
      "cell_type": "code",
      "source": [
        "!git clone https://github.com/z-arabi/Machine-Learning.git\n",
        "%cd Machine-Learning"
      ],
      "metadata": {
        "colab": {
          "base_uri": "https://localhost:8080/"
        },
        "id": "au45NcerW8kA",
        "outputId": "1c6466e6-2147-4399-c0bb-809eafac6c42"
      },
      "execution_count": 1,
      "outputs": [
        {
          "output_type": "stream",
          "name": "stdout",
          "text": [
            "Cloning into 'Machine-Learning'...\n",
            "remote: Enumerating objects: 49, done.\u001b[K\n",
            "remote: Counting objects: 100% (49/49), done.\u001b[K\n",
            "remote: Compressing objects: 100% (45/45), done.\u001b[K\n",
            "remote: Total 49 (delta 15), reused 10 (delta 1), pack-reused 0\u001b[K\n",
            "Unpacking objects: 100% (49/49), done.\n",
            "/content/Machine-Learning\n"
          ]
        }
      ]
    },
    {
      "cell_type": "code",
      "execution_count": 2,
      "metadata": {
        "id": "AAKupHEaWyWk"
      },
      "outputs": [],
      "source": [
        "import pandas as pd\n",
        "import matplotlib.pyplot as plt\n",
        "import numpy as np\n",
        "%matplotlib inline\n",
        "\n",
        "from sklearn.linear_model import LogisticRegression\n",
        "# Learnig curve in sklearn is the old version\n",
        "from sklearn.model_selection import train_test_split, KFold, learning_curve\n",
        "from sklearn.metrics import accuracy_score, precision_score, recall_score, f1_score, roc_auc_score"
      ]
    },
    {
      "cell_type": "code",
      "execution_count": 3,
      "metadata": {
        "colab": {
          "base_uri": "https://localhost:8080/",
          "height": 206
        },
        "id": "O3ljBMNVWyWy",
        "outputId": "6917ff7c-4d6a-44f4-8743-105f5d855dc9"
      },
      "outputs": [
        {
          "output_type": "execute_result",
          "data": {
            "text/plain": [
              "   Gender  Age  EstimatedSalary  Purchased\n",
              "0    Male   19            19000          0\n",
              "1    Male   35            20000          0\n",
              "2  Female   26            43000          0\n",
              "3  Female   27            57000          0\n",
              "4    Male   19            76000          0"
            ],
            "text/html": [
              "\n",
              "  <div id=\"df-3bd45198-f43a-4f59-9ab8-7fc63e7cc685\">\n",
              "    <div class=\"colab-df-container\">\n",
              "      <div>\n",
              "<style scoped>\n",
              "    .dataframe tbody tr th:only-of-type {\n",
              "        vertical-align: middle;\n",
              "    }\n",
              "\n",
              "    .dataframe tbody tr th {\n",
              "        vertical-align: top;\n",
              "    }\n",
              "\n",
              "    .dataframe thead th {\n",
              "        text-align: right;\n",
              "    }\n",
              "</style>\n",
              "<table border=\"1\" class=\"dataframe\">\n",
              "  <thead>\n",
              "    <tr style=\"text-align: right;\">\n",
              "      <th></th>\n",
              "      <th>Gender</th>\n",
              "      <th>Age</th>\n",
              "      <th>EstimatedSalary</th>\n",
              "      <th>Purchased</th>\n",
              "    </tr>\n",
              "  </thead>\n",
              "  <tbody>\n",
              "    <tr>\n",
              "      <th>0</th>\n",
              "      <td>Male</td>\n",
              "      <td>19</td>\n",
              "      <td>19000</td>\n",
              "      <td>0</td>\n",
              "    </tr>\n",
              "    <tr>\n",
              "      <th>1</th>\n",
              "      <td>Male</td>\n",
              "      <td>35</td>\n",
              "      <td>20000</td>\n",
              "      <td>0</td>\n",
              "    </tr>\n",
              "    <tr>\n",
              "      <th>2</th>\n",
              "      <td>Female</td>\n",
              "      <td>26</td>\n",
              "      <td>43000</td>\n",
              "      <td>0</td>\n",
              "    </tr>\n",
              "    <tr>\n",
              "      <th>3</th>\n",
              "      <td>Female</td>\n",
              "      <td>27</td>\n",
              "      <td>57000</td>\n",
              "      <td>0</td>\n",
              "    </tr>\n",
              "    <tr>\n",
              "      <th>4</th>\n",
              "      <td>Male</td>\n",
              "      <td>19</td>\n",
              "      <td>76000</td>\n",
              "      <td>0</td>\n",
              "    </tr>\n",
              "  </tbody>\n",
              "</table>\n",
              "</div>\n",
              "      <button class=\"colab-df-convert\" onclick=\"convertToInteractive('df-3bd45198-f43a-4f59-9ab8-7fc63e7cc685')\"\n",
              "              title=\"Convert this dataframe to an interactive table.\"\n",
              "              style=\"display:none;\">\n",
              "        \n",
              "  <svg xmlns=\"http://www.w3.org/2000/svg\" height=\"24px\"viewBox=\"0 0 24 24\"\n",
              "       width=\"24px\">\n",
              "    <path d=\"M0 0h24v24H0V0z\" fill=\"none\"/>\n",
              "    <path d=\"M18.56 5.44l.94 2.06.94-2.06 2.06-.94-2.06-.94-.94-2.06-.94 2.06-2.06.94zm-11 1L8.5 8.5l.94-2.06 2.06-.94-2.06-.94L8.5 2.5l-.94 2.06-2.06.94zm10 10l.94 2.06.94-2.06 2.06-.94-2.06-.94-.94-2.06-.94 2.06-2.06.94z\"/><path d=\"M17.41 7.96l-1.37-1.37c-.4-.4-.92-.59-1.43-.59-.52 0-1.04.2-1.43.59L10.3 9.45l-7.72 7.72c-.78.78-.78 2.05 0 2.83L4 21.41c.39.39.9.59 1.41.59.51 0 1.02-.2 1.41-.59l7.78-7.78 2.81-2.81c.8-.78.8-2.07 0-2.86zM5.41 20L4 18.59l7.72-7.72 1.47 1.35L5.41 20z\"/>\n",
              "  </svg>\n",
              "      </button>\n",
              "      \n",
              "  <style>\n",
              "    .colab-df-container {\n",
              "      display:flex;\n",
              "      flex-wrap:wrap;\n",
              "      gap: 12px;\n",
              "    }\n",
              "\n",
              "    .colab-df-convert {\n",
              "      background-color: #E8F0FE;\n",
              "      border: none;\n",
              "      border-radius: 50%;\n",
              "      cursor: pointer;\n",
              "      display: none;\n",
              "      fill: #1967D2;\n",
              "      height: 32px;\n",
              "      padding: 0 0 0 0;\n",
              "      width: 32px;\n",
              "    }\n",
              "\n",
              "    .colab-df-convert:hover {\n",
              "      background-color: #E2EBFA;\n",
              "      box-shadow: 0px 1px 2px rgba(60, 64, 67, 0.3), 0px 1px 3px 1px rgba(60, 64, 67, 0.15);\n",
              "      fill: #174EA6;\n",
              "    }\n",
              "\n",
              "    [theme=dark] .colab-df-convert {\n",
              "      background-color: #3B4455;\n",
              "      fill: #D2E3FC;\n",
              "    }\n",
              "\n",
              "    [theme=dark] .colab-df-convert:hover {\n",
              "      background-color: #434B5C;\n",
              "      box-shadow: 0px 1px 3px 1px rgba(0, 0, 0, 0.15);\n",
              "      filter: drop-shadow(0px 1px 2px rgba(0, 0, 0, 0.3));\n",
              "      fill: #FFFFFF;\n",
              "    }\n",
              "  </style>\n",
              "\n",
              "      <script>\n",
              "        const buttonEl =\n",
              "          document.querySelector('#df-3bd45198-f43a-4f59-9ab8-7fc63e7cc685 button.colab-df-convert');\n",
              "        buttonEl.style.display =\n",
              "          google.colab.kernel.accessAllowed ? 'block' : 'none';\n",
              "\n",
              "        async function convertToInteractive(key) {\n",
              "          const element = document.querySelector('#df-3bd45198-f43a-4f59-9ab8-7fc63e7cc685');\n",
              "          const dataTable =\n",
              "            await google.colab.kernel.invokeFunction('convertToInteractive',\n",
              "                                                     [key], {});\n",
              "          if (!dataTable) return;\n",
              "\n",
              "          const docLinkHtml = 'Like what you see? Visit the ' +\n",
              "            '<a target=\"_blank\" href=https://colab.research.google.com/notebooks/data_table.ipynb>data table notebook</a>'\n",
              "            + ' to learn more about interactive tables.';\n",
              "          element.innerHTML = '';\n",
              "          dataTable['output_type'] = 'display_data';\n",
              "          await google.colab.output.renderOutput(dataTable, element);\n",
              "          const docLink = document.createElement('div');\n",
              "          docLink.innerHTML = docLinkHtml;\n",
              "          element.appendChild(docLink);\n",
              "        }\n",
              "      </script>\n",
              "    </div>\n",
              "  </div>\n",
              "  "
            ]
          },
          "metadata": {},
          "execution_count": 3
        }
      ],
      "source": [
        "df = pd.read_csv('./Datasets/Social_Network_Ads.csv')\n",
        "\n",
        "df.drop('User ID', axis=1, inplace=True)\n",
        "df.head(5)"
      ]
    },
    {
      "cell_type": "code",
      "execution_count": 4,
      "metadata": {
        "id": "ZDO6Ks7fWyW5"
      },
      "outputs": [],
      "source": [
        "# rather than giving df, columns > df.Gender for one series of the column\n",
        "# in this way the place of columns doesn't chane\n",
        "df.Gender = pd.get_dummies(df.Gender, drop_first=True)"
      ]
    },
    {
      "cell_type": "code",
      "source": [
        "df.head()"
      ],
      "metadata": {
        "colab": {
          "base_uri": "https://localhost:8080/",
          "height": 206
        },
        "id": "XZGQomC6XJ3x",
        "outputId": "17865c39-7bb5-41c8-ea27-592fa7736738"
      },
      "execution_count": 5,
      "outputs": [
        {
          "output_type": "execute_result",
          "data": {
            "text/plain": [
              "   Gender  Age  EstimatedSalary  Purchased\n",
              "0       1   19            19000          0\n",
              "1       1   35            20000          0\n",
              "2       0   26            43000          0\n",
              "3       0   27            57000          0\n",
              "4       1   19            76000          0"
            ],
            "text/html": [
              "\n",
              "  <div id=\"df-a201f1bc-e73a-4cdb-932b-00b967e818b2\">\n",
              "    <div class=\"colab-df-container\">\n",
              "      <div>\n",
              "<style scoped>\n",
              "    .dataframe tbody tr th:only-of-type {\n",
              "        vertical-align: middle;\n",
              "    }\n",
              "\n",
              "    .dataframe tbody tr th {\n",
              "        vertical-align: top;\n",
              "    }\n",
              "\n",
              "    .dataframe thead th {\n",
              "        text-align: right;\n",
              "    }\n",
              "</style>\n",
              "<table border=\"1\" class=\"dataframe\">\n",
              "  <thead>\n",
              "    <tr style=\"text-align: right;\">\n",
              "      <th></th>\n",
              "      <th>Gender</th>\n",
              "      <th>Age</th>\n",
              "      <th>EstimatedSalary</th>\n",
              "      <th>Purchased</th>\n",
              "    </tr>\n",
              "  </thead>\n",
              "  <tbody>\n",
              "    <tr>\n",
              "      <th>0</th>\n",
              "      <td>1</td>\n",
              "      <td>19</td>\n",
              "      <td>19000</td>\n",
              "      <td>0</td>\n",
              "    </tr>\n",
              "    <tr>\n",
              "      <th>1</th>\n",
              "      <td>1</td>\n",
              "      <td>35</td>\n",
              "      <td>20000</td>\n",
              "      <td>0</td>\n",
              "    </tr>\n",
              "    <tr>\n",
              "      <th>2</th>\n",
              "      <td>0</td>\n",
              "      <td>26</td>\n",
              "      <td>43000</td>\n",
              "      <td>0</td>\n",
              "    </tr>\n",
              "    <tr>\n",
              "      <th>3</th>\n",
              "      <td>0</td>\n",
              "      <td>27</td>\n",
              "      <td>57000</td>\n",
              "      <td>0</td>\n",
              "    </tr>\n",
              "    <tr>\n",
              "      <th>4</th>\n",
              "      <td>1</td>\n",
              "      <td>19</td>\n",
              "      <td>76000</td>\n",
              "      <td>0</td>\n",
              "    </tr>\n",
              "  </tbody>\n",
              "</table>\n",
              "</div>\n",
              "      <button class=\"colab-df-convert\" onclick=\"convertToInteractive('df-a201f1bc-e73a-4cdb-932b-00b967e818b2')\"\n",
              "              title=\"Convert this dataframe to an interactive table.\"\n",
              "              style=\"display:none;\">\n",
              "        \n",
              "  <svg xmlns=\"http://www.w3.org/2000/svg\" height=\"24px\"viewBox=\"0 0 24 24\"\n",
              "       width=\"24px\">\n",
              "    <path d=\"M0 0h24v24H0V0z\" fill=\"none\"/>\n",
              "    <path d=\"M18.56 5.44l.94 2.06.94-2.06 2.06-.94-2.06-.94-.94-2.06-.94 2.06-2.06.94zm-11 1L8.5 8.5l.94-2.06 2.06-.94-2.06-.94L8.5 2.5l-.94 2.06-2.06.94zm10 10l.94 2.06.94-2.06 2.06-.94-2.06-.94-.94-2.06-.94 2.06-2.06.94z\"/><path d=\"M17.41 7.96l-1.37-1.37c-.4-.4-.92-.59-1.43-.59-.52 0-1.04.2-1.43.59L10.3 9.45l-7.72 7.72c-.78.78-.78 2.05 0 2.83L4 21.41c.39.39.9.59 1.41.59.51 0 1.02-.2 1.41-.59l7.78-7.78 2.81-2.81c.8-.78.8-2.07 0-2.86zM5.41 20L4 18.59l7.72-7.72 1.47 1.35L5.41 20z\"/>\n",
              "  </svg>\n",
              "      </button>\n",
              "      \n",
              "  <style>\n",
              "    .colab-df-container {\n",
              "      display:flex;\n",
              "      flex-wrap:wrap;\n",
              "      gap: 12px;\n",
              "    }\n",
              "\n",
              "    .colab-df-convert {\n",
              "      background-color: #E8F0FE;\n",
              "      border: none;\n",
              "      border-radius: 50%;\n",
              "      cursor: pointer;\n",
              "      display: none;\n",
              "      fill: #1967D2;\n",
              "      height: 32px;\n",
              "      padding: 0 0 0 0;\n",
              "      width: 32px;\n",
              "    }\n",
              "\n",
              "    .colab-df-convert:hover {\n",
              "      background-color: #E2EBFA;\n",
              "      box-shadow: 0px 1px 2px rgba(60, 64, 67, 0.3), 0px 1px 3px 1px rgba(60, 64, 67, 0.15);\n",
              "      fill: #174EA6;\n",
              "    }\n",
              "\n",
              "    [theme=dark] .colab-df-convert {\n",
              "      background-color: #3B4455;\n",
              "      fill: #D2E3FC;\n",
              "    }\n",
              "\n",
              "    [theme=dark] .colab-df-convert:hover {\n",
              "      background-color: #434B5C;\n",
              "      box-shadow: 0px 1px 3px 1px rgba(0, 0, 0, 0.15);\n",
              "      filter: drop-shadow(0px 1px 2px rgba(0, 0, 0, 0.3));\n",
              "      fill: #FFFFFF;\n",
              "    }\n",
              "  </style>\n",
              "\n",
              "      <script>\n",
              "        const buttonEl =\n",
              "          document.querySelector('#df-a201f1bc-e73a-4cdb-932b-00b967e818b2 button.colab-df-convert');\n",
              "        buttonEl.style.display =\n",
              "          google.colab.kernel.accessAllowed ? 'block' : 'none';\n",
              "\n",
              "        async function convertToInteractive(key) {\n",
              "          const element = document.querySelector('#df-a201f1bc-e73a-4cdb-932b-00b967e818b2');\n",
              "          const dataTable =\n",
              "            await google.colab.kernel.invokeFunction('convertToInteractive',\n",
              "                                                     [key], {});\n",
              "          if (!dataTable) return;\n",
              "\n",
              "          const docLinkHtml = 'Like what you see? Visit the ' +\n",
              "            '<a target=\"_blank\" href=https://colab.research.google.com/notebooks/data_table.ipynb>data table notebook</a>'\n",
              "            + ' to learn more about interactive tables.';\n",
              "          element.innerHTML = '';\n",
              "          dataTable['output_type'] = 'display_data';\n",
              "          await google.colab.output.renderOutput(dataTable, element);\n",
              "          const docLink = document.createElement('div');\n",
              "          docLink.innerHTML = docLinkHtml;\n",
              "          element.appendChild(docLink);\n",
              "        }\n",
              "      </script>\n",
              "    </div>\n",
              "  </div>\n",
              "  "
            ]
          },
          "metadata": {},
          "execution_count": 5
        }
      ]
    },
    {
      "cell_type": "code",
      "execution_count": 6,
      "metadata": {
        "id": "9452W4hIWyW8"
      },
      "outputs": [],
      "source": [
        "X = df.to_numpy()"
      ]
    },
    {
      "cell_type": "code",
      "source": [
        "# random arrange\n",
        "print(X.shape[0])\n",
        "np.random.permutation(5)"
      ],
      "metadata": {
        "colab": {
          "base_uri": "https://localhost:8080/"
        },
        "id": "iECAbmSkYhh-",
        "outputId": "1ac4a593-274f-445d-ab2a-faf75995ff8d"
      },
      "execution_count": 7,
      "outputs": [
        {
          "output_type": "stream",
          "name": "stdout",
          "text": [
            "400\n"
          ]
        },
        {
          "output_type": "execute_result",
          "data": {
            "text/plain": [
              "array([2, 3, 1, 4, 0])"
            ]
          },
          "metadata": {},
          "execution_count": 7
        }
      ]
    },
    {
      "cell_type": "code",
      "execution_count": 8,
      "metadata": {
        "id": "7EU7qI7BWyXA"
      },
      "outputs": [],
      "source": [
        "# now we want to shuffle the data > change the place of rows > change the indexes\n",
        "np.random.seed = 0\n",
        "X = X[np.random.permutation(X.shape[0])]\n",
        "\n",
        "######################################\n",
        "# 2. inplace changes occur\n",
        "np.random.shuffle(X)"
      ]
    },
    {
      "cell_type": "code",
      "execution_count": 9,
      "metadata": {
        "id": "51C4TSsjWyXB"
      },
      "outputs": [],
      "source": [
        "y = X[:, -1]\n",
        "X = X[:, :-1]"
      ]
    },
    {
      "cell_type": "code",
      "source": [
        "X = (X - X.mean(axis=0)) / X.std(axis=0)"
      ],
      "metadata": {
        "id": "dq1OQpdcbHh-"
      },
      "execution_count": 10,
      "outputs": []
    },
    {
      "cell_type": "markdown",
      "metadata": {
        "id": "B8JFf9IiWyXD"
      },
      "source": [
        "# KFold"
      ]
    },
    {
      "cell_type": "code",
      "source": [
        "data_split = KFold(n_splits=5)\n",
        "data_split\n",
        "\n",
        "# data_split.split() > returns tuple > (train_inx, val_inx)"
      ],
      "metadata": {
        "colab": {
          "base_uri": "https://localhost:8080/"
        },
        "id": "T7-NVUaOZS_C",
        "outputId": "83504e42-cc04-4670-d59b-a7985ba14845"
      },
      "execution_count": 11,
      "outputs": [
        {
          "output_type": "execute_result",
          "data": {
            "text/plain": [
              "KFold(n_splits=5, random_state=None, shuffle=False)"
            ]
          },
          "metadata": {},
          "execution_count": 11
        }
      ]
    },
    {
      "cell_type": "code",
      "execution_count": 12,
      "metadata": {
        "scrolled": false,
        "colab": {
          "base_uri": "https://localhost:8080/",
          "height": 261
        },
        "id": "Pqw28WjXWyXI",
        "outputId": "b9c0fe5f-cacc-4285-8545-aa6487134e98"
      },
      "outputs": [
        {
          "output_type": "stream",
          "name": "stdout",
          "text": [
            "320 80\n",
            "train acc = 0.84375 \tval acc = 0.8875\n",
            "320 80\n",
            "train acc = 0.84375 \tval acc = 0.85\n",
            "320 80\n",
            "train acc = 0.840625 \tval acc = 0.85\n",
            "320 80\n",
            "train acc = 0.85 \tval acc = 0.75\n",
            "320 80\n",
            "train acc = 0.840625 \tval acc = 0.8875\n",
            "the train score average 0.84375\n",
            "the validation score average 0.845\n"
          ]
        },
        {
          "output_type": "execute_result",
          "data": {
            "text/plain": [
              "\"\\nwe can see the different outputs > decide better overfit or not > the model is ok\\nbecause in each shuffle maybe we choose the simpler data as train and harder data for validation\\nso with one time of training we can't for sure conclude\\n\""
            ],
            "application/vnd.google.colaboratory.intrinsic+json": {
              "type": "string"
            }
          },
          "metadata": {},
          "execution_count": 12
        }
      ],
      "source": [
        "# this should be x and y train\n",
        "train_score = 0\n",
        "val_score = 0\n",
        "for train_inx, val_idx in data_split.split(X, y):\n",
        "    print(len(train_inx), len(val_idx))\n",
        "    clf = LogisticRegression()\n",
        "    clf.fit(X[train_inx], y[train_inx])\n",
        "    print('train acc =', clf.score(X[train_inx], y[train_inx]), \n",
        "          '\\tval acc =', clf.score(X[val_idx], y[val_idx]))\n",
        "    train_score += clf.score(X[train_inx], y[train_inx])\n",
        "    val_score += clf.score(X[val_idx], y[val_idx])\n",
        "\n",
        "print('the train score average', train_score/data_split.n_splits)\n",
        "print('the validation score average', val_score/data_split.n_splits)\n",
        "\n",
        "'''\n",
        "we can see the different outputs > decide better overfit or not > the model is ok\n",
        "because in each shuffle maybe we choose the simpler data as train and harder data for validation\n",
        "so with one time of training we can't for sure conclude\n",
        "'''"
      ]
    },
    {
      "cell_type": "code",
      "source": [
        "'''\n",
        "we want to overfit the model\n",
        "for having polynomial features > 1. hstack(X,X**2,X**3) 2. Polynomial\n",
        "\n",
        "x = np.arange(-10, 30, 1).reshape(-1, 1)\n",
        "x_6 = np.hstack((x,x**2,x**3,x**4,x**5,x**6)) > just these degrees\n",
        "\n",
        "polynomial > creates all of the sentences up to degree n > from 0 to n\n",
        "form [a, b], the degree-2 polynomial features are [1, a, b, a^2, ab, b^2]\n",
        "abc > 1 a b c a2 b2 c2 ab bc ac a3 b3 c3 abc a2b a2c b2c c2a c2b abc > 20\n",
        "'''\n",
        "from sklearn.preprocessing import PolynomialFeatures\n",
        "\n",
        "polynomial = PolynomialFeatures(degree=6)\n",
        "# fit > train/adjust\n",
        "# transfrom > predict\n",
        "# fit_transform > fit + predict > the input of all of the functions are based on the type whether they need y or not > if needed we have to pass the y too\n",
        "X_poly = polynomial.fit_transform(X)\n",
        "print(X.shape,X_poly.shape)"
      ],
      "metadata": {
        "id": "enN0cZRzt8vs",
        "colab": {
          "base_uri": "https://localhost:8080/"
        },
        "outputId": "2853bdcc-fd3a-43fe-bca2-f6fed27cbd3a"
      },
      "execution_count": 21,
      "outputs": [
        {
          "output_type": "stream",
          "name": "stdout",
          "text": [
            "(400, 3) (400, 84)\n"
          ]
        }
      ]
    },
    {
      "cell_type": "code",
      "source": [
        "train_score = 0\n",
        "val_score = 0\n",
        "for train_inx, val_idx in data_split.split(X, y):\n",
        "    print(len(train_inx), len(val_idx))\n",
        "    clf = LogisticRegression(max_iter=1000)\n",
        "    clf.fit(X_poly[train_inx], y[train_inx])\n",
        "    print('train acc =', clf.score(X_poly[train_inx], y[train_inx]), \n",
        "          '\\tval acc =', clf.score(X_poly[val_idx], y[val_idx]))\n",
        "    train_score += clf.score(X_poly[train_inx], y[train_inx])\n",
        "    val_score += clf.score(X_poly[val_idx], y[val_idx])\n",
        "\n",
        "print('the train score average', train_score/data_split.n_splits)\n",
        "print('the validation score average', val_score/data_split.n_splits)\n",
        "\n",
        "# 1 or 2 percentage error is ok but more than that is not\n",
        "# train = 90 and validation = 90 is ok > how to know whether your model is overfitting > train acc + validation acc"
      ],
      "metadata": {
        "colab": {
          "base_uri": "https://localhost:8080/"
        },
        "id": "QqkS6_cirQdz",
        "outputId": "92a7366e-71c4-4d48-d2bc-9393e607d28e"
      },
      "execution_count": 22,
      "outputs": [
        {
          "output_type": "stream",
          "name": "stdout",
          "text": [
            "320 80\n",
            "train acc = 0.925 \tval acc = 0.8875\n",
            "320 80\n",
            "train acc = 0.925 \tval acc = 0.8875\n",
            "320 80\n",
            "train acc = 0.93125 \tval acc = 0.8625\n",
            "320 80\n",
            "train acc = 0.925 \tval acc = 0.9\n",
            "320 80\n",
            "train acc = 0.925 \tval acc = 0.8875\n",
            "the train score average 0.9262499999999999\n",
            "the validation score average 0.885\n"
          ]
        }
      ]
    },
    {
      "cell_type": "code",
      "source": [
        "# now we have overfitted model > we can solve it by adding regularization\n",
        "# they use regularization by default > l2 and c=1 > in log reg > 1/c \n",
        "\n",
        "train_score = 0\n",
        "val_score = 0\n",
        "for train_inx, val_idx in data_split.split(X, y):\n",
        "    clf = LogisticRegression(max_iter=10000, C=100) # more overfit\n",
        "    clf.fit(X_poly[train_inx], y[train_inx])\n",
        "    # print('train acc =', clf.score(X_poly[train_inx], y[train_inx]), \n",
        "    #       '\\tval acc =', clf.score(X_poly[val_idx], y[val_idx]))\n",
        "    train_score += clf.score(X_poly[train_inx], y[train_inx])\n",
        "    val_score += clf.score(X_poly[val_idx], y[val_idx])\n",
        "\n",
        "print('the train score average', train_score/data_split.n_splits)\n",
        "print('the validation score average', val_score/data_split.n_splits)"
      ],
      "metadata": {
        "colab": {
          "base_uri": "https://localhost:8080/"
        },
        "id": "MTSziaADaTR8",
        "outputId": "090add84-cf02-4cb2-e49b-eeb1b5d38476"
      },
      "execution_count": 42,
      "outputs": [
        {
          "output_type": "stream",
          "name": "stdout",
          "text": [
            "the train score average 0.9418749999999999\n",
            "the validation score average 0.8550000000000001\n"
          ]
        }
      ]
    },
    {
      "cell_type": "code",
      "source": [
        "train_score = 0\n",
        "val_score = 0\n",
        "for train_inx, val_idx in data_split.split(X, y):\n",
        "    clf = LogisticRegression(max_iter=1000, C=5e-5) # underfit model\n",
        "    clf.fit(X_poly[train_inx], y[train_inx])\n",
        "    # print('train acc =', clf.score(X_poly[train_inx], y[train_inx]), \n",
        "    #       '\\tval acc =', clf.score(X_poly[val_idx], y[val_idx]))\n",
        "    train_score += clf.score(X_poly[train_inx], y[train_inx])\n",
        "    val_score += clf.score(X_poly[val_idx], y[val_idx])\n",
        "\n",
        "print('the train score average', train_score/data_split.n_splits)\n",
        "print('the validation score average', val_score/data_split.n_splits)"
      ],
      "metadata": {
        "colab": {
          "base_uri": "https://localhost:8080/"
        },
        "id": "EA2a8kArbZSj",
        "outputId": "b0389636-16e5-499a-e902-7c3c1dac2e05"
      },
      "execution_count": 45,
      "outputs": [
        {
          "output_type": "stream",
          "name": "stdout",
          "text": [
            "the train score average 0.759375\n",
            "the validation score average 0.7550000000000001\n"
          ]
        }
      ]
    },
    {
      "cell_type": "code",
      "source": [
        "train_score = 0\n",
        "val_score = 0\n",
        "for train_inx, val_idx in data_split.split(X, y):\n",
        "    clf = LogisticRegression(max_iter=1000, C=0.03) # more overfit\n",
        "    clf.fit(X_poly[train_inx], y[train_inx])\n",
        "    # print('train acc =', clf.score(X_poly[train_inx], y[train_inx]), \n",
        "    #       '\\tval acc =', clf.score(X_poly[val_idx], y[val_idx]))\n",
        "    train_score += clf.score(X_poly[train_inx], y[train_inx])\n",
        "    val_score += clf.score(X_poly[val_idx], y[val_idx])\n",
        "\n",
        "print('the train score average', train_score/data_split.n_splits)\n",
        "print('the validation score average', val_score/data_split.n_splits)"
      ],
      "metadata": {
        "colab": {
          "base_uri": "https://localhost:8080/"
        },
        "id": "OHyL7gS4bfy9",
        "outputId": "04eda56e-645e-433e-d7df-3aa3f6f09f5d"
      },
      "execution_count": 47,
      "outputs": [
        {
          "output_type": "stream",
          "name": "stdout",
          "text": [
            "the train score average 0.8987499999999999\n",
            "the validation score average 0.8800000000000001\n"
          ]
        }
      ]
    },
    {
      "cell_type": "code",
      "source": [
        "'''\n",
        "the penalty parameter in the function > we have only l2 > C > 1/C > solver: lbfgs\n",
        "the penalty l1 > change the solver\n",
        "use lasso regression for l1\n",
        "GD > j=j-alpha*derivative\n",
        "solvers > Each solver tries to find the parameter weights that minimize a cost function.\n",
        "j'=j+alpha*(Wi**2)\n",
        "https://towardsdatascience.com/dont-sweat-the-solver-stuff-aea7cddc3451\n",
        "'''\n",
        "train_score = 0\n",
        "val_score = 0\n",
        "for train_inx, val_idx in data_split.split(X, y):\n",
        "    clf = LogisticRegression(max_iter=100, penalty='l1', solver=\"saga\", C=0.05) # more overfit\n",
        "    clf.fit(X_poly[train_inx], y[train_inx])\n",
        "    # print('train acc =', clf.score(X_poly[train_inx], y[train_inx]), \n",
        "    #       '\\tval acc =', clf.score(X_poly[val_idx], y[val_idx]))\n",
        "    train_score += clf.score(X_poly[train_inx], y[train_inx])\n",
        "    val_score += clf.score(X_poly[val_idx], y[val_idx])\n",
        "\n",
        "print('the train score average', train_score/data_split.n_splits)\n",
        "print('the validation score average', val_score/data_split.n_splits)"
      ],
      "metadata": {
        "colab": {
          "base_uri": "https://localhost:8080/"
        },
        "id": "ZUYc8Shvb5iN",
        "outputId": "369eb654-5d9a-4b0c-ed04-3ca535a082b3"
      },
      "execution_count": 48,
      "outputs": [
        {
          "output_type": "stream",
          "name": "stderr",
          "text": [
            "/usr/local/lib/python3.7/dist-packages/sklearn/linear_model/_sag.py:354: ConvergenceWarning: The max_iter was reached which means the coef_ did not converge\n",
            "  ConvergenceWarning,\n",
            "/usr/local/lib/python3.7/dist-packages/sklearn/linear_model/_sag.py:354: ConvergenceWarning: The max_iter was reached which means the coef_ did not converge\n",
            "  ConvergenceWarning,\n",
            "/usr/local/lib/python3.7/dist-packages/sklearn/linear_model/_sag.py:354: ConvergenceWarning: The max_iter was reached which means the coef_ did not converge\n",
            "  ConvergenceWarning,\n",
            "/usr/local/lib/python3.7/dist-packages/sklearn/linear_model/_sag.py:354: ConvergenceWarning: The max_iter was reached which means the coef_ did not converge\n",
            "  ConvergenceWarning,\n"
          ]
        },
        {
          "output_type": "stream",
          "name": "stdout",
          "text": [
            "the train score average 0.890625\n",
            "the validation score average 0.8825000000000001\n"
          ]
        },
        {
          "output_type": "stream",
          "name": "stderr",
          "text": [
            "/usr/local/lib/python3.7/dist-packages/sklearn/linear_model/_sag.py:354: ConvergenceWarning: The max_iter was reached which means the coef_ did not converge\n",
            "  ConvergenceWarning,\n"
          ]
        }
      ]
    },
    {
      "cell_type": "code",
      "source": [
        "C = [.001 , .01, .1, 1 , 10, 100 , 1000]\n",
        "\n",
        "for c in C:\n",
        "  train_score = 0\n",
        "  val_score = 0\n",
        "  for train_inx, val_idx in data_split.split(X, y):\n",
        "      clf = LogisticRegression(max_iter=10000, C=c)\n",
        "      clf.fit(X_poly[train_inx], y[train_inx])\n",
        "      train_score += clf.score(X_poly[train_inx], y[train_inx])\n",
        "      val_score += clf.score(X_poly[val_idx], y[val_idx])\n",
        "\n",
        "  print(f\"C is {c}---------\")\n",
        "  print('the train score average', train_score/data_split.n_splits)\n",
        "  print('the validation score average', val_score/data_split.n_splits)"
      ],
      "metadata": {
        "colab": {
          "base_uri": "https://localhost:8080/"
        },
        "id": "3RNhrAG4hkdy",
        "outputId": "f1fbb135-8cd5-4dd1-ab23-9e5c15d5d8d8"
      },
      "execution_count": 51,
      "outputs": [
        {
          "output_type": "stream",
          "name": "stdout",
          "text": [
            "C is 0.001---------\n",
            "the train score average 0.8175000000000001\n",
            "the validation score average 0.8099999999999999\n",
            "C is 0.01---------\n",
            "the train score average 0.8856249999999999\n",
            "the validation score average 0.865\n",
            "C is 0.1---------\n",
            "the train score average 0.909375\n",
            "the validation score average 0.8724999999999999\n",
            "C is 1---------\n",
            "the train score average 0.9262499999999999\n",
            "the validation score average 0.885\n",
            "C is 10---------\n",
            "the train score average 0.9337500000000001\n",
            "the validation score average 0.8674999999999999\n",
            "C is 100---------\n",
            "the train score average 0.9418749999999999\n",
            "the validation score average 0.8550000000000001\n",
            "C is 1000---------\n",
            "the train score average 0.946875\n",
            "the validation score average 0.8474999999999999\n"
          ]
        }
      ]
    },
    {
      "cell_type": "markdown",
      "metadata": {
        "id": "Kzkmywq6WyXM"
      },
      "source": [
        "# train test split"
      ]
    },
    {
      "cell_type": "code",
      "execution_count": null,
      "metadata": {
        "id": "VyEDgyaCWyXP"
      },
      "outputs": [],
      "source": [
        "split = int(X.shape[0] * 0.8)\n",
        "\n",
        "X_train = X[:split]\n",
        "y_train = y[:split]\n",
        "\n",
        "X_test = X[split:]\n",
        "y_test = y[split:]"
      ]
    },
    {
      "cell_type": "code",
      "execution_count": null,
      "metadata": {
        "id": "AdYjrVr6WyXS"
      },
      "outputs": [],
      "source": [
        "mean = X_train.mean(axis=0)\n",
        "std = X_train.std(axis=0)\n",
        "\n",
        "X_train = (X_train - mean) / std\n",
        "X_test = (X_test - mean) / std"
      ]
    },
    {
      "cell_type": "code",
      "execution_count": null,
      "metadata": {
        "id": "JSfG5eCFWyXT"
      },
      "outputs": [],
      "source": [
        "clf = LogisticRegression(verbose=1, class_weight='balanced')"
      ]
    },
    {
      "cell_type": "code",
      "execution_count": null,
      "metadata": {
        "id": "yca5C1oLWyXV",
        "outputId": "a552523d-e079-4958-9f19-c2725931ecec"
      },
      "outputs": [
        {
          "name": "stdout",
          "output_type": "stream",
          "text": [
            "[LibLinear]"
          ]
        },
        {
          "name": "stderr",
          "output_type": "stream",
          "text": [
            "/home/mqod/.local/lib/python3.6/site-packages/sklearn/linear_model/logistic.py:432: FutureWarning: Default solver will be changed to 'lbfgs' in 0.22. Specify a solver to silence this warning.\n",
            "  FutureWarning)\n"
          ]
        },
        {
          "data": {
            "text/plain": [
              "LogisticRegression(C=1.0, class_weight='balanced', dual=False,\n",
              "                   fit_intercept=True, intercept_scaling=1, l1_ratio=None,\n",
              "                   max_iter=100, multi_class='warn', n_jobs=None, penalty='l2',\n",
              "                   random_state=None, solver='warn', tol=0.0001, verbose=1,\n",
              "                   warm_start=False)"
            ]
          },
          "execution_count": 88,
          "metadata": {},
          "output_type": "execute_result"
        }
      ],
      "source": [
        "clf.fit(X_train, y_train)"
      ]
    },
    {
      "cell_type": "markdown",
      "metadata": {
        "id": "xmt7Lp2xWyXW"
      },
      "source": [
        "# Accuracy"
      ]
    },
    {
      "cell_type": "code",
      "execution_count": null,
      "metadata": {
        "id": "TLvrnUctWyXX",
        "outputId": "e0012c80-20cd-4556-9d56-7578f98ba9c9"
      },
      "outputs": [
        {
          "name": "stdout",
          "output_type": "stream",
          "text": [
            "test score: 0.8125\n",
            "test score: 0.85625\n"
          ]
        }
      ],
      "source": [
        "print('test score:', clf.score(X_test, y_test))\n",
        "print('test score:', clf.score(X_train, y_train))"
      ]
    },
    {
      "cell_type": "code",
      "execution_count": null,
      "metadata": {
        "id": "eaSCGxvmWyXY",
        "outputId": "12deab91-d7e0-486b-f740-bc5b1ae16ad3"
      },
      "outputs": [
        {
          "name": "stdout",
          "output_type": "stream",
          "text": [
            "ACC = 0.85625\n"
          ]
        }
      ],
      "source": [
        "h_train = clf.predict(X_train)\n",
        "print('ACC =', np.mean(h_train == y_train))"
      ]
    },
    {
      "cell_type": "code",
      "execution_count": null,
      "metadata": {
        "id": "3u6ekvjEWyXa",
        "outputId": "9a919341-946a-4044-a7b6-a4fa2c2019e5"
      },
      "outputs": [
        {
          "data": {
            "text/plain": [
              "0.85625"
            ]
          },
          "execution_count": 46,
          "metadata": {},
          "output_type": "execute_result"
        }
      ],
      "source": [
        "accuracy_score(y_train, h_train)"
      ]
    },
    {
      "cell_type": "markdown",
      "metadata": {
        "id": "Gk25XBk3WyXb"
      },
      "source": [
        "# Precision"
      ]
    },
    {
      "cell_type": "code",
      "execution_count": null,
      "metadata": {
        "id": "6rB-VIGWWyXd",
        "outputId": "34da50df-e219-461e-b6da-bf722fa8abac"
      },
      "outputs": [
        {
          "name": "stdout",
          "output_type": "stream",
          "text": [
            "test precision: 0.6333333333333333\n",
            "train precision: 0.7936507936507936\n"
          ]
        }
      ],
      "source": [
        "h_train = clf.predict(X_train)\n",
        "h_test = clf.predict(X_test)\n",
        "\n",
        "print('test precision:', precision_score(y_test, h_test))\n",
        "print('train precision:', precision_score(y_train, h_train))"
      ]
    },
    {
      "cell_type": "markdown",
      "metadata": {
        "id": "5Ko6dm-UWyXf"
      },
      "source": [
        "# Recall"
      ]
    },
    {
      "cell_type": "code",
      "execution_count": null,
      "metadata": {
        "id": "oRiK1j6aWyXh",
        "outputId": "167f4494-63a0-4c9a-80d2-7c22c85de78e"
      },
      "outputs": [
        {
          "name": "stdout",
          "output_type": "stream",
          "text": [
            "test recall: 0.8260869565217391\n",
            "train recall: 0.8333333333333334\n"
          ]
        }
      ],
      "source": [
        "h_train = clf.predict(X_train)\n",
        "h_test = clf.predict(X_test)\n",
        "\n",
        "print('test recall:', recall_score(y_test, h_test))\n",
        "print('train recall:', recall_score(y_train, h_train))"
      ]
    },
    {
      "cell_type": "code",
      "execution_count": null,
      "metadata": {
        "id": "NmFR_JklWyXi",
        "outputId": "aa9cf998-14ef-43a6-a2a6-9b4176c056d9"
      },
      "outputs": [
        {
          "name": "stdout",
          "output_type": "stream",
          "text": [
            "Test:\n",
            "\ttrue positive 19\n",
            "\tfalse positive 11\n",
            "\tfalse negative 4\n",
            "\ttrue negative 46\n",
            "Train:\n",
            "\ttrue positive 100\n",
            "\tfalse positive 26\n",
            "\tfalse negative 20\n",
            "\ttrue negative 174\n"
          ]
        }
      ],
      "source": [
        "print('Test:')\n",
        "print('\\ttrue positive', np.sum((y_test == 1)*(h_test == 1)))\n",
        "print('\\tfalse positive', np.sum((y_test == 0)*(h_test == 1)))\n",
        "print('\\tfalse negative', np.sum((y_test == 1)*(h_test == 0)))\n",
        "print('\\ttrue negative', np.sum((y_test == 0)*(h_test == 0)))\n",
        "print('Train:')\n",
        "print('\\ttrue positive', np.sum((y_train == 1)*(h_train == 1)))\n",
        "print('\\tfalse positive', np.sum((y_train == 0)*(h_train == 1)))\n",
        "print('\\tfalse negative', np.sum((y_train == 1)*(h_train == 0)))\n",
        "print('\\ttrue negative', np.sum((y_train == 0)*(h_train == 0)))"
      ]
    },
    {
      "cell_type": "markdown",
      "metadata": {
        "id": "tfU3MufCWyXj"
      },
      "source": [
        "# F1-score"
      ]
    },
    {
      "cell_type": "code",
      "execution_count": null,
      "metadata": {
        "id": "6iYLTiGgWyXl",
        "outputId": "b1cbcdd3-153b-4339-ad1e-12fe6b4774e0"
      },
      "outputs": [
        {
          "name": "stdout",
          "output_type": "stream",
          "text": [
            "test f1-score: 0.7169811320754716\n",
            "train f1-score: 0.8130081300813008\n"
          ]
        }
      ],
      "source": [
        "h_train = clf.predict(X_train)\n",
        "h_test = clf.predict(X_test)\n",
        "\n",
        "print('test f1-score:', f1_score(y_test, h_test))\n",
        "print('train f1-score:', f1_score(y_train, h_train))"
      ]
    },
    {
      "cell_type": "markdown",
      "metadata": {
        "id": "H3hnverRWyXm"
      },
      "source": [
        "# ROC - AUC"
      ]
    },
    {
      "cell_type": "code",
      "execution_count": null,
      "metadata": {
        "id": "V4wrJs1-WyXm",
        "outputId": "1f870472-b657-4e69-a047-15e3bdb55ce4"
      },
      "outputs": [
        {
          "name": "stdout",
          "output_type": "stream",
          "text": [
            "test ROC-AUC: 0.889397406559878\n",
            "train ROC-AUC: 0.8516666666666668\n"
          ]
        }
      ],
      "source": [
        "h_test = clf.predict_proba(X_test)[:, 1]\n",
        "\n",
        "print('test ROC-AUC:', roc_auc_score(y_test, h_test))\n",
        "print('train ROC-AUC:', roc_auc_score(y_train, h_train))"
      ]
    },
    {
      "cell_type": "code",
      "execution_count": null,
      "metadata": {
        "id": "awvPL3e4WyXn",
        "outputId": "9d393d23-5eb7-4310-e17c-733220230e04"
      },
      "outputs": [
        {
          "name": "stdout",
          "output_type": "stream",
          "text": [
            "0.889397406559878\n",
            "0.889397406559878\n"
          ]
        },
        {
          "name": "stderr",
          "output_type": "stream",
          "text": [
            "/home/mqod/.local/lib/python3.6/site-packages/sklearn/linear_model/logistic.py:432: FutureWarning: Default solver will be changed to 'lbfgs' in 0.22. Specify a solver to silence this warning.\n",
            "  FutureWarning)\n",
            "/home/mqod/.local/lib/python3.6/site-packages/sklearn/linear_model/logistic.py:432: FutureWarning: Default solver will be changed to 'lbfgs' in 0.22. Specify a solver to silence this warning.\n",
            "  FutureWarning)\n"
          ]
        }
      ],
      "source": [
        "models = [LogisticRegression(class_weight='balanced'), LogisticRegression()]\n",
        "\n",
        "for model in models:\n",
        "    model.fit(X_train, y_train)\n",
        "    h_test = model.predict_proba(X_test)[:, 1]\n",
        "    \n",
        "    print(roc_auc_score(y_test, h_test))"
      ]
    },
    {
      "cell_type": "code",
      "execution_count": null,
      "metadata": {
        "id": "9e0iZbs9WyXo",
        "outputId": "74f75600-c80c-48b1-9631-2ea98748a323"
      },
      "outputs": [
        {
          "name": "stdout",
          "output_type": "stream",
          "text": [
            "ACC = 0.8\n"
          ]
        }
      ],
      "source": [
        "p_test = model.predict_proba(X_test)[:, 1]\n",
        "\n",
        "th = 0.5\n",
        "h_test = (p_test > th)\n",
        "print('ACC =', np.mean(h_test == y_test))"
      ]
    },
    {
      "cell_type": "code",
      "execution_count": null,
      "metadata": {
        "scrolled": true,
        "id": "AbF4mnSnWyXq",
        "outputId": "5e54d9d7-8b6a-4fdb-c3a8-d1ddc3180d26"
      },
      "outputs": [
        {
          "name": "stderr",
          "output_type": "stream",
          "text": [
            "/home/mqod/.local/lib/python3.6/site-packages/sklearn/linear_model/logistic.py:432: FutureWarning: Default solver will be changed to 'lbfgs' in 0.22. Specify a solver to silence this warning.\n",
            "  FutureWarning)\n",
            "/home/mqod/.local/lib/python3.6/site-packages/sklearn/linear_model/logistic.py:432: FutureWarning: Default solver will be changed to 'lbfgs' in 0.22. Specify a solver to silence this warning.\n",
            "  FutureWarning)\n",
            "/home/mqod/.local/lib/python3.6/site-packages/sklearn/linear_model/logistic.py:432: FutureWarning: Default solver will be changed to 'lbfgs' in 0.22. Specify a solver to silence this warning.\n",
            "  FutureWarning)\n",
            "/home/mqod/.local/lib/python3.6/site-packages/sklearn/linear_model/logistic.py:432: FutureWarning: Default solver will be changed to 'lbfgs' in 0.22. Specify a solver to silence this warning.\n",
            "  FutureWarning)\n",
            "/home/mqod/.local/lib/python3.6/site-packages/sklearn/linear_model/logistic.py:432: FutureWarning: Default solver will be changed to 'lbfgs' in 0.22. Specify a solver to silence this warning.\n",
            "  FutureWarning)\n",
            "/home/mqod/.local/lib/python3.6/site-packages/sklearn/linear_model/logistic.py:432: FutureWarning: Default solver will be changed to 'lbfgs' in 0.22. Specify a solver to silence this warning.\n",
            "  FutureWarning)\n",
            "/home/mqod/.local/lib/python3.6/site-packages/sklearn/linear_model/logistic.py:432: FutureWarning: Default solver will be changed to 'lbfgs' in 0.22. Specify a solver to silence this warning.\n",
            "  FutureWarning)\n",
            "/home/mqod/.local/lib/python3.6/site-packages/sklearn/linear_model/logistic.py:432: FutureWarning: Default solver will be changed to 'lbfgs' in 0.22. Specify a solver to silence this warning.\n",
            "  FutureWarning)\n",
            "/home/mqod/.local/lib/python3.6/site-packages/sklearn/linear_model/logistic.py:432: FutureWarning: Default solver will be changed to 'lbfgs' in 0.22. Specify a solver to silence this warning.\n",
            "  FutureWarning)\n",
            "/home/mqod/.local/lib/python3.6/site-packages/sklearn/linear_model/logistic.py:432: FutureWarning: Default solver will be changed to 'lbfgs' in 0.22. Specify a solver to silence this warning.\n",
            "  FutureWarning)\n",
            "/home/mqod/.local/lib/python3.6/site-packages/sklearn/linear_model/logistic.py:432: FutureWarning: Default solver will be changed to 'lbfgs' in 0.22. Specify a solver to silence this warning.\n",
            "  FutureWarning)\n",
            "/home/mqod/.local/lib/python3.6/site-packages/sklearn/linear_model/logistic.py:432: FutureWarning: Default solver will be changed to 'lbfgs' in 0.22. Specify a solver to silence this warning.\n",
            "  FutureWarning)\n",
            "/home/mqod/.local/lib/python3.6/site-packages/sklearn/linear_model/logistic.py:432: FutureWarning: Default solver will be changed to 'lbfgs' in 0.22. Specify a solver to silence this warning.\n",
            "  FutureWarning)\n",
            "/home/mqod/.local/lib/python3.6/site-packages/sklearn/linear_model/logistic.py:432: FutureWarning: Default solver will be changed to 'lbfgs' in 0.22. Specify a solver to silence this warning.\n",
            "  FutureWarning)\n",
            "/home/mqod/.local/lib/python3.6/site-packages/sklearn/linear_model/logistic.py:432: FutureWarning: Default solver will be changed to 'lbfgs' in 0.22. Specify a solver to silence this warning.\n",
            "  FutureWarning)\n",
            "/home/mqod/.local/lib/python3.6/site-packages/sklearn/linear_model/logistic.py:432: FutureWarning: Default solver will be changed to 'lbfgs' in 0.22. Specify a solver to silence this warning.\n",
            "  FutureWarning)\n",
            "/home/mqod/.local/lib/python3.6/site-packages/sklearn/linear_model/logistic.py:432: FutureWarning: Default solver will be changed to 'lbfgs' in 0.22. Specify a solver to silence this warning.\n",
            "  FutureWarning)\n",
            "/home/mqod/.local/lib/python3.6/site-packages/sklearn/linear_model/logistic.py:432: FutureWarning: Default solver will be changed to 'lbfgs' in 0.22. Specify a solver to silence this warning.\n",
            "  FutureWarning)\n",
            "/home/mqod/.local/lib/python3.6/site-packages/sklearn/linear_model/logistic.py:432: FutureWarning: Default solver will be changed to 'lbfgs' in 0.22. Specify a solver to silence this warning.\n",
            "  FutureWarning)\n",
            "/home/mqod/.local/lib/python3.6/site-packages/sklearn/linear_model/logistic.py:432: FutureWarning: Default solver will be changed to 'lbfgs' in 0.22. Specify a solver to silence this warning.\n",
            "  FutureWarning)\n",
            "/home/mqod/.local/lib/python3.6/site-packages/sklearn/linear_model/logistic.py:432: FutureWarning: Default solver will be changed to 'lbfgs' in 0.22. Specify a solver to silence this warning.\n",
            "  FutureWarning)\n",
            "/home/mqod/.local/lib/python3.6/site-packages/sklearn/linear_model/logistic.py:432: FutureWarning: Default solver will be changed to 'lbfgs' in 0.22. Specify a solver to silence this warning.\n",
            "  FutureWarning)\n",
            "/home/mqod/.local/lib/python3.6/site-packages/sklearn/linear_model/logistic.py:432: FutureWarning: Default solver will be changed to 'lbfgs' in 0.22. Specify a solver to silence this warning.\n",
            "  FutureWarning)\n",
            "/home/mqod/.local/lib/python3.6/site-packages/sklearn/linear_model/logistic.py:432: FutureWarning: Default solver will be changed to 'lbfgs' in 0.22. Specify a solver to silence this warning.\n",
            "  FutureWarning)\n",
            "/home/mqod/.local/lib/python3.6/site-packages/sklearn/linear_model/logistic.py:432: FutureWarning: Default solver will be changed to 'lbfgs' in 0.22. Specify a solver to silence this warning.\n",
            "  FutureWarning)\n"
          ]
        }
      ],
      "source": [
        "clf = LogisticRegression(class_weight='balanced')\n",
        "\n",
        "train_sizes, train_score, test_score = learning_curve(clf, X, y, cv=5)"
      ]
    },
    {
      "cell_type": "code",
      "execution_count": null,
      "metadata": {
        "id": "RtpY_SuTWyXr",
        "outputId": "e4f5557d-3a09-4af7-84bb-2b66de84a80f"
      },
      "outputs": [
        {
          "data": {
            "text/plain": [
              "[<matplotlib.lines.Line2D at 0x7fb3c6ba6940>]"
            ]
          },
          "execution_count": 96,
          "metadata": {},
          "output_type": "execute_result"
        },
        {
          "data": {
            "image/png": "[encoded data removed]",
            "text/plain": [
              "<Figure size 432x288 with 1 Axes>"
            ]
          },
          "metadata": {},
          "output_type": "display_data"
        }
      ],
      "source": [
        "plt.plot(train_sizes, train_score.mean(axis=1), 'go-')\n",
        "plt.plot(train_sizes, test_score.mean(axis=1), 'bo-')"
      ]
    }
  ],
  "metadata": {
    "kernelspec": {
      "display_name": "Python 3",
      "language": "python",
      "name": "python3"
    },
    "language_info": {
      "codemirror_mode": {
        "name": "ipython",
        "version": 3
      },
      "file_extension": ".py",
      "mimetype": "text/x-python",
      "name": "python",
      "nbconvert_exporter": "python",
      "pygments_lexer": "ipython3",
      "version": "3.6.9"
    },
    "colab": {
      "name": "logistic_regression_3_performance_measurement.ipynb",
      "provenance": [],
      "include_colab_link": true
    }
  },
  "nbformat": 4,
  "nbformat_minor": 0
}