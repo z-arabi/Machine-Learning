{
 "cells": [
  {
   "cell_type": "code",
   "execution_count": 1,
   "metadata": {},
   "outputs": [],
   "source": [
    "import numpy as np\n",
    "import pandas as pd\n",
    "import matplotlib.pyplot as plt\n",
    "%matplotlib inline"
   ]
  },
  {
   "cell_type": "code",
   "execution_count": 2,
   "metadata": {},
   "outputs": [
    {
     "data": {
      "text/html": [
       "<div>\n",
       "<style scoped>\n",
       "    .dataframe tbody tr th:only-of-type {\n",
       "        vertical-align: middle;\n",
       "    }\n",
       "\n",
       "    .dataframe tbody tr th {\n",
       "        vertical-align: top;\n",
       "    }\n",
       "\n",
       "    .dataframe thead th {\n",
       "        text-align: right;\n",
       "    }\n",
       "</style>\n",
       "<table border=\"1\" class=\"dataframe\">\n",
       "  <thead>\n",
       "    <tr style=\"text-align: right;\">\n",
       "      <th></th>\n",
       "      <th>Gender</th>\n",
       "      <th>Age</th>\n",
       "      <th>EstimatedSalary</th>\n",
       "      <th>Purchased</th>\n",
       "    </tr>\n",
       "  </thead>\n",
       "  <tbody>\n",
       "    <tr>\n",
       "      <th>0</th>\n",
       "      <td>Male</td>\n",
       "      <td>19</td>\n",
       "      <td>19000</td>\n",
       "      <td>0</td>\n",
       "    </tr>\n",
       "    <tr>\n",
       "      <th>1</th>\n",
       "      <td>Male</td>\n",
       "      <td>35</td>\n",
       "      <td>20000</td>\n",
       "      <td>0</td>\n",
       "    </tr>\n",
       "    <tr>\n",
       "      <th>2</th>\n",
       "      <td>Female</td>\n",
       "      <td>26</td>\n",
       "      <td>43000</td>\n",
       "      <td>0</td>\n",
       "    </tr>\n",
       "    <tr>\n",
       "      <th>3</th>\n",
       "      <td>Female</td>\n",
       "      <td>27</td>\n",
       "      <td>57000</td>\n",
       "      <td>0</td>\n",
       "    </tr>\n",
       "    <tr>\n",
       "      <th>4</th>\n",
       "      <td>Male</td>\n",
       "      <td>19</td>\n",
       "      <td>76000</td>\n",
       "      <td>0</td>\n",
       "    </tr>\n",
       "  </tbody>\n",
       "</table>\n",
       "</div>"
      ],
      "text/plain": [
       "   Gender  Age  EstimatedSalary  Purchased\n",
       "0    Male   19            19000          0\n",
       "1    Male   35            20000          0\n",
       "2  Female   26            43000          0\n",
       "3  Female   27            57000          0\n",
       "4    Male   19            76000          0"
      ]
     },
     "execution_count": 2,
     "metadata": {},
     "output_type": "execute_result"
    }
   ],
   "source": [
    "df = pd.read_csv('./Datasets/Social_Network_Ads.csv')\n",
    "\n",
    "df.drop('User ID', axis=1, inplace=True)\n",
    "df.head(5)"
   ]
  },
  {
   "cell_type": "code",
   "execution_count": 3,
   "metadata": {},
   "outputs": [],
   "source": [
    "df.Gender = pd.get_dummies(df.Gender, drop_first=True)\n",
    "X = df.to_numpy()\n",
    "\n",
    "np.random.seed = 0\n",
    "X = X[np.random.permutation(X.shape[0])]\n",
    "\n",
    "y = X[:, -1]\n",
    "X = X[:, :-1]"
   ]
  },
  {
   "cell_type": "code",
   "execution_count": 5,
   "metadata": {},
   "outputs": [],
   "source": [
    "# in the normal flow we need to scale the data > but in Naive Bayesian there is no need to scale the data\n",
    "# normalization not required because we calculate the probability that is based on the Guassian or Coundting methods\n",
    "# they include the u and sigma for each classes\n",
    "\n",
    "split = int(X.shape[0] * 0.8)\n",
    "\n",
    "X_train = X[:split]\n",
    "y_train = y[:split]\n",
    "\n",
    "X_test = X[split:]\n",
    "y_test = y[split:]"
   ]
  },
  {
   "cell_type": "code",
   "execution_count": 8,
   "metadata": {},
   "outputs": [
    {
     "data": {
      "text/plain": [
       "(array([    1,    46, 59000], dtype=int64), 0)"
      ]
     },
     "execution_count": 8,
     "metadata": {},
     "output_type": "execute_result"
    }
   ],
   "source": [
    "X_test[0], y_test[0]"
   ]
  },
  {
   "cell_type": "code",
   "execution_count": 11,
   "metadata": {},
   "outputs": [
    {
     "data": {
      "text/plain": [
       "((320, 3), (320,))"
      ]
     },
     "execution_count": 11,
     "metadata": {},
     "output_type": "execute_result"
    }
   ],
   "source": [
    "X_train.shape , y_train.shape"
   ]
  },
  {
   "cell_type": "code",
   "execution_count": 16,
   "metadata": {},
   "outputs": [
    {
     "data": {
      "text/plain": [
       "(214, 3)"
      ]
     },
     "execution_count": 16,
     "metadata": {},
     "output_type": "execute_result"
    }
   ],
   "source": [
    "X_train[y_train==0].shape"
   ]
  },
  {
   "cell_type": "code",
   "execution_count": 40,
   "metadata": {},
   "outputs": [
    {
     "name": "stdout",
     "output_type": "stream",
     "text": [
      "class0 probability:  1.9370078388867968e-07\n",
      "class1 probability:  6.327874677904009e-08\n",
      "the input features:  [    0    33 41000]\n",
      "pridcited output:  0\n",
      "actual label:  0\n"
     ]
    }
   ],
   "source": [
    "sample = X_test[13]\n",
    "out = y_test[13]\n",
    "\n",
    "'''\n",
    "P(c0 | x) * P(x) = P1\n",
    "P(c1 | x) * P(x)= P2\n",
    "'''\n",
    "\n",
    "# p_c0 = y_train[y_train == 0].shape[0] / y_train.shape[0]\n",
    "p_c0 = np.mean(y_train==0)\n",
    "\n",
    "# binary\n",
    "p_x1_c0 = np.mean(X_train[y_train==0][:,0] == sample[0])\n",
    "\n",
    "#continous > ( 1 / (( 2 * np.pi)**0.5 * sigma_c)) * np.exp((-(x - mu_c) ** 2) / (2 * sigma_c ** 2))\n",
    "#sigma_c0 = np.std(X_train[y_train==0][:,1]) \n",
    "# 1 means get the std on the col1\n",
    "sigma_1c0 = np.std(X_train[y_train==0, 1])\n",
    "mu_1c0 = np.mean(X_train[y_train==0, 1])\n",
    "sigma_2c0 = np.std(X_train[y_train==0, 2])\n",
    "mu_2c0 = np.mean(X_train[y_train==0,2])\n",
    "\n",
    "p_x2_c0 = ( 1 / (( 2 * np.pi)**0.5 * sigma_1c0)) * np.exp((-(sample[1] - mu_1c0) ** 2) / (2 * sigma_1c0 ** 2))\n",
    "p_x3_c0 = ( 1 / (( 2 * np.pi)**0.5 * sigma_2c0)) * np.exp((-(sample[2] - mu_2c0) ** 2) / (2 * sigma_2c0 ** 2))\n",
    "\n",
    "a0 = p_x1_c0 * p_x2_c0 * p_x3_c0\n",
    "p0 = a0 * p_c0\n",
    "print(\"class0 probability: \", p0)\n",
    "\n",
    "#################################\n",
    "p_c1 = np.mean(y_train==1)\n",
    "\n",
    "p_x1_c1 = np.mean(X_train[y_train==1][:,0] == sample[0])\n",
    "\n",
    "sigma_1c1 = np.std(X_train[y_train==1, 1])\n",
    "mu_1c1 = np.mean(X_train[y_train==1, 1])\n",
    "sigma_2c1 = np.std(X_train[y_train==1, 2])\n",
    "mu_2c1 = np.mean(X_train[y_train==1,2])\n",
    "\n",
    "p_x2_c1 = ( 1 / (( 2 * np.pi)**0.5 * sigma_1c1)) * np.exp((-(sample[1] - mu_1c0) ** 2) / (2 * sigma_1c1 ** 2))\n",
    "p_x3_c1 = ( 1 / (( 2 * np.pi)**0.5 * sigma_2c1)) * np.exp((-(sample[2] - mu_2c0) ** 2) / (2 * sigma_2c1 ** 2))\n",
    "\n",
    "a1 = p_x1_c1 * p_x2_c1 * p_x3_c1\n",
    "p1 = a1 * p_c1\n",
    "print(\"class1 probability: \", p1)\n",
    "\n",
    "print(\"the input features: \", sample)\n",
    "print(\"pridcited output: \", 1 if p1>p0 else 0)\n",
    "print(\"actual label: \", out)\n"
   ]
  },
  {
   "cell_type": "code",
   "execution_count": 42,
   "metadata": {},
   "outputs": [],
   "source": [
    "from sklearn.naive_bayes import GaussianNB\n",
    "# it apply guassian for all types of data no matter categorical or not"
   ]
  },
  {
   "cell_type": "code",
   "execution_count": 43,
   "metadata": {},
   "outputs": [
    {
     "data": {
      "text/plain": [
       "GaussianNB()"
      ]
     },
     "execution_count": 43,
     "metadata": {},
     "output_type": "execute_result"
    }
   ],
   "source": [
    "'''\n",
    "priors > the probability of each class > imbalanced calsses\n",
    "''' \n",
    "clf = GaussianNB()\n",
    "clf.fit(X_train,y_train)"
   ]
  },
  {
   "cell_type": "code",
   "execution_count": 46,
   "metadata": {},
   "outputs": [
    {
     "name": "stdout",
     "output_type": "stream",
     "text": [
      "0.896875\n",
      "0.8625\n"
     ]
    }
   ],
   "source": [
    "print(clf.score(X_train,y_train))\n",
    "print(clf.score(X_test,y_test))"
   ]
  },
  {
   "cell_type": "code",
   "execution_count": 47,
   "metadata": {},
   "outputs": [
    {
     "data": {
      "text/plain": [
       "(array([ 5.,  0.,  7.,  0.,  7.,  0.,  0.,  4.,  0.,  5.,  0.,  6.,  0.,\n",
       "         0.,  9.,  0.,  6.,  0.,  0., 16.,  0., 13.,  0., 12.,  0.,  0.,\n",
       "        10.,  0., 11.,  0., 11.,  0.,  0.,  9.,  0.,  9.,  0.,  0.,  6.,\n",
       "         0., 32.,  0., 12.,  0.,  0., 20.,  0., 13.,  0.,  0., 15.,  0.,\n",
       "        15.,  0., 16.,  0.,  0., 16.,  0.,  3.,  0.,  2.,  0.,  0.,  7.,\n",
       "         0., 12.,  0.,  0., 14.,  0., 14.,  0., 10.,  0.,  0.,  4.,  0.,\n",
       "         3.,  0.,  6.,  0.,  0.,  5.,  0.,  4.,  0.,  0.,  3.,  0.,  3.,\n",
       "         0.,  5.,  0.,  0.,  6.,  0.,  7.,  0.,  7.]),\n",
       " array([18.  , 18.42, 18.84, 19.26, 19.68, 20.1 , 20.52, 20.94, 21.36,\n",
       "        21.78, 22.2 , 22.62, 23.04, 23.46, 23.88, 24.3 , 24.72, 25.14,\n",
       "        25.56, 25.98, 26.4 , 26.82, 27.24, 27.66, 28.08, 28.5 , 28.92,\n",
       "        29.34, 29.76, 30.18, 30.6 , 31.02, 31.44, 31.86, 32.28, 32.7 ,\n",
       "        33.12, 33.54, 33.96, 34.38, 34.8 , 35.22, 35.64, 36.06, 36.48,\n",
       "        36.9 , 37.32, 37.74, 38.16, 38.58, 39.  , 39.42, 39.84, 40.26,\n",
       "        40.68, 41.1 , 41.52, 41.94, 42.36, 42.78, 43.2 , 43.62, 44.04,\n",
       "        44.46, 44.88, 45.3 , 45.72, 46.14, 46.56, 46.98, 47.4 , 47.82,\n",
       "        48.24, 48.66, 49.08, 49.5 , 49.92, 50.34, 50.76, 51.18, 51.6 ,\n",
       "        52.02, 52.44, 52.86, 53.28, 53.7 , 54.12, 54.54, 54.96, 55.38,\n",
       "        55.8 , 56.22, 56.64, 57.06, 57.48, 57.9 , 58.32, 58.74, 59.16,\n",
       "        59.58, 60.  ]),\n",
       " <BarContainer object of 100 artists>)"
      ]
     },
     "execution_count": 47,
     "metadata": {},
     "output_type": "execute_result"
    },
    {
     "data": {
      "image/png": "[encoded data removed]",
      "text/plain": [
       "<Figure size 432x288 with 1 Axes>"
      ]
     },
     "metadata": {
      "needs_background": "light"
     },
     "output_type": "display_data"
    }
   ],
   "source": [
    "plt.hist(X[:,1],bins=100)"
   ]
  },
  {
   "cell_type": "code",
   "execution_count": null,
   "metadata": {},
   "outputs": [],
   "source": []
  }
 ],
 "metadata": {
  "kernelspec": {
   "display_name": "Python 3",
   "language": "python",
   "name": "python3"
  },
  "language_info": {
   "codemirror_mode": {
    "name": "ipython",
    "version": 3
   },
   "file_extension": ".py",
   "mimetype": "text/x-python",
   "name": "python",
   "nbconvert_exporter": "python",
   "pygments_lexer": "ipython3",
   "version": "3.9.5"
  },
  "orig_nbformat": 4
 },
 "nbformat": 4,
 "nbformat_minor": 2
}
