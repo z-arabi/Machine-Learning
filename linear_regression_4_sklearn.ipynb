{
  "cells": [
    {
      "cell_type": "markdown",
      "metadata": {
        "id": "view-in-github",
        "colab_type": "text"
      },
      "source": [
        "<a href=\"https://colab.research.google.com/github/z-arabi/Machine-Learning/blob/main/linear_regression_4_sklearn.ipynb\" target=\"_parent\"><img src=\"https://colab.research.google.com/assets/colab-badge.svg\" alt=\"Open In Colab\"/></a>"
      ]
    },
    {
      "cell_type": "code",
      "execution_count": null,
      "metadata": {
        "id": "Xl8dK1a_zO_E"
      },
      "outputs": [],
      "source": [
        "import numpy as np\n",
        "from sklearn.linear_model import LinearRegression\n",
        "import matplotlib.pyplot as plt\n",
        "import pandas as pd\n",
        "%matplotlib inline"
      ]
    },
    {
      "cell_type": "markdown",
      "metadata": {
        "id": "j_lKKCqWzO_M"
      },
      "source": [
        "<img src=\"https://i.stack.imgur.com/P3mN9.png\" alt=\"fit_intercept in sklearn\">"
      ]
    },
    {
      "cell_type": "code",
      "execution_count": null,
      "metadata": {
        "colab": {
          "base_uri": "https://localhost:8080/",
          "height": 70
        },
        "id": "XVXB2jXPzO_O",
        "outputId": "98fe0fad-4e3d-4b87-b89d-e4be771de4f7"
      },
      "outputs": [
        {
          "output_type": "execute_result",
          "data": {
            "text/plain": [
              "'\\nlr_model = LinearRegression()\\nfit_intercept > false > y=m*x & b=0\\nnormalize=True > depricate\\nn_jobs=2 > multi-thread\\n\\nlr_model.fit(X, y) > it is not iterative > it calculates for lin reg with equations\\nlr_model.predict(X)\\nlr_model.score(X, y)\\nlr_model.coef_ #m or w=[,,,]\\nlr_model.intercept_ #b\\n'"
            ],
            "application/vnd.google.colaboratory.intrinsic+json": {
              "type": "string"
            }
          },
          "metadata": {},
          "execution_count": 2
        }
      ],
      "source": [
        "'''\n",
        "lr_model = LinearRegression()\n",
        "fit_intercept > false > y=m*x & b=0\n",
        "normalize=True > depricate\n",
        "n_jobs=2 > multi-thread\n",
        "\n",
        "lr_model.fit(X, y) > it is not iterative > it calculates for lin reg with equations\n",
        "lr_model.predict(X)\n",
        "lr_model.score(X, y)\n",
        "lr_model.coef_ #m or w=[,,,]\n",
        "lr_model.intercept_ #b\n",
        "'''"
      ]
    },
    {
      "cell_type": "markdown",
      "source": [
        "# Data Processing"
      ],
      "metadata": {
        "id": "SJrA7j53W_zY"
      }
    },
    {
      "cell_type": "code",
      "source": [
        "x1 = np.random.rand(3)\n",
        "print(x1.shape)\n",
        "x2 = np.random.rand(3,1)\n",
        "print(x2.shape)\n",
        "\n",
        "# convert to matrix\n",
        "x3 = x1.reshape(-1,1)\n",
        "print(x3.shape)\n",
        "# convert to 1D array\n",
        "x4 = np.hstack((x3))\n",
        "print(x1==x4)\n",
        "\n",
        "print(x1)\n",
        "print(x2)\n",
        "print(x3)"
      ],
      "metadata": {
        "colab": {
          "base_uri": "https://localhost:8080/"
        },
        "id": "ToIRV7qV0BD3",
        "outputId": "0fadfa33-2587-4d7e-b51a-f8b6af29a7a7"
      },
      "execution_count": null,
      "outputs": [
        {
          "output_type": "stream",
          "name": "stdout",
          "text": [
            "(3,)\n",
            "(3, 1)\n",
            "(3, 1)\n",
            "[ True  True  True]\n",
            "[0.48213926 0.57881693 0.83409528]\n",
            "[[0.11398454]\n",
            " [0.89725652]\n",
            " [0.83931508]]\n",
            "[[0.48213926]\n",
            " [0.57881693]\n",
            " [0.83409528]]\n"
          ]
        }
      ]
    },
    {
      "cell_type": "code",
      "execution_count": null,
      "metadata": {
        "colab": {
          "base_uri": "https://localhost:8080/"
        },
        "id": "fDSbp_CAzO_R",
        "outputId": "de6d034b-48f3-44db-e0c1-0d3e3be0ac6e"
      },
      "outputs": [
        {
          "output_type": "stream",
          "name": "stdout",
          "text": [
            "(100,) (100,)\n"
          ]
        }
      ],
      "source": [
        "# random.normal(loc=0.0, scale=1.0, size=None) > loc=mu / scale=sigma\n",
        "x = np.random.rand(100) * 20\n",
        "y = 2.358 * x - 3.121\n",
        "y = y + np.random.normal(scale=3, size=y.shape)\n",
        "\n",
        "print(x.shape, y.shape)"
      ]
    },
    {
      "cell_type": "code",
      "source": [
        "# ways to create matrix > fit accepts x as matrix but not necessary for y to be matrix > 1.\n",
        "x = np.random.rand(100,1) * 20\n",
        "y = 2.358 * x - 3.121\n",
        "y = y + np.random.normal(scale=3, size=y.shape)\n",
        "\n",
        "print(x.shape, y.shape)"
      ],
      "metadata": {
        "colab": {
          "base_uri": "https://localhost:8080/"
        },
        "id": "twwXtXg5Tu3v",
        "outputId": "1d39635e-3128-4c4c-820e-79e75fad11c6"
      },
      "execution_count": null,
      "outputs": [
        {
          "output_type": "stream",
          "name": "stdout",
          "text": [
            "(100, 1) (100, 1)\n"
          ]
        }
      ]
    },
    {
      "cell_type": "code",
      "source": [
        "# 2.\n",
        "x = np.random.rand(100) * 20\n",
        "y = 2.358 * x - 3.121\n",
        "y = y + np.random.normal(scale=3, size=y.shape)\n",
        "\n",
        "x = x.reshape(-1,1)\n",
        "\n",
        "print(x.shape, y.shape)"
      ],
      "metadata": {
        "colab": {
          "base_uri": "https://localhost:8080/"
        },
        "id": "8uE9vyIpT89y",
        "outputId": "a5f1cb17-f7ad-49bd-fbec-ba8ff37d6d59"
      },
      "execution_count": null,
      "outputs": [
        {
          "output_type": "stream",
          "name": "stdout",
          "text": [
            "(100, 1) (100,)\n"
          ]
        }
      ]
    },
    {
      "cell_type": "markdown",
      "source": [
        "# Normalization & Standarization\n",
        "\n",
        "We want to do scale features between 0 to 1  \n",
        "<img src=\"https://www.baeldung.com/wp-content/ql-cache/quicklatex.com-9613d6dab45efff839236cb185a61e49_l3.svg\" />"
      ],
      "metadata": {
        "id": "GscwBhEKWxsI"
      }
    },
    {
      "cell_type": "code",
      "source": [
        "# another definition\n",
        "m = x.mean(axis=0)\n",
        "s = x.std(axis=0)\n",
        "normalized_x = (x - m) / s\n",
        "print(normalized_x.min(), normalized_x.max())"
      ],
      "metadata": {
        "id": "jm8P7Wvkhw4E",
        "outputId": "3024fd58-6867-4fc5-eede-06230bb0631c",
        "colab": {
          "base_uri": "https://localhost:8080/"
        }
      },
      "execution_count": null,
      "outputs": [
        {
          "output_type": "stream",
          "name": "stdout",
          "text": [
            "-1.7096566300698954 1.9010537986129155\n"
          ]
        }
      ]
    },
    {
      "cell_type": "code",
      "source": [
        "# lr_model = LinearRegression(normalize=True) > normalize is depricated > we have to normalize ourselves\n",
        "\n",
        "'''\n",
        "Normalization refers to rescaling real-valued numeric attributes into a 0 to 1 range.\n",
        "Data normalization is used in machine learning to make model training less sensitive to the scale of features.\n",
        "This allows our model to converge to better weights and, in turn, leads to a more accurate model.\n",
        "'''\n",
        "\n",
        "'''\n",
        "axis represents the dimension in numpy. \n",
        "For 2-d data, axis=0 means 1st dimension (that is row wise) which is appropriate for scale, \n",
        "because you want to scale the values of different samples for same feature. \n",
        "axis=1 means column wise that is scale each sample indepently. \n",
        "sklearn.preprocessing.normalize(X, norm='l2', *, axis=1, copy=True, return_norm=False)\n",
        "if 1, independently normalize each sample, otherwise (if 0) normalize each feature. > 0 is more rational\n",
        "'''\n",
        "\n",
        "# 1.\n",
        "print(x[:3,:])\n",
        "\n",
        "from sklearn import preprocessing\n",
        "\n",
        "# default axis=1 > means each col > we have one col > return 1 for all values\n",
        "# fro scaling we need to consider all of the samples of the same features > rows > 0\n",
        "normalized_x = preprocessing.normalize(x,axis=0)\n",
        "print(normalized_x.min(), normalized_x.max())"
      ],
      "metadata": {
        "colab": {
          "base_uri": "https://localhost:8080/"
        },
        "id": "2Y3uQfC5UEdY",
        "outputId": "351aa134-52b4-41bd-b90b-06f299ad6c04"
      },
      "execution_count": null,
      "outputs": [
        {
          "output_type": "stream",
          "name": "stdout",
          "text": [
            "[[8.60240452]\n",
            " [4.50284565]\n",
            " [9.86229201]]\n",
            "0.00047163458144710923 0.18202935524520167\n"
          ]
        }
      ]
    },
    {
      "cell_type": "code",
      "source": [
        "# 2.\n",
        "from sklearn.preprocessing import MinMaxScaler\n",
        "\n",
        "'''\n",
        "for nomalization we uae minMax scaler\n",
        "we fit a scaler on the test data, then transform the whole dataset with it.\n",
        "By doing this, we completely ignore the test dataset while building the model.\n",
        "\n",
        "min_max_scaler = MinMaxScaler().fit(X_test)\n",
        "X_norm = min_max_scaler.transform(X)\n",
        "\n",
        "x as input must be matrix\n",
        "'''\n",
        "min_max_scaler = MinMaxScaler().fit(x)\n",
        "x_norm = min_max_scaler.transform(x)\n",
        "print(x_norm[:3,:])\n",
        "print(x_norm.std(),x_norm.mean())"
      ],
      "metadata": {
        "colab": {
          "base_uri": "https://localhost:8080/"
        },
        "id": "u25JLZnKXxss",
        "outputId": "7a0dd8b0-c50c-4f6e-f4ab-3ffd3a632a8e"
      },
      "execution_count": null,
      "outputs": [
        {
          "output_type": "stream",
          "name": "stdout",
          "text": [
            "[[0.4359606 ]\n",
            " [0.2269614 ]\n",
            " [0.50019079]]\n",
            "0.276953807222032 0.4734959127402468\n"
          ]
        }
      ]
    },
    {
      "cell_type": "code",
      "source": [
        "'''\n",
        "for standarization > we use standard scaler\n",
        "default: the mean to center them on 0.0 and divide by the standard deviation to give the standard deviation of 1.0\n",
        "\n",
        "scaler = StandardScaler().fit(X_train)\n",
        "X_std = scaler.transform(X)\n",
        "\n",
        "or \n",
        "\n",
        "scaler = StandardScaler()\n",
        "x_std = scaler.fit_transform(x)\n",
        "'''\n",
        "print(x.min(),x.max(),x.mean(),x.std())\n",
        "\n",
        "from sklearn.preprocessing import StandardScaler\n",
        "\n",
        "scaler = StandardScaler()\n",
        "x_std = scaler.fit_transform(x)\n",
        "print(x_std.min(),x_std.max(),x_std.mean(),x_std.std())"
      ],
      "metadata": {
        "colab": {
          "base_uri": "https://localhost:8080/"
        },
        "id": "02sITHu0UOKu",
        "outputId": "f8e31d85-015e-4a53-9bd8-997b97137ec2"
      },
      "execution_count": null,
      "outputs": [
        {
          "output_type": "stream",
          "name": "stdout",
          "text": [
            "0.16738518572297467 19.97466168956467 9.702512659274781 5.57548977849542\n",
            "-1.7101865221471033 1.8423760850408895 -8.049116928532385e-17 0.9999999999999999\n"
          ]
        }
      ]
    },
    {
      "cell_type": "markdown",
      "source": [
        "# Fit model"
      ],
      "metadata": {
        "id": "XnTW6ggDZtT9"
      }
    },
    {
      "cell_type": "code",
      "source": [
        "from sklearn.preprocessing import MinMaxScaler\n",
        "\n",
        "min_max_scaler = MinMaxScaler()\n",
        "x = min_max_scaler.fit_transform(x)"
      ],
      "metadata": {
        "id": "MgKtvDUDZ2Ip"
      },
      "execution_count": null,
      "outputs": []
    },
    {
      "cell_type": "code",
      "execution_count": null,
      "metadata": {
        "colab": {
          "base_uri": "https://localhost:8080/"
        },
        "id": "aS99Bx5YzO_T",
        "outputId": "a9178e4f-0807-49a2-ca0e-a776cf26684a"
      },
      "outputs": [
        {
          "output_type": "stream",
          "name": "stdout",
          "text": [
            "[46.35269258] -2.672254069428419\n"
          ]
        }
      ],
      "source": [
        "lr_model = LinearRegression()\n",
        "\n",
        "# optional how to give y > array ot matrix\n",
        "lr_model.fit(x, y)\n",
        "print(lr_model.coef_, lr_model.intercept_)"
      ]
    },
    {
      "cell_type": "code",
      "execution_count": null,
      "metadata": {
        "colab": {
          "base_uri": "https://localhost:8080/"
        },
        "id": "ECAcuG_JzO_U",
        "outputId": "cd7b1fde-a064-4d73-93d1-1ed147665538"
      },
      "outputs": [
        {
          "output_type": "execute_result",
          "data": {
            "text/plain": [
              "0.9546446447127603"
            ]
          },
          "metadata": {},
          "execution_count": 53
        }
      ],
      "source": [
        "lr_model.score(x, y)"
      ]
    },
    {
      "cell_type": "code",
      "execution_count": null,
      "metadata": {
        "scrolled": true,
        "colab": {
          "base_uri": "https://localhost:8080/"
        },
        "id": "orOQvDH5zO_V",
        "outputId": "0c88aa31-fb53-4c93-d2b8-974a9d8f5feb"
      },
      "outputs": [
        {
          "output_type": "stream",
          "name": "stdout",
          "text": [
            "4.044113076269621\n"
          ]
        }
      ],
      "source": [
        "h = lr_model.predict(x)\n",
        "MSE = np.mean((y - h) ** 2) / 2\n",
        "print(MSE)"
      ]
    },
    {
      "cell_type": "code",
      "source": [
        "# lr_model.score(x, y)\n",
        "\n",
        "1 - (2*MSE / y.var())"
      ],
      "metadata": {
        "colab": {
          "base_uri": "https://localhost:8080/"
        },
        "id": "U5_AWPIjdcgg",
        "outputId": "7c01e9b9-9b5f-4f5c-a0c4-16a505624a91"
      },
      "execution_count": null,
      "outputs": [
        {
          "output_type": "execute_result",
          "data": {
            "text/plain": [
              "0.9546446447127603"
            ]
          },
          "metadata": {},
          "execution_count": 60
        }
      ]
    },
    {
      "cell_type": "code",
      "source": [
        "plt.plot(x,y,'bo')\n",
        "plt.plot(x,h,'r--')\n",
        "plt.show()"
      ],
      "metadata": {
        "colab": {
          "base_uri": "https://localhost:8080/",
          "height": 265
        },
        "id": "v4LEMRxVcr-I",
        "outputId": "25d14351-eb4b-40f2-e54b-c383c9abd955"
      },
      "execution_count": null,
      "outputs": [
        {
          "output_type": "display_data",
          "data": {
            "text/plain": [
              "<Figure size 432x288 with 1 Axes>"
            ],
            "image/png": "[encoded data removed]"
          },
          "metadata": {
            "needs_background": "light"
          }
        }
      ]
    },
    {
      "cell_type": "markdown",
      "source": [
        "# Non-Linear Regression"
      ],
      "metadata": {
        "id": "SOYABY-7gMby"
      }
    },
    {
      "cell_type": "code",
      "source": [
        "x = np.arange(-10, 30, 1).reshape(-1, 1)\n",
        "# create polynomial degrees\n",
        "x_2 = np.hstack((x,x**2))\n",
        "\n",
        "y_2 = 2 * x_2[:,0] + 2.15 * x_2[:,1] - 3.121\n",
        "y_2 = y_2 + np.random.normal(scale=20, size=y_2.shape)**2\n",
        "\n",
        "plt.plot(x_2[:,0],y_2,'bo')"
      ],
      "metadata": {
        "colab": {
          "base_uri": "https://localhost:8080/",
          "height": 282
        },
        "id": "bbHt2sGngQRG",
        "outputId": "0fdda9d9-74cd-4800-b562-d78eab9b1e00"
      },
      "execution_count": null,
      "outputs": [
        {
          "output_type": "execute_result",
          "data": {
            "text/plain": [
              "[<matplotlib.lines.Line2D at 0x7f662a62ad10>]"
            ]
          },
          "metadata": {},
          "execution_count": 127
        },
        {
          "output_type": "display_data",
          "data": {
            "text/plain": [
              "<Figure size 432x288 with 1 Axes>"
            ],
            "image/png": "[encoded data removed]"
          },
          "metadata": {
            "needs_background": "light"
          }
        }
      ]
    },
    {
      "cell_type": "code",
      "source": [
        "# we have two features\n",
        "lr_model.fit(x_2,y_2)\n",
        "print( lr_model.coef_ , lr_model.intercept_ )\n",
        "\n",
        "print(lr_model.score(x_2,y_2))"
      ],
      "metadata": {
        "colab": {
          "base_uri": "https://localhost:8080/"
        },
        "id": "My86-Z-YgQWs",
        "outputId": "3992926c-93d8-4013-e1f4-976099e47851"
      },
      "execution_count": null,
      "outputs": [
        {
          "output_type": "stream",
          "name": "stdout",
          "text": [
            "[5.87196879 2.05103666] 399.4030096864785\n",
            "0.5588068960738505\n"
          ]
        }
      ]
    },
    {
      "cell_type": "code",
      "source": [
        "# we have two features now\n",
        "h = lr_model.predict(x_2)\n",
        "\n",
        "plt.plot(x_2[:, 0], y_2, 'bo')\n",
        "plt.plot(x_2[:, 0], h, 'r--')"
      ],
      "metadata": {
        "colab": {
          "base_uri": "https://localhost:8080/",
          "height": 282
        },
        "id": "MnDQfN58h3yj",
        "outputId": "b06b5f5e-ef94-41ad-a32f-e03fd9dba55c"
      },
      "execution_count": null,
      "outputs": [
        {
          "output_type": "execute_result",
          "data": {
            "text/plain": [
              "[<matplotlib.lines.Line2D at 0x7f662a5a5790>]"
            ]
          },
          "metadata": {},
          "execution_count": 129
        },
        {
          "output_type": "display_data",
          "data": {
            "text/plain": [
              "<Figure size 432x288 with 1 Axes>"
            ],
            "image/png": "[encoded data removed]"
          },
          "metadata": {
            "needs_background": "light"
          }
        }
      ]
    },
    {
      "cell_type": "code",
      "source": [
        "x = np.arange(-10, 30, 1).reshape(-1, 1)\n",
        "x_6 = np.hstack((x,x**2,x**3,x**4,x**5,x**6))\n",
        "\n",
        "# learn y_2 with degree6\n",
        "lr_model.fit(x_6,y_2)\n",
        "\n",
        "h = lr_model.predict(x_6)\n",
        "\n",
        "plt.plot(x_6[:, 0], y_2, 'bo')\n",
        "plt.plot(x_6[:, 0], h, 'r--')"
      ],
      "metadata": {
        "colab": {
          "base_uri": "https://localhost:8080/",
          "height": 282
        },
        "id": "pBlKWXj0enZ4",
        "outputId": "21d8d377-4d3d-44ae-cdcb-2a7718cd4768"
      },
      "execution_count": null,
      "outputs": [
        {
          "output_type": "execute_result",
          "data": {
            "text/plain": [
              "[<matplotlib.lines.Line2D at 0x7f6629756d90>]"
            ]
          },
          "metadata": {},
          "execution_count": 172
        },
        {
          "output_type": "display_data",
          "data": {
            "text/plain": [
              "<Figure size 432x288 with 1 Axes>"
            ],
            "image/png": "[encoded data removed]"
          },
          "metadata": {
            "needs_background": "light"
          }
        }
      ]
    }
  ],
  "metadata": {
    "kernelspec": {
      "display_name": "Python 3",
      "language": "python",
      "name": "python3"
    },
    "language_info": {
      "codemirror_mode": {
        "name": "ipython",
        "version": 3
      },
      "file_extension": ".py",
      "mimetype": "text/x-python",
      "name": "python",
      "nbconvert_exporter": "python",
      "pygments_lexer": "ipython3",
      "version": "3.8.2"
    },
    "colab": {
      "name": "linear_regression_4.sklearn.ipynb",
      "provenance": [],
      "collapsed_sections": [],
      "include_colab_link": true
    }
  },
  "nbformat": 4,
  "nbformat_minor": 0
}