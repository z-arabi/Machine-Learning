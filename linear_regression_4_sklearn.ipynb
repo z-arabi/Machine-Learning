{
  "cells": [
    {
      "cell_type": "markdown",
      "metadata": {
        "id": "view-in-github",
        "colab_type": "text"
      },
      "source": [
        "<a href=\"https://colab.research.google.com/github/z-arabi/Machine-Learning/blob/main/linear_regression_4_sklearn.ipynb\" target=\"_parent\"><img src=\"https://colab.research.google.com/assets/colab-badge.svg\" alt=\"Open In Colab\"/></a>"
      ]
    },
    {
      "cell_type": "code",
      "execution_count": 1,
      "metadata": {
        "id": "Xl8dK1a_zO_E"
      },
      "outputs": [],
      "source": [
        "import numpy as np\n",
        "from sklearn.linear_model import LinearRegression\n",
        "import matplotlib.pyplot as plt\n",
        "import pandas as pd\n",
        "%matplotlib inline"
      ]
    },
    {
      "cell_type": "markdown",
      "metadata": {
        "id": "j_lKKCqWzO_M"
      },
      "source": [
        "<img src=\"https://i.stack.imgur.com/P3mN9.png\" alt=\"fit_intercept in sklearn\">"
      ]
    },
    {
      "cell_type": "code",
      "execution_count": 2,
      "metadata": {
        "colab": {
          "base_uri": "https://localhost:8080/",
          "height": 70
        },
        "id": "XVXB2jXPzO_O",
        "outputId": "eeeedf41-1d6a-4236-abf2-427a6d422d27"
      },
      "outputs": [
        {
          "output_type": "execute_result",
          "data": {
            "text/plain": [
              "'\\nlr_model = LinearRegression()\\nfit_intercept > false > y=m*x & b=0\\nnormalize=True > depricate\\nn_jobs=2 > multi-thread\\n\\nlr_model.fit(X, y) > it is not iterative > it calculates for lin reg with equations\\nlr_model.predict(X)\\nlr_model.score(X, y)\\nlr_model.coef_ #m or w=[,,,]\\nlr_model.intercept_ #b\\n'"
            ],
            "application/vnd.google.colaboratory.intrinsic+json": {
              "type": "string"
            }
          },
          "metadata": {},
          "execution_count": 2
        }
      ],
      "source": [
        "'''\n",
        "lr_model = LinearRegression()\n",
        "fit_intercept > false > y=m*x & b=0\n",
        "normalize=True > depricate\n",
        "n_jobs=2 > multi-thread\n",
        "\n",
        "lr_model.fit(X, y) > it is not iterative > it calculates for lin reg with equations\n",
        "lr_model.predict(X)\n",
        "lr_model.score(X, y)\n",
        "lr_model.coef_ #m or w=[,,,]\n",
        "lr_model.intercept_ #b\n",
        "'''"
      ]
    },
    {
      "cell_type": "markdown",
      "source": [
        "# Data Processing"
      ],
      "metadata": {
        "id": "SJrA7j53W_zY"
      }
    },
    {
      "cell_type": "code",
      "source": [
        "x1 = np.random.rand(3)\n",
        "print(x1.shape)\n",
        "x2 = np.random.rand(3,1)\n",
        "print(x2.shape)\n",
        "\n",
        "# convert to matrix\n",
        "x3 = x1.reshape(-1,1)\n",
        "print(x3.shape)\n",
        "# convert to 1D array\n",
        "x4 = np.hstack((x3))\n",
        "print(x1==x4)\n",
        "\n",
        "print(x1)\n",
        "print(x2)\n",
        "print(x3)"
      ],
      "metadata": {
        "colab": {
          "base_uri": "https://localhost:8080/"
        },
        "id": "ToIRV7qV0BD3",
        "outputId": "f68bb39c-7330-47e1-d31e-0e8ee5b9e9be"
      },
      "execution_count": 3,
      "outputs": [
        {
          "output_type": "stream",
          "name": "stdout",
          "text": [
            "(3,)\n",
            "(3, 1)\n",
            "(3, 1)\n",
            "[ True  True  True]\n",
            "[0.96343012 0.0995961  0.04522536]\n",
            "[[0.92626247]\n",
            " [0.4221349 ]\n",
            " [0.36785269]]\n",
            "[[0.96343012]\n",
            " [0.0995961 ]\n",
            " [0.04522536]]\n"
          ]
        }
      ]
    },
    {
      "cell_type": "code",
      "execution_count": 4,
      "metadata": {
        "colab": {
          "base_uri": "https://localhost:8080/"
        },
        "id": "fDSbp_CAzO_R",
        "outputId": "a1dcae4a-f900-4546-b85c-4dee38f6efb6"
      },
      "outputs": [
        {
          "output_type": "stream",
          "name": "stdout",
          "text": [
            "(100,) (100,)\n"
          ]
        }
      ],
      "source": [
        "x = np.random.rand(100) * 20\n",
        "y = 2.358 * x - 3.121\n",
        "y = y + np.random.normal(scale=3, size=y.shape)\n",
        "\n",
        "print(x.shape, y.shape)"
      ]
    },
    {
      "cell_type": "code",
      "source": [
        "# ways to create matrix > fit accepts x as matrix but not necessary for y to be matrix > 1.\n",
        "x = np.random.rand(100,1) * 20\n",
        "y = 2.358 * x - 3.121\n",
        "y = y + np.random.normal(scale=3, size=y.shape)\n",
        "\n",
        "print(x.shape, y.shape)"
      ],
      "metadata": {
        "colab": {
          "base_uri": "https://localhost:8080/"
        },
        "id": "twwXtXg5Tu3v",
        "outputId": "852d62de-ddbb-44ac-9165-f5a5dc27043b"
      },
      "execution_count": 5,
      "outputs": [
        {
          "output_type": "stream",
          "name": "stdout",
          "text": [
            "(100, 1) (100, 1)\n"
          ]
        }
      ]
    },
    {
      "cell_type": "code",
      "source": [
        "# 2.\n",
        "x = np.random.rand(100) * 20\n",
        "y = 2.358 * x - 3.121\n",
        "y = y + np.random.normal(scale=3, size=y.shape)\n",
        "\n",
        "x = x.reshape(-1,1)\n",
        "\n",
        "print(x.shape, y.shape)"
      ],
      "metadata": {
        "colab": {
          "base_uri": "https://localhost:8080/"
        },
        "id": "8uE9vyIpT89y",
        "outputId": "eaa5e754-f6b1-4a3d-a63f-d29036a24b65"
      },
      "execution_count": 6,
      "outputs": [
        {
          "output_type": "stream",
          "name": "stdout",
          "text": [
            "(100, 1) (100,)\n"
          ]
        }
      ]
    },
    {
      "cell_type": "markdown",
      "source": [
        "# Normalization & Standarization\n",
        "\n",
        "We want to do scale features between 0 to 1  \n",
        "<img src=\"https://www.baeldung.com/wp-content/ql-cache/quicklatex.com-9613d6dab45efff839236cb185a61e49_l3.svg\" />"
      ],
      "metadata": {
        "id": "GscwBhEKWxsI"
      }
    },
    {
      "cell_type": "code",
      "source": [
        "# another definition\n",
        "m = x.mean(axis=0)\n",
        "s = x.std(axis=0)\n",
        "normalized_x = (x - m) / s\n",
        "print(normalized_x.min(),normalized_x.max(),normalized_x.mean(),normalized_x.std())"
      ],
      "metadata": {
        "id": "jm8P7Wvkhw4E",
        "outputId": "5b9d07be-5da9-4e51-b876-1b264fb14975",
        "colab": {
          "base_uri": "https://localhost:8080/"
        }
      },
      "execution_count": 7,
      "outputs": [
        {
          "output_type": "stream",
          "name": "stdout",
          "text": [
            "-1.7503909704920453 1.8341728003275881 -1.4988010832439614e-16 1.0\n"
          ]
        }
      ]
    },
    {
      "cell_type": "code",
      "source": [
        "min = x.min(axis=0)\n",
        "max = x.max(axis=0)\n",
        "normalized_x = (x - min) / max\n",
        "print(normalized_x.min(),normalized_x.max(),normalized_x.mean(),normalized_x.std())"
      ],
      "metadata": {
        "id": "EEM16e94Fm6i",
        "outputId": "f416c82c-3821-4880-e7e4-d0208bc1d378",
        "colab": {
          "base_uri": "https://localhost:8080/"
        }
      },
      "execution_count": 9,
      "outputs": [
        {
          "output_type": "stream",
          "name": "stdout",
          "text": [
            "0.0 0.9906876332406505 0.48376617035496594 0.2763760659819768\n"
          ]
        }
      ]
    },
    {
      "cell_type": "code",
      "source": [
        "# lr_model = LinearRegression(normalize=True) > normalize is depricated > we have to normalize ourselves\n",
        "\n",
        "'''\n",
        "Normalization refers to rescaling real-valued numeric attributes into a 0 to 1 range.\n",
        "Data normalization is used in machine learning to make model training less sensitive to the scale of features.\n",
        "This allows our model to converge to better weights and, in turn, leads to a more accurate model.\n",
        "'''\n",
        "\n",
        "'''\n",
        "axis represents the dimension in numpy. \n",
        "For 2-d data, axis=0 means 1st dimension (that is row wise) which is appropriate for scale, \n",
        "because you want to scale the values of different samples for same feature. \n",
        "axis=1 means column wise that is scale each sample indepently. \n",
        "sklearn.preprocessing.normalize(X, norm='l2', *, axis=1, copy=True, return_norm=False)\n",
        "if 1, independently normalize each sample, otherwise (if 0) normalize each feature. > 0 is more rational\n",
        "'''\n",
        "\n",
        "'''\n",
        "we use preprocessing function of sklearn\n",
        "\n",
        "it has a param called norm > l1, l2, max\n",
        "default=’l2’\n",
        "'''\n",
        "\n",
        "# the normalization itself\n",
        "'''Normalization is the process of scaling individual samples to have unit norm. \n",
        "This process can be useful if you plan to use a quadratic form such as the dot-product or \n",
        "any other kernel to quantify the similarity of any pair of samples.\n",
        "'''"
      ],
      "metadata": {
        "id": "1IG8PQv7IQpf",
        "outputId": "807c5764-f34b-4a98-8a6a-2aa967fabac8",
        "colab": {
          "base_uri": "https://localhost:8080/",
          "height": 70
        }
      },
      "execution_count": 24,
      "outputs": [
        {
          "output_type": "execute_result",
          "data": {
            "text/plain": [
              "'Normalization is the process of scaling individual samples to have unit norm. \\nThis process can be useful if you plan to use a quadratic form such as the dot-product or \\nany other kernel to quantify the similarity of any pair of samples.\\n'"
            ],
            "application/vnd.google.colaboratory.intrinsic+json": {
              "type": "string"
            }
          },
          "metadata": {},
          "execution_count": 24
        }
      ]
    },
    {
      "cell_type": "code",
      "source": [
        "x_multidim = np.random.randint(10,size=(3,4))\n",
        "print(x_multidim)\n",
        "\n",
        "print(x.shape)\n",
        "print(x[:3,:])"
      ],
      "metadata": {
        "id": "9z2AL-ysInAX",
        "outputId": "abcee7f1-9305-44e2-b15f-84a5cfbce631",
        "colab": {
          "base_uri": "https://localhost:8080/"
        }
      },
      "execution_count": 34,
      "outputs": [
        {
          "output_type": "stream",
          "name": "stdout",
          "text": [
            "[[9 9 4 6]\n",
            " [6 9 5 6]\n",
            " [4 7 4 7]]\n",
            "(100, 1)\n",
            "[[ 2.34218221]\n",
            " [ 6.76524718]\n",
            " [19.56329098]]\n"
          ]
        }
      ]
    },
    {
      "cell_type": "code",
      "source": [
        "from sklearn import preprocessing\n",
        "\n",
        "# the sum of |features| for each row=1 > in normalization the output can be pos or neg\n",
        "x_multidim_l1 = preprocessing.normalize(x_multidim, norm=\"l1\")\n",
        "print(x_multidim_l1)\n",
        "#3*4 > axis=0 > 1*4 > work on cols\n",
        "print(x_multidim_l1.sum(axis=0))\n",
        "#3*4 > axis=1 > 1*3 > work on rows\n",
        "# it sould sum with absolute\n",
        "print(x_multidim_l1.sum(axis=1))\n",
        "print(x_multidim_l1.sum())\n",
        "\n",
        "x_l1 = preprocessing.normalize(x, norm=\"l1\")\n",
        "print(x_l1[:3,:])"
      ],
      "metadata": {
        "id": "ohheteOrI8gX",
        "outputId": "60b381cd-26f6-443a-cc3f-76fe3f4e6f48",
        "colab": {
          "base_uri": "https://localhost:8080/"
        }
      },
      "execution_count": 35,
      "outputs": [
        {
          "output_type": "stream",
          "name": "stdout",
          "text": [
            "[[0.32142857 0.32142857 0.14285714 0.21428571]\n",
            " [0.23076923 0.34615385 0.19230769 0.23076923]\n",
            " [0.18181818 0.31818182 0.18181818 0.31818182]]\n",
            "[0.73401598 0.98576424 0.51698302 0.76323676]\n",
            "[1. 1. 1.]\n",
            "3.0\n",
            "[[1.]\n",
            " [1.]\n",
            " [1.]]\n"
          ]
        }
      ]
    },
    {
      "cell_type": "code",
      "source": [
        "# np.sqrt(Sigma(features**2)) = 1\n",
        "x_multidim_l2 = preprocessing.normalize(x_multidim, norm=\"l2\")\n",
        "print(x_multidim_l2)\n",
        "# working with the np.sum \n",
        "# x_multidim_l2.sum(axis=1) > [1.9140406  1.94878239 1.92952764]\n",
        "# np.sum(x_multidim_l2, axis=1) > [1.9140406  1.94878239 1.92952764]\n",
        "print(np.sqrt(np.sum(x_multidim_l2**2,axis=1)))\n",
        "\n",
        "x_l2 = preprocessing.normalize(x, norm=\"l2\")\n",
        "print(x_l2[:3,:])"
      ],
      "metadata": {
        "id": "HcupAfIBNPrv",
        "outputId": "adbb9a7b-9c79-47dc-ecc8-38c1e4db90bd",
        "colab": {
          "base_uri": "https://localhost:8080/"
        }
      },
      "execution_count": 49,
      "outputs": [
        {
          "output_type": "stream",
          "name": "stdout",
          "text": [
            "[[0.61522733 0.61522733 0.27343437 0.41015156]\n",
            " [0.44971901 0.67457852 0.37476584 0.44971901]\n",
            " [0.35082321 0.61394061 0.35082321 0.61394061]]\n",
            "[1. 1. 1.]\n",
            "[[1.]\n",
            " [1.]\n",
            " [1.]]\n"
          ]
        }
      ]
    },
    {
      "cell_type": "code",
      "source": [
        "# max absolute value in each row= 1 > others are the percentage of -1 to 1 with considering the max\n",
        "# 9>1 -- 4/9=0.4444\n",
        "x_multidim_max = preprocessing.normalize(x_multidim, norm=\"max\")\n",
        "print(x_multidim_max)\n",
        "\n",
        "x_max = preprocessing.normalize(x, norm=\"max\")\n",
        "print(x_max[:3,:])"
      ],
      "metadata": {
        "id": "IRxfyTsVNcy6",
        "outputId": "0bd9acf0-70ac-4ffd-b3b4-d9c1e6f6f2b1",
        "colab": {
          "base_uri": "https://localhost:8080/"
        }
      },
      "execution_count": 51,
      "outputs": [
        {
          "output_type": "stream",
          "name": "stdout",
          "text": [
            "[[1.         1.         0.44444444 0.66666667]\n",
            " [0.66666667 1.         0.55555556 0.66666667]\n",
            " [0.57142857 1.         0.57142857 1.        ]]\n",
            "[[1.]\n",
            " [1.]\n",
            " [1.]]\n"
          ]
        }
      ]
    },
    {
      "cell_type": "code",
      "source": [
        "# default axis=1 > means each col > we have one col > return 1 for all values\n",
        "# fro scaling we need to consider all of the samples of the same features > rows > 0\n",
        "# default is l2\n",
        "\n",
        "x_multidim_l2 = preprocessing.normalize(x_multidim, axis=0)\n",
        "print(x_multidim_l2)\n",
        "print(np.sqrt(np.sum(x_multidim_l2**2,axis=0)))\n",
        "\n",
        "# normalization > you don't have number above 1\n",
        "normalized_x = preprocessing.normalize(x,axis=0)\n",
        "print(normalized_x.min(),normalized_x.max(),normalized_x.mean(),normalized_x.std())\n",
        "# only have one column\n",
        "print(np.sqrt(np.sum(normalized_x**2,axis=0)))"
      ],
      "metadata": {
        "id": "_m-keEDBQ0rb",
        "outputId": "4519935b-3ef1-4c28-80bb-4fd092ab3296",
        "colab": {
          "base_uri": "https://localhost:8080/"
        }
      },
      "execution_count": 55,
      "outputs": [
        {
          "output_type": "stream",
          "name": "stdout",
          "text": [
            "[[0.78039897 0.61958555 0.52981294 0.54545455]\n",
            " [0.52026598 0.61958555 0.66226618 0.54545455]\n",
            " [0.34684399 0.48189987 0.52981294 0.63636364]]\n",
            "[1. 1. 1. 1.]\n",
            "0.0016474708019235066 0.17691214752355602 0.08723158289866692 0.04889428335698352\n",
            "[1.]\n"
          ]
        }
      ]
    },
    {
      "cell_type": "code",
      "source": [
        "# normalization pipeline > normalize all of the data \n",
        "# default is axis=1 > on each row individually > l2 norm\n",
        "# Normalize samples individually to unit norm. > it doean't have the axis to set 0 ???\n",
        "# https://scikit-learn.org/stable/modules/generated/sklearn.preprocessing.Normalizer.html#sklearn.preprocessing.Normalizer\n",
        "\n",
        "normalizer = preprocessing.Normalizer().fit(x)\n",
        "normalized_x = normalizer.transform(x)\n",
        "print(normalized_x[:3,:])\n",
        "print(normalized_x.min(),normalized_x.max(),normalized_x.mean(),normalized_x.std())"
      ],
      "metadata": {
        "colab": {
          "base_uri": "https://localhost:8080/"
        },
        "id": "2Y3uQfC5UEdY",
        "outputId": "f0a0cdac-b71b-482f-f7fb-ed5f00cbfb5c"
      },
      "execution_count": 58,
      "outputs": [
        {
          "output_type": "stream",
          "name": "stdout",
          "text": [
            "[[1.]\n",
            " [1.]\n",
            " [1.]]\n",
            "1.0 1.0 1.0 0.0\n"
          ]
        }
      ]
    },
    {
      "cell_type": "code",
      "source": [
        "# 2.\n",
        "from sklearn.preprocessing import MinMaxScaler\n",
        "\n",
        "'''\n",
        "Transform features by scaling each feature to a given range. > features are cols BUT samples are rows\n",
        "https://scikit-learn.org/stable/modules/generated/sklearn.preprocessing.MinMaxScaler.html\n",
        "\n",
        "for nomalization we use minMax scaler\n",
        "we fit a scaler on the test data, then transform the whole dataset with it.\n",
        "By doing this, we completely ignore the test dataset while building the model.\n",
        "\n",
        "min_max_scaler = MinMaxScaler().fit(X_test)\n",
        "X_norm = min_max_scaler.transform(X)\n",
        "\n",
        "x as input must be matrix\n",
        "'''\n",
        "min_max_scaler = MinMaxScaler().fit(x)\n",
        "x_norm = min_max_scaler.transform(x)\n",
        "print(x_norm[:3,:])\n",
        "print(x_norm.min(),x_norm.max(),x_norm.mean(),x_norm.std())"
      ],
      "metadata": {
        "colab": {
          "base_uri": "https://localhost:8080/"
        },
        "id": "u25JLZnKXxss",
        "outputId": "bb0230cd-1cc6-4eee-e3b3-952bb3ce51d3"
      },
      "execution_count": 59,
      "outputs": [
        {
          "output_type": "stream",
          "name": "stdout",
          "text": [
            "[[0.10927983]\n",
            " [0.3333991 ]\n",
            " [0.98188341]]\n",
            "0.0 0.9999999999999999 0.4883135249932538 0.2789739739436533\n"
          ]
        }
      ]
    },
    {
      "cell_type": "code",
      "source": [
        "'''\n",
        "for standarization > we use standard scaler\n",
        "default: the mean to center them on 0.0 and divide by the standard deviation to give the standard deviation of 1.0\n",
        "\n",
        "scaler = StandardScaler().fit(X_train)\n",
        "X_std = scaler.transform(X)\n",
        "\n",
        "or \n",
        "\n",
        "scaler = StandardScaler()\n",
        "x_std = scaler.fit_transform(x)\n",
        "'''\n",
        "print(x.min(),x.max(),x.mean(),x.std())\n",
        "\n",
        "from sklearn.preprocessing import StandardScaler\n",
        "\n",
        "scaler = StandardScaler()\n",
        "x_std = scaler.fit_transform(x)\n",
        "print(x_std.min(),x_std.max(),x_std.mean(),x_std.std())"
      ],
      "metadata": {
        "colab": {
          "base_uri": "https://localhost:8080/"
        },
        "id": "02sITHu0UOKu",
        "outputId": "462cef7d-cfc7-4aa7-952c-26965799fbb1"
      },
      "execution_count": 60,
      "outputs": [
        {
          "output_type": "stream",
          "name": "stdout",
          "text": [
            "0.18551005296315592 19.920827621711222 9.822532541819816 5.505639969193646\n",
            "-1.7503909704920453 1.8341728003275881 -1.4988010832439614e-16 1.0\n"
          ]
        }
      ]
    },
    {
      "cell_type": "markdown",
      "source": [
        "# Fit model"
      ],
      "metadata": {
        "id": "XnTW6ggDZtT9"
      }
    },
    {
      "cell_type": "code",
      "source": [
        "from sklearn.preprocessing import MinMaxScaler\n",
        "\n",
        "min_max_scaler = MinMaxScaler()\n",
        "x = min_max_scaler.fit_transform(x)"
      ],
      "metadata": {
        "id": "MgKtvDUDZ2Ip"
      },
      "execution_count": 61,
      "outputs": []
    },
    {
      "cell_type": "code",
      "execution_count": 62,
      "metadata": {
        "colab": {
          "base_uri": "https://localhost:8080/"
        },
        "id": "aS99Bx5YzO_T",
        "outputId": "ca3f0c53-7c29-4e81-98c2-54fa00bde4f6"
      },
      "outputs": [
        {
          "output_type": "stream",
          "name": "stdout",
          "text": [
            "[47.73879469] -3.570513473273799\n"
          ]
        }
      ],
      "source": [
        "lr_model = LinearRegression()\n",
        "\n",
        "# optional how to give y > array ot matrix\n",
        "lr_model.fit(x, y)\n",
        "print(lr_model.coef_, lr_model.intercept_)"
      ]
    },
    {
      "cell_type": "code",
      "execution_count": 63,
      "metadata": {
        "colab": {
          "base_uri": "https://localhost:8080/"
        },
        "id": "ECAcuG_JzO_U",
        "outputId": "93b4546e-a92e-4e0c-a1ef-3c5e61cc8417"
      },
      "outputs": [
        {
          "output_type": "execute_result",
          "data": {
            "text/plain": [
              "0.9549290622056755"
            ]
          },
          "metadata": {},
          "execution_count": 63
        }
      ],
      "source": [
        "lr_model.score(x, y)"
      ]
    },
    {
      "cell_type": "code",
      "execution_count": 64,
      "metadata": {
        "scrolled": true,
        "colab": {
          "base_uri": "https://localhost:8080/"
        },
        "id": "orOQvDH5zO_V",
        "outputId": "823986a6-9aa5-4929-cd59-b62b983fcd18"
      },
      "outputs": [
        {
          "output_type": "stream",
          "name": "stdout",
          "text": [
            "4.185677517975085\n"
          ]
        }
      ],
      "source": [
        "h = lr_model.predict(x)\n",
        "MSE = np.mean((y - h) ** 2) / 2\n",
        "print(MSE)"
      ]
    },
    {
      "cell_type": "code",
      "source": [
        "# lr_model.score(x, y)\n",
        "\n",
        "1 - (2*MSE / y.var())"
      ],
      "metadata": {
        "colab": {
          "base_uri": "https://localhost:8080/"
        },
        "id": "U5_AWPIjdcgg",
        "outputId": "328e44f5-ded7-48e9-d202-5c5e8eeddb8f"
      },
      "execution_count": 65,
      "outputs": [
        {
          "output_type": "execute_result",
          "data": {
            "text/plain": [
              "0.9549290622056755"
            ]
          },
          "metadata": {},
          "execution_count": 65
        }
      ]
    },
    {
      "cell_type": "code",
      "source": [
        "plt.plot(x,y,'bo')\n",
        "plt.plot(x,h,'r--')\n",
        "plt.show()"
      ],
      "metadata": {
        "colab": {
          "base_uri": "https://localhost:8080/",
          "height": 269
        },
        "id": "v4LEMRxVcr-I",
        "outputId": "492756d6-988d-48dc-aab5-e48e6145c8e3"
      },
      "execution_count": 66,
      "outputs": [
        {
          "output_type": "display_data",
          "data": {
            "text/plain": [
              "<Figure size 432x288 with 1 Axes>"
            ],
            "image/png": "[encoded data removed]"
          },
          "metadata": {
            "needs_background": "light"
          }
        }
      ]
    },
    {
      "cell_type": "markdown",
      "source": [
        "# Non-Linear Regression"
      ],
      "metadata": {
        "id": "SOYABY-7gMby"
      }
    },
    {
      "cell_type": "code",
      "source": [
        "x = np.arange(-10, 30, 1).reshape(-1, 1)\n",
        "# create polynomial degrees\n",
        "x_2 = np.hstack((x,x**2))\n",
        "\n",
        "y_2 = 2 * x_2[:,0] + 2.15 * x_2[:,1] - 3.121\n",
        "y_2 = y_2 + np.random.normal(scale=20, size=y_2.shape)**2\n",
        "\n",
        "plt.plot(x_2[:,0],y_2,'bo')"
      ],
      "metadata": {
        "colab": {
          "base_uri": "https://localhost:8080/",
          "height": 282
        },
        "id": "bbHt2sGngQRG",
        "outputId": "e09aa0f3-b08e-403d-9ce0-bffd4ba2a2fb"
      },
      "execution_count": 67,
      "outputs": [
        {
          "output_type": "execute_result",
          "data": {
            "text/plain": [
              "[<matplotlib.lines.Line2D at 0x7f842ed99450>]"
            ]
          },
          "metadata": {},
          "execution_count": 67
        },
        {
          "output_type": "display_data",
          "data": {
            "text/plain": [
              "<Figure size 432x288 with 1 Axes>"
            ],
            "image/png": "[encoded data removed]"
          },
          "metadata": {
            "needs_background": "light"
          }
        }
      ]
    },
    {
      "cell_type": "code",
      "source": [
        "# we have two features\n",
        "lr_model.fit(x_2,y_2)\n",
        "print( lr_model.coef_ , lr_model.intercept_ )\n",
        "\n",
        "print(lr_model.score(x_2,y_2))"
      ],
      "metadata": {
        "colab": {
          "base_uri": "https://localhost:8080/"
        },
        "id": "My86-Z-YgQWs",
        "outputId": "4465c64e-06dc-49b6-932e-2d53d811f114"
      },
      "execution_count": 68,
      "outputs": [
        {
          "output_type": "stream",
          "name": "stdout",
          "text": [
            "[22.42375294  1.40407901] 302.8085169194179\n",
            "0.722600604977847\n"
          ]
        }
      ]
    },
    {
      "cell_type": "code",
      "source": [
        "# we have two features now\n",
        "h = lr_model.predict(x_2)\n",
        "\n",
        "plt.plot(x_2[:, 0], y_2, 'bo')\n",
        "plt.plot(x_2[:, 0], h, 'r--')"
      ],
      "metadata": {
        "colab": {
          "base_uri": "https://localhost:8080/",
          "height": 282
        },
        "id": "MnDQfN58h3yj",
        "outputId": "ac7a4746-761d-465b-c21e-76a99ef70aa2"
      },
      "execution_count": 69,
      "outputs": [
        {
          "output_type": "execute_result",
          "data": {
            "text/plain": [
              "[<matplotlib.lines.Line2D at 0x7f842f296d10>]"
            ]
          },
          "metadata": {},
          "execution_count": 69
        },
        {
          "output_type": "display_data",
          "data": {
            "text/plain": [
              "<Figure size 432x288 with 1 Axes>"
            ],
            "image/png": "[encoded data removed]"
          },
          "metadata": {
            "needs_background": "light"
          }
        }
      ]
    },
    {
      "cell_type": "code",
      "source": [
        "x = np.arange(-10, 30, 1).reshape(-1, 1)\n",
        "x_6 = np.hstack((x,x**2,x**3,x**4,x**5,x**6))\n",
        "\n",
        "# learn y_2 with degree6\n",
        "lr_model.fit(x_6,y_2)\n",
        "\n",
        "h = lr_model.predict(x_6)\n",
        "\n",
        "plt.plot(x_6[:, 0], y_2, 'bo')\n",
        "plt.plot(x_6[:, 0], h, 'r--')"
      ],
      "metadata": {
        "colab": {
          "base_uri": "https://localhost:8080/",
          "height": 282
        },
        "id": "pBlKWXj0enZ4",
        "outputId": "327856cd-7ad7-4f8a-df9b-335a4bcf0d19"
      },
      "execution_count": 70,
      "outputs": [
        {
          "output_type": "execute_result",
          "data": {
            "text/plain": [
              "[<matplotlib.lines.Line2D at 0x7f842ed06cd0>]"
            ]
          },
          "metadata": {},
          "execution_count": 70
        },
        {
          "output_type": "display_data",
          "data": {
            "text/plain": [
              "<Figure size 432x288 with 1 Axes>"
            ],
            "image/png": "[encoded data removed]"
          },
          "metadata": {
            "needs_background": "light"
          }
        }
      ]
    },
    {
      "cell_type": "code",
      "source": [
        ""
      ],
      "metadata": {
        "id": "dC18ZK5vTaIS"
      },
      "execution_count": 70,
      "outputs": []
    }
  ],
  "metadata": {
    "kernelspec": {
      "display_name": "Python 3",
      "language": "python",
      "name": "python3"
    },
    "language_info": {
      "codemirror_mode": {
        "name": "ipython",
        "version": 3
      },
      "file_extension": ".py",
      "mimetype": "text/x-python",
      "name": "python",
      "nbconvert_exporter": "python",
      "pygments_lexer": "ipython3",
      "version": "3.8.2"
    },
    "colab": {
      "name": "linear_regression_4.sklearn.ipynb",
      "provenance": [],
      "collapsed_sections": [],
      "include_colab_link": true
    }
  },
  "nbformat": 4,
  "nbformat_minor": 0
}