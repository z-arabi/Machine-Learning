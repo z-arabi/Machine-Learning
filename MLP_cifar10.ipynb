{
  "nbformat": 4,
  "nbformat_minor": 0,
  "metadata": {
    "colab": {
      "provenance": []
    },
    "kernelspec": {
      "name": "python3",
      "display_name": "Python 3"
    },
    "language_info": {
      "name": "python"
    },
    "accelerator": "GPU",
    "gpuClass": "standard"
  },
  "cells": [
    {
      "cell_type": "code",
      "execution_count": 2,
      "metadata": {
        "colab": {
          "base_uri": "https://localhost:8080/"
        },
        "id": "JAv7hcbczt8b",
        "outputId": "a3a60eb3-8ba8-4583-c9df-0751a7909a33"
      },
      "outputs": [
        {
          "output_type": "stream",
          "name": "stdout",
          "text": [
            "--2022-12-30 12:19:59--  https://www.cs.toronto.edu/~kriz/cifar-10-python.tar.gz\n",
            "Resolving www.cs.toronto.edu (www.cs.toronto.edu)... 128.100.3.30\n",
            "Connecting to www.cs.toronto.edu (www.cs.toronto.edu)|128.100.3.30|:443... connected.\n",
            "HTTP request sent, awaiting response... 200 OK\n",
            "Length: 170498071 (163M) [application/x-gzip]\n",
            "Saving to: ‘cifar-10-python.tar.gz’\n",
            "\n",
            "cifar-10-python.tar 100%[===================>] 162.60M  12.9MB/s    in 13s     \n",
            "\n",
            "2022-12-30 12:20:15 (12.1 MB/s) - ‘cifar-10-python.tar.gz’ saved [170498071/170498071]\n",
            "\n"
          ]
        }
      ],
      "source": [
        "# https://www.cs.toronto.edu/~kriz/cifar.html\n",
        "!wget https://www.cs.toronto.edu/~kriz/cifar-10-python.tar.gz"
      ]
    },
    {
      "cell_type": "code",
      "source": [
        "!tar -xvzf cifar-10-python.tar.gz"
      ],
      "metadata": {
        "colab": {
          "base_uri": "https://localhost:8080/"
        },
        "id": "gX_1zeok0DGP",
        "outputId": "bd4aee8a-5a21-430f-8f95-5f7641d3b776"
      },
      "execution_count": 3,
      "outputs": [
        {
          "output_type": "stream",
          "name": "stdout",
          "text": [
            "cifar-10-batches-py/\n",
            "cifar-10-batches-py/data_batch_4\n",
            "cifar-10-batches-py/readme.html\n",
            "cifar-10-batches-py/test_batch\n",
            "cifar-10-batches-py/data_batch_3\n",
            "cifar-10-batches-py/batches.meta\n",
            "cifar-10-batches-py/data_batch_2\n",
            "cifar-10-batches-py/data_batch_5\n",
            "cifar-10-batches-py/data_batch_1\n"
          ]
        }
      ]
    },
    {
      "cell_type": "code",
      "source": [
        "import numpy as np\n",
        "from sklearn.neural_network import MLPClassifier\n",
        "from sklearn.metrics import confusion_matrix\n",
        "import matplotlib.pyplot as plt"
      ],
      "metadata": {
        "id": "qBPt0I2Q0QIp"
      },
      "execution_count": 4,
      "outputs": []
    },
    {
      "cell_type": "code",
      "source": [
        "def unpickle(file):\n",
        "    import pickle\n",
        "    with open(file, 'rb') as fo:\n",
        "        dict = pickle.load(fo, encoding='bytes')\n",
        "    return dict"
      ],
      "metadata": {
        "id": "Wo7bmBwM0u4B"
      },
      "execution_count": 5,
      "outputs": []
    },
    {
      "cell_type": "code",
      "source": [
        "temp = unpickle('cifar-10-batches-py/data_batch_1')\n",
        "temp.keys()"
      ],
      "metadata": {
        "colab": {
          "base_uri": "https://localhost:8080/"
        },
        "id": "mTTUpPFi04vu",
        "outputId": "82c6df22-3179-43c6-dfe0-38c6f8b5cd64"
      },
      "execution_count": 6,
      "outputs": [
        {
          "output_type": "execute_result",
          "data": {
            "text/plain": [
              "dict_keys([b'batch_label', b'labels', b'data', b'filenames'])"
            ]
          },
          "metadata": {},
          "execution_count": 6
        }
      ]
    },
    {
      "cell_type": "code",
      "source": [
        "temp[b'batch_label']"
      ],
      "metadata": {
        "colab": {
          "base_uri": "https://localhost:8080/"
        },
        "id": "dHpSjMoh1Bwe",
        "outputId": "08d37fba-d284-438c-c8cc-8be76497266d"
      },
      "execution_count": 7,
      "outputs": [
        {
          "output_type": "execute_result",
          "data": {
            "text/plain": [
              "b'training batch 1 of 5'"
            ]
          },
          "metadata": {},
          "execution_count": 7
        }
      ]
    },
    {
      "cell_type": "code",
      "source": [
        "print(len(temp[b'labels']))\n",
        "temp[b'labels'][:3]"
      ],
      "metadata": {
        "colab": {
          "base_uri": "https://localhost:8080/"
        },
        "id": "My5KsGl01c8I",
        "outputId": "fa66eb14-7ced-4e01-ab1e-c878bfa592cf"
      },
      "execution_count": 8,
      "outputs": [
        {
          "output_type": "stream",
          "name": "stdout",
          "text": [
            "10000\n"
          ]
        },
        {
          "output_type": "execute_result",
          "data": {
            "text/plain": [
              "[6, 9, 9]"
            ]
          },
          "metadata": {},
          "execution_count": 8
        }
      ]
    },
    {
      "cell_type": "code",
      "source": [
        "print(len(temp[b'data'][:3][0]))\n",
        "print(32*32*3)\n",
        "temp[b'data'][:3]"
      ],
      "metadata": {
        "colab": {
          "base_uri": "https://localhost:8080/"
        },
        "id": "j3cXGVeH1j1R",
        "outputId": "108b87ea-f970-456b-98d1-5d51e7326758"
      },
      "execution_count": 9,
      "outputs": [
        {
          "output_type": "stream",
          "name": "stdout",
          "text": [
            "3072\n",
            "3072\n"
          ]
        },
        {
          "output_type": "execute_result",
          "data": {
            "text/plain": [
              "array([[ 59,  43,  50, ..., 140,  84,  72],\n",
              "       [154, 126, 105, ..., 139, 142, 144],\n",
              "       [255, 253, 253, ...,  83,  83,  84]], dtype=uint8)"
            ]
          },
          "metadata": {},
          "execution_count": 9
        }
      ]
    },
    {
      "cell_type": "code",
      "source": [
        "temp[b'filenames'][:3]"
      ],
      "metadata": {
        "colab": {
          "base_uri": "https://localhost:8080/"
        },
        "id": "Ra3YqVKM1oid",
        "outputId": "69e58f8d-1c29-45f4-ee01-cf2255071ba4"
      },
      "execution_count": 10,
      "outputs": [
        {
          "output_type": "execute_result",
          "data": {
            "text/plain": [
              "[b'leptodactylus_pentadactylus_s_000004.png',\n",
              " b'camion_s_000148.png',\n",
              " b'tipper_truck_s_001250.png']"
            ]
          },
          "metadata": {},
          "execution_count": 10
        }
      ]
    },
    {
      "cell_type": "code",
      "source": [
        "X = np.array(temp[b'data'])\n",
        "y = np.array(temp[b'labels'])"
      ],
      "metadata": {
        "id": "Rd2YW-ul12Y4"
      },
      "execution_count": 11,
      "outputs": []
    },
    {
      "cell_type": "code",
      "source": [
        "X.shape, y.shape"
      ],
      "metadata": {
        "colab": {
          "base_uri": "https://localhost:8080/"
        },
        "id": "60OOTQVc2BnQ",
        "outputId": "00af7c72-d55a-4c69-d595-6d4fd5cd1266"
      },
      "execution_count": 12,
      "outputs": [
        {
          "output_type": "execute_result",
          "data": {
            "text/plain": [
              "((10000, 3072), (10000,))"
            ]
          },
          "metadata": {},
          "execution_count": 12
        }
      ]
    },
    {
      "cell_type": "code",
      "source": [
        "# for printing the image > plt.imshow\n",
        "# it is linear > reshape\n",
        "plt.imshow(X[0].reshape(32,32,3))"
      ],
      "metadata": {
        "colab": {
          "base_uri": "https://localhost:8080/",
          "height": 288
        },
        "id": "1H8rbVYn2Yca",
        "outputId": "ab0370df-1a10-4ff0-c6fa-ad2aca02b23b"
      },
      "execution_count": 13,
      "outputs": [
        {
          "output_type": "execute_result",
          "data": {
            "text/plain": [
              "<matplotlib.image.AxesImage at 0x7f84a9f341f0>"
            ]
          },
          "metadata": {},
          "execution_count": 13
        },
        {
          "output_type": "display_data",
          "data": {
            "text/plain": [
              "<Figure size 432x288 with 1 Axes>"
            ],
            "image/png": "[encoded data removed]"
          },
          "metadata": {
            "needs_background": "light"
          }
        }
      ]
    },
    {
      "cell_type": "code",
      "source": [
        "'''\n",
        "data -- a 10000x3072 numpy array of uint8s. \n",
        "Each row of the array stores a 32x32 colour image. \n",
        "The first 1024 entries contain the red channel values, \n",
        "the next 1024 the green, and the final 1024 the blue. \n",
        "The image is stored in row-major order, \n",
        "so that the first 32 entries of the array are the red channel values of the first row of the image.\n",
        "\n",
        "\n",
        "when we reshape the 32*32*3 it picks each 32 and assings RGB in a row\n",
        "first 32*32 is R, ...\n",
        "the currect way for this is to pick each 3 and assings RGB in a row\n",
        "each 3 creates one block in RGB\n",
        "'''"
      ],
      "metadata": {
        "colab": {
          "base_uri": "https://localhost:8080/",
          "height": 194
        },
        "id": "hdxfT4K52qBh",
        "outputId": "e1e28ee7-44f5-4f8c-96dc-587d1603dd9d"
      },
      "execution_count": 14,
      "outputs": [
        {
          "output_type": "execute_result",
          "data": {
            "text/plain": [
              "'\\ndata -- a 10000x3072 numpy array of uint8s. \\nEach row of the array stores a 32x32 colour image. \\nThe first 1024 entries contain the red channel values, \\nthe next 1024 the green, and the final 1024 the blue. \\nThe image is stored in row-major order, \\nso that the first 32 entries of the array are the red channel values of the first row of the image.\\n\\n\\nwhen we reshape the 32*32*3 it picks each 32 and assings RGB in a row\\nfirst 32*32 is R, ...\\nthe currect way for this is to pick each 3 and assings RGB in a row\\neach 3 creates one block in RGB\\n'"
            ],
            "application/vnd.google.colaboratory.intrinsic+json": {
              "type": "string"
            }
          },
          "metadata": {},
          "execution_count": 14
        }
      ]
    },
    {
      "cell_type": "code",
      "source": [
        "test = X[0].reshape(3,32,32)\n",
        "test.shape, test.transpose([1,2,0]).shape"
      ],
      "metadata": {
        "colab": {
          "base_uri": "https://localhost:8080/"
        },
        "id": "bHyNOorb3RQr",
        "outputId": "7c10641c-5a86-4abe-dc20-1a2d593b1437"
      },
      "execution_count": 15,
      "outputs": [
        {
          "output_type": "execute_result",
          "data": {
            "text/plain": [
              "((3, 32, 32), (32, 32, 3))"
            ]
          },
          "metadata": {},
          "execution_count": 15
        }
      ]
    },
    {
      "cell_type": "code",
      "source": [
        "# the plot needs to have the channel number at last\n",
        "# by transposing we define where each shape size is by the index in a list\n",
        "\n",
        "plt.imshow(test.transpose([1,2,0]))"
      ],
      "metadata": {
        "colab": {
          "base_uri": "https://localhost:8080/",
          "height": 288
        },
        "id": "x2QjwjJL4GPv",
        "outputId": "5ab1b6f3-964b-4218-d2c1-6fbb9da76280"
      },
      "execution_count": 16,
      "outputs": [
        {
          "output_type": "execute_result",
          "data": {
            "text/plain": [
              "<matplotlib.image.AxesImage at 0x7f84a9a7ea90>"
            ]
          },
          "metadata": {},
          "execution_count": 16
        },
        {
          "output_type": "display_data",
          "data": {
            "text/plain": [
              "<Figure size 432x288 with 1 Axes>"
            ],
            "image/png": "[encoded data removed]"
          },
          "metadata": {
            "needs_background": "light"
          }
        }
      ]
    },
    {
      "cell_type": "code",
      "source": [
        "# normalizing in the pictures > unlike the previous to find the meand and std\n",
        "# just /255\n",
        "X = X/255"
      ],
      "metadata": {
        "id": "cBED4t8l4pUR"
      },
      "execution_count": 17,
      "outputs": []
    },
    {
      "cell_type": "code",
      "source": [
        "X.shape"
      ],
      "metadata": {
        "colab": {
          "base_uri": "https://localhost:8080/"
        },
        "id": "eYCNO-Bo5QmJ",
        "outputId": "be781f5b-bc9b-4f45-f634-daa751b16d1b"
      },
      "execution_count": 18,
      "outputs": [
        {
          "output_type": "execute_result",
          "data": {
            "text/plain": [
              "(10000, 3072)"
            ]
          },
          "metadata": {},
          "execution_count": 18
        }
      ]
    },
    {
      "cell_type": "code",
      "source": [
        "r = np.random.permutation(X.shape[0])\n",
        "\n",
        "# we have to shuffle them based on each other not separately\n",
        "X = X[r]\n",
        "y = y[r]"
      ],
      "metadata": {
        "id": "u4yglBFa5C2E"
      },
      "execution_count": 19,
      "outputs": []
    },
    {
      "cell_type": "code",
      "source": [
        "X_train = X[:1000]\n",
        "X_test = X[1000:2000]\n",
        "\n",
        "y_train = y[:1000]\n",
        "y_test = y[1000:2000]"
      ],
      "metadata": {
        "id": "nhSxX0wK5kdq"
      },
      "execution_count": 27,
      "outputs": []
    },
    {
      "cell_type": "code",
      "source": [
        "clf = MLPClassifier(hidden_layer_sizes=[600,], batch_size=4, max_iter=2)"
      ],
      "metadata": {
        "id": "duJULrE142AN"
      },
      "execution_count": 28,
      "outputs": []
    },
    {
      "cell_type": "code",
      "source": [
        "# sklearn doesn't use gpu\n",
        "clf.fit(X_train, y_train)"
      ],
      "metadata": {
        "colab": {
          "base_uri": "https://localhost:8080/"
        },
        "id": "Zi_m5zve5B1z",
        "outputId": "fc7c67a9-9b52-45b1-d087-2b92ba71d0d1"
      },
      "execution_count": 29,
      "outputs": [
        {
          "output_type": "stream",
          "name": "stderr",
          "text": [
            "/usr/local/lib/python3.8/dist-packages/sklearn/neural_network/_multilayer_perceptron.py:692: ConvergenceWarning: Stochastic Optimizer: Maximum iterations (2) reached and the optimization hasn't converged yet.\n",
            "  warnings.warn(\n"
          ]
        },
        {
          "output_type": "execute_result",
          "data": {
            "text/plain": [
              "MLPClassifier(batch_size=4, hidden_layer_sizes=[600], max_iter=2)"
            ]
          },
          "metadata": {},
          "execution_count": 29
        }
      ]
    },
    {
      "cell_type": "code",
      "source": [
        "clf.score(X_train, y_train), clf.score(X_test, y_test)"
      ],
      "metadata": {
        "colab": {
          "base_uri": "https://localhost:8080/"
        },
        "id": "8m92jgWE_azV",
        "outputId": "8b2c898b-6959-472b-84c0-77855e27330a"
      },
      "execution_count": 30,
      "outputs": [
        {
          "output_type": "execute_result",
          "data": {
            "text/plain": [
              "(0.264, 0.226)"
            ]
          },
          "metadata": {},
          "execution_count": 30
        }
      ]
    },
    {
      "cell_type": "code",
      "source": [
        "# sklearn has the funstion to draw the old learning curve (???) but to draw the new LC > do this\n",
        "# warm start not initails the Wi at each train > continue from the last Wi\n",
        "\n",
        "clf = MLPClassifier(hidden_layer_sizes=[100,], batch_size=4, \n",
        "              max_iter=1, warm_start=True)\n",
        "\n",
        "\n",
        "train_acc = []\n",
        "test_acc = []\n",
        "\n",
        "for i in range(10):\n",
        "  clf.fit(X_train, y_train)\n",
        "  print(clf.score(X_train, y_train), clf.score(X_test, y_test))\n",
        "  train_acc.append(clf.score(X_train, y_train))\n",
        "  test_acc.append(clf.score(X_test, y_test))\n",
        "\n",
        "plt.plot(range(1,11), train_acc, label=\"train_acc\")\n",
        "plt.plot(range(1,11), test_acc, label=\"test_acc\")\n",
        "\n",
        "plt.grid()\n",
        "plt.legend()\n",
        "\n",
        "#it is an acc plot"
      ],
      "metadata": {
        "colab": {
          "base_uri": "https://localhost:8080/",
          "height": 570
        },
        "id": "CCc6Vj9W5-Nv",
        "outputId": "a46184fd-3870-43a8-bbb2-13e184e794ee"
      },
      "execution_count": 34,
      "outputs": [
        {
          "output_type": "stream",
          "name": "stderr",
          "text": [
            "/usr/local/lib/python3.8/dist-packages/sklearn/neural_network/_multilayer_perceptron.py:692: ConvergenceWarning: Stochastic Optimizer: Maximum iterations (1) reached and the optimization hasn't converged yet.\n",
            "  warnings.warn(\n"
          ]
        },
        {
          "output_type": "stream",
          "name": "stdout",
          "text": [
            "0.188 0.176\n",
            "0.246 0.214\n",
            "0.269 0.244\n",
            "0.288 0.273\n",
            "0.242 0.225\n",
            "0.271 0.219\n",
            "0.337 0.27\n",
            "0.343 0.269\n",
            "0.295 0.234\n",
            "0.343 0.28\n"
          ]
        },
        {
          "output_type": "execute_result",
          "data": {
            "text/plain": [
              "<matplotlib.legend.Legend at 0x7f84a61b48e0>"
            ]
          },
          "metadata": {},
          "execution_count": 34
        },
        {
          "output_type": "display_data",
          "data": {
            "text/plain": [
              "<Figure size 432x288 with 1 Axes>"
            ],
            "image/png": "[encoded data removed]"
          },
          "metadata": {
            "needs_background": "light"
          }
        }
      ]
    },
    {
      "cell_type": "code",
      "source": [
        "pred = clf.predict(X_test)\n",
        "print(pred[:10])"
      ],
      "metadata": {
        "colab": {
          "base_uri": "https://localhost:8080/"
        },
        "id": "fEBiOlRY5z8K",
        "outputId": "32e7f696-7258-4602-aa15-4c049bf01c27"
      },
      "execution_count": 36,
      "outputs": [
        {
          "output_type": "stream",
          "name": "stdout",
          "text": [
            "[8 1 8 7 8 0 4 3 1 1]\n"
          ]
        }
      ]
    },
    {
      "cell_type": "code",
      "source": [
        "cm = confusion_matrix(y_test, pred)\n",
        "cm"
      ],
      "metadata": {
        "colab": {
          "base_uri": "https://localhost:8080/"
        },
        "id": "mvt_lKJ6BQjL",
        "outputId": "2e1c56ae-fca4-40dd-deef-0b04e4429478"
      },
      "execution_count": 37,
      "outputs": [
        {
          "output_type": "execute_result",
          "data": {
            "text/plain": [
              "array([[34,  7,  0,  1,  1,  0,  2,  8, 30, 11],\n",
              "       [ 6, 39,  0,  4,  3,  0,  0,  6,  6, 33],\n",
              "       [19,  8,  0,  7, 18,  1,  6, 35, 11,  1],\n",
              "       [ 2, 11,  0, 18, 11,  6,  6, 15, 10, 19],\n",
              "       [10, 10,  1,  9, 20,  0,  6, 23,  5,  7],\n",
              "       [ 4, 10,  1, 18,  8,  3,  4, 16,  8, 10],\n",
              "       [ 0, 10,  1, 19, 13,  3, 12, 34,  2,  4],\n",
              "       [ 5,  5,  0,  9, 16,  0,  4, 36,  6, 27],\n",
              "       [12, 14,  0,  4,  0,  0,  0,  4, 51, 32],\n",
              "       [ 1, 13,  0,  4,  0,  0,  0,  5, 19, 67]])"
            ]
          },
          "metadata": {},
          "execution_count": 37
        }
      ]
    },
    {
      "cell_type": "code",
      "source": [
        "plt.pcolormesh(cm)"
      ],
      "metadata": {
        "colab": {
          "base_uri": "https://localhost:8080/",
          "height": 291
        },
        "id": "bJNkdGUpBZ2b",
        "outputId": "857c90d2-bbee-40db-8c32-25ec200bacd5"
      },
      "execution_count": 38,
      "outputs": [
        {
          "output_type": "execute_result",
          "data": {
            "text/plain": [
              "<matplotlib.collections.QuadMesh at 0x7f84a60f5700>"
            ]
          },
          "metadata": {},
          "execution_count": 38
        },
        {
          "output_type": "display_data",
          "data": {
            "text/plain": [
              "<Figure size 432x288 with 1 Axes>"
            ],
            "image/png": "[encoded data removed]"
          },
          "metadata": {
            "needs_background": "light"
          }
        }
      ]
    },
    {
      "cell_type": "code",
      "source": [
        "plt.pcolormesh(cm)\n",
        "\n",
        "plt.colorbar()\n",
        "\n",
        "plt.xticks(range(10), [\"airplane\",\"automobile\",\"bird\",\"cat\",\"deer\",\"dog\",\"frog\",\"horse\",\"frog\",\"ship\",\"truck\"])\n",
        "plt.yticks(range(10), [\"airplane\",\"automobile\",\"bird\",\"cat\",\"deer\",\"dog\",\"frog\",\"horse\",\"frog\",\"ship\",\"truck\"])"
      ],
      "metadata": {
        "colab": {
          "base_uri": "https://localhost:8080/",
          "height": 699
        },
        "id": "Zvp32rCeBgUP",
        "outputId": "49314cb7-38e2-4274-f0a2-52e004a130b7"
      },
      "execution_count": 41,
      "outputs": [
        {
          "output_type": "execute_result",
          "data": {
            "text/plain": [
              "([<matplotlib.axis.YTick at 0x7f84a604d5e0>,\n",
              "  <matplotlib.axis.YTick at 0x7f84a5fe5fd0>,\n",
              "  <matplotlib.axis.YTick at 0x7f84a9f0d4c0>,\n",
              "  <matplotlib.axis.YTick at 0x7f84a9fed9a0>,\n",
              "  <matplotlib.axis.YTick at 0x7f84aa3fbaf0>,\n",
              "  <matplotlib.axis.YTick at 0x7f84a6284760>,\n",
              "  <matplotlib.axis.YTick at 0x7f84a6293df0>,\n",
              "  <matplotlib.axis.YTick at 0x7f84a9f071f0>,\n",
              "  <matplotlib.axis.YTick at 0x7f84b20d6340>,\n",
              "  <matplotlib.axis.YTick at 0x7f84a62439d0>],\n",
              " [Text(0, 0, 'airplane'),\n",
              "  Text(0, 0, 'automobile'),\n",
              "  Text(0, 0, 'bird'),\n",
              "  Text(0, 0, 'cat'),\n",
              "  Text(0, 0, 'deer'),\n",
              "  Text(0, 0, 'dog'),\n",
              "  Text(0, 0, 'frog'),\n",
              "  Text(0, 0, 'horse'),\n",
              "  Text(0, 0, 'frog'),\n",
              "  Text(0, 0, 'ship')])"
            ]
          },
          "metadata": {},
          "execution_count": 41
        },
        {
          "output_type": "display_data",
          "data": {
            "text/plain": [
              "<Figure size 432x288 with 2 Axes>"
            ],
            "image/png": "[encoded data removed]"
          },
          "metadata": {
            "needs_background": "light"
          }
        }
      ]
    },
    {
      "cell_type": "code",
      "source": [
        "'''\n",
        "if you have two amny problems with one class in multiclass\n",
        "you can fit one extra binary class to clarify the answer \n",
        "when the main models tells this is the class\n",
        "'''"
      ],
      "metadata": {
        "colab": {
          "base_uri": "https://localhost:8080/",
          "height": 85
        },
        "id": "2tlC5N27CUST",
        "outputId": "700d33c6-2456-4c1d-b011-c624d94b69e0"
      },
      "execution_count": 42,
      "outputs": [
        {
          "output_type": "execute_result",
          "data": {
            "text/plain": [
              "'\\nif you have two amny problems with one class in multiclass\\nyou can fit one extra binary class to clarify the answer \\nwhen the main models tells this is the class\\n'"
            ],
            "application/vnd.google.colaboratory.intrinsic+json": {
              "type": "string"
            }
          },
          "metadata": {},
          "execution_count": 42
        }
      ]
    },
    {
      "cell_type": "code",
      "source": [
        "from sklearn.metrics import plot_confusion_matrix\n",
        "\n",
        "class_names = [\"airplane\",\"automobile\",\"bird\",\"cat\",\"deer\",\"dog\",\"frog\",\"horse\",\"frog\",\"ship\",\"truck\"]\n",
        "disp = plot_confusion_matrix(clf,\n",
        "                             X_train,\n",
        "                             y_train,\n",
        "                             display_labels=class_names)"
      ],
      "metadata": {
        "colab": {
          "base_uri": "https://localhost:8080/",
          "height": 364
        },
        "id": "uo4ZJpm6DAwc",
        "outputId": "3398978a-7f7c-43b2-fdc8-45ba6adfef28"
      },
      "execution_count": 47,
      "outputs": [
        {
          "output_type": "stream",
          "name": "stderr",
          "text": [
            "/usr/local/lib/python3.8/dist-packages/sklearn/utils/deprecation.py:87: FutureWarning: Function plot_confusion_matrix is deprecated; Function `plot_confusion_matrix` is deprecated in 1.0 and will be removed in 1.2. Use one of the class methods: ConfusionMatrixDisplay.from_predictions or ConfusionMatrixDisplay.from_estimator.\n",
            "  warnings.warn(msg, category=FutureWarning)\n"
          ]
        },
        {
          "output_type": "display_data",
          "data": {
            "text/plain": [
              "<Figure size 3600x3600 with 0 Axes>"
            ]
          },
          "metadata": {}
        },
        {
          "output_type": "display_data",
          "data": {
            "text/plain": [
              "<Figure size 432x288 with 2 Axes>"
            ],
            "image/png": "[encoded data removed]"
          },
          "metadata": {
            "needs_background": "light"
          }
        }
      ]
    },
    {
      "cell_type": "code",
      "source": [],
      "metadata": {
        "id": "oJGDyhV0DcxL"
      },
      "execution_count": null,
      "outputs": []
    }
  ]
}