{
 "cells": [
  {
   "cell_type": "code",
   "execution_count": 78,
   "metadata": {},
   "outputs": [],
   "source": [
    "import numpy as np\n",
    "import pandas as pd\n",
    "import matplotlib.pyplot as plt\n",
    "%matplotlib inline"
   ]
  },
  {
   "attachments": {},
   "cell_type": "markdown",
   "metadata": {},
   "source": [
    "MNIST data is 28*28  \n",
    "so the number of neurons = 784  \n",
    "so the number of pattern for sure we can save for 100%:  \n",
    "n < 784 / (4 * ln(784))   \n",
    "n = 29  \n",
    "We have 0 to 9 numbers in MNIST > So we must be able to save these 10 patterns"
   ]
  },
  {
   "cell_type": "code",
   "execution_count": 79,
   "metadata": {},
   "outputs": [
    {
     "data": {
      "text/html": [
       "<div>\n",
       "<style scoped>\n",
       "    .dataframe tbody tr th:only-of-type {\n",
       "        vertical-align: middle;\n",
       "    }\n",
       "\n",
       "    .dataframe tbody tr th {\n",
       "        vertical-align: top;\n",
       "    }\n",
       "\n",
       "    .dataframe thead th {\n",
       "        text-align: right;\n",
       "    }\n",
       "</style>\n",
       "<table border=\"1\" class=\"dataframe\">\n",
       "  <thead>\n",
       "    <tr style=\"text-align: right;\">\n",
       "      <th></th>\n",
       "      <th>label</th>\n",
       "      <th>1x1</th>\n",
       "      <th>1x2</th>\n",
       "      <th>1x3</th>\n",
       "      <th>1x4</th>\n",
       "      <th>1x5</th>\n",
       "      <th>1x6</th>\n",
       "      <th>1x7</th>\n",
       "      <th>1x8</th>\n",
       "      <th>1x9</th>\n",
       "      <th>...</th>\n",
       "      <th>28x19</th>\n",
       "      <th>28x20</th>\n",
       "      <th>28x21</th>\n",
       "      <th>28x22</th>\n",
       "      <th>28x23</th>\n",
       "      <th>28x24</th>\n",
       "      <th>28x25</th>\n",
       "      <th>28x26</th>\n",
       "      <th>28x27</th>\n",
       "      <th>28x28</th>\n",
       "    </tr>\n",
       "  </thead>\n",
       "  <tbody>\n",
       "    <tr>\n",
       "      <th>0</th>\n",
       "      <td>5</td>\n",
       "      <td>0</td>\n",
       "      <td>0</td>\n",
       "      <td>0</td>\n",
       "      <td>0</td>\n",
       "      <td>0</td>\n",
       "      <td>0</td>\n",
       "      <td>0</td>\n",
       "      <td>0</td>\n",
       "      <td>0</td>\n",
       "      <td>...</td>\n",
       "      <td>0</td>\n",
       "      <td>0</td>\n",
       "      <td>0</td>\n",
       "      <td>0</td>\n",
       "      <td>0</td>\n",
       "      <td>0</td>\n",
       "      <td>0</td>\n",
       "      <td>0</td>\n",
       "      <td>0</td>\n",
       "      <td>0</td>\n",
       "    </tr>\n",
       "    <tr>\n",
       "      <th>1</th>\n",
       "      <td>0</td>\n",
       "      <td>0</td>\n",
       "      <td>0</td>\n",
       "      <td>0</td>\n",
       "      <td>0</td>\n",
       "      <td>0</td>\n",
       "      <td>0</td>\n",
       "      <td>0</td>\n",
       "      <td>0</td>\n",
       "      <td>0</td>\n",
       "      <td>...</td>\n",
       "      <td>0</td>\n",
       "      <td>0</td>\n",
       "      <td>0</td>\n",
       "      <td>0</td>\n",
       "      <td>0</td>\n",
       "      <td>0</td>\n",
       "      <td>0</td>\n",
       "      <td>0</td>\n",
       "      <td>0</td>\n",
       "      <td>0</td>\n",
       "    </tr>\n",
       "    <tr>\n",
       "      <th>2</th>\n",
       "      <td>4</td>\n",
       "      <td>0</td>\n",
       "      <td>0</td>\n",
       "      <td>0</td>\n",
       "      <td>0</td>\n",
       "      <td>0</td>\n",
       "      <td>0</td>\n",
       "      <td>0</td>\n",
       "      <td>0</td>\n",
       "      <td>0</td>\n",
       "      <td>...</td>\n",
       "      <td>0</td>\n",
       "      <td>0</td>\n",
       "      <td>0</td>\n",
       "      <td>0</td>\n",
       "      <td>0</td>\n",
       "      <td>0</td>\n",
       "      <td>0</td>\n",
       "      <td>0</td>\n",
       "      <td>0</td>\n",
       "      <td>0</td>\n",
       "    </tr>\n",
       "    <tr>\n",
       "      <th>3</th>\n",
       "      <td>1</td>\n",
       "      <td>0</td>\n",
       "      <td>0</td>\n",
       "      <td>0</td>\n",
       "      <td>0</td>\n",
       "      <td>0</td>\n",
       "      <td>0</td>\n",
       "      <td>0</td>\n",
       "      <td>0</td>\n",
       "      <td>0</td>\n",
       "      <td>...</td>\n",
       "      <td>0</td>\n",
       "      <td>0</td>\n",
       "      <td>0</td>\n",
       "      <td>0</td>\n",
       "      <td>0</td>\n",
       "      <td>0</td>\n",
       "      <td>0</td>\n",
       "      <td>0</td>\n",
       "      <td>0</td>\n",
       "      <td>0</td>\n",
       "    </tr>\n",
       "    <tr>\n",
       "      <th>4</th>\n",
       "      <td>9</td>\n",
       "      <td>0</td>\n",
       "      <td>0</td>\n",
       "      <td>0</td>\n",
       "      <td>0</td>\n",
       "      <td>0</td>\n",
       "      <td>0</td>\n",
       "      <td>0</td>\n",
       "      <td>0</td>\n",
       "      <td>0</td>\n",
       "      <td>...</td>\n",
       "      <td>0</td>\n",
       "      <td>0</td>\n",
       "      <td>0</td>\n",
       "      <td>0</td>\n",
       "      <td>0</td>\n",
       "      <td>0</td>\n",
       "      <td>0</td>\n",
       "      <td>0</td>\n",
       "      <td>0</td>\n",
       "      <td>0</td>\n",
       "    </tr>\n",
       "    <tr>\n",
       "      <th>...</th>\n",
       "      <td>...</td>\n",
       "      <td>...</td>\n",
       "      <td>...</td>\n",
       "      <td>...</td>\n",
       "      <td>...</td>\n",
       "      <td>...</td>\n",
       "      <td>...</td>\n",
       "      <td>...</td>\n",
       "      <td>...</td>\n",
       "      <td>...</td>\n",
       "      <td>...</td>\n",
       "      <td>...</td>\n",
       "      <td>...</td>\n",
       "      <td>...</td>\n",
       "      <td>...</td>\n",
       "      <td>...</td>\n",
       "      <td>...</td>\n",
       "      <td>...</td>\n",
       "      <td>...</td>\n",
       "      <td>...</td>\n",
       "      <td>...</td>\n",
       "    </tr>\n",
       "    <tr>\n",
       "      <th>59995</th>\n",
       "      <td>8</td>\n",
       "      <td>0</td>\n",
       "      <td>0</td>\n",
       "      <td>0</td>\n",
       "      <td>0</td>\n",
       "      <td>0</td>\n",
       "      <td>0</td>\n",
       "      <td>0</td>\n",
       "      <td>0</td>\n",
       "      <td>0</td>\n",
       "      <td>...</td>\n",
       "      <td>0</td>\n",
       "      <td>0</td>\n",
       "      <td>0</td>\n",
       "      <td>0</td>\n",
       "      <td>0</td>\n",
       "      <td>0</td>\n",
       "      <td>0</td>\n",
       "      <td>0</td>\n",
       "      <td>0</td>\n",
       "      <td>0</td>\n",
       "    </tr>\n",
       "    <tr>\n",
       "      <th>59996</th>\n",
       "      <td>3</td>\n",
       "      <td>0</td>\n",
       "      <td>0</td>\n",
       "      <td>0</td>\n",
       "      <td>0</td>\n",
       "      <td>0</td>\n",
       "      <td>0</td>\n",
       "      <td>0</td>\n",
       "      <td>0</td>\n",
       "      <td>0</td>\n",
       "      <td>...</td>\n",
       "      <td>0</td>\n",
       "      <td>0</td>\n",
       "      <td>0</td>\n",
       "      <td>0</td>\n",
       "      <td>0</td>\n",
       "      <td>0</td>\n",
       "      <td>0</td>\n",
       "      <td>0</td>\n",
       "      <td>0</td>\n",
       "      <td>0</td>\n",
       "    </tr>\n",
       "    <tr>\n",
       "      <th>59997</th>\n",
       "      <td>5</td>\n",
       "      <td>0</td>\n",
       "      <td>0</td>\n",
       "      <td>0</td>\n",
       "      <td>0</td>\n",
       "      <td>0</td>\n",
       "      <td>0</td>\n",
       "      <td>0</td>\n",
       "      <td>0</td>\n",
       "      <td>0</td>\n",
       "      <td>...</td>\n",
       "      <td>0</td>\n",
       "      <td>0</td>\n",
       "      <td>0</td>\n",
       "      <td>0</td>\n",
       "      <td>0</td>\n",
       "      <td>0</td>\n",
       "      <td>0</td>\n",
       "      <td>0</td>\n",
       "      <td>0</td>\n",
       "      <td>0</td>\n",
       "    </tr>\n",
       "    <tr>\n",
       "      <th>59998</th>\n",
       "      <td>6</td>\n",
       "      <td>0</td>\n",
       "      <td>0</td>\n",
       "      <td>0</td>\n",
       "      <td>0</td>\n",
       "      <td>0</td>\n",
       "      <td>0</td>\n",
       "      <td>0</td>\n",
       "      <td>0</td>\n",
       "      <td>0</td>\n",
       "      <td>...</td>\n",
       "      <td>0</td>\n",
       "      <td>0</td>\n",
       "      <td>0</td>\n",
       "      <td>0</td>\n",
       "      <td>0</td>\n",
       "      <td>0</td>\n",
       "      <td>0</td>\n",
       "      <td>0</td>\n",
       "      <td>0</td>\n",
       "      <td>0</td>\n",
       "    </tr>\n",
       "    <tr>\n",
       "      <th>59999</th>\n",
       "      <td>8</td>\n",
       "      <td>0</td>\n",
       "      <td>0</td>\n",
       "      <td>0</td>\n",
       "      <td>0</td>\n",
       "      <td>0</td>\n",
       "      <td>0</td>\n",
       "      <td>0</td>\n",
       "      <td>0</td>\n",
       "      <td>0</td>\n",
       "      <td>...</td>\n",
       "      <td>0</td>\n",
       "      <td>0</td>\n",
       "      <td>0</td>\n",
       "      <td>0</td>\n",
       "      <td>0</td>\n",
       "      <td>0</td>\n",
       "      <td>0</td>\n",
       "      <td>0</td>\n",
       "      <td>0</td>\n",
       "      <td>0</td>\n",
       "    </tr>\n",
       "  </tbody>\n",
       "</table>\n",
       "<p>60000 rows × 785 columns</p>\n",
       "</div>"
      ],
      "text/plain": [
       "       label  1x1  1x2  1x3  1x4  1x5  1x6  1x7  1x8  1x9  ...  28x19  28x20  \\\n",
       "0          5    0    0    0    0    0    0    0    0    0  ...      0      0   \n",
       "1          0    0    0    0    0    0    0    0    0    0  ...      0      0   \n",
       "2          4    0    0    0    0    0    0    0    0    0  ...      0      0   \n",
       "3          1    0    0    0    0    0    0    0    0    0  ...      0      0   \n",
       "4          9    0    0    0    0    0    0    0    0    0  ...      0      0   \n",
       "...      ...  ...  ...  ...  ...  ...  ...  ...  ...  ...  ...    ...    ...   \n",
       "59995      8    0    0    0    0    0    0    0    0    0  ...      0      0   \n",
       "59996      3    0    0    0    0    0    0    0    0    0  ...      0      0   \n",
       "59997      5    0    0    0    0    0    0    0    0    0  ...      0      0   \n",
       "59998      6    0    0    0    0    0    0    0    0    0  ...      0      0   \n",
       "59999      8    0    0    0    0    0    0    0    0    0  ...      0      0   \n",
       "\n",
       "       28x21  28x22  28x23  28x24  28x25  28x26  28x27  28x28  \n",
       "0          0      0      0      0      0      0      0      0  \n",
       "1          0      0      0      0      0      0      0      0  \n",
       "2          0      0      0      0      0      0      0      0  \n",
       "3          0      0      0      0      0      0      0      0  \n",
       "4          0      0      0      0      0      0      0      0  \n",
       "...      ...    ...    ...    ...    ...    ...    ...    ...  \n",
       "59995      0      0      0      0      0      0      0      0  \n",
       "59996      0      0      0      0      0      0      0      0  \n",
       "59997      0      0      0      0      0      0      0      0  \n",
       "59998      0      0      0      0      0      0      0      0  \n",
       "59999      0      0      0      0      0      0      0      0  \n",
       "\n",
       "[60000 rows x 785 columns]"
      ]
     },
     "execution_count": 79,
     "metadata": {},
     "output_type": "execute_result"
    }
   ],
   "source": [
    "df = pd.read_csv(\"./Datasets/MNIST/mnist_train.csv\")\n",
    "df"
   ]
  },
  {
   "cell_type": "code",
   "execution_count": 80,
   "metadata": {},
   "outputs": [],
   "source": [
    "X = df.to_numpy()\n",
    "\n",
    "np.random.seed = 0\n",
    "# np.random.shuffle(X) > for one array better\n",
    "X = X[np.random.permutation(X.shape[0])]\n",
    "\n",
    "y = X[:,0]\n",
    "X = X[:,1:]"
   ]
  },
  {
   "cell_type": "code",
   "execution_count": 81,
   "metadata": {},
   "outputs": [
    {
     "name": "stdout",
     "output_type": "stream",
     "text": [
      "(784,)\n",
      "0 255\n"
     ]
    },
    {
     "data": {
      "text/plain": [
       "[<matplotlib.lines.Line2D at 0x159a2a7da00>]"
      ]
     },
     "execution_count": 81,
     "metadata": {},
     "output_type": "execute_result"
    },
    {
     "data": {
      "image/png": "[encoded data removed]",
      "text/plain": [
       "<Figure size 432x288 with 1 Axes>"
      ]
     },
     "metadata": {
      "needs_background": "light"
     },
     "output_type": "display_data"
    }
   ],
   "source": [
    "print(X[0].shape)\n",
    "print(X[0].min(), X[0].max())\n",
    "plt.plot(X[0])"
   ]
  },
  {
   "cell_type": "code",
   "execution_count": 82,
   "metadata": {},
   "outputs": [
    {
     "data": {
      "text/plain": [
       "<matplotlib.image.AxesImage at 0x159a2800b80>"
      ]
     },
     "execution_count": 82,
     "metadata": {},
     "output_type": "execute_result"
    },
    {
     "data": {
      "image/png": "[encoded data removed]",
      "text/plain": [
       "<Figure size 432x288 with 1 Axes>"
      ]
     },
     "metadata": {
      "needs_background": "light"
     },
     "output_type": "display_data"
    }
   ],
   "source": [
    "# for display one image > 2d > 28*28 > imshow\n",
    "plt.imshow(X[0].reshape(28,28))\n",
    "# imshow > 0,0 is top left > the image standard axis"
   ]
  },
  {
   "cell_type": "code",
   "execution_count": 83,
   "metadata": {},
   "outputs": [
    {
     "data": {
      "text/plain": [
       "<matplotlib.collections.QuadMesh at 0x159a2586f40>"
      ]
     },
     "execution_count": 83,
     "metadata": {},
     "output_type": "execute_result"
    },
    {
     "data": {
      "image/png": "[encoded data removed]",
      "text/plain": [
       "<Figure size 432x288 with 1 Axes>"
      ]
     },
     "metadata": {
      "needs_background": "light"
     },
     "output_type": "display_data"
    }
   ],
   "source": [
    "# 0,0 is bottom left > upside down the image > so bad for image\n",
    "plt.pcolormesh(X[0].reshape(28,28))"
   ]
  },
  {
   "cell_type": "code",
   "execution_count": 84,
   "metadata": {},
   "outputs": [
    {
     "data": {
      "text/plain": [
       "<matplotlib.image.AxesImage at 0x159a279d760>"
      ]
     },
     "execution_count": 84,
     "metadata": {},
     "output_type": "execute_result"
    },
    {
     "data": {
      "image/png": "[encoded data removed]",
      "text/plain": [
       "<Figure size 432x288 with 1 Axes>"
      ]
     },
     "metadata": {
      "needs_background": "light"
     },
     "output_type": "display_data"
    }
   ],
   "source": [
    "# We need teh base patterns\n",
    "X0 = X[y==0][0]\n",
    "plt.imshow(X0.reshape(28,28))"
   ]
  },
  {
   "cell_type": "code",
   "execution_count": 85,
   "metadata": {},
   "outputs": [
    {
     "name": "stdout",
     "output_type": "stream",
     "text": [
      "(5923, 784)\n",
      "[0.00000000e+00 0.00000000e+00 0.00000000e+00 0.00000000e+00\n",
      " 0.00000000e+00 0.00000000e+00 0.00000000e+00 0.00000000e+00\n",
      " 0.00000000e+00 0.00000000e+00 0.00000000e+00 0.00000000e+00\n",
      " 0.00000000e+00 0.00000000e+00 0.00000000e+00 0.00000000e+00\n",
      " 0.00000000e+00 0.00000000e+00 0.00000000e+00 0.00000000e+00\n",
      " 0.00000000e+00 0.00000000e+00 0.00000000e+00 0.00000000e+00\n",
      " 0.00000000e+00 0.00000000e+00 0.00000000e+00 0.00000000e+00\n",
      " 0.00000000e+00 0.00000000e+00 0.00000000e+00 0.00000000e+00\n",
      " 0.00000000e+00 0.00000000e+00 0.00000000e+00 0.00000000e+00\n",
      " 0.00000000e+00 0.00000000e+00 0.00000000e+00 2.16106703e-02\n",
      " 4.27148405e-02 1.75586696e-02 0.00000000e+00 1.51950025e-02\n",
      " 4.15330069e-02 1.97535033e-02 0.00000000e+00 0.00000000e+00\n",
      " 0.00000000e+00 0.00000000e+00 0.00000000e+00 0.00000000e+00\n",
      " 0.00000000e+00 0.00000000e+00 0.00000000e+00 0.00000000e+00\n",
      " 0.00000000e+00 0.00000000e+00 0.00000000e+00 4.89616748e-03\n",
      " 1.68833361e-03 0.00000000e+00 1.43508357e-02 3.37666723e-02\n",
      " 7.42866790e-03 0.00000000e+00 0.00000000e+00 1.55326693e-02\n",
      " 4.76110079e-02 7.91828465e-02 3.30913388e-02 2.92081715e-02\n",
      " 3.86628398e-02 3.37666723e-03 1.28313355e-02 2.29613372e-02\n",
      " 0.00000000e+00 0.00000000e+00 0.00000000e+00 0.00000000e+00\n",
      " 0.00000000e+00 0.00000000e+00 0.00000000e+00 0.00000000e+00\n",
      " 0.00000000e+00 0.00000000e+00 0.00000000e+00 1.41820024e-02\n",
      " 2.09353368e-02 6.53385109e-02 5.58838426e-02 6.19618437e-02\n",
      " 1.17339186e-01 2.20496370e-01 5.00253250e-01 1.24396421e+00\n",
      " 2.12459902e+00 3.14317069e+00 3.83572514e+00 4.54566942e+00\n",
      " 4.69609995e+00 3.81495864e+00 2.84804997e+00 2.37447240e+00\n",
      " 1.65456694e+00 8.24919804e-01 3.30069222e-01 1.19365187e-01\n",
      " 4.30525072e-02 1.23248354e-02 0.00000000e+00 0.00000000e+00\n",
      " 0.00000000e+00 0.00000000e+00 0.00000000e+00 2.71821712e-02\n",
      " 2.76886713e-02 5.58838426e-02 1.93989532e-01 5.31149755e-01\n",
      " 1.45635658e+00 3.60020260e+00 7.11548202e+00 1.40236367e+01\n",
      " 2.52868479e+01 3.94941752e+01 5.25252406e+01 6.34772919e+01\n",
      " 6.64516292e+01 6.13076144e+01 4.97042040e+01 3.60930272e+01\n",
      " 2.16370083e+01 1.08802971e+01 4.37278406e+00 1.02093534e+00\n",
      " 1.83521864e-01 2.92081715e-02 0.00000000e+00 0.00000000e+00\n",
      " 0.00000000e+00 0.00000000e+00 0.00000000e+00 4.52473409e-02\n",
      " 5.48708425e-02 1.52794192e-01 7.24970454e-01 1.92064832e+00\n",
      " 4.92064832e+00 1.18340368e+01 2.40788452e+01 4.37899713e+01\n",
      " 6.93879791e+01 9.93557319e+01 1.25425291e+02 1.43593787e+02\n",
      " 1.50248860e+02 1.40837751e+02 1.18460240e+02 8.93553942e+01\n",
      " 5.74030052e+01 3.15519163e+01 1.34095897e+01 3.62012494e+00\n",
      " 5.11396252e-01 2.38055040e-02 0.00000000e+00 0.00000000e+00\n",
      " 0.00000000e+00 0.00000000e+00 0.00000000e+00 0.00000000e+00\n",
      " 1.75924363e-01 7.26489954e-01 1.82762114e+00 4.90460915e+00\n",
      " 1.25750464e+01 2.76542293e+01 5.16734763e+01 8.33202769e+01\n",
      " 1.17412122e+02 1.49421746e+02 1.72802465e+02 1.87696606e+02\n",
      " 1.92355732e+02 1.88217457e+02 1.71446227e+02 1.39417187e+02\n",
      " 1.01447915e+02 6.23474591e+01 3.06557488e+01 9.88401148e+00\n",
      " 1.27047105e+00 6.60138443e-02 1.38443356e-02 1.23248354e-02\n",
      " 0.00000000e+00 0.00000000e+00 0.00000000e+00 1.38443356e-02\n",
      " 1.99392200e-01 1.17946986e+00 3.49366875e+00 1.07546851e+01\n",
      " 2.58716866e+01 5.17210873e+01 8.52345095e+01 1.21673139e+02\n",
      " 1.52586189e+02 1.73433058e+02 1.84851427e+02 1.88353199e+02\n",
      " 1.89904440e+02 1.92355563e+02 1.88563228e+02 1.70838426e+02\n",
      " 1.37588384e+02 9.52446395e+01 5.40082728e+01 2.06606449e+01\n",
      " 3.55900726e+00 1.67820361e-01 1.85716698e-03 2.60003377e-02\n",
      " 8.94816816e-03 0.00000000e+00 1.55326693e-02 2.68445045e-02\n",
      " 2.36366706e-01 1.74438629e+00 7.12392369e+00 2.09910518e+01\n",
      " 4.60376498e+01 8.04421746e+01 1.18452980e+02 1.50514604e+02\n",
      " 1.69338511e+02 1.72984130e+02 1.66849569e+02 1.58131521e+02\n",
      " 1.54210704e+02 1.57828128e+02 1.69155327e+02 1.74331926e+02\n",
      " 1.60731386e+02 1.24455344e+02 7.84740841e+01 3.45557994e+01\n",
      " 7.14367719e+00 1.24936687e-01 0.00000000e+00 0.00000000e+00\n",
      " 0.00000000e+00 0.00000000e+00 7.25983454e-03 4.74421746e-02\n",
      " 4.24278237e-01 3.29005572e+00 1.40768192e+01 3.71647814e+01\n",
      " 7.07568800e+01 1.11128145e+02 1.46315381e+02 1.65972987e+02\n",
      " 1.66737971e+02 1.52715347e+02 1.30635826e+02 1.12062975e+02\n",
      " 1.01862738e+02 1.07411785e+02 1.29605605e+02 1.56401823e+02\n",
      " 1.65400642e+02 1.45392706e+02 1.02169340e+02 5.01657944e+01\n",
      " 1.16962688e+01 1.51950025e-01 0.00000000e+00 0.00000000e+00\n",
      " 0.00000000e+00 0.00000000e+00 2.34678372e-02 4.01823400e-02\n",
      " 7.63464461e-01 7.16072936e+00 2.54614216e+01 5.76147223e+01\n",
      " 9.80761438e+01 1.37864764e+02 1.62340030e+02 1.65696775e+02\n",
      " 1.46791491e+02 1.17051663e+02 8.76442681e+01 6.50933648e+01\n",
      " 5.53572514e+01 6.29387135e+01 9.03996286e+01 1.29825089e+02\n",
      " 1.59314199e+02 1.56585176e+02 1.21562384e+02 6.58858686e+01\n",
      " 1.71468850e+01 2.95289549e-01 0.00000000e+00 0.00000000e+00\n",
      " 0.00000000e+00 5.57150093e-03 0.00000000e+00 4.28836738e-02\n",
      " 1.56120209e+00 1.32527435e+01 4.07518150e+01 8.19008948e+01\n",
      " 1.25017390e+02 1.57514266e+02 1.66239912e+02 1.48794192e+02\n",
      " 1.13159885e+02 7.77516461e+01 4.88767516e+01 3.19505318e+01\n",
      " 2.70354550e+01 3.67582306e+01 6.37712308e+01 1.08713996e+02\n",
      " 1.49643255e+02 1.60777309e+02 1.33214587e+02 7.91038325e+01\n",
      " 2.29495188e+01 5.37565423e-01 3.66368394e-02 0.00000000e+00\n",
      " 0.00000000e+00 2.70133378e-03 1.02988350e-02 4.30525072e-02\n",
      " 2.85058248e+00 2.21288199e+01 6.03219652e+01 1.07499578e+02\n",
      " 1.47137937e+02 1.66739321e+02 1.56911531e+02 1.20302381e+02\n",
      " 7.70045585e+01 4.32743542e+01 2.27057235e+01 1.43461084e+01\n",
      " 1.38748945e+01 2.39366875e+01 5.14642917e+01 9.65757218e+01\n",
      " 1.41301368e+02 1.59609320e+02 1.37786595e+02 8.71793010e+01\n",
      " 2.80901570e+01 7.77139963e-01 2.92081715e-02 0.00000000e+00\n",
      " 0.00000000e+00 1.06365018e-02 2.93770049e-02 8.81310147e-02\n",
      " 5.08374135e+00 3.49446227e+01 8.18598683e+01 1.31085767e+02\n",
      " 1.62069391e+02 1.65100625e+02 1.35434915e+02 8.73714334e+01\n",
      " 4.49924025e+01 2.00032078e+01 9.87556981e+00 6.78321796e+00\n",
      " 8.16174236e+00 1.97641398e+01 4.89908830e+01 9.30604423e+01\n",
      " 1.38327199e+02 1.57976363e+02 1.36578761e+02 8.84705386e+01\n",
      " 3.08110755e+01 1.06635151e+00 3.37666723e-03 0.00000000e+00\n",
      " 0.00000000e+00 0.00000000e+00 0.00000000e+00 4.94681749e-02\n",
      " 8.50396758e+00 5.02345095e+01 1.03103664e+02 1.50317238e+02\n",
      " 1.69329563e+02 1.53464798e+02 1.08729529e+02 5.75628904e+01\n",
      " 2.38549721e+01 9.48488941e+00 4.96657099e+00 4.13810569e+00\n",
      " 7.35742023e+00 2.28311666e+01 5.51109235e+01 1.00017728e+02\n",
      " 1.41578930e+02 1.55384265e+02 1.30772750e+02 8.38223873e+01\n",
      " 3.06319433e+01 1.26574371e+00 0.00000000e+00 0.00000000e+00\n",
      " 0.00000000e+00 0.00000000e+00 0.00000000e+00 6.48320108e-02\n",
      " 1.35152794e+01 6.59733243e+01 1.21427993e+02 1.62011481e+02\n",
      " 1.68285497e+02 1.36719905e+02 8.37616073e+01 3.67779841e+01\n",
      " 1.32026000e+01 4.83133547e+00 3.13776802e+00 4.52388992e+00\n",
      " 1.17703866e+01 3.35468513e+01 7.01458720e+01 1.14732399e+02\n",
      " 1.47533176e+02 1.49903090e+02 1.20614722e+02 7.39790647e+01\n",
      " 2.63069391e+01 1.11227419e+00 0.00000000e+00 0.00000000e+00\n",
      " 0.00000000e+00 0.00000000e+00 0.00000000e+00 1.27638021e-01\n",
      " 1.85971636e+01 7.90011818e+01 1.34472565e+02 1.67875570e+02\n",
      " 1.62385447e+02 1.19934999e+02 6.50950532e+01 2.58878946e+01\n",
      " 8.79149080e+00 3.86375148e+00 4.38071923e+00 9.45939558e+00\n",
      " 2.38225561e+01 5.36153976e+01 9.48808036e+01 1.34124261e+02\n",
      " 1.52592943e+02 1.40566774e+02 1.04575046e+02 5.94462266e+01\n",
      " 1.94874219e+01 8.00945467e-01 0.00000000e+00 2.02600034e-03\n",
      " 0.00000000e+00 0.00000000e+00 0.00000000e+00 2.15769036e-01\n",
      " 2.37607631e+01 8.70780010e+01 1.40799764e+02 1.69699983e+02\n",
      " 1.57424785e+02 1.11242107e+02 5.73729529e+01 2.33388486e+01\n",
      " 1.01679892e+01 7.80128313e+00 1.20332602e+01 2.46278913e+01\n",
      " 4.93999662e+01 8.61212224e+01 1.24764309e+02 1.50340706e+02\n",
      " 1.50997805e+02 1.23905960e+02 8.39664022e+01 4.21225730e+01\n",
      " 1.23422252e+01 5.07850751e-01 0.00000000e+00 1.75586696e-02\n",
      " 0.00000000e+00 0.00000000e+00 0.00000000e+00 3.01198717e-01\n",
      " 2.58629073e+01 8.65612021e+01 1.40125612e+02 1.69892453e+02\n",
      " 1.59591254e+02 1.15993415e+02 6.64528111e+01 3.43736282e+01\n",
      " 2.23111599e+01 2.38855310e+01 3.53965896e+01 5.80769880e+01\n",
      " 8.97303731e+01 1.24445551e+02 1.50310991e+02 1.56258484e+02\n",
      " 1.36338342e+02 9.94777984e+01 6.04843829e+01 2.63275367e+01\n",
      " 6.58078676e+00 2.31808205e-01 0.00000000e+00 0.00000000e+00\n",
      " 0.00000000e+00 8.77933480e-03 8.61050144e-03 4.20395070e-01\n",
      " 2.41321965e+01 7.84620969e+01 1.32488097e+02 1.68021611e+02\n",
      " 1.68552254e+02 1.38979065e+02 9.74977207e+01 6.76078001e+01\n",
      " 5.75588384e+01 6.29307783e+01 8.05814621e+01 1.06251224e+02\n",
      " 1.34748607e+02 1.56419551e+02 1.60791997e+02 1.42654060e+02\n",
      " 1.09112274e+02 7.17302043e+01 3.73717711e+01 1.34393044e+01\n",
      " 2.53317576e+00 8.98193483e-02 0.00000000e+00 0.00000000e+00\n",
      " 0.00000000e+00 2.21171704e-02 1.53638359e-02 3.54212392e-01\n",
      " 1.82265744e+01 6.19280770e+01 1.15215094e+02 1.58810231e+02\n",
      " 1.79116157e+02 1.73178119e+02 1.49807868e+02 1.28028026e+02\n",
      " 1.18882661e+02 1.23364849e+02 1.37657437e+02 1.55898025e+02\n",
      " 1.67281952e+02 1.65603748e+02 1.45026000e+02 1.12009286e+02\n",
      " 7.59625190e+01 4.31521189e+01 1.84702009e+01 5.26861388e+00\n",
      " 8.37413473e-01 2.65068378e-02 2.43120041e-02 0.00000000e+00\n",
      " 0.00000000e+00 0.00000000e+00 6.41566774e-03 3.16393719e-01\n",
      " 1.08164781e+01 4.09388823e+01 8.59501942e+01 1.34849063e+02\n",
      " 1.73100794e+02 1.94344927e+02 1.96039001e+02 1.88320952e+02\n",
      " 1.81725815e+02 1.80017221e+02 1.81842310e+02 1.80588553e+02\n",
      " 1.67523721e+02 1.41645281e+02 1.07816309e+02 7.25448253e+01\n",
      " 4.18190106e+01 1.92900557e+01 6.52203275e+00 1.65372278e+00\n",
      " 2.88705048e-01 2.04288367e-02 7.41178457e-02 6.58450110e-03\n",
      " 0.00000000e+00 0.00000000e+00 0.00000000e+00 1.56002026e-01\n",
      " 4.09505318e+00 2.02046260e+01 5.06960999e+01 9.11902752e+01\n",
      " 1.34731386e+02 1.70967246e+02 1.93493838e+02 2.01603579e+02\n",
      " 2.00716360e+02 1.94187067e+02 1.79877427e+02 1.56380044e+02\n",
      " 1.25544994e+02 9.17249705e+01 5.95885531e+01 3.38892453e+01\n",
      " 1.55763971e+01 5.78304913e+00 1.66402161e+00 4.28836738e-01\n",
      " 1.20378187e-01 2.75198379e-02 2.60003377e-02 1.21560020e-02\n",
      " 0.00000000e+00 0.00000000e+00 0.00000000e+00 9.96116833e-03\n",
      " 8.63920311e-01 5.60830660e+00 1.76950869e+01 4.00293770e+01\n",
      " 6.96603073e+01 1.01347459e+02 1.27711633e+02 1.44157015e+02\n",
      " 1.46726659e+02 1.34837076e+02 1.13661658e+02 8.68877258e+01\n",
      " 6.04421746e+01 3.73856154e+01 1.99078170e+01 8.81394564e+00\n",
      " 3.26912038e+00 9.90714165e-01 3.31757555e-01 1.60391693e-01\n",
      " 7.47931791e-02 1.72210029e-02 0.00000000e+00 0.00000000e+00\n",
      " 0.00000000e+00 0.00000000e+00 0.00000000e+00 0.00000000e+00\n",
      " 1.64106027e-01 5.99864933e-01 2.28549721e+00 5.90292082e+00\n",
      " 1.20688840e+01 2.05058248e+01 2.91936519e+01 3.50729360e+01\n",
      " 3.69103495e+01 3.41325342e+01 2.75556306e+01 1.95503968e+01\n",
      " 1.20736113e+01 6.62502110e+00 2.91558332e+00 1.14080702e+00\n",
      " 3.94225899e-01 1.29326355e-01 7.09100118e-02 4.82863414e-02\n",
      " 2.16106703e-02 1.18183353e-02 0.00000000e+00 0.00000000e+00\n",
      " 0.00000000e+00 0.00000000e+00 0.00000000e+00 0.00000000e+00\n",
      " 0.00000000e+00 0.00000000e+00 5.90916765e-03 4.64291744e-02\n",
      " 1.71028195e-01 3.24835387e-01 4.39135573e-01 5.30305588e-01\n",
      " 4.25291238e-01 3.62485227e-01 2.42613540e-01 1.45027858e-01\n",
      " 1.10754685e-01 4.44031741e-02 8.27283471e-03 0.00000000e+00\n",
      " 0.00000000e+00 0.00000000e+00 0.00000000e+00 0.00000000e+00\n",
      " 0.00000000e+00 0.00000000e+00 0.00000000e+00 0.00000000e+00\n",
      " 0.00000000e+00 0.00000000e+00 0.00000000e+00 0.00000000e+00\n",
      " 0.00000000e+00 0.00000000e+00 0.00000000e+00 0.00000000e+00\n",
      " 0.00000000e+00 0.00000000e+00 0.00000000e+00 0.00000000e+00\n",
      " 0.00000000e+00 0.00000000e+00 0.00000000e+00 0.00000000e+00\n",
      " 0.00000000e+00 0.00000000e+00 0.00000000e+00 0.00000000e+00\n",
      " 0.00000000e+00 0.00000000e+00 0.00000000e+00 0.00000000e+00\n",
      " 0.00000000e+00 0.00000000e+00 0.00000000e+00 0.00000000e+00\n",
      " 0.00000000e+00 0.00000000e+00 0.00000000e+00 0.00000000e+00\n",
      " 0.00000000e+00 0.00000000e+00 0.00000000e+00 0.00000000e+00\n",
      " 0.00000000e+00 0.00000000e+00 0.00000000e+00 0.00000000e+00\n",
      " 0.00000000e+00 0.00000000e+00 0.00000000e+00 0.00000000e+00\n",
      " 0.00000000e+00 0.00000000e+00 0.00000000e+00 0.00000000e+00\n",
      " 0.00000000e+00 0.00000000e+00 0.00000000e+00 0.00000000e+00\n",
      " 0.00000000e+00 0.00000000e+00 0.00000000e+00 0.00000000e+00]\n",
      "[49.41964286 36.02678571 45.63010204 ... 36.34566327 46.26147959\n",
      " 42.94642857]\n",
      "(5923,)\n"
     ]
    }
   ],
   "source": [
    "print(X[y==0].shape)\n",
    "# mean of each pixel\n",
    "print(np.mean(X[y==0], axis=0))\n",
    "# mean of all images\n",
    "print(np.mean(X[y==0], axis=1))\n",
    "print(np.mean(X[y==0], axis=1).shape)"
   ]
  },
  {
   "cell_type": "code",
   "execution_count": 86,
   "metadata": {},
   "outputs": [
    {
     "data": {
      "text/plain": [
       "<matplotlib.image.AxesImage at 0x159a2acb100>"
      ]
     },
     "execution_count": 86,
     "metadata": {},
     "output_type": "execute_result"
    },
    {
     "data": {
      "image/png": "[encoded data removed]",
      "text/plain": [
       "<Figure size 432x288 with 1 Axes>"
      ]
     },
     "metadata": {
      "needs_background": "light"
     },
     "output_type": "display_data"
    }
   ],
   "source": [
    "X_img = np.mean(X[y==0],axis=0)\n",
    "plt.imshow(X_img.reshape(28,28))"
   ]
  },
  {
   "cell_type": "code",
   "execution_count": 87,
   "metadata": {},
   "outputs": [
    {
     "data": {
      "text/plain": [
       "<matplotlib.image.AxesImage at 0x159a27ec490>"
      ]
     },
     "execution_count": 87,
     "metadata": {},
     "output_type": "execute_result"
    },
    {
     "data": {
      "image/png": "[encoded data removed]",
      "text/plain": [
       "<Figure size 432x288 with 1 Axes>"
      ]
     },
     "metadata": {
      "needs_background": "light"
     },
     "output_type": "display_data"
    }
   ],
   "source": [
    "X_img = np.mean(X[y==4],axis=0)\n",
    "plt.imshow(X_img.reshape(28,28))"
   ]
  },
  {
   "cell_type": "code",
   "execution_count": 88,
   "metadata": {},
   "outputs": [
    {
     "name": "stdout",
     "output_type": "stream",
     "text": [
      "0.0 201.6035792672632\n"
     ]
    }
   ],
   "source": [
    "# We want to show the mean image as a pattern to the SOM\n",
    "# we have to have binary neurons\n",
    "X_img = np.mean(X[y==0],axis=0)\n",
    "print(X_img.min(), X_img.max()) #0,255\n"
   ]
  },
  {
   "cell_type": "code",
   "execution_count": 89,
   "metadata": {},
   "outputs": [
    {
     "data": {
      "image/png": "[encoded data removed]",
      "text/plain": [
       "<Figure size 1080x576 with 10 Axes>"
      ]
     },
     "metadata": {
      "needs_background": "light"
     },
     "output_type": "display_data"
    }
   ],
   "source": [
    "fig, axs = plt.subplots(nrows=2, ncols=5, figsize=(15,8))\n",
    "\n",
    "for i in range(10):\n",
    "    X_img = np.mean(X[y==i],axis=0)\n",
    "    if i>4:\n",
    "        axs[1][i-5].imshow((X_img > 100).reshape(28,28))\n",
    "        continue\n",
    "    axs[0][i].imshow((X_img > 100).reshape(28,28))"
   ]
  },
  {
   "cell_type": "code",
   "execution_count": 90,
   "metadata": {},
   "outputs": [
    {
     "data": {
      "image/png": "[encoded data removed]",
      "text/plain": [
       "<Figure size 1080x576 with 10 Axes>"
      ]
     },
     "metadata": {
      "needs_background": "light"
     },
     "output_type": "display_data"
    }
   ],
   "source": [
    "fig, axs = plt.subplots(nrows=2, ncols=5, figsize=(15,8))\n",
    "\n",
    "for i in range(10):\n",
    "    X_img = np.mean(X[y==i],axis=0)\n",
    "    if i>4:\n",
    "        axs[1][i-5].imshow((X_img > 85).reshape(28,28))\n",
    "        continue\n",
    "    axs[0][i].imshow((X_img > 85).reshape(28,28))\n",
    "\n",
    "plt.show()"
   ]
  },
  {
   "cell_type": "code",
   "execution_count": 91,
   "metadata": {},
   "outputs": [],
   "source": [
    "P = np.zeros((784,10))\n",
    "for i in range(10):\n",
    "    X_img = np.mean(X[y==i],axis=0)\n",
    "    P[:,i] = X_img > 100"
   ]
  },
  {
   "cell_type": "code",
   "execution_count": 92,
   "metadata": {},
   "outputs": [
    {
     "data": {
      "text/plain": [
       "(0.0, 1.0)"
      ]
     },
     "execution_count": 92,
     "metadata": {},
     "output_type": "execute_result"
    }
   ],
   "source": [
    "P[:,0].min(), P[:,0].max() # we want them to be -1,1"
   ]
  },
  {
   "cell_type": "code",
   "execution_count": 93,
   "metadata": {},
   "outputs": [
    {
     "data": {
      "text/plain": [
       "(-1.0, 1.0)"
      ]
     },
     "execution_count": 93,
     "metadata": {},
     "output_type": "execute_result"
    }
   ],
   "source": [
    "# the input of network\n",
    "P = np.zeros((784,10))\n",
    "for i in range(10):\n",
    "    X_img = np.mean(X[y==i],axis=0)\n",
    "    P[:,i] = X_img > 100\n",
    "    P[:,i] = P[:,i] * 2\n",
    "    P[:,i] = P[:,i] -1\n",
    "P[:,0].min(), P[:,0].max()"
   ]
  },
  {
   "cell_type": "code",
   "execution_count": 94,
   "metadata": {},
   "outputs": [
    {
     "data": {
      "text/plain": [
       "<matplotlib.image.AxesImage at 0x159a3db0730>"
      ]
     },
     "execution_count": 94,
     "metadata": {},
     "output_type": "execute_result"
    },
    {
     "data": {
      "image/png": "[encoded data removed]",
      "text/plain": [
       "<Figure size 432x288 with 1 Axes>"
      ]
     },
     "metadata": {
      "needs_background": "light"
     },
     "output_type": "display_data"
    }
   ],
   "source": [
    "plt.imshow(P[:,0].reshape(28,28))"
   ]
  },
  {
   "cell_type": "code",
   "execution_count": 116,
   "metadata": {},
   "outputs": [
    {
     "data": {
      "text/plain": [
       "array([[0., 1., 1., ..., 1., 1., 1.],\n",
       "       [1., 0., 1., ..., 1., 1., 1.],\n",
       "       [1., 1., 0., ..., 1., 1., 1.],\n",
       "       ...,\n",
       "       [1., 1., 1., ..., 0., 1., 1.],\n",
       "       [1., 1., 1., ..., 1., 0., 1.],\n",
       "       [1., 1., 1., ..., 1., 1., 0.]])"
      ]
     },
     "execution_count": 116,
     "metadata": {},
     "output_type": "execute_result"
    }
   ],
   "source": [
    "# in this network all neurons are connected to each other > so square 784\n",
    "w = np.zeros((784,784))\n",
    "# in this W > the diagonal elements should be 0\n",
    "# also it is semetric: w[i,j] = w[j,i]\n",
    "for i in range(784):\n",
    "    for j in range(i+1, 784):\n",
    "        for k in range(10):\n",
    "            w[i,j] += 1/10 * (P[i,k] * P[j,k]) #dot product\n",
    "            w[j,i] = w[i,j]\n",
    "w"
   ]
  },
  {
   "cell_type": "code",
   "execution_count": 117,
   "metadata": {},
   "outputs": [
    {
     "data": {
      "text/plain": [
       "(array([2.80000e+01, 2.61400e+04, 3.62160e+04, 5.47640e+04, 8.62000e+03,\n",
       "        1.00320e+05, 0.00000e+00, 4.05320e+04, 4.09340e+04, 3.07102e+05]),\n",
       " array([-1. , -0.8, -0.6, -0.4, -0.2,  0. ,  0.2,  0.4,  0.6,  0.8,  1. ]),\n",
       " <BarContainer object of 10 artists>)"
      ]
     },
     "execution_count": 117,
     "metadata": {},
     "output_type": "execute_result"
    },
    {
     "data": {
      "image/png": "[encoded data removed]",
      "text/plain": [
       "<Figure size 432x288 with 1 Axes>"
      ]
     },
     "metadata": {
      "needs_background": "light"
     },
     "output_type": "display_data"
    }
   ],
   "source": [
    "plt.hist(w.reshape(-1))"
   ]
  },
  {
   "cell_type": "code",
   "execution_count": 118,
   "metadata": {},
   "outputs": [
    {
     "name": "stdout",
     "output_type": "stream",
     "text": [
      "(60000, 784)\n",
      "(784,)\n"
     ]
    },
    {
     "data": {
      "text/plain": [
       "Text(0.5, 1.0, 'Output')"
      ]
     },
     "execution_count": 118,
     "metadata": {},
     "output_type": "execute_result"
    },
    {
     "data": {
      "image/png": "[encoded data removed]",
      "text/plain": [
       "<Figure size 720x288 with 2 Axes>"
      ]
     },
     "metadata": {
      "needs_background": "light"
     },
     "output_type": "display_data"
    }
   ],
   "source": [
    "# the training of hopfiled is over\n",
    "print(X.shape)\n",
    "\n",
    "sample_input = X[0]\n",
    "# must be binary because p was binary as an input\n",
    "sample_input = (sample_input > 100) *2 -1\n",
    "out = np.sign(np.dot(sample_input, w))\n",
    "print(out.shape)\n",
    "\n",
    "# after one step\n",
    "fig, axs = plt.subplots(nrows=1, ncols=2, figsize=(10,4))\n",
    "axs[0].imshow(X[0].reshape(28,28))\n",
    "axs[0].set_title(\"Input\")\n",
    "axs[1].imshow(out.reshape(28,28))\n",
    "axs[1].set_title(\"Output\")"
   ]
  },
  {
   "cell_type": "code",
   "execution_count": 119,
   "metadata": {},
   "outputs": [
    {
     "data": {
      "text/plain": [
       "Text(0.5, 1.0, 'Output')"
      ]
     },
     "execution_count": 119,
     "metadata": {},
     "output_type": "execute_result"
    },
    {
     "data": {
      "image/png": "[encoded data removed]",
      "text/plain": [
       "<Figure size 720x288 with 2 Axes>"
      ]
     },
     "metadata": {
      "needs_background": "light"
     },
     "output_type": "display_data"
    }
   ],
   "source": [
    "sample_input = X[0]\n",
    "# must be binary because p was binary as an input\n",
    "sample_input = (sample_input > 100) * 2 -1\n",
    "out = np.sign(np.dot(sample_input, w))\n",
    "out = np.sign(np.dot(out, w))\n",
    "out = np.sign(np.dot(out, w))\n",
    "\n",
    "# after 3 steps\n",
    "fig, axs = plt.subplots(nrows=1, ncols=2, figsize=(10,4))\n",
    "axs[0].imshow(X[0].reshape(28,28))\n",
    "axs[0].set_title(\"Input\")\n",
    "axs[1].imshow(out.reshape(28,28))\n",
    "axs[1].set_title(\"Output\")"
   ]
  },
  {
   "cell_type": "code",
   "execution_count": 120,
   "metadata": {},
   "outputs": [
    {
     "data": {
      "text/plain": [
       "(0, 255)"
      ]
     },
     "execution_count": 120,
     "metadata": {},
     "output_type": "execute_result"
    }
   ],
   "source": [
    "X.min(), X.max()"
   ]
  },
  {
   "cell_type": "code",
   "execution_count": 121,
   "metadata": {},
   "outputs": [
    {
     "data": {
      "text/plain": [
       "<matplotlib.image.AxesImage at 0x159a3d4caf0>"
      ]
     },
     "execution_count": 121,
     "metadata": {},
     "output_type": "execute_result"
    },
    {
     "data": {
      "image/png": "[encoded data removed]",
      "text/plain": [
       "<Figure size 432x288 with 1 Axes>"
      ]
     },
     "metadata": {
      "needs_background": "light"
     },
     "output_type": "display_data"
    }
   ],
   "source": [
    "X_binary = (X > 100) * 2 - 1\n",
    "plt.imshow(X_binary[1].reshape(28,28))"
   ]
  },
  {
   "cell_type": "code",
   "execution_count": 122,
   "metadata": {},
   "outputs": [],
   "source": [
    "def get_hopfield_out(sample_input, w):\n",
    "    network_z = sample_input.copy()\n",
    "    while True:\n",
    "        network_z_new = np.sign(np.dot(network_z,w))\n",
    "        print(np.sum((network_z_new - network_z) ** 2))\n",
    "        # because we have -1,1\n",
    "        if np.sum((network_z_new - network_z) ** 2) < 1:\n",
    "            break\n",
    "        network_z = network_z_new\n",
    "    return network_z"
   ]
  },
  {
   "cell_type": "code",
   "execution_count": 125,
   "metadata": {},
   "outputs": [
    {
     "name": "stdout",
     "output_type": "stream",
     "text": [
      "10762701.0\n",
      "288.0\n",
      "32.0\n",
      "4.0\n",
      "0.0\n"
     ]
    },
    {
     "data": {
      "text/plain": [
       "Text(0.5, 1.0, 'Output')"
      ]
     },
     "execution_count": 125,
     "metadata": {},
     "output_type": "execute_result"
    },
    {
     "data": {
      "image/png": "[encoded data removed]",
      "text/plain": [
       "<Figure size 720x288 with 2 Axes>"
      ]
     },
     "metadata": {
      "needs_background": "light"
     },
     "output_type": "display_data"
    }
   ],
   "source": [
    "inp = X[3]\n",
    "out = get_hopfield_out(inp,w)\n",
    "\n",
    "fig, axs = plt.subplots(nrows=1, ncols=2, figsize=(10,4))\n",
    "axs[0].imshow(inp.reshape(28,28))\n",
    "axs[0].set_title(\"Input\")\n",
    "axs[1].imshow(out.reshape(28,28))\n",
    "axs[1].set_title(\"Output\")"
   ]
  },
  {
   "cell_type": "code",
   "execution_count": 127,
   "metadata": {},
   "outputs": [
    {
     "name": "stdout",
     "output_type": "stream",
     "text": [
      "432.0\n",
      "68.0\n",
      "8.0\n",
      "0.0\n"
     ]
    },
    {
     "data": {
      "text/plain": [
       "Text(0.5, 1.0, 'Output')"
      ]
     },
     "execution_count": 127,
     "metadata": {},
     "output_type": "execute_result"
    },
    {
     "data": {
      "image/png": "[encoded data removed]",
      "text/plain": [
       "<Figure size 720x288 with 2 Axes>"
      ]
     },
     "metadata": {
      "needs_background": "light"
     },
     "output_type": "display_data"
    }
   ],
   "source": [
    "inp = X_binary[3]\n",
    "out = get_hopfield_out(inp,w)\n",
    "\n",
    "fig, axs = plt.subplots(nrows=1, ncols=2, figsize=(10,4))\n",
    "axs[0].imshow(inp.reshape(28,28))\n",
    "axs[0].set_title(\"Input\")\n",
    "axs[1].imshow(out.reshape(28,28))\n",
    "axs[1].set_title(\"Output\")"
   ]
  },
  {
   "cell_type": "code",
   "execution_count": null,
   "metadata": {},
   "outputs": [],
   "source": []
  }
 ],
 "metadata": {
  "kernelspec": {
   "display_name": "Python 3",
   "language": "python",
   "name": "python3"
  },
  "language_info": {
   "codemirror_mode": {
    "name": "ipython",
    "version": 3
   },
   "file_extension": ".py",
   "mimetype": "text/x-python",
   "name": "python",
   "nbconvert_exporter": "python",
   "pygments_lexer": "ipython3",
   "version": "3.9.5"
  },
  "orig_nbformat": 4
 },
 "nbformat": 4,
 "nbformat_minor": 2
}
