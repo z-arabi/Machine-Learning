{
  "cells": [
    {
      "cell_type": "markdown",
      "metadata": {
        "id": "view-in-github",
        "colab_type": "text"
      },
      "source": [
        "<a href=\"https://colab.research.google.com/github/z-arabi/Machine-Learning/blob/main/linear_regression_1_concept.ipynb\" target=\"_parent\"><img src=\"https://colab.research.google.com/assets/colab-badge.svg\" alt=\"Open In Colab\"/></a>"
      ]
    },
    {
      "cell_type": "code",
      "execution_count": 73,
      "metadata": {
        "id": "pdFEspEkFlo2"
      },
      "outputs": [],
      "source": [
        "import numpy as np\n",
        "import matplotlib.pyplot as plt\n",
        "%matplotlib inline"
      ]
    },
    {
      "cell_type": "markdown",
      "metadata": {
        "id": "NzRmGa_IFlo9"
      },
      "source": [
        "# Generating Dataset"
      ]
    },
    {
      "cell_type": "code",
      "source": [
        "print(np.random.rand())\n",
        "# gives between 0 to 1 numebrs > 1D\n",
        "x = np.random.rand(3)\n",
        "print(x.shape)\n",
        "# define dimension\n",
        "y=np.random.rand(3,2,3)\n",
        "print(y.shape)"
      ],
      "metadata": {
        "colab": {
          "base_uri": "https://localhost:8080/"
        },
        "id": "MnXtFmW2F3ej",
        "outputId": "b447af3f-7570-4cf3-dd6e-7c47278b9606"
      },
      "execution_count": 74,
      "outputs": [
        {
          "output_type": "stream",
          "name": "stdout",
          "text": [
            "0.6637906596599397\n",
            "(3,)\n",
            "(3, 2, 3)\n"
          ]
        }
      ]
    },
    {
      "cell_type": "code",
      "source": [
        "mu, sigma = 0, 0.1 # mean and standard deviation\n",
        "# scale shows the scattering of the data\n",
        "s = np.random.normal(loc=mu, scale=sigma, size=1000)\n",
        "print(s.mean(), s.std())\n",
        "\n",
        "plt.hist(x=s, bins=30, density=True)\n",
        "plt.show()"
      ],
      "metadata": {
        "colab": {
          "base_uri": "https://localhost:8080/",
          "height": 282
        },
        "id": "kgRsCVFfGia2",
        "outputId": "4387552f-2e1d-41eb-9654-3d2cc9036609"
      },
      "execution_count": 75,
      "outputs": [
        {
          "output_type": "stream",
          "name": "stdout",
          "text": [
            "-0.004631860591368187 0.09667161693760974\n"
          ]
        },
        {
          "output_type": "display_data",
          "data": {
            "text/plain": [
              "<Figure size 432x288 with 1 Axes>"
            ],
            "image/png": "[encoded data removed]"
          },
          "metadata": {
            "needs_background": "light"
          }
        }
      ]
    },
    {
      "cell_type": "code",
      "execution_count": 76,
      "metadata": {
        "id": "mp62DYz8FlpA"
      },
      "outputs": [],
      "source": [
        "X = np.random.rand(100) * 20\n",
        "y = 2.358 * X - 3.121\n",
        "y = y + np.random.normal(scale=4, size=y.shape)"
      ]
    },
    {
      "cell_type": "code",
      "execution_count": 77,
      "metadata": {
        "colab": {
          "base_uri": "https://localhost:8080/",
          "height": 282
        },
        "id": "01dX06QRFlpE",
        "outputId": "a9914cf3-2a31-44b9-81fb-eda6ab79128d"
      },
      "outputs": [
        {
          "output_type": "execute_result",
          "data": {
            "text/plain": [
              "[<matplotlib.lines.Line2D at 0x7fce3631c090>]"
            ]
          },
          "metadata": {},
          "execution_count": 77
        },
        {
          "output_type": "display_data",
          "data": {
            "text/plain": [
              "<Figure size 432x288 with 1 Axes>"
            ],
            "image/png": "[encoded data removed]"
          },
          "metadata": {
            "needs_background": "light"
          }
        }
      ],
      "source": [
        "plt.plot(X, y, 'bo')"
      ]
    },
    {
      "cell_type": "markdown",
      "metadata": {
        "id": "j2_9W-6MFlpG"
      },
      "source": [
        "# Line Equation\n",
        "\n",
        "intercept form\n",
        "<img src=\"https://latex.codecogs.com/svg.latex?\\frac{x}{a}+\\frac{y}{b}=1\"/>\n",
        "standard form\n",
        "<img src=\"https://latex.codecogs.com/svg.latex?ax+by=c\"/>\n",
        "point-slope Form\n",
        "<img src=\"https://latex.codecogs.com/svg.latex?y-y_1=m(x-x_1)\"/>\n",
        "slope-intercept Form\n",
        "<img src=\"https://latex.codecogs.com/svg.latex?y=mx+b\"/>"
      ]
    },
    {
      "cell_type": "code",
      "execution_count": 78,
      "metadata": {
        "colab": {
          "base_uri": "https://localhost:8080/",
          "height": 282
        },
        "id": "-AhmI17HFlpI",
        "outputId": "dcb68598-da13-4756-ce90-7f2cf6b89e6f"
      },
      "outputs": [
        {
          "output_type": "stream",
          "name": "stdout",
          "text": [
            "[-4.91065325 24.49939754]\n"
          ]
        },
        {
          "output_type": "display_data",
          "data": {
            "text/plain": [
              "<Figure size 432x288 with 1 Axes>"
            ],
            "image/png": "[encoded data removed]"
          },
          "metadata": {
            "needs_background": "light"
          }
        }
      ],
      "source": [
        "# y = mx + b\n",
        "m = 2\n",
        "b = -2\n",
        " \n",
        "x_line = np.array([X.min() - 5, X.max() + 5])\n",
        "print(x_line)\n",
        "y_line = m * x_line + b\n",
        "\n",
        "plt.plot(x_line, y_line, 'r--',label=\"line\")\n",
        "plt.plot(X,  y, 'bo',label=\"data\")\n",
        "plt.legend()\n",
        "plt.show()"
      ]
    },
    {
      "cell_type": "markdown",
      "metadata": {
        "id": "8n_1ypuyFlpJ"
      },
      "source": [
        "# Finding Best Line"
      ]
    },
    {
      "cell_type": "markdown",
      "metadata": {
        "id": "Uw2mcl-mFlpQ"
      },
      "source": [
        "<img src=\"https://latex.codecogs.com/svg.latex?MSE=\\frac{1}{2N}\\sum_{i=1}^N(y_i-\\hat{y}_i)^2\"/>"
      ]
    },
    {
      "cell_type": "code",
      "execution_count": 79,
      "metadata": {
        "id": "Qv9hBu6NFlpQ"
      },
      "outputs": [],
      "source": [
        "def MSE(actual, predicted):\n",
        "    # return np.sum((actual-predicted)**2) / (2*actual.shape[0])\n",
        "    return np.mean((actual - predicted) ** 2) / 2"
      ]
    },
    {
      "cell_type": "code",
      "execution_count": 80,
      "metadata": {
        "scrolled": true,
        "colab": {
          "base_uri": "https://localhost:8080/"
        },
        "id": "-5tIT7N2FlpK",
        "outputId": "e214e91a-8abe-464e-ce17-62b4dfb6557e"
      },
      "outputs": [
        {
          "output_type": "stream",
          "name": "stdout",
          "text": [
            "data point 0:\t actual : 18.433723364246518,\t predicted: 24.701173697186032\n",
            "data point 1:\t actual : 1.34664270151181,\t predicted: 4.509718596238485\n",
            "data point 2:\t actual : 42.75881399839854,\t predicted: 45.54849386165242\n"
          ]
        },
        {
          "output_type": "execute_result",
          "data": {
            "text/plain": [
              "9.560036652984298"
            ]
          },
          "metadata": {},
          "execution_count": 80
        }
      ],
      "source": [
        "# y = mx + b > the algo must define the m and b for us > for example\n",
        "m = 2.5\n",
        "b = -3.2\n",
        "h = m * X + b\n",
        "\n",
        "# for i in range(X.shape[0]):\n",
        "#     print('data point {}:\\t actual : {},\\t predicted: {}'.format(i, y[i], h[i]))\n",
        "\n",
        "for i in range(3):\n",
        "    print('data point {}:\\t actual : {},\\t predicted: {}'.format(i, y[i], h[i]))\n",
        "\n",
        "MSE(y,h)\n",
        "# best range of m is [2,3] and b is [-3,-4] > manually"
      ]
    },
    {
      "cell_type": "code",
      "execution_count": 81,
      "metadata": {
        "colab": {
          "base_uri": "https://localhost:8080/"
        },
        "id": "vIPsaTu2FlpR",
        "outputId": "9e7f294f-7233-40ce-8ee6-f3eced6a38bb"
      },
      "outputs": [
        {
          "output_type": "stream",
          "name": "stdout",
          "text": [
            "best line fit: 2.2999999999999936 * x + -3.210000000000017 and cost is 7.380380722562463\n"
          ]
        }
      ],
      "source": [
        "# what is happening at the backend of the ml models\n",
        "min_cost = np.inf\n",
        "best_m = None\n",
        "best_b = None\n",
        "\n",
        "# first we have to find the best range for our parameters\n",
        "for m in np.arange(2, 4, 0.01):\n",
        "    for b in np.arange(-4, -2, 0.01):\n",
        "        h = m * X + b\n",
        "        cost = MSE(y, h)\n",
        "        if cost < min_cost:\n",
        "            min_cost = cost\n",
        "            best_m = m\n",
        "            best_b = b\n",
        "print('best line fit: {} * x + {} and cost is {}'.format(best_m, best_b, min_cost))"
      ]
    },
    {
      "cell_type": "code",
      "execution_count": 82,
      "metadata": {
        "colab": {
          "base_uri": "https://localhost:8080/",
          "height": 279
        },
        "id": "bKeHpaHYFlpS",
        "outputId": "c190ca19-bf92-4326-9ca7-59e9aef7550a"
      },
      "outputs": [
        {
          "output_type": "display_data",
          "data": {
            "text/plain": [
              "<Figure size 432x288 with 2 Axes>"
            ],
            "image/png": "[encoded data removed]"
          },
          "metadata": {
            "needs_background": "light"
          }
        }
      ],
      "source": [
        "# draw MSE matrix based on m,b\n",
        "MSE_cost_matrix = np.zeros((300, 300))\n",
        "\n",
        "all_m_values = np.arange(-15, 15, 0.1)\n",
        "all_b_values = np.arange(-15, 15, 0.1)\n",
        "\n",
        "for i, m in enumerate(all_m_values):\n",
        "    for j, b in enumerate(all_b_values):\n",
        "        h = m * X + b\n",
        "        MSE_cost_matrix[i, j] = MSE(y, h)\n",
        "        \n",
        "plt.pcolormesh(all_m_values, all_b_values, MSE_cost_matrix)\n",
        "plt.ylabel('b')\n",
        "plt.xlabel('m')\n",
        "plt.colorbar()\n",
        "plt.show()"
      ]
    }
  ],
  "metadata": {
    "kernelspec": {
      "display_name": "Python 3",
      "language": "python",
      "name": "python3"
    },
    "language_info": {
      "codemirror_mode": {
        "name": "ipython",
        "version": 3
      },
      "file_extension": ".py",
      "mimetype": "text/x-python",
      "name": "python",
      "nbconvert_exporter": "python",
      "pygments_lexer": "ipython3",
      "version": "3.8.2"
    },
    "colab": {
      "name": "linear-regression-1.concept.ipynb",
      "provenance": [],
      "include_colab_link": true
    }
  },
  "nbformat": 4,
  "nbformat_minor": 0
}