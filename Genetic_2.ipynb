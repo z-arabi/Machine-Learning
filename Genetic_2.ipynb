{
 "cells": [
  {
   "cell_type": "code",
   "execution_count": 1,
   "metadata": {},
   "outputs": [],
   "source": [
    "import numpy as np \n",
    "import pandas as pd \n",
    "import matplotlib.pyplot as plt \n",
    "%matplotlib inline"
   ]
  },
  {
   "cell_type": "code",
   "execution_count": 2,
   "metadata": {},
   "outputs": [
    {
     "data": {
      "text/html": [
       "<div>\n",
       "<style scoped>\n",
       "    .dataframe tbody tr th:only-of-type {\n",
       "        vertical-align: middle;\n",
       "    }\n",
       "\n",
       "    .dataframe tbody tr th {\n",
       "        vertical-align: top;\n",
       "    }\n",
       "\n",
       "    .dataframe thead th {\n",
       "        text-align: right;\n",
       "    }\n",
       "</style>\n",
       "<table border=\"1\" class=\"dataframe\">\n",
       "  <thead>\n",
       "    <tr style=\"text-align: right;\">\n",
       "      <th></th>\n",
       "      <th>Gender</th>\n",
       "      <th>Age</th>\n",
       "      <th>EstimatedSalary</th>\n",
       "      <th>Purchased</th>\n",
       "    </tr>\n",
       "  </thead>\n",
       "  <tbody>\n",
       "    <tr>\n",
       "      <th>0</th>\n",
       "      <td>Male</td>\n",
       "      <td>19</td>\n",
       "      <td>19000</td>\n",
       "      <td>0</td>\n",
       "    </tr>\n",
       "    <tr>\n",
       "      <th>1</th>\n",
       "      <td>Male</td>\n",
       "      <td>35</td>\n",
       "      <td>20000</td>\n",
       "      <td>0</td>\n",
       "    </tr>\n",
       "    <tr>\n",
       "      <th>2</th>\n",
       "      <td>Female</td>\n",
       "      <td>26</td>\n",
       "      <td>43000</td>\n",
       "      <td>0</td>\n",
       "    </tr>\n",
       "    <tr>\n",
       "      <th>3</th>\n",
       "      <td>Female</td>\n",
       "      <td>27</td>\n",
       "      <td>57000</td>\n",
       "      <td>0</td>\n",
       "    </tr>\n",
       "    <tr>\n",
       "      <th>4</th>\n",
       "      <td>Male</td>\n",
       "      <td>19</td>\n",
       "      <td>76000</td>\n",
       "      <td>0</td>\n",
       "    </tr>\n",
       "  </tbody>\n",
       "</table>\n",
       "</div>"
      ],
      "text/plain": [
       "   Gender  Age  EstimatedSalary  Purchased\n",
       "0    Male   19            19000          0\n",
       "1    Male   35            20000          0\n",
       "2  Female   26            43000          0\n",
       "3  Female   27            57000          0\n",
       "4    Male   19            76000          0"
      ]
     },
     "execution_count": 2,
     "metadata": {},
     "output_type": "execute_result"
    }
   ],
   "source": [
    "df = pd.read_csv('./Datasets/Social_Network_Ads.csv')\n",
    "\n",
    "df.drop('User ID', axis=1, inplace=True)\n",
    "df.head(5)"
   ]
  },
  {
   "cell_type": "code",
   "execution_count": 3,
   "metadata": {},
   "outputs": [],
   "source": [
    "df.Gender = pd.get_dummies(df.Gender, drop_first=True)\n",
    "X = df.to_numpy()\n",
    "\n",
    "np.random.seed = 0\n",
    "X = X[np.random.permutation(X.shape[0])]\n",
    "\n",
    "y = X[:, -1]\n",
    "X = X[:, :-1]\n",
    "\n",
    "X = (X-X.mean(axis=0)) / X.std(axis=0)"
   ]
  },
  {
   "cell_type": "code",
   "execution_count": 4,
   "metadata": {},
   "outputs": [],
   "source": [
    "split = int(X.shape[0] * 0.8)\n",
    "\n",
    "X_train = X[:split]\n",
    "y_train = y[:split].reshape(-1,1)\n",
    "\n",
    "X_test = X[:split]\n",
    "y_test = y[:split].reshape(-1,1)"
   ]
  },
  {
   "attachments": {},
   "cell_type": "markdown",
   "metadata": {},
   "source": [
    "Our problem has 3 features > so  \n",
    "num = num of estimators  \n",
    "population > num * 3  \n",
    "W > num * 3  \n",
    "X > 320 * 3 \n",
    "We want to know how each estimator predicts this 320 row \n",
    "Z = X.WT > 320*num  \n",
    "y > 320 * 1  \n",
    "\n",
    "We can be defined by us > W[0] regularization coefficient > can't be less than 0.1 in the mutation function"
   ]
  },
  {
   "cell_type": "code",
   "execution_count": 5,
   "metadata": {},
   "outputs": [],
   "source": [
    "# We want to write logistic regression by ourselves\n",
    "def sigmoid(z):\n",
    "    return 1/(1+np.exp(-z))\n",
    "\n",
    "# fitness: how we calcualte the loss \n",
    "# W is 2d > weight of all of the samples\n",
    "def fitness_function(W):\n",
    "    # len(w.shape)==3 > W=3 > one estimator/sample \n",
    "    if len(W.shape) == 1:\n",
    "        W = W.reshape(1,-1)\n",
    "    global X_train, y_train\n",
    "    z = np.dot(X_train, W.T)\n",
    "    h = sigmoid(z)\n",
    "    CE = -y_train * np.log(h) - (1-y_train) * np.log(1-h)\n",
    "    # return a number\n",
    "    return np.mean(CE, axis=0)"
   ]
  },
  {
   "cell_type": "code",
   "execution_count": 19,
   "metadata": {},
   "outputs": [],
   "source": [
    "def parent_selection(fitness):\n",
    "    selection_prob = fitness / np.sum(fitness)\n",
    "    idx = np.arange(fitness.shape[0])\n",
    "    parent_idx = np.random.choice(idx, size=fitness.shape[0], p=selection_prob)\n",
    "    return parent_idx\n",
    "\n",
    "def crossover(parents):\n",
    "    offsprings = parents.copy() #1000*10\n",
    "    # 0, 2, 4, ... > [0,1]-[2,3]\n",
    "    for i in range(0,parents.shape[0],2):\n",
    "        # crossover parent[i], parent[i+1]\n",
    "        mask = np.random.randint(0,2,size=parents.shape[1]) #binary array 10*1\n",
    "        offsprings[i, mask==1] = parents[i+1, mask==1]\n",
    "        offsprings[i+1, mask==1] = parents[i, mask==1]\n",
    "    return offsprings\n",
    "\n",
    "def mutation(offsprings):\n",
    "    mask = np.random.random(size=offsprings.shape) > 0.3 #T/F\n",
    "    new_values = np.random.random(size=offsprings.shape) * 2 - 1\n",
    "    \n",
    "    offsprings[mask==1] = new_values[mask==1]\n",
    "\n",
    "    return offsprings"
   ]
  },
  {
   "cell_type": "code",
   "execution_count": 20,
   "metadata": {},
   "outputs": [
    {
     "name": "stdout",
     "output_type": "stream",
     "text": [
      "0.4598594086578339 0.806483900786988 1.4221654996425521\n",
      "0.4571541173994894 0.6254468721756274 0.7684190017616733\n",
      "0.4571541173994894 0.5714473742672275 0.6581737207456214\n",
      "0.4571541173994894 0.542617364637391 0.6034924039289458\n",
      "0.4571541173994894 0.5252714842346289 0.5715798623434675\n",
      "0.4571541173994894 0.5132199192066643 0.5501392443782189\n",
      "0.4555705674493774 0.5046792014873418 0.5370047929388291\n",
      "0.45480407240782306 0.49800867157809714 0.527138447889595\n",
      "0.45480407240782306 0.49307981524837424 0.5176546244051281\n",
      "0.45480407240782306 0.4885917046681767 0.5098929076827918\n",
      "0.45480407240782306 0.48552178714022054 0.5052670750786679\n",
      "0.45480407240782306 0.4823743471079986 0.5010118427630696\n",
      "0.45480407240782306 0.47970444963624753 0.4960586723355367\n",
      "0.45480407240782306 0.4775044304745537 0.4930773275131061\n",
      "0.45480407240782306 0.4755762001172334 0.4897896027845114\n",
      "0.45480407240782306 0.47363454741982614 0.48613809188905305\n",
      "0.45480407240782306 0.47210879319970456 0.48370961441306604\n",
      "0.45480407240782306 0.47062389520753256 0.481438762146641\n",
      "0.45480407240782306 0.46949148721124195 0.47923184812870456\n",
      "0.45480407240782306 0.46859754814328913 0.47794178161529344\n",
      "0.45480407240782306 0.46760257933781857 0.47622607032348974\n",
      "0.45480407240782306 0.4668769882392114 0.4749955247590014\n",
      "0.45480407240782306 0.46608627368216166 0.47353496592033306\n",
      "0.45480407240782306 0.4653167037222011 0.47191160105665136\n",
      "0.45480407240782306 0.46469489493735155 0.4709728104494285\n",
      "0.45480407240782306 0.464124305364648 0.4699386733011446\n",
      "0.45480407240782306 0.4637226648894969 0.4692701760170963\n",
      "0.45480407240782306 0.4632641649500886 0.4686772216285443\n",
      "0.45480407240782306 0.4628424162865101 0.46785897155300155\n",
      "0.45480407240782306 0.4625749998136521 0.4673991225897594\n",
      "0.45480407240782306 0.4621920282043959 0.4668004148238489\n",
      "0.45480407240782306 0.46191688583413487 0.4663021617340301\n",
      "0.45480407240782306 0.4615609536467889 0.4657927459935586\n",
      "0.45480407240782306 0.4612438950298293 0.46527760317405126\n",
      "0.45480407240782306 0.46094081507439133 0.4648026391770438\n",
      "0.45480407240782306 0.46068996853294536 0.46443111230661227\n",
      "0.45480407240782306 0.46038112487947935 0.4638414534847408\n",
      "0.45480407240782306 0.4601271207492011 0.46345263832801875\n",
      "0.45480407240782306 0.4598789229775381 0.46297653444116743\n",
      "0.45480407240782306 0.45971529331941213 0.462652458498314\n",
      "0.45480407240782306 0.4595448899801744 0.46229424541212605\n",
      "0.45480407240782306 0.459368098949583 0.462011175861967\n",
      "0.45480407240782306 0.45921452060985396 0.4617207624366396\n",
      "0.45480407240782306 0.4590973153050522 0.4615568775908471\n",
      "0.45480407240782306 0.4589574551278314 0.4613380266319389\n",
      "0.45480407240782306 0.4588047006493217 0.461026160226848\n",
      "0.45480407240782306 0.4586301591045906 0.4607518553233375\n",
      "0.45480407240782306 0.4585093720554187 0.46056171030646087\n",
      "0.45480407240782306 0.45835681514436477 0.46036901107712946\n",
      "0.45480407240782306 0.458242644186391 0.4601986071257083\n"
     ]
    }
   ],
   "source": [
    "# I want to guide the population to the min point\n",
    "population = np.random.random(size=(1000, 3)) * 2 - 1 #-1,1\n",
    "\n",
    "best_fitness = []\n",
    "mean_fitness = []\n",
    "\n",
    "for i in range(50):\n",
    "    # y out must be min > near to 0 [min func]\n",
    "    error = fitness_function(population)\n",
    "    # genetic algo can give more than one good answer\n",
    "    # the answers must differ > if same > the algo converge so not desired\n",
    "    print(error.min(), error.mean(), error.max()) \n",
    "    best_fitness.append(error.min())\n",
    "    mean_fitness.append(error.mean())\n",
    "    # fitness must be positive: err<20\n",
    "    fitness = 2 - error\n",
    "\n",
    "    parent_idx = parent_selection(fitness)\n",
    "    parents = population[parent_idx]\n",
    "    # now each 2 items are the chromosomes\n",
    "\n",
    "    offsprings = crossover(parents)\n",
    "    offsprings = mutation(offsprings)\n",
    "\n",
    "    # mean is contant so it is not desired\n",
    "    population = np.vstack((population, offsprings))\n",
    "    # sort base on the ackley output \n",
    "    population = np.array(sorted(population, key=fitness_function))[:1000]"
   ]
  },
  {
   "cell_type": "code",
   "execution_count": 21,
   "metadata": {},
   "outputs": [
    {
     "data": {
      "text/plain": [
       "[<matplotlib.lines.Line2D at 0x1b8f92968b0>]"
      ]
     },
     "execution_count": 21,
     "metadata": {},
     "output_type": "execute_result"
    },
    {
     "data": {
      "image/png": "[encoded data removed]",
      "text/plain": [
       "<Figure size 432x288 with 1 Axes>"
      ]
     },
     "metadata": {
      "needs_background": "light"
     },
     "output_type": "display_data"
    }
   ],
   "source": [
    "plt.plot(mean_fitness,'b-')\n",
    "plt.plot(best_fitness, 'r-')"
   ]
  },
  {
   "cell_type": "code",
   "execution_count": 22,
   "metadata": {},
   "outputs": [
    {
     "name": "stdout",
     "output_type": "stream",
     "text": [
      "[[0.09879247 0.99957259 0.80064673]]\n"
     ]
    }
   ],
   "source": [
    "W = population[0].reshape(1,-1)\n",
    "print(W)"
   ]
  },
  {
   "cell_type": "code",
   "execution_count": 23,
   "metadata": {},
   "outputs": [
    {
     "name": "stdout",
     "output_type": "stream",
     "text": [
      "0.803125\n"
     ]
    }
   ],
   "source": [
    "# z = x.wt > 320*3, 1*3 > use on of the estimators\n",
    "z_train = np.dot(X_train, W.T)\n",
    "h_train = sigmoid(z_train)\n",
    "pred_train = h_train > 0.5\n",
    "\n",
    "print(np.mean(pred_train == y_train))"
   ]
  },
  {
   "cell_type": "code",
   "execution_count": 24,
   "metadata": {},
   "outputs": [
    {
     "name": "stdout",
     "output_type": "stream",
     "text": [
      "0.803125\n"
     ]
    }
   ],
   "source": [
    "z_test = np.dot(X_train, W.T)\n",
    "h_test = sigmoid(z_test)\n",
    "pred_test  = h_test  > 0.5\n",
    "\n",
    "print(np.mean(pred_test  == y_test ))"
   ]
  },
  {
   "cell_type": "code",
   "execution_count": null,
   "metadata": {},
   "outputs": [],
   "source": []
  }
 ],
 "metadata": {
  "kernelspec": {
   "display_name": "Python 3",
   "language": "python",
   "name": "python3"
  },
  "language_info": {
   "codemirror_mode": {
    "name": "ipython",
    "version": 3
   },
   "file_extension": ".py",
   "mimetype": "text/x-python",
   "name": "python",
   "nbconvert_exporter": "python",
   "pygments_lexer": "ipython3",
   "version": "3.9.5"
  },
  "orig_nbformat": 4
 },
 "nbformat": 4,
 "nbformat_minor": 2
}
